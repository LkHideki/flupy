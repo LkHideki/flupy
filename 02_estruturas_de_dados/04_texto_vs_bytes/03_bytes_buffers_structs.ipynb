{
 "cells": [
  {
   "cell_type": "markdown",
   "metadata": {},
   "source": [
    "# bytes a partir de dados brutos de um array"
   ]
  },
  {
   "cell_type": "code",
   "execution_count": 1,
   "metadata": {},
   "outputs": [],
   "source": [
    "from array import array"
   ]
  },
  {
   "cell_type": "code",
   "execution_count": 5,
   "metadata": {},
   "outputs": [
    {
     "data": {
      "text/plain": [
       "(10, b'\\xfe\\xff\\xff\\xff\\x00\\x00\\x01\\x00\\x02\\x00')"
      ]
     },
     "execution_count": 5,
     "metadata": {},
     "output_type": "execute_result"
    }
   ],
   "source": [
    "numbers = array('h', [-2, -1, 0, 1, 2]) # array de short integers int16\n",
    "octets = bytes(numbers)\n",
    "len(octets), octets"
   ]
  },
  {
   "cell_type": "markdown",
   "metadata": {},
   "source": [
    "# struct\n",
    "é um módulo que oferece funções para agrupar e desagrupar informações.\n",
    "\n",
    "É como em outras linguagens\n",
    "```\n",
    "struct bla {\n",
    "  nome  string\n",
    "  idade int32\n",
    "}\n",
    "```\n",
    "\n",
    "mas em python tudo fica comprimido numa sequência de bytes."
   ]
  },
  {
   "cell_type": "code",
   "execution_count": 22,
   "metadata": {},
   "outputs": [
    {
     "name": "stdout",
     "output_type": "stream",
     "text": [
      "b'abc\\x00\\xc3\\xf5H@*\\x00\\x00\\x00\\x0c\\x00\\x00\\x00'\n",
      "16\n"
     ]
    }
   ],
   "source": [
    "import struct\n",
    "\n",
    "# Empacota quatro valores (string em bytes, float, short int, int) em um objeto bytes\n",
    "packed_data = struct.pack('3s f h i', b'abc', 3.14, 42, 12)\n",
    "\n",
    "print(packed_data)\n",
    "print(len(packed_data))"
   ]
  },
  {
   "cell_type": "markdown",
   "metadata": {},
   "source": [
    "Acima, o formato `'3s f h i'` diz que os dados esperados são, respectivamente, uma sequência de bytes que codifica uma string de três caracteres, um float, um shot int e um int.\n",
    "\n",
    "Abaixo, podemos desempacotar essa struct interpretando `h` como `i`, sem problemas:"
   ]
  },
  {
   "cell_type": "code",
   "execution_count": 23,
   "metadata": {},
   "outputs": [
    {
     "name": "stdout",
     "output_type": "stream",
     "text": [
      "b'abc'\n",
      "3.140000104904175\n",
      "42\n",
      "12\n"
     ]
    }
   ],
   "source": [
    "for item in struct.unpack(\"3s f 2i\", packed_data):\n",
    "    print(item)"
   ]
  },
  {
   "cell_type": "code",
   "execution_count": null,
   "metadata": {},
   "outputs": [],
   "source": []
  }
 ],
 "metadata": {
  "kernelspec": {
   "display_name": ".venv",
   "language": "python",
   "name": "python3"
  },
  "language_info": {
   "codemirror_mode": {
    "name": "ipython",
    "version": 3
   },
   "file_extension": ".py",
   "mimetype": "text/x-python",
   "name": "python",
   "nbconvert_exporter": "python",
   "pygments_lexer": "ipython3",
   "version": "3.12.2"
  }
 },
 "nbformat": 4,
 "nbformat_minor": 2
}
