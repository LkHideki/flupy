{
 "cells": [
  {
   "cell_type": "markdown",
   "metadata": {},
   "source": [
    "# Arquivos-texto\n",
    "\n",
    "> A melhor prática para lidar com textos é o \"Sanduíche Unicode\".\n",
    "\n",
    "\"Sanduíche\" no sentido de manipular a string entre conversões str ↔ bytes:\n",
    "\n",
    "bytes → str\n",
    "\n",
    "100% str (manipulações são feitas aqui)\n",
    "\n",
    "str → bytes"
   ]
  },
  {
   "cell_type": "code",
   "execution_count": 15,
   "metadata": {},
   "outputs": [
    {
     "data": {
      "text/plain": [
       "11"
      ]
     },
     "execution_count": 15,
     "metadata": {},
     "output_type": "execute_result"
    }
   ],
   "source": [
    "file = open(\"00.txt\", 'r+', encoding=\"utf_8\")\n",
    "texto = file.read()\n",
    "recheio = texto.lower()\n",
    "file.seek(0)\n",
    "n = file.write(recheio)\n",
    "file.close()\n",
    "n"
   ]
  }
 ],
 "metadata": {
  "kernelspec": {
   "display_name": ".venv",
   "language": "python",
   "name": "python3"
  },
  "language_info": {
   "codemirror_mode": {
    "name": "ipython",
    "version": 3
   },
   "file_extension": ".py",
   "mimetype": "text/x-python",
   "name": "python",
   "nbconvert_exporter": "python",
   "pygments_lexer": "ipython3",
   "version": "3.12.2"
  }
 },
 "nbformat": 4,
 "nbformat_minor": 2
}
