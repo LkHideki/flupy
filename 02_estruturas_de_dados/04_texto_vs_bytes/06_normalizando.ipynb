{
 "cells": [
  {
   "cell_type": "markdown",
   "metadata": {},
   "source": [
    "# Normalizando Unicode para comparações seguras\n",
    "\n",
    "Afinal, como comparar uma string que possui duas codificações diferentes como abaixo?"
   ]
  },
  {
   "cell_type": "code",
   "execution_count": 1,
   "metadata": {},
   "outputs": [
    {
     "data": {
      "text/plain": [
       "('café', 'café')"
      ]
     },
     "execution_count": 1,
     "metadata": {},
     "output_type": "execute_result"
    }
   ],
   "source": [
    "'café', \"cafe\\u0301\""
   ]
  },
  {
   "cell_type": "code",
   "execution_count": 2,
   "metadata": {},
   "outputs": [
    {
     "data": {
      "text/plain": [
       "False"
      ]
     },
     "execution_count": 2,
     "metadata": {},
     "output_type": "execute_result"
    }
   ],
   "source": [
    "'café' == \"cafe\\u0301\""
   ]
  },
  {
   "cell_type": "markdown",
   "metadata": {},
   "source": [
    "A função `normalize` faz esse trabalho e só devemos informar a forma preferida:\n",
    "- \"NFC\" para a forma normalizada composta (`'café'` e não `'cafe\\u0301'`)\n",
    "- \"NFD\" para a forma normalizada decomposta (`'cafe\\u0301'` e não `'café'`)"
   ]
  },
  {
   "cell_type": "code",
   "execution_count": 3,
   "metadata": {},
   "outputs": [
    {
     "data": {
      "text/plain": [
       "'café'"
      ]
     },
     "execution_count": 3,
     "metadata": {},
     "output_type": "execute_result"
    }
   ],
   "source": [
    "from unicodedata import normalize\n",
    "\n",
    "normalize('NFC', \"café\")"
   ]
  },
  {
   "cell_type": "code",
   "execution_count": 4,
   "metadata": {},
   "outputs": [
    {
     "data": {
      "text/plain": [
       "'café'"
      ]
     },
     "execution_count": 4,
     "metadata": {},
     "output_type": "execute_result"
    }
   ],
   "source": [
    "normalize('NFC', \"cafe\\u0301\")"
   ]
  },
  {
   "cell_type": "code",
   "execution_count": 5,
   "metadata": {},
   "outputs": [
    {
     "data": {
      "text/plain": [
       "True"
      ]
     },
     "execution_count": 5,
     "metadata": {},
     "output_type": "execute_result"
    }
   ],
   "source": [
    "normalize('NFC', \"café\") == normalize('NFC', \"cafe\\u0301\")"
   ]
  },
  {
   "cell_type": "code",
   "execution_count": 7,
   "metadata": {},
   "outputs": [
    {
     "data": {
      "text/plain": [
       "False"
      ]
     },
     "execution_count": 7,
     "metadata": {},
     "output_type": "execute_result"
    }
   ],
   "source": [
    "normalize('NFC', \"café\") == normalize('NFC', \"cafe\") # sem acento"
   ]
  },
  {
   "cell_type": "markdown",
   "metadata": {},
   "source": [
    "> NFC é o padrão recomendado.\n",
    "\n",
    "As opções mais fortes de normalização \"NFKC\" e \"NFKD\" devem ser usadas com cuidado."
   ]
  },
  {
   "cell_type": "markdown",
   "metadata": {},
   "source": [
    "## Case folding\n",
    "\n",
    "é, basicamente, colocar a string toda em caixa-baixa..."
   ]
  },
  {
   "cell_type": "code",
   "execution_count": 9,
   "metadata": {},
   "outputs": [
    {
     "data": {
      "text/plain": [
       "'receitas de sanduíche de unicode escritas em utf-8 para preparar em 42μs'"
      ]
     },
     "execution_count": 9,
     "metadata": {},
     "output_type": "execute_result"
    }
   ],
   "source": [
    "texto = \"Receitas de Sanduíche de Unicode escritas em UTF-8 para preparar em 42µs\"\n",
    "texto.casefold()"
   ]
  },
  {
   "cell_type": "code",
   "execution_count": 12,
   "metadata": {},
   "outputs": [
    {
     "data": {
      "text/plain": [
       "False"
      ]
     },
     "execution_count": 12,
     "metadata": {},
     "output_type": "execute_result"
    }
   ],
   "source": [
    "texto.lower() == texto.casefold()"
   ]
  },
  {
   "cell_type": "code",
   "execution_count": null,
   "metadata": {},
   "outputs": [
    {
     "data": {
      "text/plain": [
       "True"
      ]
     },
     "metadata": {},
     "output_type": "display_data"
    }
   ],
   "source": [
    "texto[:-2].lower() == texto[:-2].casefold()"
   ]
  },
  {
   "cell_type": "markdown",
   "metadata": {},
   "source": [
    "... mas com 116 caracteres (em Unicode) que diferem nos métodos .lower() e .casefold().\n",
    "\n",
    "Usando latin1, .lower() e .casefold() retornam exatamente a mesma string."
   ]
  },
  {
   "cell_type": "markdown",
   "metadata": {},
   "source": [
    "## Removendo diacríticos\n",
    "\n",
    "Diacríticos são os símbolos como acentos e til."
   ]
  },
  {
   "cell_type": "code",
   "execution_count": 14,
   "metadata": {},
   "outputs": [],
   "source": [
    "from unicodedata import normalize, combining\n",
    "\n",
    "def texto_simples(texto: str) -> str:\n",
    "    \"\"\"Remove as marcas de diacríticos\"\"\"\n",
    "    texto_aberto = normalize('NFD', texto)\n",
    "    _texto = ''.join(c for c in texto_aberto if not combining(c))\n",
    "    return normalize('NFC', _texto)"
   ]
  },
  {
   "cell_type": "code",
   "execution_count": 15,
   "metadata": {},
   "outputs": [
    {
     "data": {
      "text/plain": [
       "'aminoacido'"
      ]
     },
     "execution_count": 15,
     "metadata": {},
     "output_type": "execute_result"
    }
   ],
   "source": [
    "texto_simples('aminoácido')"
   ]
  },
  {
   "cell_type": "markdown",
   "metadata": {},
   "source": [
    "dá pra ir mais longe no processo de *sanitização* de uma string, mas depende do contexto."
   ]
  }
 ],
 "metadata": {
  "kernelspec": {
   "display_name": ".venv",
   "language": "python",
   "name": "python3"
  },
  "language_info": {
   "codemirror_mode": {
    "name": "ipython",
    "version": 3
   },
   "file_extension": ".py",
   "mimetype": "text/x-python",
   "name": "python",
   "nbconvert_exporter": "python",
   "pygments_lexer": "ipython3",
   "version": "3.12.2"
  }
 },
 "nbformat": 4,
 "nbformat_minor": 2
}
