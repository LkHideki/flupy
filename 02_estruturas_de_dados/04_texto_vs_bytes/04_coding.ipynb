{
 "cells": [
  {
   "cell_type": "markdown",
   "metadata": {},
   "source": [
    "# Encoding e decoding"
   ]
  },
  {
   "cell_type": "code",
   "execution_count": 15,
   "metadata": {},
   "outputs": [
    {
     "name": "stdout",
     "output_type": "stream",
     "text": [
      "𝄞\n",
      "𝄞\n",
      "𝄞\n",
      "clave de sol \"𝄞\"\n"
     ]
    }
   ],
   "source": [
    "print(b'\\xf0\\x9d\\x84\\x9e'.decode(\"utf-8\"))\n",
    "print(b'\\x34\\xd8\\x1e\\xdd'.decode(\"utf-16\"))\n",
    "print(\"\\U0001D11E\")\n",
    "print(\"clave de sol \\\"\\U0001D11E\\\"\")"
   ]
  },
  {
   "cell_type": "markdown",
   "metadata": {},
   "source": [
    "## Erros no encoding"
   ]
  },
  {
   "cell_type": "code",
   "execution_count": 24,
   "metadata": {},
   "outputs": [
    {
     "name": "stdout",
     "output_type": "stream",
     "text": [
      "Erro ao codificar usando ascii\n",
      "\t 'ascii' codec can't encode character '\\xe3' in position 1: ordinal not in range(128)\n",
      "\n",
      "utf_8 b'S\\xc3\\xa3o Paulo'\n",
      "\n",
      "utf_16 b'\\xff\\xfeS\\x00\\xe3\\x00o\\x00 \\x00P\\x00a\\x00u\\x00l\\x00o\\x00'\n",
      "\n",
      "iso8859_1 b'S\\xe3o Paulo'\n",
      "\n",
      "Erro ao codificar usando cp437\n",
      "\t 'charmap' codec can't encode character '\\xe3' in position 1: character maps to <undefined>\n",
      "\n"
     ]
    }
   ],
   "source": [
    "codecs = \"ascii utf_8 utf_16 iso8859_1 cp437\".split()\n",
    "\n",
    "cidade = \"São Paulo\"\n",
    "for codec in codecs:\n",
    "    try:\n",
    "        print(codec, cidade.encode(codec))\n",
    "    except Exception as err:\n",
    "        print(\"Erro ao codificar usando\", codec)\n",
    "        print(\"\\t\", err)\n",
    "    finally:\n",
    "        print()"
   ]
  },
  {
   "cell_type": "code",
   "execution_count": 22,
   "metadata": {},
   "outputs": [
    {
     "data": {
      "text/plain": [
       "'São Paulo'"
      ]
     },
     "execution_count": 22,
     "metadata": {},
     "output_type": "execute_result"
    }
   ],
   "source": [
    "utf8 = b'S\\xc3\\xa3o Paulo'\n",
    "utf8.decode()"
   ]
  },
  {
   "cell_type": "code",
   "execution_count": null,
   "metadata": {},
   "outputs": [],
   "source": []
  }
 ],
 "metadata": {
  "kernelspec": {
   "display_name": ".venv",
   "language": "python",
   "name": "python3"
  },
  "language_info": {
   "codemirror_mode": {
    "name": "ipython",
    "version": 3
   },
   "file_extension": ".py",
   "mimetype": "text/x-python",
   "name": "python",
   "nbconvert_exporter": "python",
   "pygments_lexer": "ipython3",
   "version": "3.12.2"
  }
 },
 "nbformat": 4,
 "nbformat_minor": 2
}
