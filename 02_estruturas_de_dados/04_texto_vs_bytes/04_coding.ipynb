{
 "cells": [
  {
   "cell_type": "markdown",
   "metadata": {},
   "source": [
    "# Encoding e decoding"
   ]
  },
  {
   "cell_type": "code",
   "execution_count": 15,
   "metadata": {},
   "outputs": [
    {
     "name": "stdout",
     "output_type": "stream",
     "text": [
      "𝄞\n",
      "𝄞\n",
      "𝄞\n",
      "clave de sol \"𝄞\"\n"
     ]
    }
   ],
   "source": [
    "print(b'\\xf0\\x9d\\x84\\x9e'.decode(\"utf-8\"))\n",
    "print(b'\\x34\\xd8\\x1e\\xdd'.decode(\"utf-16\"))\n",
    "print(\"\\U0001D11E\")\n",
    "print(\"clave de sol \\\"\\U0001D11E\\\"\")"
   ]
  },
  {
   "cell_type": "markdown",
   "metadata": {},
   "source": [
    "## Erros no encoding"
   ]
  },
  {
   "cell_type": "code",
   "execution_count": 24,
   "metadata": {},
   "outputs": [
    {
     "name": "stdout",
     "output_type": "stream",
     "text": [
      "Erro ao codificar usando ascii\n",
      "\t 'ascii' codec can't encode character '\\xe3' in position 1: ordinal not in range(128)\n",
      "\n",
      "utf_8 b'S\\xc3\\xa3o Paulo'\n",
      "\n",
      "utf_16 b'\\xff\\xfeS\\x00\\xe3\\x00o\\x00 \\x00P\\x00a\\x00u\\x00l\\x00o\\x00'\n",
      "\n",
      "iso8859_1 b'S\\xe3o Paulo'\n",
      "\n",
      "Erro ao codificar usando cp437\n",
      "\t 'charmap' codec can't encode character '\\xe3' in position 1: character maps to <undefined>\n",
      "\n"
     ]
    }
   ],
   "source": [
    "codecs = \"ascii utf_8 utf_16 iso8859_1 cp437\".split()\n",
    "\n",
    "cidade = \"São Paulo\"\n",
    "for codec in codecs:\n",
    "    try:\n",
    "        print(codec, cidade.encode(codec))\n",
    "    except Exception as err:\n",
    "        print(\"Erro ao codificar usando\", codec)\n",
    "        print(\"\\t\", err)\n",
    "    finally:\n",
    "        print()"
   ]
  },
  {
   "cell_type": "code",
   "execution_count": 22,
   "metadata": {},
   "outputs": [
    {
     "data": {
      "text/plain": [
       "'São Paulo'"
      ]
     },
     "execution_count": 22,
     "metadata": {},
     "output_type": "execute_result"
    }
   ],
   "source": [
    "utf8 = b'S\\xc3\\xa3o Paulo'\n",
    "utf8.decode()"
   ]
  },
  {
   "cell_type": "markdown",
   "metadata": {},
   "source": [
    "## 文字化け\n",
    "são caracteres sem sentido decodificados incorretamente, fruto de um mapeamento parcial entre codecs."
   ]
  },
  {
   "cell_type": "code",
   "execution_count": 37,
   "metadata": {},
   "outputs": [
    {
     "name": "stdout",
     "output_type": "stream",
     "text": [
      "Montréal\n",
      "Montrιal\n",
      "MontrИal\n"
     ]
    }
   ],
   "source": [
    "city = \"Montréal\".encode('latin1')\n",
    "\n",
    "for c in ['cp1252', 'iso8859_7', 'koi8_r']:\n",
    "    print(city.decode(c))"
   ]
  },
  {
   "cell_type": "markdown",
   "metadata": {},
   "source": [
    "Não existe função bijetora entre todos os codecs, i.e. sempre haverá um caractere codificado por um codec que não pode ser traduzido por um outro codec."
   ]
  },
  {
   "cell_type": "code",
   "execution_count": 35,
   "metadata": {},
   "outputs": [
    {
     "ename": "UnicodeDecodeError",
     "evalue": "'utf-8' codec can't decode byte 0xe9 in position 5: invalid continuation byte",
     "output_type": "error",
     "traceback": [
      "\u001b[0;31m---------------------------------------------------------------------------\u001b[0m",
      "\u001b[0;31mUnicodeDecodeError\u001b[0m                        Traceback (most recent call last)",
      "Cell \u001b[0;32mIn[35], line 1\u001b[0m\n\u001b[0;32m----> 1\u001b[0m \u001b[43mcity\u001b[49m\u001b[38;5;241;43m.\u001b[39;49m\u001b[43mdecode\u001b[49m\u001b[43m(\u001b[49m\u001b[38;5;124;43m'\u001b[39;49m\u001b[38;5;124;43mutf-8\u001b[39;49m\u001b[38;5;124;43m'\u001b[39;49m\u001b[43m)\u001b[49m\n",
      "\u001b[0;31mUnicodeDecodeError\u001b[0m: 'utf-8' codec can't decode byte 0xe9 in position 5: invalid continuation byte"
     ]
    }
   ],
   "source": [
    "city.decode('utf-8')"
   ]
  },
  {
   "cell_type": "markdown",
   "metadata": {},
   "source": [
    "> utf-8 é a codificação padrão de Python3\n",
    "\n",
    "ascii era o padrão de Python2"
   ]
  },
  {
   "cell_type": "markdown",
   "metadata": {},
   "source": [
    "### Identificadores não-ascii devem ser usados?\n",
    "\n",
    "para o autor, o uso depende do caso. Em contexto br e privilegiando a legibilidade, vale usar coisas como"
   ]
  },
  {
   "cell_type": "code",
   "execution_count": 48,
   "metadata": {},
   "outputs": [
    {
     "data": {
      "text/plain": [
       "0.0078125"
      ]
     },
     "execution_count": 48,
     "metadata": {},
     "output_type": "execute_result"
    }
   ],
   "source": [
    "x_0 = 0\n",
    "x = 1\n",
    "𝞮 = 1e-2\n",
    "𝞭 = abs(x - x_0)\n",
    "while 𝞮 < 𝞭:\n",
    "    x = (x + x_0) / 2\n",
    "    𝞭 = abs(x - x_0)\n",
    "x"
   ]
  },
  {
   "cell_type": "markdown",
   "metadata": {},
   "source": [
    "por já terem uma semântica em seu contexto"
   ]
  },
  {
   "cell_type": "markdown",
   "metadata": {},
   "source": [
    "## BOM\n",
    "Byte-order mark é um prefixo em bytes que indica uma configuração do texto para uma correta interpretação pelo codec."
   ]
  },
  {
   "cell_type": "code",
   "execution_count": 1,
   "metadata": {},
   "outputs": [
    {
     "data": {
      "text/plain": [
       "b'\\xff\\xfeE\\x00l\\x00 \\x00N\\x00i\\x00\\xf1\\x00o\\x00'"
      ]
     },
     "execution_count": 1,
     "metadata": {},
     "output_type": "execute_result"
    }
   ],
   "source": [
    "'El Niño'.encode('utf16')"
   ]
  },
  {
   "cell_type": "code",
   "execution_count": 2,
   "metadata": {},
   "outputs": [
    {
     "data": {
      "text/plain": [
       "b'\\xff\\xfeE\\x00l\\x00'"
      ]
     },
     "execution_count": 2,
     "metadata": {},
     "output_type": "execute_result"
    }
   ],
   "source": [
    "\"El\".encode('utf16')"
   ]
  },
  {
   "cell_type": "code",
   "execution_count": 3,
   "metadata": {},
   "outputs": [
    {
     "data": {
      "text/plain": [
       "b'\\xff\\xfe \\x00n\\x00i\\x00\\xf1\\x00o\\x00'"
      ]
     },
     "execution_count": 3,
     "metadata": {},
     "output_type": "execute_result"
    }
   ],
   "source": [
    "\" niño\".encode('utf16')"
   ]
  },
  {
   "cell_type": "code",
   "execution_count": 5,
   "metadata": {},
   "outputs": [
    {
     "data": {
      "text/plain": [
       "''"
      ]
     },
     "execution_count": 5,
     "metadata": {},
     "output_type": "execute_result"
    }
   ],
   "source": [
    "b\"\\xff\\xfe\".decode('utf16')"
   ]
  },
  {
   "cell_type": "markdown",
   "metadata": {},
   "source": [
    "a sequência de bytes acima é invisível na decodificação, mas significa \"ZERO WIDTH NO-BREAK SPACE\"."
   ]
  }
 ],
 "metadata": {
  "kernelspec": {
   "display_name": ".venv",
   "language": "python",
   "name": "python3"
  },
  "language_info": {
   "codemirror_mode": {
    "name": "ipython",
    "version": 3
   },
   "file_extension": ".py",
   "mimetype": "text/x-python",
   "name": "python",
   "nbconvert_exporter": "python",
   "pygments_lexer": "ipython3",
   "version": "3.12.2"
  }
 },
 "nbformat": 4,
 "nbformat_minor": 2
}
