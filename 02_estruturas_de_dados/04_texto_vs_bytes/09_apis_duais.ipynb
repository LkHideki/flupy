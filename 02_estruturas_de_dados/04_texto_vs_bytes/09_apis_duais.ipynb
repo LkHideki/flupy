{
 "cells": [
  {
   "cell_type": "markdown",
   "metadata": {},
   "source": [
    "# APIs que mexem com `str` e `bytes`"
   ]
  },
  {
   "cell_type": "markdown",
   "metadata": {},
   "source": [
    "## Expressões regulares\n",
    "\n",
    "- Se você criar uma expressão com bytes, os padrões corresponderão a ASCII\n",
    "\n",
    "- Se usar str, a correspondência será para Unicode (além de ASCII)."
   ]
  },
  {
   "cell_type": "code",
   "execution_count": 1,
   "metadata": {},
   "outputs": [],
   "source": [
    "import re"
   ]
  },
  {
   "cell_type": "code",
   "execution_count": 31,
   "metadata": {},
   "outputs": [],
   "source": [
    "texto = \"O café, sim, aquele comprado há 1,2e8µs está INCRÍVEL!\""
   ]
  },
  {
   "cell_type": "markdown",
   "metadata": {},
   "source": [
    "### Em str/Unicode:"
   ]
  },
  {
   "cell_type": "code",
   "execution_count": 32,
   "metadata": {},
   "outputs": [
    {
     "name": "stdout",
     "output_type": "stream",
     "text": [
      "O café sim aquele comprado há 12e8µs está INCRÍVEL\n"
     ]
    }
   ],
   "source": [
    "p = re.compile(r'[\\w ]')\n",
    "padroes_identificados = p.findall(texto)\n",
    "print(*padroes_identificados, sep='')"
   ]
  },
  {
   "cell_type": "markdown",
   "metadata": {},
   "source": [
    "### Em bytes/ascii:"
   ]
  },
  {
   "cell_type": "code",
   "execution_count": 33,
   "metadata": {},
   "outputs": [
    {
     "name": "stdout",
     "output_type": "stream",
     "text": [
      "O caf sim aquele comprado h 12e8s est INCRVEL\n"
     ]
    }
   ],
   "source": [
    "q = re.compile(rb'[\\w ]')\n",
    "padroes_identificados_bytes = [c.decode() for c in q.findall(texto.encode())]\n",
    "print(*padroes_identificados_bytes, sep='')"
   ]
  },
  {
   "cell_type": "markdown",
   "metadata": {},
   "source": [
    "## Funções de `os`"
   ]
  },
  {
   "cell_type": "code",
   "execution_count": 34,
   "metadata": {},
   "outputs": [],
   "source": [
    "import os, sys"
   ]
  },
  {
   "cell_type": "markdown",
   "metadata": {},
   "source": [
    "Pode-se checar a codificação do sistema"
   ]
  },
  {
   "cell_type": "code",
   "execution_count": 35,
   "metadata": {},
   "outputs": [
    {
     "data": {
      "text/plain": [
       "'utf-8'"
      ]
     },
     "execution_count": 35,
     "metadata": {},
     "output_type": "execute_result"
    }
   ],
   "source": [
    "sys.getfilesystemencoding()"
   ]
  },
  {
   "cell_type": "markdown",
   "metadata": {},
   "source": [
    "Pode-se passar o argumento em bytes para `os.listdir`"
   ]
  },
  {
   "cell_type": "code",
   "execution_count": 41,
   "metadata": {},
   "outputs": [
    {
     "data": {
      "text/plain": [
       "['08_unicode_db.ipynb',\n",
       " '00.txt',\n",
       " '07_ordenacao.ipynb',\n",
       " '02_bytes.ipynb',\n",
       " '05_arquivos_texto.ipynb',\n",
       " 'Arquivo incrível! 🤩.txt',\n",
       " '01_caracteres.ipynb',\n",
       " '06_normalizando.ipynb',\n",
       " '04_coding.ipynb',\n",
       " '03_bytes_buffers_structs.ipynb',\n",
       " '09_apis_duais.ipynb']"
      ]
     },
     "execution_count": 41,
     "metadata": {},
     "output_type": "execute_result"
    }
   ],
   "source": [
    "os.listdir('.')"
   ]
  },
  {
   "cell_type": "code",
   "execution_count": 42,
   "metadata": {},
   "outputs": [
    {
     "data": {
      "text/plain": [
       "[b'08_unicode_db.ipynb',\n",
       " b'00.txt',\n",
       " b'07_ordenacao.ipynb',\n",
       " b'02_bytes.ipynb',\n",
       " b'05_arquivos_texto.ipynb',\n",
       " b'Arquivo incr\\xc3\\xadvel! \\xf0\\x9f\\xa4\\xa9.txt',\n",
       " b'01_caracteres.ipynb',\n",
       " b'06_normalizando.ipynb',\n",
       " b'04_coding.ipynb',\n",
       " b'03_bytes_buffers_structs.ipynb',\n",
       " b'09_apis_duais.ipynb']"
      ]
     },
     "execution_count": 42,
     "metadata": {},
     "output_type": "execute_result"
    }
   ],
   "source": [
    "os.listdir(b'.')"
   ]
  }
 ],
 "metadata": {
  "kernelspec": {
   "display_name": ".venv",
   "language": "python",
   "name": "python3"
  },
  "language_info": {
   "codemirror_mode": {
    "name": "ipython",
    "version": 3
   },
   "file_extension": ".py",
   "mimetype": "text/x-python",
   "name": "python",
   "nbconvert_exporter": "python",
   "pygments_lexer": "ipython3",
   "version": "3.12.2"
  }
 },
 "nbformat": 4,
 "nbformat_minor": 2
}
