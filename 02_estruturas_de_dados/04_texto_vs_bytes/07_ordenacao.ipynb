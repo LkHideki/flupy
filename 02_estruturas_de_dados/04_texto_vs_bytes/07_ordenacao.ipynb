{
 "cells": [
  {
   "cell_type": "markdown",
   "metadata": {},
   "source": [
    "# Ordenação de um texto Unicode\n",
    "\n",
    "Neste ponto, dadas as várias diferenças mostradas por `normalize('NFD', •)` que uma mesma string pode ter, podemos questionar a ordem alfabética. Afinal, alfabeto? Em que codificação?"
   ]
  },
  {
   "cell_type": "code",
   "execution_count": 2,
   "metadata": {},
   "outputs": [
    {
     "data": {
      "text/plain": [
       "['acarajé', 'acerola', 'acesopodetamezoando', 'açaí']"
      ]
     },
     "execution_count": 2,
     "metadata": {},
     "output_type": "execute_result"
    }
   ],
   "source": [
    "palavras = ['açaí', 'acerola', 'acarajé', 'acesopodetamezoando']\n",
    "palavras.sort()\n",
    "palavras"
   ]
  },
  {
   "cell_type": "markdown",
   "metadata": {},
   "source": [
    "(não vou comentar sobre a locale, mas `locale.srtxfrm` rendeu um comentário muito engraçado sobre o suporte em diferentes sistemas)\n",
    "\n",
    "[James Tauber](https://github.com/jtauber) criou o pyuca e disponibilizou no [PyPI](https://pypi.org/project/pyuca/)."
   ]
  },
  {
   "cell_type": "code",
   "execution_count": 3,
   "metadata": {},
   "outputs": [
    {
     "data": {
      "text/plain": [
       "['açaí', 'acarajé', 'acerola', 'acesopodetamezoando']"
      ]
     },
     "execution_count": 3,
     "metadata": {},
     "output_type": "execute_result"
    }
   ],
   "source": [
    "import pyuca\n",
    "\n",
    "coll = pyuca.Collator()\n",
    "palavras.sort(key=coll.sort_key)\n",
    "palavras"
   ]
  },
  {
   "cell_type": "markdown",
   "metadata": {},
   "source": [
    "simples."
   ]
  }
 ],
 "metadata": {
  "kernelspec": {
   "display_name": ".venv",
   "language": "python",
   "name": "python3"
  },
  "language_info": {
   "codemirror_mode": {
    "name": "ipython",
    "version": 3
   },
   "file_extension": ".py",
   "mimetype": "text/x-python",
   "name": "python",
   "nbconvert_exporter": "python",
   "pygments_lexer": "ipython3",
   "version": "3.12.2"
  }
 },
 "nbformat": 4,
 "nbformat_minor": 2
}
