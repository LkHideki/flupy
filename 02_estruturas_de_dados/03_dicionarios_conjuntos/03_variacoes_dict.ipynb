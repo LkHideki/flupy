{
 "cells": [
  {
   "cell_type": "code",
   "execution_count": 17,
   "metadata": {},
   "outputs": [],
   "source": [
    "from collections import OrderedDict, ChainMap, Counter, UserDict"
   ]
  },
  {
   "cell_type": "markdown",
   "metadata": {},
   "source": [
    "# Variações de dict\n",
    "\n",
    "## OrderedDict\n",
    "\n",
    "Respeita a ordem de inserção/construção."
   ]
  },
  {
   "cell_type": "code",
   "execution_count": 18,
   "metadata": {},
   "outputs": [
    {
     "data": {
      "text/plain": [
       "('lucas', 10)"
      ]
     },
     "execution_count": 18,
     "metadata": {},
     "output_type": "execute_result"
    }
   ],
   "source": [
    "od = OrderedDict([(\"lucas\", 10), (\"fulano\", 20)])\n",
    "od[\"bla\"] = 5\n",
    "od.popitem(last=False) # last é True por default"
   ]
  },
  {
   "cell_type": "code",
   "execution_count": 19,
   "metadata": {},
   "outputs": [
    {
     "data": {
      "text/plain": [
       "OrderedDict([('fulano', 20), ('bla', 5)])"
      ]
     },
     "execution_count": 19,
     "metadata": {},
     "output_type": "execute_result"
    }
   ],
   "source": [
    "od"
   ]
  },
  {
   "cell_type": "markdown",
   "metadata": {},
   "source": [
    "## ChainMap\n",
    "\n",
    "Considera como um único mapeamento."
   ]
  },
  {
   "cell_type": "code",
   "execution_count": 20,
   "metadata": {},
   "outputs": [],
   "source": [
    "pessoas = {\n",
    "    \"beto\": 1.2,\n",
    "    \"cesar\": 9.5,\n",
    "    \"dionisio\": 3\n",
    "}\n",
    "\n",
    "materias = {\n",
    "    \"matematica\": 10,\n",
    "    \"sociologia\": 9,\n",
    "    \"robotica\": 8\n",
    "}\n",
    "\n",
    "frutas = {\n",
    "    \"ameixa\": -0.4,\n",
    "    \"banana\": -3.2,\n",
    "    \"cereja\": 12\n",
    "}"
   ]
  },
  {
   "cell_type": "code",
   "execution_count": 21,
   "metadata": {},
   "outputs": [
    {
     "data": {
      "text/plain": [
       "8"
      ]
     },
     "execution_count": 21,
     "metadata": {},
     "output_type": "execute_result"
    }
   ],
   "source": [
    "tudo = ChainMap(pessoas, materias, frutas)\n",
    "tudo['robotica']"
   ]
  },
  {
   "cell_type": "code",
   "execution_count": 27,
   "metadata": {},
   "outputs": [
    {
     "name": "stdout",
     "output_type": "stream",
     "text": [
      "'pera' não tá nas chaves de nenhum dos mapeamentos\n"
     ]
    }
   ],
   "source": [
    "try:\n",
    "    tudo['pera']\n",
    "except Exception as e:\n",
    "    print(\"'pera' não tá nas chaves de nenhum dos mapeamentos\")"
   ]
  },
  {
   "cell_type": "markdown",
   "metadata": {},
   "source": [
    "## Counter\n",
    "Armazena um contador (inteiro) para cada chave."
   ]
  },
  {
   "cell_type": "code",
   "execution_count": 38,
   "metadata": {},
   "outputs": [
    {
     "data": {
      "text/plain": [
       "Counter({'a': 4,\n",
       "         'n': 3,\n",
       "         'p': 1,\n",
       "         'i': 1,\n",
       "         'd': 1,\n",
       "         'm': 1,\n",
       "         'o': 1,\n",
       "         'h': 1,\n",
       "         'g': 1,\n",
       "         'b': 1})"
      ]
     },
     "execution_count": 38,
     "metadata": {},
     "output_type": "execute_result"
    }
   ],
   "source": [
    "Counter('pindamonhangaba')"
   ]
  },
  {
   "cell_type": "code",
   "execution_count": 39,
   "metadata": {},
   "outputs": [
    {
     "data": {
      "text/plain": [
       "'São palíndromos!'"
      ]
     },
     "execution_count": 39,
     "metadata": {},
     "output_type": "execute_result"
    }
   ],
   "source": [
    "\"São palíndromos!\" if Counter('pindamonhangaba') == Counter('pihangabnnadamo') else \"Não são palíndromos!\""
   ]
  },
  {
   "cell_type": "markdown",
   "metadata": {},
   "source": [
    "## UserDict\n",
    "\n",
    "É uma classe feita para o dev personalizar."
   ]
  },
  {
   "cell_type": "code",
   "execution_count": 41,
   "metadata": {},
   "outputs": [],
   "source": [
    "class MeuDicio(UserDict):\n",
    "    def __init__(self, *args, **kwargs) -> None:\n",
    "        super().__init__(*args, **kwargs)\n",
    "\n",
    "    def imprima_so_os_valores(self) -> None:\n",
    "        return ', '.join(str(v) for v in self.values())"
   ]
  },
  {
   "cell_type": "code",
   "execution_count": 42,
   "metadata": {},
   "outputs": [
    {
     "data": {
      "text/plain": [
       "{'primeiro': 1, 'décimo': 10, 'segundo': 2}"
      ]
     },
     "execution_count": 42,
     "metadata": {},
     "output_type": "execute_result"
    }
   ],
   "source": [
    "blar = MeuDicio([('primeiro', 1), ('décimo', 10), ('segundo', 2)])\n",
    "blar"
   ]
  },
  {
   "cell_type": "code",
   "execution_count": 43,
   "metadata": {},
   "outputs": [
    {
     "data": {
      "text/plain": [
       "'1, 10, 2'"
      ]
     },
     "execution_count": 43,
     "metadata": {},
     "output_type": "execute_result"
    }
   ],
   "source": [
    "blar.imprima_so_os_valores()"
   ]
  },
  {
   "cell_type": "code",
   "execution_count": null,
   "metadata": {},
   "outputs": [],
   "source": []
  }
 ],
 "metadata": {
  "kernelspec": {
   "display_name": ".venv",
   "language": "python",
   "name": "python3"
  },
  "language_info": {
   "codemirror_mode": {
    "name": "ipython",
    "version": 3
   },
   "file_extension": ".py",
   "mimetype": "text/x-python",
   "name": "python",
   "nbconvert_exporter": "python",
   "pygments_lexer": "ipython3",
   "version": "3.12.2"
  }
 },
 "nbformat": 4,
 "nbformat_minor": 2
}
