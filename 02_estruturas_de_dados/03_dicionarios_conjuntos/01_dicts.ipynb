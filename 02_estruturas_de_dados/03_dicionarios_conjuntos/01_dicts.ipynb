{
 "cells": [
  {
   "cell_type": "markdown",
   "metadata": {},
   "source": [
    "# Dicionários\n",
    "\n",
    "- tabelas hash são o que confere alto desempenho"
   ]
  },
  {
   "cell_type": "code",
   "execution_count": 8,
   "metadata": {},
   "outputs": [],
   "source": [
    "from collections import abc"
   ]
  },
  {
   "cell_type": "code",
   "execution_count": 3,
   "metadata": {},
   "outputs": [
    {
     "data": {
      "text/plain": [
       "{}"
      ]
     },
     "execution_count": 3,
     "metadata": {},
     "output_type": "execute_result"
    }
   ],
   "source": [
    "my_dict = dict()\n",
    "my_dict"
   ]
  },
  {
   "cell_type": "code",
   "execution_count": 9,
   "metadata": {},
   "outputs": [
    {
     "data": {
      "text/plain": [
       "True"
      ]
     },
     "execution_count": 9,
     "metadata": {},
     "output_type": "execute_result"
    }
   ],
   "source": [
    "isinstance(my_dict, abc.Mapping)"
   ]
  },
  {
   "cell_type": "code",
   "execution_count": 10,
   "metadata": {},
   "outputs": [
    {
     "data": {
      "text/plain": [
       "True"
      ]
     },
     "execution_count": 10,
     "metadata": {},
     "output_type": "execute_result"
    }
   ],
   "source": [
    "isinstance(my_dict, abc.MutableMapping)"
   ]
  },
  {
   "cell_type": "code",
   "execution_count": 11,
   "metadata": {},
   "outputs": [
    {
     "data": {
      "text/plain": [
       "True"
      ]
     },
     "execution_count": 11,
     "metadata": {},
     "output_type": "execute_result"
    }
   ],
   "source": [
    "isinstance(my_dict, dict)"
   ]
  },
  {
   "cell_type": "code",
   "execution_count": 20,
   "metadata": {},
   "outputs": [
    {
     "data": {
      "text/plain": [
       "True"
      ]
     },
     "execution_count": 20,
     "metadata": {},
     "output_type": "execute_result"
    }
   ],
   "source": [
    "type(my_dict) == dict"
   ]
  },
  {
   "cell_type": "code",
   "execution_count": 22,
   "metadata": {},
   "outputs": [
    {
     "data": {
      "text/plain": [
       "False"
      ]
     },
     "execution_count": 22,
     "metadata": {},
     "output_type": "execute_result"
    }
   ],
   "source": [
    "isinstance(dict, abc.Mapping)"
   ]
  },
  {
   "cell_type": "markdown",
   "metadata": {},
   "source": [
    "- Objetos hashable têm valor de hash constante em todo o seu tempo de vida."
   ]
  },
  {
   "cell_type": "code",
   "execution_count": 36,
   "metadata": {},
   "outputs": [
    {
     "name": "stdout",
     "output_type": "stream",
     "text": [
      "275770237 4412323792\n",
      "284153674 4546458784\n"
     ]
    }
   ],
   "source": [
    "class Aluno:\n",
    "    nome: str = \"Nome do aluno\"\n",
    "\n",
    "\n",
    "x = Aluno()\n",
    "\n",
    "print(hash(x), id(x))\n",
    "print(hash(Aluno), id(Aluno))"
   ]
  },
  {
   "cell_type": "markdown",
   "metadata": {},
   "source": [
    "## Dict Comprehensions (dictcomp)"
   ]
  },
  {
   "cell_type": "code",
   "execution_count": 10,
   "metadata": {},
   "outputs": [],
   "source": [
    "texto = \"\"\"\n",
    "A invenção do telégrafo, no início do século XIX, representa um marco revolucionário na comunicação humana. Desenvolvido inicialemente por Samuel Morse e outros colaboradores, o telégrafo elétrico permitiu a transmissão de mensagens em código Morse — uma série de sinais longos e curtos — através de cabos metálicos estendidos por longas distâncias. Essa tecnologia pioneira reduziu drasticamente o tempo necessário para enviar mensagens entre locais distantes, transformando as interações comerciais, políticas e sociais. Ao conectar diferentes partes do mundo de maneira rápida e eficiente, o telégrafo pavimentou o caminho para futuras inovações em comunicações eletrônicas, como o telefone e a internet.\n",
    "\"\"\".strip().lower()"
   ]
  },
  {
   "cell_type": "code",
   "execution_count": 11,
   "metadata": {},
   "outputs": [],
   "source": [
    "contagem_de_letras = {l: texto.count(l) for l in set(texto) if l not in \"-,. —\"}"
   ]
  },
  {
   "cell_type": "code",
   "execution_count": 12,
   "metadata": {},
   "outputs": [
    {
     "data": {
      "text/plain": [
       "{'c': 30,\n",
       " 'l': 18,\n",
       " 'p': 12,\n",
       " 's': 49,\n",
       " 'a': 57,\n",
       " 'd': 21,\n",
       " 'ã': 3,\n",
       " 'u': 17,\n",
       " 'x': 2,\n",
       " 'í': 2,\n",
       " 'n': 45,\n",
       " 'o': 63,\n",
       " 'ô': 1,\n",
       " 'm': 26,\n",
       " 't': 34,\n",
       " 'õ': 3,\n",
       " 'b': 2,\n",
       " 'ó': 1,\n",
       " 'é': 7,\n",
       " 'g': 9,\n",
       " 'â': 1,\n",
       " 'i': 49,\n",
       " 'ç': 5,\n",
       " 'r': 41,\n",
       " 'v': 8,\n",
       " 'f': 8,\n",
       " 'z': 1,\n",
       " 'h': 2,\n",
       " 'e': 73,\n",
       " 'á': 4}"
      ]
     },
     "execution_count": 12,
     "metadata": {},
     "output_type": "execute_result"
    }
   ],
   "source": [
    "contagem_de_letras"
   ]
  },
  {
   "cell_type": "code",
   "execution_count": 21,
   "metadata": {},
   "outputs": [
    {
     "data": {
      "text/plain": [
       "OrderedDict([('z', 1),\n",
       "             ('â', 1),\n",
       "             ('ó', 1),\n",
       "             ('ô', 1),\n",
       "             ('b', 2),\n",
       "             ('h', 2),\n",
       "             ('x', 2),\n",
       "             ('í', 2),\n",
       "             ('ã', 3),\n",
       "             ('õ', 3),\n",
       "             ('á', 4),\n",
       "             ('ç', 5),\n",
       "             ('é', 7),\n",
       "             ('f', 8),\n",
       "             ('v', 8),\n",
       "             ('g', 9),\n",
       "             ('p', 12),\n",
       "             ('u', 17),\n",
       "             ('l', 18),\n",
       "             ('d', 21),\n",
       "             ('m', 26),\n",
       "             ('c', 30),\n",
       "             ('t', 34),\n",
       "             ('r', 41),\n",
       "             ('n', 45),\n",
       "             ('i', 49),\n",
       "             ('s', 49),\n",
       "             ('a', 57),\n",
       "             ('o', 63),\n",
       "             ('e', 73)])"
      ]
     },
     "execution_count": 21,
     "metadata": {},
     "output_type": "execute_result"
    }
   ],
   "source": [
    "from collections import OrderedDict\n",
    "\n",
    "\n",
    "contagem_ordenada = OrderedDict(\n",
    "    sorted(contagem_de_letras.items(),\n",
    "           key=lambda k: 1024*(k[1]) + ord(k[0])))\n",
    "contagem_ordenada"
   ]
  },
  {
   "cell_type": "code",
   "execution_count": 23,
   "metadata": {},
   "outputs": [
    {
     "data": {
      "text/plain": [
       "{'c': 30,\n",
       " 'l': 18,\n",
       " 'p': 12,\n",
       " 's': 49,\n",
       " 'a': -12,\n",
       " 'd': 21,\n",
       " 'ã': 3,\n",
       " 'u': 17,\n",
       " 'x': 2,\n",
       " 'í': 2,\n",
       " 'n': 45,\n",
       " 'o': 63,\n",
       " 'ô': 1,\n",
       " 'm': 26,\n",
       " 't': 34,\n",
       " 'õ': 3,\n",
       " 'b': 2,\n",
       " 'ó': 1,\n",
       " 'é': 7,\n",
       " 'g': 9,\n",
       " 'â': 1,\n",
       " 'i': 49,\n",
       " 'ç': 5,\n",
       " 'r': 41,\n",
       " 'v': 8,\n",
       " 'f': 8,\n",
       " 'z': 1,\n",
       " 'h': 2,\n",
       " 'e': 73,\n",
       " 'á': 4,\n",
       " 'blabla': 19}"
      ]
     },
     "execution_count": 23,
     "metadata": {},
     "output_type": "execute_result"
    }
   ],
   "source": [
    "_aux = {\n",
    "    \"blabla\": 19,\n",
    "    \"a\": -12\n",
    "}\n",
    "contagem_de_letras.update(_aux)\n",
    "contagem_de_letras"
   ]
  },
  {
   "cell_type": "code",
   "execution_count": null,
   "metadata": {},
   "outputs": [],
   "source": []
  }
 ],
 "metadata": {
  "kernelspec": {
   "display_name": ".venv",
   "language": "python",
   "name": "python3"
  },
  "language_info": {
   "codemirror_mode": {
    "name": "ipython",
    "version": 3
   },
   "file_extension": ".py",
   "mimetype": "text/x-python",
   "name": "python",
   "nbconvert_exporter": "python",
   "pygments_lexer": "ipython3",
   "version": "3.12.2"
  }
 },
 "nbformat": 4,
 "nbformat_minor": 2
}
