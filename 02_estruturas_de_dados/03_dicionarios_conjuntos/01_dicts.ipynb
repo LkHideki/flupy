{
 "cells": [
  {
   "cell_type": "markdown",
   "metadata": {},
   "source": [
    "# Dicionários\n",
    "\n",
    "- tabelas hash são o que confere alto desempenho"
   ]
  },
  {
   "cell_type": "code",
   "execution_count": 2,
   "metadata": {},
   "outputs": [],
   "source": [
    "from collections import abc"
   ]
  },
  {
   "cell_type": "code",
   "execution_count": 3,
   "metadata": {},
   "outputs": [
    {
     "data": {
      "text/plain": [
       "{}"
      ]
     },
     "execution_count": 3,
     "metadata": {},
     "output_type": "execute_result"
    }
   ],
   "source": [
    "my_dict = dict()\n",
    "my_dict"
   ]
  },
  {
   "cell_type": "code",
   "execution_count": 4,
   "metadata": {},
   "outputs": [
    {
     "data": {
      "text/plain": [
       "True"
      ]
     },
     "execution_count": 4,
     "metadata": {},
     "output_type": "execute_result"
    }
   ],
   "source": [
    "isinstance(my_dict, abc.Mapping)"
   ]
  },
  {
   "cell_type": "code",
   "execution_count": 5,
   "metadata": {},
   "outputs": [
    {
     "data": {
      "text/plain": [
       "True"
      ]
     },
     "execution_count": 5,
     "metadata": {},
     "output_type": "execute_result"
    }
   ],
   "source": [
    "isinstance(my_dict, abc.MutableMapping)"
   ]
  },
  {
   "cell_type": "code",
   "execution_count": 6,
   "metadata": {},
   "outputs": [
    {
     "data": {
      "text/plain": [
       "True"
      ]
     },
     "execution_count": 6,
     "metadata": {},
     "output_type": "execute_result"
    }
   ],
   "source": [
    "isinstance(my_dict, dict)"
   ]
  },
  {
   "cell_type": "code",
   "execution_count": 7,
   "metadata": {},
   "outputs": [
    {
     "data": {
      "text/plain": [
       "True"
      ]
     },
     "execution_count": 7,
     "metadata": {},
     "output_type": "execute_result"
    }
   ],
   "source": [
    "type(my_dict) == dict"
   ]
  },
  {
   "cell_type": "code",
   "execution_count": 8,
   "metadata": {},
   "outputs": [
    {
     "data": {
      "text/plain": [
       "False"
      ]
     },
     "execution_count": 8,
     "metadata": {},
     "output_type": "execute_result"
    }
   ],
   "source": [
    "isinstance(dict, abc.Mapping)"
   ]
  },
  {
   "cell_type": "markdown",
   "metadata": {},
   "source": [
    "- Objetos hashable têm valor de hash constante em todo o seu tempo de vida."
   ]
  },
  {
   "cell_type": "code",
   "execution_count": 9,
   "metadata": {},
   "outputs": [
    {
     "name": "stdout",
     "output_type": "stream",
     "text": [
      "275632370 4410117920\n",
      "306677542 4906840672\n"
     ]
    }
   ],
   "source": [
    "class Aluno:\n",
    "    nome: str = \"Nome do aluno\"\n",
    "\n",
    "\n",
    "x = Aluno()\n",
    "\n",
    "print(hash(x), id(x))\n",
    "print(hash(Aluno), id(Aluno))"
   ]
  },
  {
   "cell_type": "markdown",
   "metadata": {},
   "source": [
    "## Dict Comprehensions (dictcomp)"
   ]
  },
  {
   "cell_type": "code",
   "execution_count": 10,
   "metadata": {},
   "outputs": [],
   "source": [
    "texto = \"\"\"\n",
    "A invenção do telégrafo, no início do século XIX, representa um marco revolucionário na comunicação humana. Desenvolvido inicialemente por Samuel Morse e outros colaboradores, o telégrafo elétrico permitiu a transmissão de mensagens em código Morse — uma série de sinais longos e curtos — através de cabos metálicos estendidos por longas distâncias. Essa tecnologia pioneira reduziu drasticamente o tempo necessário para enviar mensagens entre locais distantes, transformando as interações comerciais, políticas e sociais. Ao conectar diferentes partes do mundo de maneira rápida e eficiente, o telégrafo pavimentou o caminho para futuras inovações em comunicações eletrônicas, como o telefone e a internet.\n",
    "\"\"\".strip().lower()"
   ]
  },
  {
   "cell_type": "code",
   "execution_count": 16,
   "metadata": {},
   "outputs": [
    {
     "name": "stdout",
     "output_type": "stream",
     "text": [
      "('p', 12), ('i', 49), ('ã', 3), ('g', 9), ('x', 2), ('l', 18), ('á', 4), ('c', 30), ('o', 63), ('ç', 5), ('ó', 1), ('z', 1), ('í', 2), ('é', 7), ('b', 2), ('v', 8), ('t', 34), ('d', 21), ('n', 45), ('â', 1), ('a', 57), ('r', 41), ('s', 49), ('u', 17), ('m', 26), ('e', 73), ('õ', 3), ('h', 2), ('f', 8), ('ô', 1)\n"
     ]
    }
   ],
   "source": [
    "contagem_de_letras = {l: texto.count(l) for l in set(texto) if l not in \"-,. —\"}\n",
    "print(*contagem_de_letras.items(), sep=\", \")"
   ]
  },
  {
   "cell_type": "code",
   "execution_count": 14,
   "metadata": {},
   "outputs": [
    {
     "name": "stdout",
     "output_type": "stream",
     "text": [
      "('z', 1), ('â', 1), ('ó', 1), ('ô', 1), ('b', 2), ('h', 2), ('x', 2), ('í', 2), ('ã', 3), ('õ', 3), ('á', 4), ('ç', 5), ('é', 7), ('f', 8), ('v', 8), ('g', 9), ('p', 12), ('u', 17), ('l', 18), ('d', 21), ('m', 26), ('c', 30), ('t', 34), ('r', 41), ('n', 45), ('i', 49), ('s', 49), ('a', 57), ('o', 63), ('e', 73)\n"
     ]
    }
   ],
   "source": [
    "from collections import OrderedDict\n",
    "\n",
    "\n",
    "contagem_ordenada = OrderedDict(\n",
    "    sorted(contagem_de_letras.items(),\n",
    "           key=lambda k: 1024*(k[1]) + ord(k[0])))\n",
    "print(*contagem_ordenada.items(), sep=\", \")"
   ]
  },
  {
   "cell_type": "code",
   "execution_count": 15,
   "metadata": {},
   "outputs": [
    {
     "name": "stdout",
     "output_type": "stream",
     "text": [
      "('p', 12), ('i', 49), ('ã', 3), ('g', 9), ('x', 2), ('l', 18), ('á', 4), ('c', 30), ('o', 63), ('ç', 5), ('ó', 1), ('z', 1), ('í', 2), ('é', 7), ('b', 2), ('v', 8), ('t', 34), ('d', 21), ('n', 45), ('â', 1), ('a', -12), ('r', 41), ('s', 49), ('u', 17), ('m', 26), ('e', 73), ('õ', 3), ('h', 2), ('f', 8), ('ô', 1), ('blabla', 19)\n"
     ]
    }
   ],
   "source": [
    "_aux = {\n",
    "    \"blabla\": 19,\n",
    "    \"a\": -12\n",
    "}\n",
    "contagem_de_letras.update(_aux)\n",
    "print(*contagem_de_letras.items(), sep=\", \")"
   ]
  },
  {
   "cell_type": "markdown",
   "metadata": {},
   "source": [
    "## setdefault(•)"
   ]
  },
  {
   "cell_type": "code",
   "execution_count": 41,
   "metadata": {},
   "outputs": [
    {
     "data": {
      "text/plain": [
       "{'p': 1,\n",
       " 'i': 7,\n",
       " 'ã': 1,\n",
       " 'g': 1,\n",
       " 'x': 2,\n",
       " 'l': 3,\n",
       " 'á': 1,\n",
       " 'c': 5,\n",
       " 'o': 12,\n",
       " 'ç': 1,\n",
       " 'í': 1,\n",
       " 'é': 2,\n",
       " 'v': 2,\n",
       " 't': 2,\n",
       " ',': 2,\n",
       " 'd': 2,\n",
       " 'n': 8,\n",
       " 'a': 5,\n",
       " ' ': 14,\n",
       " 'r': 6,\n",
       " 's': 2,\n",
       " 'u': 4,\n",
       " 'm': 3,\n",
       " 'e': 6,\n",
       " 'f': 1}"
      ]
     },
     "execution_count": 41,
     "metadata": {},
     "output_type": "execute_result"
    }
   ],
   "source": [
    "mydict = {}\n",
    "mv = memoryview(bytes(texto, encoding=\"utf-8\"))\n",
    "mvb = mv[:100].tobytes()\n",
    "for c in set(mvb.decode(\"utf-8\")):\n",
    "    mydict.setdefault(c, 0) # resume if c not in mydict: mydict[c] = 0\n",
    "    mydict[c] += mvb.count(c.encode(\"utf-8\")) # daria erro sem a linha acima\n",
    "mydict"
   ]
  },
  {
   "cell_type": "markdown",
   "metadata": {},
   "source": [
    "outro uso do `.setdefault(chave, valor_default)` pode ser"
   ]
  },
  {
   "cell_type": "code",
   "execution_count": 53,
   "metadata": {},
   "outputs": [
    {
     "data": {
      "text/plain": [
       "{1: ['p', 'ã', 'g', 'á', 'ç', 'í', 'f'],\n",
       " 7: ['i'],\n",
       " 2: ['x', 'é', 'v', 't', ',', 'd', 's'],\n",
       " 3: ['l', 'm'],\n",
       " 5: ['c', 'a'],\n",
       " 12: ['o'],\n",
       " 8: ['n'],\n",
       " 14: [' '],\n",
       " 6: ['r', 'e'],\n",
       " 4: ['u']}"
      ]
     },
     "execution_count": 53,
     "metadata": {},
     "output_type": "execute_result"
    }
   ],
   "source": [
    "ocorrencias_letras = {}\n",
    "for c in set(mvb.decode(\"utf-8\")):\n",
    "    ocorrencias_letras.setdefault(mvb.count(c.encode(\"utf-8\")), []).append(c)\n",
    "ocorrencias_letras"
   ]
  },
  {
   "cell_type": "markdown",
   "metadata": {},
   "source": [
    "Assim, o código condensa em\n",
    "```python\n",
    "ocorrencias_letras.setdefault(mvb.count(c.encode(\"utf-8\")), []).append(c)\n",
    "```\n",
    "a checagem, a atribuição do valor default e o comando de `.append`, melhorando a performance."
   ]
  },
  {
   "cell_type": "markdown",
   "metadata": {},
   "source": []
  }
 ],
 "metadata": {
  "kernelspec": {
   "display_name": ".venv",
   "language": "python",
   "name": "python3"
  },
  "language_info": {
   "codemirror_mode": {
    "name": "ipython",
    "version": 3
   },
   "file_extension": ".py",
   "mimetype": "text/x-python",
   "name": "python",
   "nbconvert_exporter": "python",
   "pygments_lexer": "ipython3",
   "version": "3.12.2"
  }
 },
 "nbformat": 4,
 "nbformat_minor": 2
}
