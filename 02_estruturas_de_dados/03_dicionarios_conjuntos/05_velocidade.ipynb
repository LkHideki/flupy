{
 "cells": [
  {
   "cell_type": "markdown",
   "metadata": {},
   "source": [
    "# Dicionários e conjuntos performam bem"
   ]
  },
  {
   "cell_type": "code",
   "execution_count": 30,
   "metadata": {},
   "outputs": [],
   "source": [
    "from time import perf_counter as pc\n",
    "from random import sample\n",
    "\n",
    "n_agulhas = 500\n",
    "n_palhas = int(100e6)"
   ]
  },
  {
   "cell_type": "code",
   "execution_count": 31,
   "metadata": {},
   "outputs": [
    {
     "data": {
      "text/plain": [
       "100000500"
      ]
     },
     "execution_count": 31,
     "metadata": {},
     "output_type": "execute_result"
    }
   ],
   "source": [
    "# agulhas = [randint(1, n_palhas + n_agulhas) for _ in range(n_agulhas)]\n",
    "agulhas = set(sample(range(1, n_agulhas + n_palhas+1), n_agulhas))\n",
    "# palheiro_com_agulhas = dict.fromkeys(range(n_palhas + n_agulhas), 0)\n",
    "# for i in agulhas:\n",
    "#     palheiro_com_agulhas[i] = 1\n",
    "palheiro_com_agulhas = set(range(1, n_agulhas + n_palhas+1))\n",
    "len(palheiro_com_agulhas)"
   ]
  },
  {
   "cell_type": "code",
   "execution_count": 32,
   "metadata": {},
   "outputs": [
    {
     "name": "stdout",
     "output_type": "stream",
     "text": [
      "tempo: 6.71\n"
     ]
    },
    {
     "data": {
      "text/plain": [
       "500"
      ]
     },
     "execution_count": 32,
     "metadata": {},
     "output_type": "execute_result"
    }
   ],
   "source": [
    "t0 = pc()\n",
    "found = 0\n",
    "for n in palheiro_com_agulhas:\n",
    "    if n in agulhas:\n",
    "        found += 1\n",
    "print(f\"tempo: {pc()-t0:.2f}\")\n",
    "found"
   ]
  },
  {
   "cell_type": "markdown",
   "metadata": {},
   "source": [
    "## 500 itens foram misturados a outros 100 milhões. O pypy3 os achou em 8s.\n",
    "\n",
    "Dois pontos aqui:\n",
    "- sets performam bem;\n",
    "- pypy3 ajuda demais (pq o CPython roda em 16s)."
   ]
  }
 ],
 "metadata": {
  "kernelspec": {
   "display_name": ".venv",
   "language": "python",
   "name": "python3"
  },
  "language_info": {
   "codemirror_mode": {
    "name": "ipython",
    "version": 3
   },
   "file_extension": ".py",
   "mimetype": "text/x-python",
   "name": "python",
   "nbconvert_exporter": "python",
   "pygments_lexer": "ipython3",
   "version": "3.12.2"
  }
 },
 "nbformat": 4,
 "nbformat_minor": 2
}
