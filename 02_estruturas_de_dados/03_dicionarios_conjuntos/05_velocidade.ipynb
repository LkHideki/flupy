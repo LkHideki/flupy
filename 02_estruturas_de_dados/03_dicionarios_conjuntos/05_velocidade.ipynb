{
 "cells": [
  {
   "cell_type": "markdown",
   "metadata": {},
   "source": [
    "# Dicionários e conjuntos performam bem"
   ]
  },
  {
   "cell_type": "code",
   "execution_count": 2,
   "metadata": {},
   "outputs": [],
   "source": [
    "from time import perf_counter as pc\n",
    "from random import sample\n",
    "\n",
    "n_agulhas = 500\n",
    "n_palhas = int(100e6)"
   ]
  },
  {
   "cell_type": "code",
   "execution_count": 6,
   "metadata": {},
   "outputs": [
    {
     "data": {
      "text/plain": [
       "100000500"
      ]
     },
     "execution_count": 6,
     "metadata": {},
     "output_type": "execute_result"
    }
   ],
   "source": [
    "agulhas = set(sample(range(1, n_agulhas + n_palhas+1), n_agulhas))\n",
    "palheiro_com_agulhas = set(range(1, n_agulhas + n_palhas+1))\n",
    "\n",
    "len(palheiro_com_agulhas)"
   ]
  },
  {
   "cell_type": "code",
   "execution_count": 4,
   "metadata": {},
   "outputs": [
    {
     "name": "stdout",
     "output_type": "stream",
     "text": [
      "tempo: 6.79\n"
     ]
    },
    {
     "data": {
      "text/plain": [
       "500"
      ]
     },
     "execution_count": 4,
     "metadata": {},
     "output_type": "execute_result"
    }
   ],
   "source": [
    "t0 = pc()\n",
    "found = 0\n",
    "for n in palheiro_com_agulhas:\n",
    "    if n in agulhas:\n",
    "        found += 1\n",
    "print(f\"tempo: {pc()-t0:.2f}\")\n",
    "found"
   ]
  },
  {
   "cell_type": "markdown",
   "metadata": {},
   "source": [
    "## 500 itens foram misturados a outros 100 milhões. O pypy3 os achou em 8s.\n",
    "\n",
    "Dois pontos aqui:\n",
    "- sets performam bem;\n",
    "- pypy3 ajuda demais (pq o CPython roda em 16s)."
   ]
  },
  {
   "cell_type": "code",
   "execution_count": 19,
   "metadata": {},
   "outputs": [
    {
     "name": "stdout",
     "output_type": "stream",
     "text": [
      "500\n",
      "Calcular a interseção demorou 2.90µs\n"
     ]
    }
   ],
   "source": [
    "from time import perf_counter_ns as pcn\n",
    "t00 = pcn()\n",
    "print(len(palheiro_com_agulhas & agulhas))\n",
    "print(f\"Calcular a interseção demorou {(pcn() - t00)/1000000:.2f}µs\")"
   ]
  },
  {
   "cell_type": "code",
   "execution_count": 23,
   "metadata": {},
   "outputs": [
    {
     "name": "stdout",
     "output_type": "stream",
     "text": [
      "100000500\n",
      "Calcular a união demorou 6.12s\n"
     ]
    }
   ],
   "source": [
    "t00 = pcn()\n",
    "print(len(palheiro_com_agulhas | agulhas))\n",
    "print(f\"Calcular a união demorou {(pcn() - t00)/1_000_000_000:.2f}s\")"
   ]
  },
  {
   "cell_type": "code",
   "execution_count": null,
   "metadata": {},
   "outputs": [],
   "source": []
  }
 ],
 "metadata": {
  "kernelspec": {
   "display_name": ".venv",
   "language": "python",
   "name": "python3"
  },
  "language_info": {
   "codemirror_mode": {
    "name": "ipython",
    "version": 3
   },
   "file_extension": ".py",
   "mimetype": "text/x-python",
   "name": "python",
   "nbconvert_exporter": "python",
   "pygments_lexer": "ipython3",
   "version": "3.12.2"
  }
 },
 "nbformat": 4,
 "nbformat_minor": 2
}
