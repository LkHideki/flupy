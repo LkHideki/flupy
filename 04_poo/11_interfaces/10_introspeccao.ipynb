{
 "cells": [
  {
   "cell_type": "markdown",
   "metadata": {},
   "source": [
    "# Um breve comentário sobre introspecção"
   ]
  },
  {
   "cell_type": "markdown",
   "metadata": {},
   "source": [
    "De uma classe `A`, temos a subclasse `B`, da qual temos uma outra `C`:"
   ]
  },
  {
   "cell_type": "code",
   "execution_count": 13,
   "metadata": {},
   "outputs": [],
   "source": [
    "from abc import ABC\n",
    "class A(ABC):\n",
    "    ...\n",
    "class B(A):\n",
    "    ...\n",
    "class C(B):\n",
    "    ..."
   ]
  },
  {
   "cell_type": "markdown",
   "metadata": {},
   "source": [
    "o método dunder subclasses retorna a lista de subclasses diretas de A"
   ]
  },
  {
   "cell_type": "code",
   "execution_count": 14,
   "metadata": {},
   "outputs": [
    {
     "data": {
      "text/plain": [
       "[__main__.B]"
      ]
     },
     "execution_count": 14,
     "metadata": {},
     "output_type": "execute_result"
    }
   ],
   "source": [
    "A.__subclasses__()"
   ]
  },
  {
   "cell_type": "markdown",
   "metadata": {},
   "source": [
    "mas não inclui subclasses virtuais:"
   ]
  },
  {
   "cell_type": "code",
   "execution_count": 31,
   "metadata": {},
   "outputs": [],
   "source": [
    "from tombola import Tombola\n",
    "from random import randrange\n",
    "\n",
    "@Tombola.register\n",
    "class TomboList(list):\n",
    "    def pick(self):\n",
    "        if self:\n",
    "            pos = randrange(len(self))\n",
    "            return self.pop(pos)\n",
    "        else:\n",
    "            raise LookupError(\"escolheu do vazio\")\n",
    "    load = list.extend\n",
    "    def loaded(self):\n",
    "        return bool(self)\n",
    "    def inspect(self):\n",
    "        return tuple(sorted(self))"
   ]
  },
  {
   "cell_type": "code",
   "execution_count": 35,
   "metadata": {},
   "outputs": [
    {
     "data": {
      "text/plain": [
       "[_frozen_importlib._List,\n",
       " functools._HashedSeq,\n",
       " traceback.StackSummary,\n",
       " socketserver._Threads,\n",
       " logging.config.ConvertingList,\n",
       " traitlets.config.loader.DeferredConfigList,\n",
       " dateutil.parser._parser._ymd,\n",
       " email.header._Accumulator,\n",
       " IPython.utils.text.SList,\n",
       " prompt_toolkit.document._ImmutableLineList,\n",
       " prompt_toolkit.formatted_text.base.FormattedText,\n",
       " xml.dom.minicompat.NodeList,\n",
       " prompt_toolkit.layout.utils._ExplodedList,\n",
       " parso.parser.Stack,\n",
       " _pydevd_frame_eval.vendored.bytecode.bytecode._BaseBytecodeList,\n",
       " _pydevd_frame_eval.vendored.bytecode.bytecode._InstrList,\n",
       " __main__.TomboList,\n",
       " __main__.TomboList,\n",
       " __main__.TomboList]"
      ]
     },
     "execution_count": 35,
     "metadata": {},
     "output_type": "execute_result"
    }
   ],
   "source": [
    "list.__subclasses__()"
   ]
  },
  {
   "cell_type": "code",
   "execution_count": 32,
   "metadata": {},
   "outputs": [
    {
     "data": {
      "text/plain": [
       "[]"
      ]
     },
     "execution_count": 32,
     "metadata": {},
     "output_type": "execute_result"
    }
   ],
   "source": [
    "Tombola.__subclasses__()"
   ]
  },
  {
   "cell_type": "code",
   "execution_count": 33,
   "metadata": {},
   "outputs": [],
   "source": [
    "from abc import abstractmethod\n",
    "class D(ABC):\n",
    "    ...\n",
    "class E(D):\n",
    "    @classmethod\n",
    "    @abstractmethod\n",
    "    def bla(self): ...\n",
    "    # ...\n",
    "class F(E):\n",
    "    ..."
   ]
  },
  {
   "cell_type": "code",
   "execution_count": 34,
   "metadata": {},
   "outputs": [
    {
     "data": {
      "text/plain": [
       "[__main__.E]"
      ]
     },
     "execution_count": 34,
     "metadata": {},
     "output_type": "execute_result"
    }
   ],
   "source": [
    "D.__subclasses__()"
   ]
  },
  {
   "cell_type": "code",
   "execution_count": 36,
   "metadata": {},
   "outputs": [
    {
     "data": {
      "text/plain": [
       "[__main__.F]"
      ]
     },
     "execution_count": 36,
     "metadata": {},
     "output_type": "execute_result"
    }
   ],
   "source": [
    "E.__subclasses__()"
   ]
  }
 ],
 "metadata": {
  "kernelspec": {
   "display_name": ".venv",
   "language": "python",
   "name": "python3"
  },
  "language_info": {
   "codemirror_mode": {
    "name": "ipython",
    "version": 3
   },
   "file_extension": ".py",
   "mimetype": "text/x-python",
   "name": "python",
   "nbconvert_exporter": "python",
   "pygments_lexer": "ipython3",
   "version": "3.12.2"
  }
 },
 "nbformat": 4,
 "nbformat_minor": 2
}
