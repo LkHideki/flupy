{
 "cells": [
  {
   "cell_type": "markdown",
   "metadata": {},
   "source": [
    "# De protocolos a ABCs\n",
    "\n",
    "Protocolos são noções intuitivas de como uma classe deve se comportar. São especificações informais estilo *duck typing*. O protocolo de sequência, mencionado anteriormente dá uma ideia disso: basta que uma classe tenha `__getitem__` e `__len__` (que pode ser dispensado se tiver um tratamento de erros apropriado) para ser uma sequência.\n",
    "\n",
    "Interfaces são contratos como em C# ou Typescript, mas que, em Python, podem ser mais flexíveis, i.e. *uma interface parcialmente implementada é algo aceitável*."
   ]
  },
  {
   "cell_type": "markdown",
   "metadata": {},
   "source": [
    "## Interfaces\n",
    "\n",
    "Toda classe tem uma interface: os membros públicos (i.e. os atributos públicos, métodos públicos, métodos especiais públicos, herdados ou implementados).\n",
    "\n",
    "Por definição, uma interface não contempla membros protegidos ou privados.\n",
    "\n",
    "Uma interface é o subconjunto de membros públicos de um objeto que lhe permite desempenhar um papel específico no sistema.\n",
    "\n",
    "## Protocolos\n",
    "\n",
    "Protocolos são interfaces que, por serem informais, não podem ser verificados estaticamente pelo interpretador.\n",
    "\n",
    "Protocolos são definidos só por convenções e documentação."
   ]
  }
 ],
 "metadata": {
  "kernelspec": {
   "display_name": ".venv",
   "language": "python",
   "name": "python3"
  },
  "language_info": {
   "codemirror_mode": {
    "name": "ipython",
    "version": 3
   },
   "file_extension": ".py",
   "mimetype": "text/x-python",
   "name": "python",
   "nbconvert_exporter": "python",
   "pygments_lexer": "ipython3",
   "version": "3.12.2"
  }
 },
 "nbformat": 4,
 "nbformat_minor": 2
}
