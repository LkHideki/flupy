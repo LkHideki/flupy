{
 "cells": [
  {
   "cell_type": "markdown",
   "metadata": {},
   "source": [
    "# Sobre a sintaxe para criar uma ABC\n",
    "\n",
    "Crie uma subclasse de uma `abc.ABC` ou de outra `ABC`.\n",
    "\n",
    "`@abstractclassmethod`, `@abstractstaticmethod`, `@abstractproperty` estão obsoletos, porque agora é possível empilhar decoradores."
   ]
  },
  {
   "cell_type": "code",
   "execution_count": 4,
   "metadata": {},
   "outputs": [],
   "source": [
    "import abc\n",
    "\n",
    "\n",
    "class Criatura(abc.ABC):\n",
    "    @classmethod\n",
    "    @abc.abstractmethod\n",
    "    def viva(cls, nome: str):\n",
    "        ..."
   ]
  },
  {
   "cell_type": "markdown",
   "metadata": {},
   "source": [
    "Caso possua, `@abc.abstractmethod` deve ser sempre o mais interno.\n",
    "\n",
    "Em `viva`, primeiro aplica-se o decorator de método abstrato e, depois, o de método estático."
   ]
  },
  {
   "cell_type": "code",
   "execution_count": 6,
   "metadata": {},
   "outputs": [],
   "source": [
    "class Gato(Criatura):\n",
    "    def __init__(self, nome: str) -> None:\n",
    "        self.nome = nome\n",
    "\n",
    "    def __repr__(self) -> str:\n",
    "        return f\"Gato<NOME: {self.nome}>\"\n",
    "\n",
    "    @classmethod\n",
    "    def viva(cls, nome: str):\n",
    "        print(\"Gatinho nascendo...\")\n",
    "        nome = nome.strip()\n",
    "        nome = nome[0].upper() + nome[1:].lower()\n",
    "        return cls(nome)"
   ]
  },
  {
   "cell_type": "code",
   "execution_count": 8,
   "metadata": {},
   "outputs": [
    {
     "name": "stdout",
     "output_type": "stream",
     "text": [
      "Gatinho nascendo...\n"
     ]
    },
    {
     "data": {
      "text/plain": [
       "Gato<NOME: Garfield>"
      ]
     },
     "execution_count": 8,
     "metadata": {},
     "output_type": "execute_result"
    }
   ],
   "source": [
    "garfield = Gato.viva(\"gArFieLd\")\n",
    "garfield"
   ]
  }
 ],
 "metadata": {
  "kernelspec": {
   "display_name": ".venv",
   "language": "python",
   "name": "python3"
  },
  "language_info": {
   "codemirror_mode": {
    "name": "ipython",
    "version": 3
   },
   "file_extension": ".py",
   "mimetype": "text/x-python",
   "name": "python",
   "nbconvert_exporter": "python",
   "pygments_lexer": "ipython3",
   "version": "3.12.2"
  }
 },
 "nbformat": 4,
 "nbformat_minor": 2
}
