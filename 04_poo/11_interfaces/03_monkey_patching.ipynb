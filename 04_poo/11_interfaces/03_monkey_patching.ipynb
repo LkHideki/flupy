{
 "cells": [
  {
   "cell_type": "markdown",
   "metadata": {},
   "source": [
    "# Monkey-patching\n",
    "\n",
    "é a edição de um código em tempo de execução."
   ]
  },
  {
   "cell_type": "markdown",
   "metadata": {},
   "source": [
    "O `FrenchDeck` abaixo já foi implementado no primeiro arquivo."
   ]
  },
  {
   "cell_type": "code",
   "execution_count": 12,
   "metadata": {},
   "outputs": [],
   "source": [
    "import collections\n",
    "from itertools import product\n",
    "from random import sample, shuffle\n",
    "\n",
    "class ExtractionException(Exception):\n",
    "    def __init__(self, message=\"Extraction failed\", errors=None) -> None:\n",
    "        super().__init__(message)\n",
    "        self.errors = errors\n",
    "\n",
    "Card = collections.namedtuple('Card', ['rank', 'suit'])\n",
    "\n",
    "class FrenchDeck:\n",
    "    _ranks = [str(n) for n in range(2,11)] + list('JQKA')\n",
    "    _suits = 'spades diamonds clubs hearts'.split()\n",
    "    _cards = [Card(r, s) for r,s in product(_ranks, _suits)]\n",
    "    \n",
    "    def __init__(self) -> None:\n",
    "        self.cards = sample(self._cards, len(self._cards))\n",
    "        \n",
    "    def __len__(self) -> int:\n",
    "        return len(self.cards)\n",
    "    \n",
    "    def __getitem__(self, position: int) -> Card:\n",
    "        return self.cards[position]\n",
    "\n",
    "    def __repr__(self) -> str:\n",
    "        _s = \"\"\n",
    "        acc = 0\n",
    "        for c in self.cards:\n",
    "            if acc % 5 == 0: _s += '\\n'\n",
    "            else: _s += '\\t'\n",
    "            _s += c.rank + c.suit[0]\n",
    "            acc+=1\n",
    "        _s += '\\n'\n",
    "        return _s\n",
    "\n",
    "    def __bool__(self) -> bool:\n",
    "        \"\"\" Answers the question 'is this deck original'?\n",
    "        \"\"\"\n",
    "        if len(self) == len(self._cards): return True\n",
    "        return False\n",
    "\n",
    "    def pick(self, number_of_cards: int = 1) -> list[Card]:\n",
    "        \"\"\"\n",
    "        Picks a specified number of cards from the deck.\n",
    "\n",
    "        Args:\n",
    "            number_of_cards (int): The number of cards to pick from the deck. Defaults to 1.\n",
    "\n",
    "        Returns:\n",
    "            list[Card]: A list of picked cards.\n",
    "        \"\"\"\n",
    "        extractions: list[Card] = []\n",
    "        if len(self) < number_of_cards:\n",
    "            raise ExtractionException(f\"Tried to extract {number_of_cards} cards, but there are only {len(self)} cards remaining.\")\n",
    "        \n",
    "        for _ in range(number_of_cards):\n",
    "            extractions.append(self.cards.pop())\n",
    "        return extractions"
   ]
  },
  {
   "cell_type": "code",
   "execution_count": 13,
   "metadata": {},
   "outputs": [
    {
     "ename": "TypeError",
     "evalue": "'FrenchDeck' object does not support item assignment",
     "output_type": "error",
     "traceback": [
      "\u001b[0;31m---------------------------------------------------------------------------\u001b[0m",
      "\u001b[0;31mTypeError\u001b[0m                                 Traceback (most recent call last)",
      "Cell \u001b[0;32mIn[13], line 2\u001b[0m\n\u001b[1;32m      1\u001b[0m deck \u001b[38;5;241m=\u001b[39m FrenchDeck()\n\u001b[0;32m----> 2\u001b[0m \u001b[43mshuffle\u001b[49m\u001b[43m(\u001b[49m\u001b[43mdeck\u001b[49m\u001b[43m)\u001b[49m\n",
      "File \u001b[0;32m/opt/homebrew/Cellar/python@3.12/3.12.2_1/Frameworks/Python.framework/Versions/3.12/lib/python3.12/random.py:357\u001b[0m, in \u001b[0;36mRandom.shuffle\u001b[0;34m(self, x)\u001b[0m\n\u001b[1;32m    354\u001b[0m \u001b[38;5;28;01mfor\u001b[39;00m i \u001b[38;5;129;01min\u001b[39;00m \u001b[38;5;28mreversed\u001b[39m(\u001b[38;5;28mrange\u001b[39m(\u001b[38;5;241m1\u001b[39m, \u001b[38;5;28mlen\u001b[39m(x))):\n\u001b[1;32m    355\u001b[0m     \u001b[38;5;66;03m# pick an element in x[:i+1] with which to exchange x[i]\u001b[39;00m\n\u001b[1;32m    356\u001b[0m     j \u001b[38;5;241m=\u001b[39m randbelow(i \u001b[38;5;241m+\u001b[39m \u001b[38;5;241m1\u001b[39m)\n\u001b[0;32m--> 357\u001b[0m     \u001b[43mx\u001b[49m\u001b[43m[\u001b[49m\u001b[43mi\u001b[49m\u001b[43m]\u001b[49m, x[j] \u001b[38;5;241m=\u001b[39m x[j], x[i]\n",
      "\u001b[0;31mTypeError\u001b[0m: 'FrenchDeck' object does not support item assignment"
     ]
    }
   ],
   "source": [
    "deck = FrenchDeck()\n",
    "shuffle(deck)"
   ]
  },
  {
   "cell_type": "markdown",
   "metadata": {},
   "source": [
    "Seria legal adaptá-la para fazer uso do duck typing. Para isto, temos que implementar um método de atribuição. Uma forma de fazer isso é em tempo de execução:"
   ]
  },
  {
   "cell_type": "code",
   "execution_count": 14,
   "metadata": {},
   "outputs": [
    {
     "data": {
      "text/plain": [
       "[Card(rank='7', suit='diamonds'),\n",
       " Card(rank='10', suit='diamonds'),\n",
       " Card(rank='4', suit='hearts'),\n",
       " Card(rank='Q', suit='diamonds'),\n",
       " Card(rank='J', suit='clubs')]"
      ]
     },
     "execution_count": 14,
     "metadata": {},
     "output_type": "execute_result"
    }
   ],
   "source": [
    "def set_card(deck, i, card):\n",
    "    deck._cards[i] = card\n",
    "\n",
    "FrenchDeck.__setitem__ = set_card\n",
    "shuffle(deck)\n",
    "deck[:5]"
   ]
  },
  {
   "cell_type": "markdown",
   "metadata": {},
   "source": [
    "Isso, de editar o código em tempo de execução, que, inclusive, pode ser feito numa sessão no console, é o monkey-patching. Nem mexemos no código-fonte, mas melhoramos a usabilidade da classe."
   ]
  }
 ],
 "metadata": {
  "kernelspec": {
   "display_name": ".venv",
   "language": "python",
   "name": "python3"
  },
  "language_info": {
   "codemirror_mode": {
    "name": "ipython",
    "version": 3
   },
   "file_extension": ".py",
   "mimetype": "text/x-python",
   "name": "python",
   "nbconvert_exporter": "python",
   "pygments_lexer": "ipython3",
   "version": "3.12.2"
  }
 },
 "nbformat": 4,
 "nbformat_minor": 2
}
