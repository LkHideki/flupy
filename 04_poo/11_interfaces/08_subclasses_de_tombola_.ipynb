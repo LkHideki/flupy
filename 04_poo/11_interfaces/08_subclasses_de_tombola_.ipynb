{
 "cells": [
  {
   "cell_type": "markdown",
   "metadata": {},
   "source": [
    "# Herdando da ABC Tombola"
   ]
  },
  {
   "cell_type": "code",
   "execution_count": 2,
   "metadata": {},
   "outputs": [],
   "source": [
    "from tombola import Tombola\n",
    "import random"
   ]
  },
  {
   "cell_type": "code",
   "execution_count": 4,
   "metadata": {},
   "outputs": [],
   "source": [
    "class Bingo(Tombola):\n",
    "    def __init__(self, itens) -> None:\n",
    "        self._mixer = random.SystemRandom()\n",
    "        self._itens = []\n",
    "        self.load(itens)\n",
    "    def load(self, itens):\n",
    "        self._itens.extend(itens)\n",
    "        self._mixer.shuffle(self._itens)\n",
    "\n",
    "    def pick(self):\n",
    "        try:\n",
    "            return self._itens.pop()\n",
    "        except IndexError:\n",
    "            raise LookupError('tentativa de escolher de uma lista vazia.')\n",
    "    def __call__(self):\n",
    "        self.pick()    "
   ]
  }
 ],
 "metadata": {
  "kernelspec": {
   "display_name": ".venv",
   "language": "python",
   "name": "python3"
  },
  "language_info": {
   "codemirror_mode": {
    "name": "ipython",
    "version": 3
   },
   "file_extension": ".py",
   "mimetype": "text/x-python",
   "name": "python",
   "nbconvert_exporter": "python",
   "pygments_lexer": "ipython3",
   "version": "3.12.2"
  }
 },
 "nbformat": 4,
 "nbformat_minor": 2
}
