{
 "cells": [
  {
   "cell_type": "markdown",
   "metadata": {},
   "source": [
    "# Herdando da ABC Tombola"
   ]
  },
  {
   "cell_type": "code",
   "execution_count": 1,
   "metadata": {},
   "outputs": [],
   "source": [
    "from tombola import Tombola\n",
    "import random"
   ]
  },
  {
   "cell_type": "code",
   "execution_count": 2,
   "metadata": {},
   "outputs": [],
   "source": [
    "class Bingo(Tombola):\n",
    "    def __init__(self, itens) -> None:\n",
    "        self._mixer = random.SystemRandom()\n",
    "        self._itens = []\n",
    "        self.load(itens)\n",
    "    def load(self, itens):\n",
    "        self._itens.extend(itens)\n",
    "        self._mixer.shuffle(self._itens)\n",
    "\n",
    "    def pick(self):\n",
    "        try:\n",
    "            return self._itens.pop()\n",
    "        except IndexError:\n",
    "            raise LookupError('tentativa de escolher de uma lista vazia.')\n",
    "    def __call__(self):\n",
    "        self.pick()    "
   ]
  },
  {
   "cell_type": "code",
   "execution_count": 3,
   "metadata": {},
   "outputs": [],
   "source": [
    "from typing import Iterable\n",
    "\n",
    "\n",
    "class Loteria(Tombola):\n",
    "    def __init__(self, iteravel):\n",
    "        self._bolas = list(iteravel)\n",
    "    def load(self, iterable: Iterable):\n",
    "        self._bolas.extend(iterable)\n",
    "    def pick(self):\n",
    "        try:\n",
    "            pos = random.randrange(len(self._bolas))\n",
    "        except ValueError:\n",
    "            raise LookupError(\"escolheu do vazio\")\n",
    "        return self._bolas.pop(pos)\n",
    "    def loaded(self) -> bool:\n",
    "        return bool(self._bolas)\n",
    "    def inspect(self):\n",
    "        return tuple(sorted(self._bolas))"
   ]
  },
  {
   "cell_type": "code",
   "execution_count": 7,
   "metadata": {},
   "outputs": [
    {
     "name": "stdout",
     "output_type": "stream",
     "text": [
      "12 9\n",
      "9 8\n",
      "11 7\n",
      "18 6\n",
      "10 5\n",
      "13 4\n",
      "16 3\n",
      "17 2\n",
      "14 1\n",
      "15 0\n"
     ]
    }
   ],
   "source": [
    "l = Loteria(range(9,19))\n",
    "while True:\n",
    "    try:\n",
    "        print(l.pick(), len(l._bolas))\n",
    "    except:\n",
    "        break"
   ]
  },
  {
   "cell_type": "code",
   "execution_count": null,
   "metadata": {},
   "outputs": [],
   "source": []
  }
 ],
 "metadata": {
  "kernelspec": {
   "display_name": ".venv",
   "language": "python",
   "name": "python3"
  },
  "language_info": {
   "codemirror_mode": {
    "name": "ipython",
    "version": 3
   },
   "file_extension": ".py",
   "mimetype": "text/x-python",
   "name": "python",
   "nbconvert_exporter": "python",
   "pygments_lexer": "ipython3",
   "version": "3.12.2"
  }
 },
 "nbformat": 4,
 "nbformat_minor": 2
}
