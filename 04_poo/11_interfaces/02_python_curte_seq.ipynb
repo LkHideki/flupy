{
 "cells": [
  {
   "cell_type": "markdown",
   "metadata": {},
   "source": [
    "# É sobre cooperação\n",
    "\n",
    "com os protocolos essenciais. Em sequências, por exemplo,"
   ]
  },
  {
   "cell_type": "code",
   "execution_count": 17,
   "metadata": {},
   "outputs": [],
   "source": [
    "class BemCrua:\n",
    "    def __getitem__(self, i):\n",
    "        return range(1, 35, 3)[i]"
   ]
  },
  {
   "cell_type": "code",
   "execution_count": 18,
   "metadata": {},
   "outputs": [
    {
     "name": "stdout",
     "output_type": "stream",
     "text": [
      "1, 4, 7, 10, 13, 16, 19, 22, 25, 28, 31, 34, "
     ]
    }
   ],
   "source": [
    "classe = BemCrua()\n",
    "for i in classe:\n",
    "    print(i, end=', ')"
   ]
  },
  {
   "cell_type": "markdown",
   "metadata": {},
   "source": [
    "Observe que o dunder getitem foi suficiente para:\n",
    "- acesso\n",
    "- iteração\n",
    "- verificação de pertinência"
   ]
  },
  {
   "cell_type": "code",
   "execution_count": 14,
   "metadata": {},
   "outputs": [
    {
     "data": {
      "text/plain": [
       "False"
      ]
     },
     "execution_count": 14,
     "metadata": {},
     "output_type": "execute_result"
    }
   ],
   "source": [
    "3 in classe"
   ]
  },
  {
   "cell_type": "code",
   "execution_count": 16,
   "metadata": {},
   "outputs": [
    {
     "data": {
      "text/plain": [
       "7"
      ]
     },
     "execution_count": 16,
     "metadata": {},
     "output_type": "execute_result"
    }
   ],
   "source": [
    "classe[2]"
   ]
  },
  {
   "cell_type": "markdown",
   "metadata": {},
   "source": [
    "Mas como o python sabe como iterar em `BemCrua` mesmo que ela não tenha o dunder iter?\n",
    "\n",
    "O python é esperto e tenta, num contexto de iteração, acessar índices inteiros começando com 0.\n",
    "\n",
    "O mesmo ocorre com o operador `in` e o dunder contains.\n",
    "\n",
    "Esse comportamento/convenção que se espera de ~~um pato~~ uma sequência é o tal do protocolo de sequência."
   ]
  }
 ],
 "metadata": {
  "kernelspec": {
   "display_name": ".venv",
   "language": "python",
   "name": "python3"
  },
  "language_info": {
   "codemirror_mode": {
    "name": "ipython",
    "version": 3
   },
   "file_extension": ".py",
   "mimetype": "text/x-python",
   "name": "python",
   "nbconvert_exporter": "python",
   "pygments_lexer": "ipython3",
   "version": "3.12.2"
  }
 },
 "nbformat": 4,
 "nbformat_minor": 2
}
