{
 "cells": [
  {
   "cell_type": "markdown",
   "metadata": {},
   "source": [
    "# Criando uma subclasse de ABC\n",
    "\n",
    "Vamos tentar implementar o baralho herdando de uma ABC."
   ]
  },
  {
   "cell_type": "code",
   "execution_count": 12,
   "metadata": {},
   "outputs": [],
   "source": [
    "import collections\n",
    "from itertools import product\n",
    "from random import sample\n",
    "\n",
    "class ExtractionException(Exception):\n",
    "    def __init__(self, message=\"Extraction failed\", errors=None) -> None:\n",
    "        super().__init__(message)\n",
    "        self.errors = errors\n",
    "\n",
    "Card = collections.namedtuple('Card', ['rank', 'suit'])\n",
    "\n",
    "class FrenchDeck(collections.abc.MutableSequence):\n",
    "    _ranks = [str(n) for n in range(2,11)] + list('JQKA')\n",
    "    _suits = 'spades diamonds clubs hearts'.split()\n",
    "    _cards = [Card(r, s) for r,s in product(_ranks, _suits)]\n",
    "    \n",
    "    def __init__(self) -> None:\n",
    "        self.cards = sample(self._cards, len(self._cards))\n",
    "        \n",
    "    def __len__(self) -> int:\n",
    "        return len(self.cards)\n",
    "    \n",
    "    def __getitem__(self, position: int) -> Card:\n",
    "        return self.cards[position]\n",
    "\n",
    "    def __repr__(self) -> str:\n",
    "        _s = \"\"\n",
    "        acc = 0\n",
    "        for c in self.cards:\n",
    "            if acc % 5 == 0: _s += '\\n'\n",
    "            else: _s += '\\t'\n",
    "            _s += c.rank + c.suit[0]\n",
    "            acc+=1\n",
    "        _s += '\\n'\n",
    "        return _s\n",
    "\n",
    "    def __bool__(self) -> bool:\n",
    "        \"\"\" Answers the question 'is this deck original'?\n",
    "        \"\"\"\n",
    "        if len(self) == len(self._cards): return True\n",
    "        return False\n",
    "\n",
    "    def pick(self, number_of_cards: int = 1) -> list[Card]:\n",
    "        \"\"\"\n",
    "        Picks a specified number of cards from the deck.\n",
    "\n",
    "        Args:\n",
    "            number_of_cards (int): The number of cards to pick from the deck. Defaults to 1.\n",
    "\n",
    "        Returns:\n",
    "            list[Card]: A list of picked cards.\n",
    "        \"\"\"\n",
    "        extractions: list[Card] = []\n",
    "        if len(self) < number_of_cards:\n",
    "            raise ExtractionException(f\"Tried to extract {number_of_cards} cards, but there are only {len(self)} cards remaining.\")\n",
    "        \n",
    "        for _ in range(number_of_cards):\n",
    "            extractions.append(self.cards.pop())\n",
    "        return extractions"
   ]
  },
  {
   "cell_type": "markdown",
   "metadata": {},
   "source": [
    "Nenhum erro em tempo de importação, mas..."
   ]
  },
  {
   "cell_type": "code",
   "execution_count": 13,
   "metadata": {},
   "outputs": [
    {
     "ename": "TypeError",
     "evalue": "Can't instantiate abstract class FrenchDeck without an implementation for abstract methods '__delitem__', '__setitem__', 'insert'",
     "output_type": "error",
     "traceback": [
      "\u001b[0;31m---------------------------------------------------------------------------\u001b[0m",
      "\u001b[0;31mTypeError\u001b[0m                                 Traceback (most recent call last)",
      "Cell \u001b[0;32mIn[13], line 1\u001b[0m\n\u001b[0;32m----> 1\u001b[0m deck \u001b[38;5;241m=\u001b[39m \u001b[43mFrenchDeck\u001b[49m\u001b[43m(\u001b[49m\u001b[43m)\u001b[49m\n",
      "\u001b[0;31mTypeError\u001b[0m: Can't instantiate abstract class FrenchDeck without an implementation for abstract methods '__delitem__', '__setitem__', 'insert'"
     ]
    }
   ],
   "source": [
    "deck = FrenchDeck()"
   ]
  },
  {
   "cell_type": "markdown",
   "metadata": {},
   "source": [
    "O python lança um erro em tempo de execução: precisamos implementar os métodos `__delitem__`, `__setitem__` e `insert`."
   ]
  },
  {
   "cell_type": "code",
   "execution_count": 18,
   "metadata": {},
   "outputs": [],
   "source": [
    "class FrenchDeck2(collections.abc.MutableSequence):\n",
    "    _ranks = [str(n) for n in range(2,11)] + list('JQKA')\n",
    "    _suits = 'spades diamonds clubs hearts'.split()\n",
    "    _cards = [Card(r, s) for r,s in product(_ranks, _suits)]\n",
    "    \n",
    "    def __init__(self) -> None:\n",
    "        self.cards = sample(self._cards, len(self._cards))\n",
    "        \n",
    "    def __len__(self) -> int:\n",
    "        return len(self.cards)\n",
    "    \n",
    "    def __getitem__(self, position: int) -> Card:\n",
    "        return self.cards[position]\n",
    "\n",
    "    def __repr__(self) -> str:\n",
    "        _s = \"\"\n",
    "        acc = 0\n",
    "        for c in self.cards:\n",
    "            if acc % 5 == 0: _s += '\\n'\n",
    "            else: _s += '\\t'\n",
    "            _s += c.rank + c.suit[0]\n",
    "            acc+=1\n",
    "        _s += '\\n'\n",
    "        return _s\n",
    "\n",
    "    def __bool__(self) -> bool:\n",
    "        \"\"\" Answers the question 'is this deck original'?\n",
    "        \"\"\"\n",
    "        if len(self) == len(self._cards): return True\n",
    "        return False\n",
    "\n",
    "    def pick(self, number_of_cards: int = 1) -> list[Card]:\n",
    "        \"\"\"\n",
    "        Picks a specified number of cards from the deck.\n",
    "\n",
    "        Args:\n",
    "            number_of_cards (int): The number of cards to pick from the deck. Defaults to 1.\n",
    "\n",
    "        Returns:\n",
    "            list[Card]: A list of picked cards.\n",
    "        \"\"\"\n",
    "        extractions: list[Card] = []\n",
    "        if len(self) < number_of_cards:\n",
    "            raise ExtractionException(f\"Tried to extract {number_of_cards} cards, but there are only {len(self)} cards remaining.\")\n",
    "        \n",
    "        for _ in range(number_of_cards):\n",
    "            extractions.append(self.cards.pop())\n",
    "        return extractions\n",
    "\n",
    "    # @abstractmethod\n",
    "    def __delitem__(self, card: Card) -> None:\n",
    "        del self.cards[self.cards.index(card)]\n",
    "\n",
    "    # @abstractmethod\n",
    "    def __setitem__(self, position: int, card: Card) -> None:\n",
    "        self.cards[position] = card\n",
    "\n",
    "    # @abstractmethod\n",
    "    def insert(self, position: int, card: Card) -> None:\n",
    "        self.cards.insert(position, card)"
   ]
  },
  {
   "cell_type": "code",
   "execution_count": 19,
   "metadata": {},
   "outputs": [],
   "source": [
    "deck = FrenchDeck2()"
   ]
  },
  {
   "cell_type": "code",
   "execution_count": 20,
   "metadata": {},
   "outputs": [
    {
     "data": {
      "text/plain": [
       "[Card(rank='J', suit='hearts'),\n",
       " Card(rank='4', suit='diamonds'),\n",
       " Card(rank='2', suit='clubs'),\n",
       " Card(rank='6', suit='hearts'),\n",
       " Card(rank='Q', suit='diamonds')]"
      ]
     },
     "execution_count": 20,
     "metadata": {},
     "output_type": "execute_result"
    }
   ],
   "source": [
    "from random import shuffle\n",
    "\n",
    "\n",
    "shuffle(deck)\n",
    "deck[:5]"
   ]
  }
 ],
 "metadata": {
  "kernelspec": {
   "display_name": ".venv",
   "language": "python",
   "name": "python3"
  },
  "language_info": {
   "codemirror_mode": {
    "name": "ipython",
    "version": 3
   },
   "file_extension": ".py",
   "mimetype": "text/x-python",
   "name": "python",
   "nbconvert_exporter": "python",
   "pygments_lexer": "ipython3",
   "version": "3.12.2"
  }
 },
 "nbformat": 4,
 "nbformat_minor": 2
}
