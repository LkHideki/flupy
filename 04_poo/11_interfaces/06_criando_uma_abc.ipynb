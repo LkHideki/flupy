{
 "cells": [
  {
   "cell_type": "markdown",
   "metadata": {},
   "source": [
    "# Definindo e usando uma ABC"
   ]
  },
  {
   "cell_type": "code",
   "execution_count": null,
   "metadata": {},
   "outputs": [],
   "source": [
    "from abc import ABC, abstractmethod\n",
    "from collections.abc import Iterable\n",
    "\n",
    "class Tombola(ABC):\n",
    "    @abstractmethod\n",
    "    def load(self, iterable: Iterable): ...\n",
    "\n",
    "    @abstractmethod\n",
    "    def pick(self): ...\n",
    "\n",
    "    def loaded(self) -> bool:\n",
    "        return bool(self.inspect())\n",
    "    def inspect(self):\n",
    "        items = []\n",
    "        while True:\n",
    "            try:\n",
    "                items.append(self.pick())\n",
    "            except LookupError:\n",
    "                break\n",
    "        self.load(items)\n",
    "        return tuple(sorted(items))"
   ]
  }
 ],
 "metadata": {
  "kernelspec": {
   "display_name": ".venv",
   "language": "python",
   "name": "python3"
  },
  "language_info": {
   "codemirror_mode": {
    "name": "ipython",
    "version": 3
   },
   "file_extension": ".py",
   "mimetype": "text/x-python",
   "name": "python",
   "nbconvert_exporter": "python",
   "pygments_lexer": "ipython3",
   "version": "3.12.2"
  }
 },
 "nbformat": 4,
 "nbformat_minor": 2
}
