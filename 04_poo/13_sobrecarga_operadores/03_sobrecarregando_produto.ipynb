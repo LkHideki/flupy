{
 "cells": [
  {
   "cell_type": "markdown",
   "metadata": {},
   "source": [
    "# Sobrecarregando o produto de vetor por escalar"
   ]
  },
  {
   "cell_type": "code",
   "execution_count": 4,
   "metadata": {},
   "outputs": [],
   "source": [
    "from array import array\n",
    "from functools import reduce\n",
    "from itertools import chain, zip_longest\n",
    "import math\n",
    "import numbers\n",
    "import operator\n",
    "import reprlib\n",
    "from typing import Any\n",
    "\n",
    "\n",
    "class Vetor:\n",
    "    typecode = \"d\"\n",
    "    shortcuts = \"xyzw\"\n",
    "\n",
    "    def __init__(self, components) -> None:\n",
    "        self._components = array(self.typecode, components)\n",
    "\n",
    "    def __iter__(self):\n",
    "        return iter(self._components)\n",
    "\n",
    "    def __repr__(self) -> str:\n",
    "        components = reprlib.repr(self._components)\n",
    "        components = components[components.find(\"[\") : -1]\n",
    "        return f\"Vetor({components})\"\n",
    "\n",
    "    def __str__(self) -> str:\n",
    "        return str(tuple(self))\n",
    "\n",
    "    def __bytes__(self) -> bytes:\n",
    "        tc = bytes([ord(self.typecode)])\n",
    "        comp = bytes(self._components)\n",
    "        return tc + comp\n",
    "\n",
    "    def __eq__(self, other) -> bool:\n",
    "        if len(self) != len(other):\n",
    "            return False\n",
    "        return all(a == b for a, b in zip(self, other))\n",
    "\n",
    "    def __hash__(self) -> int:\n",
    "        # hashes = (hash(x) for x in self._components)\n",
    "        hashes = map(hash, self._components)\n",
    "        return reduce(operator.xor, hashes, 0)\n",
    "\n",
    "    def __abs__(self) -> float:\n",
    "        return math.sqrt(sum(x * x for x in self))\n",
    "\n",
    "    def __bool__(self) -> bool:\n",
    "        return bool(abs(self))\n",
    "\n",
    "    def __len__(self) -> int:\n",
    "        return len(self._components)\n",
    "\n",
    "    def __getitem__(self, i: int):\n",
    "        cls = type(self)\n",
    "        if isinstance(i, slice):\n",
    "            return cls(self._components[i])\n",
    "        elif isinstance(i, numbers.Integral):\n",
    "            return self._components[i]\n",
    "        msg = f\"{cls.__name__}: os índices devem ser números inteiros.\"\n",
    "        raise TypeError(msg)\n",
    "\n",
    "    def __getattr__(self, attr: str):\n",
    "        cls = type(self)\n",
    "        if len(attr) == 1:\n",
    "            i = cls.shortcuts.find(attr)\n",
    "            if 0 <= i < len(self._components):\n",
    "                return self._components[i]\n",
    "        msg = f\"{cls.__name__} não tem atributo {attr}\"\n",
    "        raise AttributeError(msg)\n",
    "\n",
    "    def __setattr__(self, name, value) -> None:\n",
    "        cls = type(self)\n",
    "        if len(name) == 1:\n",
    "            error = \"\"\n",
    "            if name in cls.shortcuts:\n",
    "                error = f\"O atributo {name} é readonly.\"\n",
    "            elif name.islower():\n",
    "                error = f\"Não é possível setar atributos de a a z em {cls.__name__}\"\n",
    "\n",
    "            if error:\n",
    "                raise AttributeError(error)\n",
    "        super().__setattr__(name, value)\n",
    "\n",
    "    def angle(self, n: int):\n",
    "        r = math.sqrt(sum(x * x for x in self._components[n:]))\n",
    "        a = math.atan2(r, self[n - 1])\n",
    "        if (n == len(self) - 1) and self[-1] < 0:\n",
    "            return math.pi * 2 - a\n",
    "        return a\n",
    "\n",
    "    def angles(self):\n",
    "        return (self.angle(n) for n in range(1, len(self)))\n",
    "\n",
    "    def __format__(self, format_spec: str = \"\") -> str:\n",
    "        if format_spec.endswith(\"h\"):\n",
    "            format_spec = format_spec[:-1]\n",
    "            coords: Any = chain([abs(self)], self.angles())\n",
    "            outer_fmt = \"<{}>\"\n",
    "        else:\n",
    "            coords = self\n",
    "            outer_fmt = \"({})\"\n",
    "        components = (format(c, format_spec) for c in coords)\n",
    "        return outer_fmt.format(\", \".join(components))\n",
    "\n",
    "    def __add__(self, other):\n",
    "        try:\n",
    "            pairs = zip_longest(self._components, other._components, fillvalue=0.0)\n",
    "            return Vetor(a + b for a, b in pairs)\n",
    "        except TypeError:\n",
    "            return NotImplemented\n",
    "\n",
    "    def __radd__(self, other):\n",
    "        return self + other\n",
    "\n",
    "    def __mul__(self, scalar):\n",
    "        if isinstance(scalar, numbers.Real):\n",
    "            return Vetor(scalar * xi for xi in self)\n",
    "        return NotImplemented\n",
    "\n",
    "    def __rmul__(self, scalar):\n",
    "        return self * scalar\n",
    "    \n",
    "    @classmethod\n",
    "    def frombytes(cls, octets):\n",
    "        typecode = chr(octets[0])\n",
    "        memv = memoryview(octets[1:]).cast(typecode)\n",
    "        return cls(memv)"
   ]
  },
  {
   "cell_type": "code",
   "execution_count": 5,
   "metadata": {},
   "outputs": [
    {
     "data": {
      "text/plain": [
       "Vetor([10.0, 15.0, 20.0])"
      ]
     },
     "execution_count": 5,
     "metadata": {},
     "output_type": "execute_result"
    }
   ],
   "source": [
    "5 * Vetor([2, 3, 4])"
   ]
  },
  {
   "cell_type": "code",
   "execution_count": 6,
   "metadata": {},
   "outputs": [
    {
     "data": {
      "text/plain": [
       "Vetor([10.0, 15.0, 20.0])"
      ]
     },
     "execution_count": 6,
     "metadata": {},
     "output_type": "execute_result"
    }
   ],
   "source": [
    "Vetor([2, 3, 4]) * 5"
   ]
  },
  {
   "cell_type": "code",
   "execution_count": null,
   "metadata": {},
   "outputs": [],
   "source": []
  }
 ],
 "metadata": {
  "kernelspec": {
   "display_name": "Python 3",
   "language": "python",
   "name": "python3"
  },
  "language_info": {
   "codemirror_mode": {
    "name": "ipython",
    "version": 3
   },
   "file_extension": ".py",
   "mimetype": "text/x-python",
   "name": "python",
   "nbconvert_exporter": "python",
   "pygments_lexer": "ipython3",
   "version": "3.11.9"
  }
 },
 "nbformat": 4,
 "nbformat_minor": 2
}
