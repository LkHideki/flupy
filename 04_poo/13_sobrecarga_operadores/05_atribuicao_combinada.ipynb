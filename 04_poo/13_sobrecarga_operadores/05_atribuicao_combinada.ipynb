{
 "cells": [
  {
   "cell_type": "markdown",
   "metadata": {},
   "source": [
    "# São só açúcar sintático\n",
    "\n",
    "Porque `a += b` é exatamente `a = a + b`.\n",
    "\n",
    "A não ser que você mude este comportamento."
   ]
  },
  {
   "cell_type": "code",
   "execution_count": 15,
   "metadata": {},
   "outputs": [],
   "source": [
    "import numbers\n",
    "\n",
    "\n",
    "class Reais(float):\n",
    "    def __init__(self, qtd: numbers.Real):\n",
    "        self.qtd = abs(qtd)\n",
    "    def __add__(self, other):\n",
    "        return Reais(self.qtd + other.qtd)\n",
    "    def __iadd__(self, other):\n",
    "        print(\"O i foi do iof\")\n",
    "        return Reais((self.qtd + other.qtd) * 0.8)\n",
    "    def __repr__(self) -> str:\n",
    "        return f'R$ {self.qtd:.2f}'.replace(\".\", \",\")"
   ]
  },
  {
   "cell_type": "code",
   "execution_count": 16,
   "metadata": {},
   "outputs": [
    {
     "data": {
      "text/plain": [
       "R$ 100,00"
      ]
     },
     "execution_count": 16,
     "metadata": {},
     "output_type": "execute_result"
    }
   ],
   "source": [
    "x = Reais(60)\n",
    "y = Reais(40)\n",
    "\n",
    "x+y"
   ]
  },
  {
   "cell_type": "code",
   "execution_count": 17,
   "metadata": {},
   "outputs": [
    {
     "name": "stdout",
     "output_type": "stream",
     "text": [
      "O i foi do iof\n"
     ]
    },
    {
     "data": {
      "text/plain": [
       "R$ 80,00"
      ]
     },
     "execution_count": 17,
     "metadata": {},
     "output_type": "execute_result"
    }
   ],
   "source": [
    "x += y\n",
    "x"
   ]
  },
  {
   "cell_type": "markdown",
   "metadata": {},
   "source": [
    "Ah, o livro sugere não implementar `+=` e os outros métodos in-place para tipos imutáveis."
   ]
  }
 ],
 "metadata": {
  "kernelspec": {
   "display_name": ".venv",
   "language": "python",
   "name": "python3"
  },
  "language_info": {
   "codemirror_mode": {
    "name": "ipython",
    "version": 3
   },
   "file_extension": ".py",
   "mimetype": "text/x-python",
   "name": "python",
   "nbconvert_exporter": "python",
   "pygments_lexer": "ipython3",
   "version": "3.12.2"
  }
 },
 "nbformat": 4,
 "nbformat_minor": 2
}
