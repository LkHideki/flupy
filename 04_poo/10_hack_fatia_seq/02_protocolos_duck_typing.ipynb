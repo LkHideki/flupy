{
 "cells": [
  {
   "cell_type": "markdown",
   "metadata": {},
   "source": [
    "# Protocolos e duck typing\n",
    "\n",
    "Protocolo é uma interface informal, não é imposta e é definida só na documentação, não no código.\n",
    "\n",
    "Uma classe que tem os métodos len e getitem é uma sequência, porque se comporta como uma. Isto é duck typing."
   ]
  },
  {
   "cell_type": "code",
   "execution_count": null,
   "metadata": {},
   "outputs": [],
   "source": []
  }
 ],
 "metadata": {
  "language_info": {
   "name": "python"
  }
 },
 "nbformat": 4,
 "nbformat_minor": 2
}
