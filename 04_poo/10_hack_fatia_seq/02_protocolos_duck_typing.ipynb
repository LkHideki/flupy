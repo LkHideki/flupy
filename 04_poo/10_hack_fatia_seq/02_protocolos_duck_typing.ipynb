{
 "cells": [
  {
   "cell_type": "markdown",
   "metadata": {},
   "source": [
    "# Protocolos e duck typing\n",
    "\n",
    "Protocolo é uma interface informal, não é imposta e é definida só na documentação, não no código.\n",
    "\n",
    "Uma classe que tem os métodos len e getitem é uma sequência, porque se comporta como uma. Isto é duck typing."
   ]
  },
  {
   "cell_type": "code",
   "execution_count": 17,
   "metadata": {},
   "outputs": [
    {
     "name": "stdout",
     "output_type": "stream",
     "text": [
      "b, l, e, b, l, e, "
     ]
    }
   ],
   "source": [
    "class Blabla:\n",
    "    def __init__(self, args):\n",
    "        self.args = args\n",
    "    def __len__(self):\n",
    "        return len(self.args)\n",
    "    def __getitem__(self, i):\n",
    "        return self.args[i]\n",
    "\n",
    "x = Blabla('bleble')\n",
    "for i in range(len(x)):\n",
    "    print(x[i], end=', ')"
   ]
  },
  {
   "cell_type": "code",
   "execution_count": 18,
   "metadata": {},
   "outputs": [
    {
     "name": "stdout",
     "output_type": "stream",
     "text": [
      "0, 1, 2, 3, 4, 5, 6, 7, 8, 9, "
     ]
    }
   ],
   "source": [
    "x = Blabla(tuple(range(10)))\n",
    "for i in range(len(x)):\n",
    "    print(x[i], end=', ')"
   ]
  },
  {
   "cell_type": "markdown",
   "metadata": {},
   "source": [
    "podemos implementar apenas parte do protocolo de sequência como abaixo, em que implementamos apenas o dunder getitem e controlamos a parada dentro de um bloco `except`:"
   ]
  },
  {
   "cell_type": "code",
   "execution_count": 24,
   "metadata": {},
   "outputs": [],
   "source": [
    "class Blibli:\n",
    "    def __init__(self, args):\n",
    "        self.args = args\n",
    "    def __getitem__(self, i):\n",
    "        return self.args[i]"
   ]
  },
  {
   "cell_type": "code",
   "execution_count": 25,
   "metadata": {},
   "outputs": [
    {
     "name": "stdout",
     "output_type": "stream",
     "text": [
      "b, l, o, b, l, o, \n",
      "\n",
      "A instância tem comprimento 6\n"
     ]
    }
   ],
   "source": [
    "x = Blibli('bloblo')\n",
    "\n",
    "i = 0\n",
    "while True:\n",
    "    try:\n",
    "        print(x[i], end=', ')\n",
    "    except IndexError:\n",
    "        break\n",
    "    i += 1\n",
    "\n",
    "print(f\"\\n\\nA instância tem comprimento {i}\")"
   ]
  },
  {
   "cell_type": "code",
   "execution_count": null,
   "metadata": {},
   "outputs": [],
   "source": []
  }
 ],
 "metadata": {
  "kernelspec": {
   "display_name": ".venv",
   "language": "python",
   "name": "python3"
  },
  "language_info": {
   "codemirror_mode": {
    "name": "ipython",
    "version": 3
   },
   "file_extension": ".py",
   "mimetype": "text/x-python",
   "name": "python",
   "nbconvert_exporter": "python",
   "pygments_lexer": "ipython3",
   "version": "3.12.2"
  }
 },
 "nbformat": 4,
 "nbformat_minor": 2
}
