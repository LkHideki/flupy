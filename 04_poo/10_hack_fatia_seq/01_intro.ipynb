{
 "cells": [
  {
   "cell_type": "markdown",
   "metadata": {},
   "source": [
    "# Hackeando e fatiando sequências\n",
    "\n",
    "> Não verifique se é um pato: verifique se faz quack como um pato, anda como um pato, etc [...]\n",
    "\n",
    "ou seja, verifique os axiomas de pato.\n",
    "\n",
    "Neste capítulo será criada uma classe Vetor multidimensional.\n",
    "\n",
    "A estratégia é usar composição (e não herança)."
   ]
  },
  {
   "cell_type": "markdown",
   "metadata": {},
   "source": [
    "## Esquema de uma primeira versão\n",
    "\n",
    "Deve ser condizente com a classe criada em capítulos anteriores."
   ]
  },
  {
   "cell_type": "code",
   "execution_count": 1,
   "metadata": {},
   "outputs": [],
   "source": [
    "from array import array\n",
    "import reprlib\n",
    "import math\n",
    "\n",
    "\n",
    "class Vetor:\n",
    "    typecode = \"d\"\n",
    "\n",
    "    def __init__(self, components) -> None:\n",
    "        self._components = array(self.typecode, components)\n",
    "\n",
    "    def __iter__(self):\n",
    "        return iter(self._components)\n",
    "\n",
    "    def __repr__(self) -> str:\n",
    "        components = reprlib.repr(self._components)\n",
    "        components = components[components.find(\"[\") : -1]\n",
    "        return f\"Vetor({components})\"\n",
    "\n",
    "    def __str__(self) -> str:\n",
    "        return str(tuple(self))\n",
    "\n",
    "    def __bytes__(self) -> bytes:\n",
    "        tc = bytes([ord(self.typecode)])\n",
    "        comp = bytes(self._components)\n",
    "        return tc + comp\n",
    "\n",
    "    def __eq__(self, value: object) -> bool:\n",
    "        return tuple(self) == tuple(value)\n",
    "\n",
    "    def __abs__(self) -> float:\n",
    "        return math.sqrt(sum(x * x for x in self))\n",
    "\n",
    "    def __bool__(self) -> bool:\n",
    "        return bool(abs(self))\n",
    "\n",
    "    @classmethod\n",
    "    def frombytes(cls, octets):\n",
    "        typecode = chr(octets[0])\n",
    "        memv = memoryview(octets[1:]).cast(typecode)\n",
    "        return cls(memv)"
   ]
  },
  {
   "cell_type": "markdown",
   "metadata": {},
   "source": [
    "vou expor a classe `Vetor` no arquivo zero desta pasta de modo que seja possível importar as versões nos módulos correspondentes."
   ]
  },
  {
   "cell_type": "code",
   "execution_count": 2,
   "metadata": {},
   "outputs": [],
   "source": [
    "from zero import Tomada1"
   ]
  },
  {
   "cell_type": "code",
   "execution_count": 3,
   "metadata": {},
   "outputs": [
    {
     "data": {
      "text/plain": [
       "Vetor([3.0, 4.0, 5.0])"
      ]
     },
     "execution_count": 3,
     "metadata": {},
     "output_type": "execute_result"
    }
   ],
   "source": [
    "Tomada1.Vetor([3, 4, 5])"
   ]
  }
 ],
 "metadata": {
  "kernelspec": {
   "display_name": ".venv",
   "language": "python",
   "name": "python3"
  },
  "language_info": {
   "codemirror_mode": {
    "name": "ipython",
    "version": 3
   },
   "file_extension": ".py",
   "mimetype": "text/x-python",
   "name": "python",
   "nbconvert_exporter": "python",
   "pygments_lexer": "ipython3",
   "version": "3.12.2"
  }
 },
 "nbformat": 4,
 "nbformat_minor": 2
}
