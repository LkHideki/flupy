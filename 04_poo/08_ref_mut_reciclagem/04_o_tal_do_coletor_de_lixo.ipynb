{
 "cells": [
  {
   "cell_type": "markdown",
   "metadata": {},
   "source": [
    "# `del` e a coleta de lixo\n",
    "\n",
    "O coletor de lixo do python é quem destroi objetos.\n",
    "\n",
    "A palavra reservada `del` apaga nomes. Se nenhum nome aponta para um valor, o coletor pode verificar esta situação e destruí-lo por ser inacessível.\n",
    "\n",
    "Se `a` referencia `b` e vice-versa, o coletor pode apagar as duas no caso de ser apenas referência mútua."
   ]
  },
  {
   "cell_type": "code",
   "execution_count": null,
   "metadata": {},
   "outputs": [],
   "source": []
  }
 ],
 "metadata": {
  "language_info": {
   "name": "python"
  }
 },
 "nbformat": 4,
 "nbformat_minor": 2
}
