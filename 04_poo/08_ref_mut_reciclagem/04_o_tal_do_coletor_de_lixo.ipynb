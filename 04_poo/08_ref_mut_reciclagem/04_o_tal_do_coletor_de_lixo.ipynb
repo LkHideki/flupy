{
 "cells": [
  {
   "cell_type": "markdown",
   "metadata": {},
   "source": [
    "# `del` e a coleta de lixo\n",
    "\n",
    "O coletor de lixo do python é quem destroi objetos.\n",
    "\n",
    "A palavra reservada `del` apaga nomes. Se nenhum nome aponta para um valor, o coletor pode verificar esta situação e destruí-lo por ser inacessível.\n",
    "\n",
    "Se `a` referencia `b` e vice-versa, o coletor pode apagar as duas no caso de ser apenas referência mútua."
   ]
  },
  {
   "cell_type": "markdown",
   "metadata": {},
   "source": [
    "Abaixo, usaremos a `weakref` para criar uma referência fraca e não deixar o coletor de lixo destruir o conjunto:"
   ]
  },
  {
   "cell_type": "code",
   "execution_count": 4,
   "metadata": {},
   "outputs": [
    {
     "name": "stdout",
     "output_type": "stream",
     "text": [
      "tchau antes de sair ne\n"
     ]
    },
    {
     "data": {
      "text/plain": [
       "True"
      ]
     },
     "execution_count": 4,
     "metadata": {},
     "output_type": "execute_result"
    }
   ],
   "source": [
    "import weakref\n",
    "\n",
    "s1 = {1, 2, 3}\n",
    "s2 = s1\n",
    "\n",
    "def fala_tchau_antes_de_sair_ne():\n",
    "    print(\"tchau antes de sair ne\")\n",
    "\n",
    "executor = weakref.finalize(s1, fala_tchau_antes_de_sair_ne)\n",
    "executor.alive"
   ]
  },
  {
   "cell_type": "code",
   "execution_count": 5,
   "metadata": {},
   "outputs": [
    {
     "data": {
      "text/plain": [
       "True"
      ]
     },
     "execution_count": 5,
     "metadata": {},
     "output_type": "execute_result"
    }
   ],
   "source": [
    "del s1\n",
    "executor.alive"
   ]
  },
  {
   "cell_type": "code",
   "execution_count": 6,
   "metadata": {},
   "outputs": [
    {
     "name": "stdout",
     "output_type": "stream",
     "text": [
      "tchau antes de sair ne\n"
     ]
    }
   ],
   "source": [
    "del s2"
   ]
  },
  {
   "cell_type": "markdown",
   "metadata": {},
   "source": [
    "## Na verdade\n",
    "\n",
    "nem é preciso deletar o nome; basta que não tenha nada apontando para o objeto e..."
   ]
  },
  {
   "cell_type": "code",
   "execution_count": 8,
   "metadata": {},
   "outputs": [
    {
     "data": {
      "text/plain": [
       "True"
      ]
     },
     "execution_count": 8,
     "metadata": {},
     "output_type": "execute_result"
    }
   ],
   "source": [
    "s3 = {1, 2, 3}\n",
    "\n",
    "executor2 = weakref.finalize(s3, fala_tchau_antes_de_sair_ne)\n",
    "executor2.alive"
   ]
  },
  {
   "cell_type": "code",
   "execution_count": 9,
   "metadata": {},
   "outputs": [
    {
     "name": "stdout",
     "output_type": "stream",
     "text": [
      "tchau antes de sair ne\n"
     ]
    }
   ],
   "source": [
    "s3 = 'outra coisa completamente diferente'"
   ]
  },
  {
   "cell_type": "markdown",
   "metadata": {},
   "source": [
    "Isto é bem interessante! Ao destruir um objeto a callback engatilhada é invocada."
   ]
  }
 ],
 "metadata": {
  "kernelspec": {
   "display_name": ".venv",
   "language": "python",
   "name": "python3"
  },
  "language_info": {
   "codemirror_mode": {
    "name": "ipython",
    "version": 3
   },
   "file_extension": ".py",
   "mimetype": "text/x-python",
   "name": "python",
   "nbconvert_exporter": "python",
   "pygments_lexer": "ipython3",
   "version": "3.12.2"
  }
 },
 "nbformat": 4,
 "nbformat_minor": 2
}
