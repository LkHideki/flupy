{
 "cells": [
  {
   "cell_type": "markdown",
   "metadata": {},
   "source": [
    "# Parâmetros (de função) como referências\n",
    "\n",
    "Os parâmetros de uma função são apelidos dos argumentos."
   ]
  },
  {
   "cell_type": "markdown",
   "metadata": {},
   "source": [
    "Uma função pode alterar qualquer objeto mutável passado como parâmetro, mas não pode mudar a identidade dele."
   ]
  },
  {
   "cell_type": "code",
   "execution_count": 1,
   "metadata": {},
   "outputs": [],
   "source": [
    "def f(a,b):\n",
    "    a+=b\n",
    "    return a"
   ]
  },
  {
   "cell_type": "markdown",
   "metadata": {},
   "source": [
    "passando objetos imutáveis..."
   ]
  },
  {
   "cell_type": "code",
   "execution_count": 2,
   "metadata": {},
   "outputs": [
    {
     "data": {
      "text/plain": [
       "(1, 2)"
      ]
     },
     "execution_count": 2,
     "metadata": {},
     "output_type": "execute_result"
    }
   ],
   "source": [
    "a, b = 1, 2\n",
    "f(a, b)\n",
    "a, b"
   ]
  },
  {
   "cell_type": "markdown",
   "metadata": {},
   "source": [
    "passando objetos mutáveis..."
   ]
  },
  {
   "cell_type": "code",
   "execution_count": 3,
   "metadata": {},
   "outputs": [
    {
     "data": {
      "text/plain": [
       "([1, 2], [2])"
      ]
     },
     "execution_count": 3,
     "metadata": {},
     "output_type": "execute_result"
    }
   ],
   "source": [
    "a, b = [1], [2]\n",
    "f(a, b)\n",
    "a, b"
   ]
  },
  {
   "cell_type": "markdown",
   "metadata": {},
   "source": [
    "## Tipos mutáveis como default: exemplo do `HauntedBus`"
   ]
  },
  {
   "cell_type": "code",
   "execution_count": 4,
   "metadata": {},
   "outputs": [],
   "source": [
    "class OnibusAssombrado:\n",
    "    def __init__(self, passageiros=[]) -> None:\n",
    "        self.passageiros = passageiros\n",
    "    def pegue(self, nome):\n",
    "        self.passageiros.append(nome)\n",
    "    def deixe(self, nome):\n",
    "        self.passageiros.remove(nome)\n",
    "    def __repr__(self) -> str:\n",
    "        return '\\n'.join(self.passageiros)"
   ]
  },
  {
   "cell_type": "code",
   "execution_count": 5,
   "metadata": {},
   "outputs": [
    {
     "data": {
      "text/plain": [
       "alice\n",
       "beto"
      ]
     },
     "execution_count": 5,
     "metadata": {},
     "output_type": "execute_result"
    }
   ],
   "source": [
    "bus1 = OnibusAssombrado(['alice', 'beto'])\n",
    "bus1"
   ]
  },
  {
   "cell_type": "code",
   "execution_count": 6,
   "metadata": {},
   "outputs": [
    {
     "data": {
      "text/plain": [
       "beto\n",
       "carlos"
      ]
     },
     "execution_count": 6,
     "metadata": {},
     "output_type": "execute_result"
    }
   ],
   "source": [
    "bus1.pegue('carlos')\n",
    "bus1.deixe('alice')\n",
    "bus1"
   ]
  },
  {
   "cell_type": "code",
   "execution_count": 7,
   "metadata": {},
   "outputs": [
    {
     "data": {
      "text/plain": [
       "carla"
      ]
     },
     "execution_count": 7,
     "metadata": {},
     "output_type": "execute_result"
    }
   ],
   "source": [
    "bus2 = OnibusAssombrado()\n",
    "bus2.pegue('carla')\n",
    "bus2"
   ]
  },
  {
   "cell_type": "code",
   "execution_count": 8,
   "metadata": {},
   "outputs": [
    {
     "data": {
      "text/plain": [
       "carla"
      ]
     },
     "execution_count": 8,
     "metadata": {},
     "output_type": "execute_result"
    }
   ],
   "source": [
    "bus3 = OnibusAssombrado()\n",
    "bus3"
   ]
  },
  {
   "cell_type": "markdown",
   "metadata": {},
   "source": [
    "\"Ué, como a carla está no `bus3` ????\""
   ]
  },
  {
   "cell_type": "markdown",
   "metadata": {},
   "source": [
    "## ... péssima ideia\n",
    "\n",
    "As listas default de bus2 e bus3 compartilham o mesmo objeto.\n",
    "\n",
    "O bug ocorre quando instaciamos usando o argumento default, porque a classe é construída em tempo de importação (quando o módulo é carregado)."
   ]
  },
  {
   "cell_type": "markdown",
   "metadata": {},
   "source": [
    "## Tentando contornar..."
   ]
  },
  {
   "cell_type": "code",
   "execution_count": 9,
   "metadata": {},
   "outputs": [],
   "source": [
    "from copy import copy\n",
    "\n",
    "\n",
    "class OnibusAssombrado:\n",
    "    def __init__(self, passageiros=copy(list())) -> None:\n",
    "        self.passageiros = passageiros\n",
    "    def pegue(self, nome):\n",
    "        self.passageiros.append(nome)\n",
    "    def deixe(self, nome):\n",
    "        self.passageiros.remove(nome)\n",
    "    def __repr__(self) -> str:\n",
    "        return '\\n'.join(self.passageiros)"
   ]
  },
  {
   "cell_type": "code",
   "execution_count": 10,
   "metadata": {},
   "outputs": [
    {
     "data": {
      "text/plain": [
       "carla"
      ]
     },
     "execution_count": 10,
     "metadata": {},
     "output_type": "execute_result"
    }
   ],
   "source": [
    "bus4 = OnibusAssombrado()\n",
    "bus4.pegue('carla')\n",
    "bus4"
   ]
  },
  {
   "cell_type": "code",
   "execution_count": 11,
   "metadata": {},
   "outputs": [
    {
     "data": {
      "text/plain": [
       "carla"
      ]
     },
     "execution_count": 11,
     "metadata": {},
     "output_type": "execute_result"
    }
   ],
   "source": [
    "bus5 = OnibusAssombrado()\n",
    "bus5"
   ]
  },
  {
   "cell_type": "markdown",
   "metadata": {},
   "source": [
    "É, não deu."
   ]
  },
  {
   "cell_type": "markdown",
   "metadata": {},
   "source": [
    "# Programação defensiva com parâmetros mutáveis"
   ]
  },
  {
   "cell_type": "code",
   "execution_count": 13,
   "metadata": {},
   "outputs": [],
   "source": [
    "class MinhaLista:\n",
    "    def __init__(self, lista=None) -> None:\n",
    "        if lista is None:\n",
    "            self.lista = []\n",
    "        else:\n",
    "            self.lista = lista\n",
    "    def anexe(self, item) -> None:\n",
    "        self.lista.append(item)\n",
    "    def retire(self, item) -> None:\n",
    "        self.lista.remove(item)"
   ]
  },
  {
   "cell_type": "code",
   "execution_count": 14,
   "metadata": {},
   "outputs": [
    {
     "data": {
      "text/plain": [
       "[2, 4, 6, 0]"
      ]
     },
     "execution_count": 14,
     "metadata": {},
     "output_type": "execute_result"
    }
   ],
   "source": [
    "lista_original = [2, 4, 6]\n",
    "\n",
    "ml = MinhaLista(lista_original)\n",
    "ml.anexe(0)\n",
    "\n",
    "lista_original"
   ]
  },
  {
   "cell_type": "markdown",
   "metadata": {},
   "source": [
    "Não era pra afetar a lista original, era?"
   ]
  },
  {
   "cell_type": "code",
   "execution_count": 19,
   "metadata": {},
   "outputs": [],
   "source": [
    "class MinhaListaSegura:\n",
    "    def __init__(self, lista: list | None = None) -> None:\n",
    "        if lista is None:\n",
    "            self.lista = []\n",
    "        else:\n",
    "            self.lista = list(lista)\n",
    "    def anexe(self, item) -> None:\n",
    "        self.lista.append(item)\n",
    "    def retire(self, item) -> None:\n",
    "        self.lista.remove(item)"
   ]
  },
  {
   "cell_type": "code",
   "execution_count": 20,
   "metadata": {},
   "outputs": [
    {
     "data": {
      "text/plain": [
       "[2, 4, 6, 0]"
      ]
     },
     "execution_count": 20,
     "metadata": {},
     "output_type": "execute_result"
    }
   ],
   "source": [
    "mls = MinhaListaSegura(lista_original)\n",
    "mls.anexe(99)\n",
    "\n",
    "lista_original"
   ]
  },
  {
   "cell_type": "code",
   "execution_count": 21,
   "metadata": {},
   "outputs": [
    {
     "data": {
      "text/plain": [
       "[2, 4, 6, 0, 99]"
      ]
     },
     "execution_count": 21,
     "metadata": {},
     "output_type": "execute_result"
    }
   ],
   "source": [
    "mls.lista"
   ]
  },
  {
   "cell_type": "markdown",
   "metadata": {},
   "source": [
    "funcionou! Tá, só mais um teste..."
   ]
  },
  {
   "cell_type": "code",
   "execution_count": 22,
   "metadata": {},
   "outputs": [
    {
     "data": {
      "text/plain": [
       "[]"
      ]
     },
     "execution_count": 22,
     "metadata": {},
     "output_type": "execute_result"
    }
   ],
   "source": [
    "mls1 = MinhaListaSegura()\n",
    "mls2 = MinhaListaSegura()\n",
    "\n",
    "mls1.anexe(199)\n",
    "mls2.lista"
   ]
  },
  {
   "cell_type": "markdown",
   "metadata": {},
   "source": [
    "ok, deu tudo certo.\n",
    "\n",
    "> Na dúvida, faça uma cópia.\n",
    "\n",
    "Bom conselho."
   ]
  }
 ],
 "metadata": {
  "kernelspec": {
   "display_name": ".venv",
   "language": "python",
   "name": "python3"
  },
  "language_info": {
   "codemirror_mode": {
    "name": "ipython",
    "version": 3
   },
   "file_extension": ".py",
   "mimetype": "text/x-python",
   "name": "python",
   "nbconvert_exporter": "python",
   "pygments_lexer": "ipython3",
   "version": "3.12.2"
  }
 },
 "nbformat": 4,
 "nbformat_minor": 2
}
