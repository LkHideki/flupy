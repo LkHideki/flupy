{
 "cells": [
  {
   "cell_type": "markdown",
   "metadata": {},
   "source": [
    "# Parâmetros (de função) como referências\n",
    "\n",
    "Os parâmetros de uma função são apelidos dos argumentos."
   ]
  },
  {
   "cell_type": "markdown",
   "metadata": {},
   "source": [
    "Uma função pode alterar qualquer objeto mutável passado como parâmetro, mas não pode mudar a identidade dele."
   ]
  },
  {
   "cell_type": "code",
   "execution_count": 27,
   "metadata": {},
   "outputs": [],
   "source": [
    "def f(a,b):\n",
    "    a+=b\n",
    "    return a"
   ]
  },
  {
   "cell_type": "markdown",
   "metadata": {},
   "source": [
    "passando objetos imutáveis..."
   ]
  },
  {
   "cell_type": "code",
   "execution_count": 28,
   "metadata": {},
   "outputs": [
    {
     "data": {
      "text/plain": [
       "(1, 2)"
      ]
     },
     "execution_count": 28,
     "metadata": {},
     "output_type": "execute_result"
    }
   ],
   "source": [
    "a, b = 1, 2\n",
    "f(a, b)\n",
    "a, b"
   ]
  },
  {
   "cell_type": "markdown",
   "metadata": {},
   "source": [
    "passando objetos mutáveis..."
   ]
  },
  {
   "cell_type": "code",
   "execution_count": 29,
   "metadata": {},
   "outputs": [
    {
     "data": {
      "text/plain": [
       "([1, 2], [2])"
      ]
     },
     "execution_count": 29,
     "metadata": {},
     "output_type": "execute_result"
    }
   ],
   "source": [
    "a, b = [1], [2]\n",
    "f(a, b)\n",
    "a, b"
   ]
  },
  {
   "cell_type": "markdown",
   "metadata": {},
   "source": [
    "## Tipos mutáveis como default: exemplo do `HauntedBus`"
   ]
  },
  {
   "cell_type": "code",
   "execution_count": 35,
   "metadata": {},
   "outputs": [],
   "source": [
    "class OnibusAssombrado:\n",
    "    def __init__(self, passageiros=[]) -> None:\n",
    "        self.passageiros = passageiros\n",
    "    def pegue(self, nome):\n",
    "        self.passageiros.append(nome)\n",
    "    def deixe(self, nome):\n",
    "        self.passageiros.remove(nome)\n",
    "    def __repr__(self) -> str:\n",
    "        return '\\n'.join(self.passageiros)"
   ]
  },
  {
   "cell_type": "code",
   "execution_count": 31,
   "metadata": {},
   "outputs": [
    {
     "data": {
      "text/plain": [
       "alice\n",
       "beto"
      ]
     },
     "execution_count": 31,
     "metadata": {},
     "output_type": "execute_result"
    }
   ],
   "source": [
    "bus1 = OnibusAssombrado(['alice', 'beto'])\n",
    "bus1"
   ]
  },
  {
   "cell_type": "code",
   "execution_count": 32,
   "metadata": {},
   "outputs": [
    {
     "data": {
      "text/plain": [
       "beto\n",
       "carlos"
      ]
     },
     "execution_count": 32,
     "metadata": {},
     "output_type": "execute_result"
    }
   ],
   "source": [
    "bus1.pegue('carlos')\n",
    "bus1.deixe('alice')\n",
    "bus1"
   ]
  },
  {
   "cell_type": "code",
   "execution_count": 36,
   "metadata": {},
   "outputs": [
    {
     "data": {
      "text/plain": [
       "carla"
      ]
     },
     "execution_count": 36,
     "metadata": {},
     "output_type": "execute_result"
    }
   ],
   "source": [
    "bus2 = OnibusAssombrado()\n",
    "bus2.pegue('carla')\n",
    "bus2"
   ]
  },
  {
   "cell_type": "code",
   "execution_count": 37,
   "metadata": {},
   "outputs": [
    {
     "data": {
      "text/plain": [
       "carla"
      ]
     },
     "execution_count": 37,
     "metadata": {},
     "output_type": "execute_result"
    }
   ],
   "source": [
    "bus3 = OnibusAssombrado()\n",
    "bus3"
   ]
  },
  {
   "cell_type": "markdown",
   "metadata": {},
   "source": [
    "\"Ué, como a carla está no `bus3` ????\""
   ]
  },
  {
   "cell_type": "markdown",
   "metadata": {},
   "source": [
    "## ... péssima ideia\n",
    "\n",
    "As listas default de bus2 e bus3 compartilham o mesmo objeto.\n",
    "\n",
    "O bug ocorre quando instaciamos usando o argumento default, porque a classe é construída em tempo de importação (quando o módulo é carregado)."
   ]
  },
  {
   "cell_type": "markdown",
   "metadata": {},
   "source": [
    "## Tentando contornar..."
   ]
  },
  {
   "cell_type": "code",
   "execution_count": 43,
   "metadata": {},
   "outputs": [],
   "source": [
    "from copy import copy\n",
    "\n",
    "\n",
    "class OnibusAssombrado:\n",
    "    def __init__(self, passageiros=copy(list())) -> None:\n",
    "        self.passageiros = passageiros\n",
    "    def pegue(self, nome):\n",
    "        self.passageiros.append(nome)\n",
    "    def deixe(self, nome):\n",
    "        self.passageiros.remove(nome)\n",
    "    def __repr__(self) -> str:\n",
    "        return '\\n'.join(self.passageiros)"
   ]
  },
  {
   "cell_type": "code",
   "execution_count": 44,
   "metadata": {},
   "outputs": [
    {
     "data": {
      "text/plain": [
       "carla"
      ]
     },
     "execution_count": 44,
     "metadata": {},
     "output_type": "execute_result"
    }
   ],
   "source": [
    "bus4 = OnibusAssombrado()\n",
    "bus4.pegue('carla')\n",
    "bus4"
   ]
  },
  {
   "cell_type": "code",
   "execution_count": 45,
   "metadata": {},
   "outputs": [
    {
     "data": {
      "text/plain": [
       "carla"
      ]
     },
     "execution_count": 45,
     "metadata": {},
     "output_type": "execute_result"
    }
   ],
   "source": [
    "bus5 = OnibusAssombrado()\n",
    "bus5"
   ]
  },
  {
   "cell_type": "markdown",
   "metadata": {},
   "source": [
    "É, não deu."
   ]
  }
 ],
 "metadata": {
  "kernelspec": {
   "display_name": ".venv",
   "language": "python",
   "name": "python3"
  },
  "language_info": {
   "codemirror_mode": {
    "name": "ipython",
    "version": 3
   },
   "file_extension": ".py",
   "mimetype": "text/x-python",
   "name": "python",
   "nbconvert_exporter": "python",
   "pygments_lexer": "ipython3",
   "version": "3.12.2"
  }
 },
 "nbformat": 4,
 "nbformat_minor": 2
}
