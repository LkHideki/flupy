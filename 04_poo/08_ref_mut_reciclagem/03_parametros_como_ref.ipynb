{
 "cells": [
  {
   "cell_type": "markdown",
   "metadata": {},
   "source": [
    "# Parâmetros (de função) como referências\n",
    "\n",
    "Os parâmetros de uma função são apelidos dos argumentos."
   ]
  },
  {
   "cell_type": "markdown",
   "metadata": {},
   "source": [
    "Uma função pode alterar qualquer objeto mutável passado como parâmetro, mas não pode mudar a identidade dele."
   ]
  }
 ],
 "metadata": {
  "language_info": {
   "name": "python"
  }
 },
 "nbformat": 4,
 "nbformat_minor": 2
}
