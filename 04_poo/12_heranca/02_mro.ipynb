{
 "cells": [
  {
   "cell_type": "markdown",
   "metadata": {},
   "source": [
    "# O problema do losango (diamond problem)\n",
    "\n",
    "Temos uma classe A.\n",
    "\n",
    "Temos uma classe B que herda de A e uma classe C que também herda de A.\n",
    "\n",
    "Temos uma classe D que herda de B e C."
   ]
  },
  {
   "cell_type": "code",
   "execution_count": 4,
   "metadata": {},
   "outputs": [],
   "source": [
    "class A:\n",
    "    def ping(self): print('ping:', self)\n",
    "\n",
    "class B(A):\n",
    "    def pong(self): print('pong:', self)\n",
    "    def intermediario(self): print(\"B\")\n",
    "\n",
    "class C(A):\n",
    "    def pong(self): print('pong:', self)\n",
    "    def intermediario(self): print(\"C\")\n",
    "\n",
    "class D(B, C):\n",
    "    def ping(self):\n",
    "        super().ping()\n",
    "        print('post-ping:', self)\n",
    "    def pingpong(self):\n",
    "        self.ping()\n",
    "        super().ping()\n",
    "        self.pong()\n",
    "        super().pong()\n",
    "        C.pong(self)"
   ]
  },
  {
   "cell_type": "code",
   "execution_count": 5,
   "metadata": {},
   "outputs": [
    {
     "name": "stdout",
     "output_type": "stream",
     "text": [
      "ping: <__main__.D object at 0x1092f2360>\n",
      "post-ping: <__main__.D object at 0x1092f2360>\n",
      "ping: <__main__.D object at 0x1092f2360>\n",
      "pong: <__main__.D object at 0x1092f2360>\n",
      "pong: <__main__.D object at 0x1092f2360>\n",
      "pong: <__main__.D object at 0x1092f2360>\n"
     ]
    }
   ],
   "source": [
    "D().pingpong()"
   ]
  },
  {
   "cell_type": "code",
   "execution_count": 6,
   "metadata": {},
   "outputs": [
    {
     "name": "stdout",
     "output_type": "stream",
     "text": [
      "B\n"
     ]
    }
   ],
   "source": [
    "D().intermediario()"
   ]
  },
  {
   "cell_type": "markdown",
   "metadata": {},
   "source": [
    "observe que a MRO leva em conta a *ordem* da classe herdada na declaração da derivada."
   ]
  }
 ],
 "metadata": {
  "kernelspec": {
   "display_name": ".venv",
   "language": "python",
   "name": "python3"
  },
  "language_info": {
   "codemirror_mode": {
    "name": "ipython",
    "version": 3
   },
   "file_extension": ".py",
   "mimetype": "text/x-python",
   "name": "python",
   "nbconvert_exporter": "python",
   "pygments_lexer": "ipython3",
   "version": "3.12.2"
  }
 },
 "nbformat": 4,
 "nbformat_minor": 2
}
