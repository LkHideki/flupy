{
 "cells": [
  {
   "cell_type": "markdown",
   "metadata": {},
   "source": [
    "# Herança múltipla"
   ]
  },
  {
   "cell_type": "markdown",
   "metadata": {},
   "source": [
    "## Em ts, tem a diferença entre `extends` e `implements`"
   ]
  },
  {
   "cell_type": "code",
   "execution_count": 1,
   "metadata": {},
   "outputs": [],
   "source": [
    "# Uma interface\n",
    "class IPessoa: ...\n",
    "\n",
    "# Uma classe para implementar\n",
    "class Pessoa: ..."
   ]
  },
  {
   "cell_type": "markdown",
   "metadata": {},
   "source": [
    "mais ainda:\n",
    "\n",
    "## Interfaces devem ser ABC"
   ]
  },
  {
   "cell_type": "code",
   "execution_count": 3,
   "metadata": {},
   "outputs": [],
   "source": [
    "from abc import ABC, abstractmethod"
   ]
  },
  {
   "cell_type": "code",
   "execution_count": 4,
   "metadata": {},
   "outputs": [],
   "source": [
    "class IPessoa(ABC):\n",
    "    @abstractmethod\n",
    "    def diz_oi(self): ..."
   ]
  },
  {
   "cell_type": "markdown",
   "metadata": {},
   "source": [
    "## Mixins\n",
    "\n",
    "É uma classe que:\n",
    "- não deve ser instanciada;\n",
    "- não deve ser a única classe base (a não ser de outra mixin).\n",
    "\n",
    "Ela apenas cumpre a função de agrupar (poucos) métodos com muita afinidade."
   ]
  },
  {
   "cell_type": "code",
   "execution_count": 9,
   "metadata": {},
   "outputs": [],
   "source": [
    "class ContaMixin: # agrupa as funcionalidades de uma conta\n",
    "    def transfira_para(self, para): ...\n",
    "    def declare(self): ...\n",
    "    def extrato(self): ...\n",
    "\n",
    "class IConta(ABC): ... # declara a interface de uma Conta\n",
    "\n",
    "class ContaCorrente(IConta, ContaMixin):\n",
    "    ..."
   ]
  },
  {
   "cell_type": "markdown",
   "metadata": {},
   "source": [
    "Classes concretas devem herdar apenas de ABCs ou Mixins (ou no máximo uma superclasse concreta)."
   ]
  },
  {
   "cell_type": "markdown",
   "metadata": {},
   "source": [
    "## Crie classes agregadas quando fizer sentido"
   ]
  },
  {
   "cell_type": "code",
   "execution_count": 11,
   "metadata": {},
   "outputs": [],
   "source": [
    "class A: ...\n",
    "class B: ...\n",
    "class C: ...\n",
    "class D: ...\n",
    "class E: ...\n",
    "\n",
    "class F(A, B, C, D, E): ..."
   ]
  },
  {
   "cell_type": "markdown",
   "metadata": {},
   "source": [
    "Por exemplo, se `B`, `C` e `D` forem relacionadas, convém agregá-las numa classe só:"
   ]
  },
  {
   "cell_type": "code",
   "execution_count": 13,
   "metadata": {},
   "outputs": [],
   "source": [
    "class BCD(B, C, D): ...\n",
    "\n",
    "# reescrevendo a assinatura da F, temos\n",
    "class F(A, BCD, E): ..."
   ]
  }
 ],
 "metadata": {
  "kernelspec": {
   "display_name": "Python 3",
   "language": "python",
   "name": "python3"
  },
  "language_info": {
   "codemirror_mode": {
    "name": "ipython",
    "version": 3
   },
   "file_extension": ".py",
   "mimetype": "text/x-python",
   "name": "python",
   "nbconvert_exporter": "python",
   "pygments_lexer": "ipython3",
   "version": "3.11.9"
  }
 },
 "nbformat": 4,
 "nbformat_minor": 2
}
