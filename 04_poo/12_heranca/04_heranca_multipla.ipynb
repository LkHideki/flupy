{
 "cells": [
  {
   "cell_type": "markdown",
   "metadata": {},
   "source": [
    "# Herança múltipla"
   ]
  },
  {
   "cell_type": "markdown",
   "metadata": {},
   "source": [
    "## Em ts, tem a diferença entre `extends` e `implements`"
   ]
  },
  {
   "cell_type": "code",
   "execution_count": 10,
   "metadata": {},
   "outputs": [],
   "source": [
    "# Uma interface\n",
    "class IPessoa: ...\n",
    "\n",
    "# Uma classe para implementar\n",
    "class Pessoa: ..."
   ]
  },
  {
   "cell_type": "markdown",
   "metadata": {},
   "source": [
    "mais ainda:\n",
    "\n",
    "## Interfaces devem ser ABC"
   ]
  },
  {
   "cell_type": "code",
   "execution_count": 11,
   "metadata": {},
   "outputs": [],
   "source": [
    "from abc import ABC, abstractmethod"
   ]
  },
  {
   "cell_type": "code",
   "execution_count": 12,
   "metadata": {},
   "outputs": [],
   "source": [
    "class IPessoa(ABC):\n",
    "    @abstractmethod\n",
    "    def diz_oi(self): ..."
   ]
  },
  {
   "cell_type": "markdown",
   "metadata": {},
   "source": [
    "## Mixins\n",
    "\n",
    "É uma classe que:\n",
    "- não deve ser instanciada;\n",
    "- não deve ser a única classe base (a não ser de outra mixin).\n",
    "\n",
    "Ela apenas cumpre a função de agrupar (poucos) métodos com muita afinidade."
   ]
  },
  {
   "cell_type": "code",
   "execution_count": 13,
   "metadata": {},
   "outputs": [],
   "source": [
    "class ContaMixin: # agrupa as funcionalidades de uma conta\n",
    "    def transfira_para(self, para): ...\n",
    "    def declare(self): ...\n",
    "    def extrato(self): ...\n",
    "\n",
    "class IConta(ABC): ... # declara a interface de uma Conta\n",
    "\n",
    "class ContaCorrente(IConta, ContaMixin):\n",
    "    ..."
   ]
  },
  {
   "cell_type": "markdown",
   "metadata": {},
   "source": [
    "Classes concretas devem herdar apenas de ABCs ou Mixins (ou no máximo uma superclasse concreta)."
   ]
  },
  {
   "cell_type": "markdown",
   "metadata": {},
   "source": [
    "## Crie classes agregadas quando fizer sentido"
   ]
  },
  {
   "cell_type": "code",
   "execution_count": 14,
   "metadata": {},
   "outputs": [],
   "source": [
    "class A: ...\n",
    "class B: ...\n",
    "class C: ...\n",
    "class D: ...\n",
    "class E: ...\n",
    "\n",
    "class F(A, B, C, D, E): ..."
   ]
  },
  {
   "cell_type": "markdown",
   "metadata": {},
   "source": [
    "Por exemplo, se `B`, `C` e `D` forem relacionadas, convém agregá-las numa classe só:"
   ]
  },
  {
   "cell_type": "code",
   "execution_count": 15,
   "metadata": {},
   "outputs": [],
   "source": [
    "class BCD(B, C, D): ...\n",
    "\n",
    "# reescrevendo a assinatura da F, temos\n",
    "class F(A, BCD, E): ..."
   ]
  },
  {
   "cell_type": "markdown",
   "metadata": {},
   "source": [
    "## Composição é melhor"
   ]
  },
  {
   "cell_type": "code",
   "execution_count": 16,
   "metadata": {},
   "outputs": [],
   "source": [
    "class Pessoa:\n",
    "    def __init__(self, nome: str, cpf: str) -> None:\n",
    "        self.nome = nome\n",
    "        self.cpf = cpf\n",
    "    def apresente_se(self):\n",
    "        print(f\"Olá, sou a pessoa {self.nome}\")"
   ]
  },
  {
   "cell_type": "markdown",
   "metadata": {},
   "source": [
    "Usando herança"
   ]
  },
  {
   "cell_type": "code",
   "execution_count": 17,
   "metadata": {},
   "outputs": [
    {
     "name": "stdout",
     "output_type": "stream",
     "text": [
      "Olá, sou aluno(a) Alvaro\n"
     ]
    }
   ],
   "source": [
    "class Aluno(Pessoa):\n",
    "    def __init__(self, nome: str, cpf: str) -> None:\n",
    "        super().__init__(nome, cpf)\n",
    "    def apresente_se(self):\n",
    "        print(f\"Olá, sou aluno(a) {self.nome}\")\n",
    "\n",
    "a1 = Aluno(nome=\"Alvaro\", cpf=\"123\")\n",
    "a1.apresente_se()"
   ]
  },
  {
   "cell_type": "markdown",
   "metadata": {},
   "source": [
    "Usando composição:"
   ]
  },
  {
   "cell_type": "code",
   "execution_count": 18,
   "metadata": {},
   "outputs": [
    {
     "name": "stdout",
     "output_type": "stream",
     "text": [
      "Olá, sou aluno(a) Alvaro\n",
      "Olá, sou a pessoa Alvaro\n"
     ]
    }
   ],
   "source": [
    "class AlunoComposicao:\n",
    "    def __init__(self, nome: str, cpf: str) -> None:\n",
    "        self.pessoa = Pessoa(nome, cpf)\n",
    "    def apresente_se(self):\n",
    "        print(f\"Olá, sou aluno(a) {self.pessoa.nome}\")\n",
    "\n",
    "a2 = AlunoComposicao(\"Alvaro\", \"123\")\n",
    "a2.apresente_se()\n",
    "a2.pessoa.apresente_se()"
   ]
  },
  {
   "cell_type": "markdown",
   "metadata": {},
   "source": [
    "não houve sobreposição de método/atributo e a hierarquia segue a navegação usando ponto."
   ]
  }
 ],
 "metadata": {
  "kernelspec": {
   "display_name": "Python 3",
   "language": "python",
   "name": "python3"
  },
  "language_info": {
   "codemirror_mode": {
    "name": "ipython",
    "version": 3
   },
   "file_extension": ".py",
   "mimetype": "text/x-python",
   "name": "python",
   "nbconvert_exporter": "python",
   "pygments_lexer": "ipython3",
   "version": "3.11.9"
  }
 },
 "nbformat": 4,
 "nbformat_minor": 2
}
