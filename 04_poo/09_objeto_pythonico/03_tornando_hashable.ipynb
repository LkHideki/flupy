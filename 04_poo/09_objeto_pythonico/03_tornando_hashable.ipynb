{
 "cells": [
  {
   "cell_type": "markdown",
   "metadata": {},
   "source": [
    "# Tornando o nosso vetor hasheável\n",
    "\n",
    "1º. Aplicamos uma leve programação defensiva para tornar os atributos read-only (usamos `@property` para isto), deixando explícito com os underscores.\n",
    "2º. Aplicamos XOR para combinar os hashes das coordenadas."
   ]
  },
  {
   "cell_type": "code",
   "execution_count": 1,
   "metadata": {},
   "outputs": [],
   "source": [
    "from array import array\n",
    "import math\n",
    "\n",
    "\n",
    "class Vetor2d:\n",
    "    typecode = \"d\"\n",
    "    tNumber = int | float\n",
    "\n",
    "    def __init__(self, x: tNumber, y: tNumber) -> None:\n",
    "        self.__x = float(x)\n",
    "        self.__y = float(y)\n",
    "\n",
    "    @property\n",
    "    def x(self):\n",
    "        return self.__x\n",
    "\n",
    "    @property\n",
    "    def y(self):\n",
    "        return self.__y\n",
    "\n",
    "    def __iter__(self):\n",
    "        return (i for i in (self.x, self.y))\n",
    "\n",
    "    def __repr__(self) -> str:\n",
    "        class_name = type(self).__name__\n",
    "        return \"{}({!r}, {!r})\".format(class_name, *self)\n",
    "\n",
    "    def __str__(self) -> str:\n",
    "        return str(tuple(self))\n",
    "\n",
    "    def __bytes__(self) -> bytes:\n",
    "        return (bytes([ord(self.typecode)]) + bytes(array(self.typecode, self)))\n",
    "\n",
    "    def __eq__(self, value: object) -> bool:\n",
    "        return tuple(self) == tuple(value)\n",
    "\n",
    "    def __abs__(self) -> float:\n",
    "        return math.hypot(self.x, self.y)\n",
    "\n",
    "    def __bool__(self) -> bool:\n",
    "        return bool(abs(self))\n",
    "\n",
    "    @classmethod\n",
    "    def from_bytes(cls, octets):\n",
    "        typecode = chr(octets[0])\n",
    "        memv = memoryview(octets[1:]).cast(typecode)\n",
    "        return cls(*memv)\n",
    "\n",
    "    def __format__(self, fmt_str: str) -> str:\n",
    "        if fmt_str.endswith('p'):\n",
    "            r = abs(self)\n",
    "            theta = math.atan2(self.y, self.x)\n",
    "            f = fmt_str[:-1]\n",
    "            return f'<{format(r, f)}, {format(theta, f)}>'\n",
    "        \n",
    "        campo_a_campo = map(lambda x: format(x, fmt_str), self)\n",
    "        coord_ret = '({}, {})'.format(*campo_a_campo)\n",
    "        return coord_ret\n",
    "\n",
    "    def __hash__(self) -> int:\n",
    "        return hash(self.x) ^ hash(self.y)"
   ]
  },
  {
   "cell_type": "code",
   "execution_count": 2,
   "metadata": {},
   "outputs": [
    {
     "data": {
      "text/plain": [
       "{Vetor2d(0.0, 1.0), Vetor2d(1.0, 0.0)}"
      ]
     },
     "execution_count": 2,
     "metadata": {},
     "output_type": "execute_result"
    }
   ],
   "source": [
    "conjunto_li = {Vetor2d(0, 1), Vetor2d(1, 0)}\n",
    "conjunto_li"
   ]
  },
  {
   "cell_type": "code",
   "execution_count": null,
   "metadata": {},
   "outputs": [],
   "source": []
  }
 ],
 "metadata": {
  "kernelspec": {
   "display_name": ".venv",
   "language": "python",
   "name": "python3"
  },
  "language_info": {
   "codemirror_mode": {
    "name": "ipython",
    "version": 3
   },
   "file_extension": ".py",
   "mimetype": "text/x-python",
   "name": "python",
   "nbconvert_exporter": "python",
   "pygments_lexer": "ipython3",
   "version": "3.12.2"
  }
 },
 "nbformat": 4,
 "nbformat_minor": 2
}
