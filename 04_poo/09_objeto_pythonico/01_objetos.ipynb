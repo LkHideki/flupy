{
 "cells": [
  {
   "cell_type": "markdown",
   "metadata": {},
   "source": [
    "# Um objeto pythônico\n",
    "\n",
    "## Representações de objetos\n",
    "\n",
    "Python tem duas formas de representar um objeto:\n",
    "- `repr()` devolve uma string para o dev;\n",
    "- `str()` devolve uma string para o usuário.\n",
    "\n",
    "e mais duas especiais (`bytes()` e `format()`) que serão discutidas depois."
   ]
  },
  {
   "cell_type": "code",
   "execution_count": 15,
   "metadata": {},
   "outputs": [],
   "source": [
    "from array import array\n",
    "from math import hypot\n",
    "from typing import Iterable"
   ]
  },
  {
   "cell_type": "code",
   "execution_count": 16,
   "metadata": {},
   "outputs": [],
   "source": [
    "class Vetor2d:\n",
    "    typecode = \"d\"\n",
    "    tNumber = int | float\n",
    "\n",
    "    def __init__(self, x: tNumber, y: tNumber) -> None:\n",
    "        self.x = float(x)\n",
    "        self.y = float(y)\n",
    "\n",
    "    def __iter__(self) -> Iterable[tNumber]:\n",
    "        return (i for i in (self.x, self.y))\n",
    "\n",
    "    def __repr__(self) -> str:\n",
    "        class_name = type(self).__name__\n",
    "        return \"{}({!r}, {!r})\".format(class_name, *self)\n",
    "\n",
    "    def __str__(self) -> str:\n",
    "        return str(tuple(self))\n",
    "\n",
    "    def __bytes__(self) -> bytes:\n",
    "        return (bytes([ord(self.typecode)]) + bytes(array(self.typecode, self)))\n",
    "\n",
    "    def __eq__(self, value: object) -> bool:\n",
    "        return tuple(self) == tuple(value)\n",
    "\n",
    "    def __abs__(self) -> float:\n",
    "        return hypot(self.x, self.y)\n",
    "\n",
    "    def __bool__(self) -> bool:\n",
    "        return bool(abs(self))\n",
    "\n",
    "    @classmethod\n",
    "    def from_bytes(cls, octets):\n",
    "        typecode = chr(octets[0])\n",
    "        memv = memoryview(octets[1:]).cast(typecode)\n",
    "        return cls(*memv)"
   ]
  },
  {
   "cell_type": "markdown",
   "metadata": {},
   "source": [
    "agora usando tudo..."
   ]
  },
  {
   "cell_type": "code",
   "execution_count": 17,
   "metadata": {},
   "outputs": [
    {
     "data": {
      "text/plain": [
       "5.0"
      ]
     },
     "execution_count": 17,
     "metadata": {},
     "output_type": "execute_result"
    }
   ],
   "source": [
    "a = Vetor2d(2, 3)\n",
    "b = Vetor2d(3, 4)\n",
    "\n",
    "abs(b)"
   ]
  },
  {
   "cell_type": "code",
   "execution_count": 19,
   "metadata": {},
   "outputs": [
    {
     "data": {
      "text/plain": [
       "Vetor2d(3.0, 4.0)"
      ]
     },
     "execution_count": 19,
     "metadata": {},
     "output_type": "execute_result"
    }
   ],
   "source": [
    "Vetor2d.from_bytes(bytes(b))"
   ]
  },
  {
   "cell_type": "code",
   "execution_count": null,
   "metadata": {},
   "outputs": [],
   "source": []
  }
 ],
 "metadata": {
  "kernelspec": {
   "display_name": ".venv",
   "language": "python",
   "name": "python3"
  },
  "language_info": {
   "codemirror_mode": {
    "name": "ipython",
    "version": 3
   },
   "file_extension": ".py",
   "mimetype": "text/x-python",
   "name": "python",
   "nbconvert_exporter": "python",
   "pygments_lexer": "ipython3",
   "version": "3.12.2"
  }
 },
 "nbformat": 4,
 "nbformat_minor": 2
}
