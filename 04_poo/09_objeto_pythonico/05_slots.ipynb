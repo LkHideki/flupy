{
 "cells": [
  {
   "cell_type": "markdown",
   "metadata": {},
   "source": [
    "# Economizando espaço com `__slots__`\n",
    "\n",
    "É um atributo de classe que permite o uso de tupla ao invés de dicionário em casos como quando temos muitas instâncias com poucos atributos. O Python, neste caso, por padrão armazenaria os atributos em um dunder dict em cada instância.\n",
    "\n",
    "> `__slots__` herdado não tem efeito"
   ]
  },
  {
   "cell_type": "code",
   "execution_count": 29,
   "metadata": {},
   "outputs": [],
   "source": [
    "class Pessoa:\n",
    "    __slots__ = (\"__nome\", \"__idade\")\n",
    "    def __init__(self, nome: str, idade: int) -> None:\n",
    "        self.__nome = nome\n",
    "        self.__idade = idade\n",
    "\n",
    "    @property\n",
    "    def nome(self):\n",
    "        return self.__nome\n",
    "\n",
    "    @property\n",
    "    def idade(self):\n",
    "        return self.__idade"
   ]
  },
  {
   "cell_type": "code",
   "execution_count": 33,
   "metadata": {},
   "outputs": [],
   "source": [
    "p1 = Pessoa('ana', 30)"
   ]
  },
  {
   "cell_type": "code",
   "execution_count": 34,
   "metadata": {},
   "outputs": [
    {
     "data": {
      "text/plain": [
       "'ana'"
      ]
     },
     "execution_count": 34,
     "metadata": {},
     "output_type": "execute_result"
    }
   ],
   "source": [
    "p1.nome"
   ]
  },
  {
   "cell_type": "markdown",
   "metadata": {},
   "source": [
    "## Velocidade\n",
    "\n",
    "`__slots__` deixa a classe mais otimizada, conforme mostra o livro.\n",
    "\n",
    "Tanto espaço quanto tempo são melhorados."
   ]
  },
  {
   "cell_type": "markdown",
   "metadata": {},
   "source": [
    "## Obs\n",
    "\n",
    "As instâncias não podem ter atributos diferentes dos declarados no dunder slots, mas isso não é uma medida de restrição ao dev e sim um efeito colateral de sua otimização."
   ]
  },
  {
   "cell_type": "code",
   "execution_count": 35,
   "metadata": {},
   "outputs": [
    {
     "ename": "AttributeError",
     "evalue": "'Pessoa' object has no attribute 'cidade'",
     "output_type": "error",
     "traceback": [
      "\u001b[0;31m---------------------------------------------------------------------------\u001b[0m",
      "\u001b[0;31mAttributeError\u001b[0m                            Traceback (most recent call last)",
      "Cell \u001b[0;32mIn[35], line 1\u001b[0m\n\u001b[0;32m----> 1\u001b[0m \u001b[43mp1\u001b[49m\u001b[38;5;241;43m.\u001b[39;49m\u001b[43mcidade\u001b[49m \u001b[38;5;241m=\u001b[39m \u001b[38;5;124m\"\u001b[39m\u001b[38;5;124mSão Paulo\u001b[39m\u001b[38;5;124m\"\u001b[39m\n",
      "\u001b[0;31mAttributeError\u001b[0m: 'Pessoa' object has no attribute 'cidade'"
     ]
    }
   ],
   "source": [
    "p1.cidade = \"São Paulo\""
   ]
  },
  {
   "cell_type": "markdown",
   "metadata": {},
   "source": [
    "### Obs da Obs\n",
    "\n",
    "É possível declarar algo como\n",
    "\n",
    "```python\n",
    "class Pessoa:\n",
    "  __slots__ = ('__dict__', ...)\n",
    "```\n",
    "\n",
    "que permitiria a declaração de novos atributos, mas isso anularia a otimização."
   ]
  },
  {
   "cell_type": "markdown",
   "metadata": {},
   "source": [
    "## Problemas com dunder slots\n",
    "\n",
    "1. deve-se lembrar de declará-lo em cada subclasse;\n",
    "2. as instâncias devem ter exatamente os atributos declarados em `__slots__`;\n",
    "3. as instâncias não podem ser alvo de referências fracas a menos que `__weakref__` estiver em `__slots__`."
   ]
  },
  {
   "cell_type": "markdown",
   "metadata": {},
   "source": [
    "## *dunder weakref*\n",
    "\n",
    "Por padrão, `__weakref__` está em todas as classes definidas pelo dev.\n",
    "\n",
    "Mas, se ele definir `__slots__`, deverá incluir `__weakref__` na tupla."
   ]
  }
 ],
 "metadata": {
  "kernelspec": {
   "display_name": ".venv",
   "language": "python",
   "name": "python3"
  },
  "language_info": {
   "codemirror_mode": {
    "name": "ipython",
    "version": 3
   },
   "file_extension": ".py",
   "mimetype": "text/x-python",
   "name": "python",
   "nbconvert_exporter": "python",
   "pygments_lexer": "ipython3",
   "version": "3.12.2"
  }
 },
 "nbformat": 4,
 "nbformat_minor": 2
}
