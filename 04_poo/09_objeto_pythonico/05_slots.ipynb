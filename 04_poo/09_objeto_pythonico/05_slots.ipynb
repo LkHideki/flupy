{
 "cells": [
  {
   "cell_type": "markdown",
   "metadata": {},
   "source": [
    "# Economizando espaço com `__slots__`\n",
    "\n",
    "É um atributo de classe que permite o uso de tupla ao invés de dicionário em casos como quando temos muitas instâncias com poucos atributos. O Python, neste caso, por padrão armazenaria os atributos em um dunder dict em cada instância.\n",
    "\n",
    "> `__slots__` herdado não tem efeito"
   ]
  },
  {
   "cell_type": "code",
   "execution_count": null,
   "metadata": {},
   "outputs": [],
   "source": []
  }
 ],
 "metadata": {
  "language_info": {
   "name": "python"
  }
 },
 "nbformat": 4,
 "nbformat_minor": 2
}
