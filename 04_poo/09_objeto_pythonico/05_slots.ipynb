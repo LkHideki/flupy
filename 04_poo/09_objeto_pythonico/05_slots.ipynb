{
 "cells": [
  {
   "cell_type": "markdown",
   "metadata": {},
   "source": [
    "# Economizando espaço com `__slots__`\n",
    "\n",
    "É um atributo de classe que permite o uso de tupla ao invés de dicionário em casos como quando temos muitas instâncias com poucos atributos. O Python, neste caso, por padrão armazenaria os atributos em um dunder dict em cada instância.\n",
    "\n",
    "> `__slots__` herdado não tem efeito"
   ]
  },
  {
   "cell_type": "code",
   "execution_count": 29,
   "metadata": {},
   "outputs": [],
   "source": [
    "class Pessoa:\n",
    "    __slots__ = (\"__nome\", \"__idade\")\n",
    "    def __init__(self, nome: str, idade: int) -> None:\n",
    "        self.__nome = nome\n",
    "        self.__idade = idade\n",
    "\n",
    "    @property\n",
    "    def nome(self):\n",
    "        return self.__nome\n",
    "\n",
    "    @property\n",
    "    def idade(self):\n",
    "        return self.__idade"
   ]
  },
  {
   "cell_type": "code",
   "execution_count": 33,
   "metadata": {},
   "outputs": [],
   "source": [
    "p1 = Pessoa('ana', 30)"
   ]
  },
  {
   "cell_type": "code",
   "execution_count": 34,
   "metadata": {},
   "outputs": [
    {
     "data": {
      "text/plain": [
       "'ana'"
      ]
     },
     "execution_count": 34,
     "metadata": {},
     "output_type": "execute_result"
    }
   ],
   "source": [
    "p1.nome"
   ]
  },
  {
   "cell_type": "code",
   "execution_count": null,
   "metadata": {},
   "outputs": [],
   "source": []
  }
 ],
 "metadata": {
  "kernelspec": {
   "display_name": ".venv",
   "language": "python",
   "name": "python3"
  },
  "language_info": {
   "codemirror_mode": {
    "name": "ipython",
    "version": 3
   },
   "file_extension": ".py",
   "mimetype": "text/x-python",
   "name": "python",
   "nbconvert_exporter": "python",
   "pygments_lexer": "ipython3",
   "version": "3.12.2"
  }
 },
 "nbformat": 4,
 "nbformat_minor": 2
}
