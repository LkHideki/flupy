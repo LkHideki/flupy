{
 "cells": [
  {
   "cell_type": "markdown",
   "metadata": {},
   "source": [
    "Não anotarei neste repositório as partes referentes à exploração do módulo `itertools`.\n",
    "\n",
    "A medida que eu lia os exemplos, eu percebia que eram muito atômicos e a usabilidade de cada função era muito pontual.\n",
    "\n",
    "Enfim, é um módulo muito útil e que deve ser usado com cautela. Há uns anos eu travei um macbook pro i7 porque usei `list(itertools.product(•, •))` num iterável de alguns milhões de itens. Ocorre que a lista produzida teria alguns trilhões de cruzamentos."
   ]
  },
  {
   "cell_type": "markdown",
   "metadata": {},
   "source": [
    "# O *novo* `yield from`"
   ]
  },
  {
   "cell_type": "code",
   "execution_count": 5,
   "metadata": {},
   "outputs": [],
   "source": [
    "from itertools import chain"
   ]
  },
  {
   "cell_type": "code",
   "execution_count": 6,
   "metadata": {},
   "outputs": [
    {
     "data": {
      "text/plain": [
       "<itertools.chain at 0x109fcbe80>"
      ]
     },
     "execution_count": 6,
     "metadata": {},
     "output_type": "execute_result"
    }
   ],
   "source": [
    "iteravel1 = range(1,4)\n",
    "iteravel2 = 'XYZ'\n",
    "c = chain(iteravel1, iteravel2, iteravel1)\n",
    "c"
   ]
  },
  {
   "cell_type": "code",
   "execution_count": 12,
   "metadata": {},
   "outputs": [
    {
     "name": "stdout",
     "output_type": "stream",
     "text": [
      "1 2 3 X Y Z 1 2 3\n"
     ]
    }
   ],
   "source": [
    "print(*chain(iteravel1, iteravel2, iteravel1))"
   ]
  },
  {
   "cell_type": "markdown",
   "metadata": {},
   "source": [
    "## Reconstruindo o iterador acima com a nova sintaxe"
   ]
  },
  {
   "cell_type": "code",
   "execution_count": 13,
   "metadata": {},
   "outputs": [],
   "source": [
    "def manual_chain(*iterables):\n",
    "    for it in iterables:\n",
    "        yield from it"
   ]
  },
  {
   "cell_type": "code",
   "execution_count": 14,
   "metadata": {},
   "outputs": [
    {
     "name": "stdout",
     "output_type": "stream",
     "text": [
      "1 2 3 X Y Z 1 2 3\n"
     ]
    }
   ],
   "source": [
    "print(*list(manual_chain(iteravel1, iteravel2, iteravel1)))"
   ]
  },
  {
   "cell_type": "markdown",
   "metadata": {},
   "source": [
    "i.e. Ele só delega o `yield` para o iterável seguinte."
   ]
  }
 ],
 "metadata": {
  "kernelspec": {
   "display_name": ".venv",
   "language": "python",
   "name": "python3"
  },
  "language_info": {
   "codemirror_mode": {
    "name": "ipython",
    "version": 3
   },
   "file_extension": ".py",
   "mimetype": "text/x-python",
   "name": "python",
   "nbconvert_exporter": "python",
   "pygments_lexer": "ipython3",
   "version": "3.12.2"
  }
 },
 "nbformat": 4,
 "nbformat_minor": 2
}
