{
 "cells": [
  {
   "cell_type": "markdown",
   "metadata": {},
   "source": [
    "# Funções de redução de iteráveis\n",
    "\n",
    "Funções que recebem um iterável e retornam um objeto só, mais simples.\n",
    "\n",
    "São conhecidas como funções de redução/dobra/acumulação."
   ]
  },
  {
   "cell_type": "code",
   "execution_count": null,
   "metadata": {},
   "outputs": [],
   "source": []
  }
 ],
 "metadata": {
  "language_info": {
   "name": "python"
  }
 },
 "nbformat": 4,
 "nbformat_minor": 2
}
