{
 "cells": [
  {
   "cell_type": "markdown",
   "metadata": {},
   "source": [
    "# Funções de redução de iteráveis\n",
    "\n",
    "Funções que recebem um iterável e retornam um objeto só, mais simples.\n",
    "\n",
    "São conhecidas como funções de redução/dobra/acumulação.\n",
    "\n",
    "As funções `man`, `min` e `sum` podem ser construídas com a `functools.reduce`. `all` e `any` também podem, mas estas são otimizadas para interromper o consumo do iterador."
   ]
  },
  {
   "cell_type": "code",
   "execution_count": 10,
   "metadata": {},
   "outputs": [],
   "source": [
    "class RangeEspertinho:\n",
    "    def __init__(self, *args) -> None:\n",
    "        self.range = iter(range(*args))\n",
    "    def __iter__(self):\n",
    "        return self\n",
    "    def __next__(self):\n",
    "        for i in self.range:\n",
    "            print(f'Calculou {i:2d}')\n",
    "            return i"
   ]
  },
  {
   "cell_type": "code",
   "execution_count": 11,
   "metadata": {},
   "outputs": [
    {
     "name": "stdout",
     "output_type": "stream",
     "text": [
      "Calculou  0\n",
      "Calculou  1\n",
      "Calculou  2\n",
      "Calculou  3\n"
     ]
    },
    {
     "data": {
      "text/plain": [
       "False"
      ]
     },
     "execution_count": 11,
     "metadata": {},
     "output_type": "execute_result"
    }
   ],
   "source": [
    "all(x < 3 for x in RangeEspertinho(10))"
   ]
  },
  {
   "cell_type": "markdown",
   "metadata": {},
   "source": [
    "Viu? Nem continuou consumindo o iterador. No primeiro `False`, `all` interrompe e retorna `False`.\n",
    "\n",
    "O mesmo ocorre com `any` e o valor `True`:"
   ]
  },
  {
   "cell_type": "code",
   "execution_count": 9,
   "metadata": {},
   "outputs": [
    {
     "name": "stdout",
     "output_type": "stream",
     "text": [
      "Calculou  0\n",
      "Calculou  1\n",
      "Calculou  2\n",
      "Calculou  3\n",
      "Calculou  4\n"
     ]
    },
    {
     "data": {
      "text/plain": [
       "True"
      ]
     },
     "execution_count": 9,
     "metadata": {},
     "output_type": "execute_result"
    }
   ],
   "source": [
    "any(x > 3 for x in RangeEspertinho(10))"
   ]
  }
 ],
 "metadata": {
  "kernelspec": {
   "display_name": ".venv",
   "language": "python",
   "name": "python3"
  },
  "language_info": {
   "codemirror_mode": {
    "name": "ipython",
    "version": 3
   },
   "file_extension": ".py",
   "mimetype": "text/x-python",
   "name": "python",
   "nbconvert_exporter": "python",
   "pygments_lexer": "ipython3",
   "version": "3.12.2"
  }
 },
 "nbformat": 4,
 "nbformat_minor": 2
}
