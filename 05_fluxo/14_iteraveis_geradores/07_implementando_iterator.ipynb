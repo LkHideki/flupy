{
 "cells": [
  {
   "cell_type": "markdown",
   "metadata": {},
   "source": [
    "# Implementando o Iterator"
   ]
  },
  {
   "cell_type": "code",
   "execution_count": null,
   "metadata": {},
   "outputs": [],
   "source": [
    "from abc import abstractmethod\n",
    "from collections.abc import Iterable\n",
    "\n",
    "\n",
    "class Iterator(Iterable):\n",
    "    __slots__ = ()\n",
    "\n",
    "    @abstractmethod\n",
    "    def __next__(self):\n",
    "        raise StopIteration\n",
    "    def __iter__(self):\n",
    "        return self\n",
    "\n",
    "    @classmethod\n",
    "    def __subclasshook__(cls, C):\n",
    "        if cls is Iterator:\n",
    "            if any(\"__next__\" in B.__dict__ for B in C.__mro__) and any(\"__iter__\" in B.__dict__ for B in C.__mro__):\n",
    "                return True\n",
    "        return NotImplemented"
   ]
  },
  {
   "cell_type": "markdown",
   "metadata": {},
   "source": [
    "Ah, era o código fonte."
   ]
  },
  {
   "cell_type": "markdown",
   "metadata": {},
   "source": [
    "## `__subclasshook__`\n",
    "\n",
    "O método `__subclasshook__` é um método especial em Python, que é usado pelo interprete para determinar se uma classe é uma subclasse de outra classe. Ele é usado pelo método `isinstance()` e pelo método `issubclass()` para verificar a herança.\n",
    "\n",
    "Neste caso, o código-fonte do `Iterator`, acima, implementa o método `__subclasshook__`. A implementação verifica se a classe `C`, que está sendo verificada como subclasse de Iterator, possui os métodos `__next__` e `__iter__` em seu método resolvente (`__mro__`). Se ambos os métodos estiverem presentes, a função retorna `True`, indicando que a classe `C` é uma subclasse válida de `Iterator`.\n",
    "\n",
    "### E se não for implementado?\n",
    "\n",
    "Se o método `__subclasshook__` não for implementado na classe, o Python usará o método `__instancecheck__` para verificar a herança. Entretanto, a implementação do método `__subclasshook__` pode ser mais eficiente, pois ele pode verificar se a classe é uma subclasse sem chamar todos os métodos de verificação de herança.\n",
    "\n",
    "Neste caso específico, a classe `Iterator` é uma classe abstrata que define a interface para iteradores. A implementação do método `__subclasshook__` garante que as classes que herdam de `Iterator` possuem os métodos necessários para serem iteradores.\n",
    "\n",
    "*[O conteúdo das explicações foi parcialmente gerado por IA]*"
   ]
  }
 ],
 "metadata": {
  "language_info": {
   "name": "python"
  }
 },
 "nbformat": 4,
 "nbformat_minor": 2
}
