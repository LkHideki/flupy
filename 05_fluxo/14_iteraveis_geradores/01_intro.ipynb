{
 "cells": [
  {
   "cell_type": "markdown",
   "metadata": {},
   "source": [
    "# Iteradores\n",
    "\n",
    "Servem para percorrer coleções de dados que não cabem na memória.\n",
    "\n",
    "O *Iterator* é uma interface que percorre itens de uma coleção. Um gerador é uma implementação de um iterador e que pode produzir elementos do nada.\n",
    "\n",
    "A palavra `yield` permite a construção de geradores."
   ]
  },
  {
   "cell_type": "code",
   "execution_count": 19,
   "metadata": {},
   "outputs": [],
   "source": [
    "from time import sleep\n",
    "from random import random\n",
    "\n",
    "def delay_range(*args):\n",
    "    for i in range(*args):\n",
    "        sleep(random())\n",
    "        yield i"
   ]
  },
  {
   "cell_type": "code",
   "execution_count": 20,
   "metadata": {},
   "outputs": [
    {
     "name": "stdout",
     "output_type": "stream",
     "text": [
      "<generator object delay_range at 0x1062ef060>\n",
      "5\n",
      "6\n",
      "7\n",
      "8\n",
      "9\n",
      "10\n"
     ]
    }
   ],
   "source": [
    "dr = delay_range(5, 11)\n",
    "\n",
    "print(dr)\n",
    "\n",
    "for i in dr:\n",
    "    print(i)"
   ]
  }
 ],
 "metadata": {
  "kernelspec": {
   "display_name": ".venv",
   "language": "python",
   "name": "python3"
  },
  "language_info": {
   "codemirror_mode": {
    "name": "ipython",
    "version": 3
   },
   "file_extension": ".py",
   "mimetype": "text/x-python",
   "name": "python",
   "nbconvert_exporter": "python",
   "pygments_lexer": "ipython3",
   "version": "3.12.2"
  }
 },
 "nbformat": 4,
 "nbformat_minor": 2
}
