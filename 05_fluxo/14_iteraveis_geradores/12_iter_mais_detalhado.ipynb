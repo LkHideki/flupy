{
 "cells": [
  {
   "cell_type": "markdown",
   "metadata": {},
   "source": [
    "# Olhando o `iter()` mais de perto\n",
    "\n",
    "Sabia que a função `iter` pode ter dois argumentos?"
   ]
  },
  {
   "cell_type": "code",
   "execution_count": 16,
   "metadata": {},
   "outputs": [],
   "source": [
    "from random import randint\n",
    "\n",
    "def dado():\n",
    "    return randint(1,6)"
   ]
  },
  {
   "cell_type": "markdown",
   "metadata": {},
   "source": [
    "A função `dado` só gera um inteiro entre 1 e 6 (inclusos) simulando o lançamento de um dado."
   ]
  },
  {
   "cell_type": "code",
   "execution_count": 34,
   "metadata": {},
   "outputs": [
    {
     "name": "stdout",
     "output_type": "stream",
     "text": [
      "3\n",
      "6\n",
      "3\n",
      "3\n",
      "1\n",
      "2\n",
      "3\n",
      "5\n",
      "3\n",
      "Parou!\n"
     ]
    }
   ],
   "source": [
    "dado_iter = iter(dado, 4)\n",
    "while True:\n",
    "    try:\n",
    "        n = next(dado_iter)\n",
    "        print(n)\n",
    "    except Exception as e:\n",
    "        print('Parou!')\n",
    "        break"
   ]
  },
  {
   "cell_type": "markdown",
   "metadata": {},
   "source": [
    "Instanciei um iterador em `dado_iter` passando a callback (`dado`), que constroi o objeto, e um valor de *sentinela*, marcador que, ao ser observado, levanta a exceção `StopIteration` antes de entregar a sentinela."
   ]
  }
 ],
 "metadata": {
  "kernelspec": {
   "display_name": ".venv",
   "language": "python",
   "name": "python3"
  },
  "language_info": {
   "codemirror_mode": {
    "name": "ipython",
    "version": 3
   },
   "file_extension": ".py",
   "mimetype": "text/x-python",
   "name": "python",
   "nbconvert_exporter": "python",
   "pygments_lexer": "ipython3",
   "version": "3.12.2"
  }
 },
 "nbformat": 4,
 "nbformat_minor": 2
}
