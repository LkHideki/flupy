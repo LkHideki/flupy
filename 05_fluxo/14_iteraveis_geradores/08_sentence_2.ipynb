{
 "cells": [
  {
   "cell_type": "markdown",
   "metadata": {},
   "source": [
    "# Sentence tomada 2"
   ]
  },
  {
   "cell_type": "code",
   "execution_count": 3,
   "metadata": {},
   "outputs": [],
   "source": [
    "import re, reprlib\n",
    "\n",
    "RE_WORD = re.compile(r'\\w+')"
   ]
  },
  {
   "cell_type": "code",
   "execution_count": 4,
   "metadata": {},
   "outputs": [],
   "source": [
    "class Sentence:\n",
    "    def __init__(self, text):\n",
    "        self.text = text\n",
    "        self.words = RE_WORD.findall(text)\n",
    "    def __repr__(self):\n",
    "        return f'Sentence({reprlib.repr(self.text)})'\n",
    "    def __iter__(self):\n",
    "        return SentenceIterator(self.words)\n",
    "\n",
    "class SentenceIterator:\n",
    "    def __init__(self, words):\n",
    "        self.words = words\n",
    "        self.index = 0\n",
    "    def __next__(self):\n",
    "        try:\n",
    "            word = self.words[self.index]\n",
    "        except IndexError:\n",
    "            raise StopIteration()\n",
    "        self.index += 1\n",
    "        return word\n",
    "    def __iter__(self):\n",
    "        return self"
   ]
  },
  {
   "cell_type": "markdown",
   "metadata": {},
   "source": [
    "**Iteráveis** têm o dunder iter que sempre instancia um novo iterador. Jamais implementam `__next__`.\n",
    "\n",
    "**Iteradores** têm sempre um dunder next que devolve itens individuais e um dunder iter que devolve self.\n",
    "\n",
    "$\\therefore$ Iteradores $\\subset$ Iteráveis"
   ]
  },
  {
   "cell_type": "markdown",
   "metadata": {},
   "source": [
    "## Observação sobre as classes acima\n",
    "\n",
    "É um \"antipadrão\" comum implementar o dunder next junto com o dunder iter em Sentence (tornando-a um iterador).\n",
    "\n",
    "A explicação vem do livro da GoF e diz que o padrão Iterator deve permitir que um objeto agregado possa ser percorrido por diferentes clientes, no sentido de não estarem com índices sincronizados.\n",
    "\n",
    "Por isso foi separado `Sentence` de `SentenceIterator`: para que o índice do iterador pudesse ser controlado pelo cliente que é atribuído."
   ]
  }
 ],
 "metadata": {
  "kernelspec": {
   "display_name": ".venv",
   "language": "python",
   "name": "python3"
  },
  "language_info": {
   "codemirror_mode": {
    "name": "ipython",
    "version": 3
   },
   "file_extension": ".py",
   "mimetype": "text/x-python",
   "name": "python",
   "nbconvert_exporter": "python",
   "pygments_lexer": "ipython3",
   "version": "3.12.2"
  }
 },
 "nbformat": 4,
 "nbformat_minor": 2
}
