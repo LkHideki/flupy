{
 "cells": [
  {
   "cell_type": "markdown",
   "metadata": {},
   "source": [
    "# Iteráveis vs. Iteradores\n",
    "\n",
    "## Definição\n",
    "\n",
    "*Iterável* é qualquer objeto obtido por `iter(•)`, que implementem dunder iter, sequências ou objetos que implementem dunder getitem que aceite índice a partir de zero (incluso).\n",
    "\n",
    "Python obtém iteradores a partir de iteráveis."
   ]
  },
  {
   "cell_type": "code",
   "execution_count": 2,
   "metadata": {},
   "outputs": [
    {
     "name": "stdout",
     "output_type": "stream",
     "text": [
      "e\n",
      "x\n",
      "e\n",
      "m\n",
      "p\n",
      "l\n",
      "o\n",
      "Acabou o que percorrer.\n"
     ]
    }
   ],
   "source": [
    "iteravel = iter('exemplo')\n",
    "\n",
    "while True:\n",
    "    try:\n",
    "        print(next(iteravel))\n",
    "    except StopIteration:\n",
    "        print('Acabou o que percorrer.')\n",
    "        break\n",
    "del iteravel"
   ]
  },
  {
   "cell_type": "markdown",
   "metadata": {},
   "source": [
    "A exceção `StopIteration` informa que o iterador esgotou. Isso é tratado por baixo dos panos em estruturas como compreensões e laços.\n",
    "\n",
    "## Componentes de um iterador\n",
    "\n",
    "A interface tem exatamente os métodos:\n",
    "- dunder next: devolve o próximo item. Se não tem próximo, lança a exceção `StopIteration`;\n",
    "- dunder iter: devolve `self`."
   ]
  },
  {
   "cell_type": "markdown",
   "metadata": {},
   "source": [
    "## Exemplo: controlando dunder iter e dunder next"
   ]
  },
  {
   "cell_type": "code",
   "execution_count": 21,
   "metadata": {},
   "outputs": [
    {
     "name": "stdout",
     "output_type": "stream",
     "text": [
      "https://buscador-ticker.com/empr3\n",
      "https://buscador-ticker.com/resa4\n",
      "https://buscador-ticker.com/mprs11\n",
      "https://buscador-ticker.com/epsa3\n"
     ]
    }
   ],
   "source": [
    "from time import sleep\n",
    "\n",
    "tickers = 'empr3 resa4 mprs11 epsa3'\n",
    "\n",
    "class ListaTickers:\n",
    "    def __init__(self, tickers) -> None:\n",
    "        self.tickers = tickers\n",
    "        self.index = 0\n",
    "    def __iter__(self):\n",
    "        if isinstance(self.tickers, list):\n",
    "            return self\n",
    "        elif isinstance(self.tickers, str):\n",
    "            return ListaTickers(self.tickers.strip().split())\n",
    "        raise TypeError(\"ListaTickers deve ser string ou lista de strings\")\n",
    "\n",
    "    def __next__(self):\n",
    "        if self.index < len(self.tickers):\n",
    "            sleep(0.5)\n",
    "            url = f'https://buscador-ticker.com/{self.tickers[self.index]}'\n",
    "            self.index += 1\n",
    "            return url\n",
    "        else:\n",
    "            raise StopIteration\n",
    "\n",
    "for url in ListaTickers(tickers):\n",
    "    print(url)"
   ]
  },
  {
   "cell_type": "code",
   "execution_count": 22,
   "metadata": {},
   "outputs": [
    {
     "name": "stdout",
     "output_type": "stream",
     "text": [
      "https://buscador-ticker.com/abcd1\n",
      "https://buscador-ticker.com/abcd2\n",
      "https://buscador-ticker.com/abc3\n"
     ]
    }
   ],
   "source": [
    "for url in ListaTickers(\"abcd1 abcd2 abc3\"):\n",
    "    print(url)"
   ]
  }
 ],
 "metadata": {
  "kernelspec": {
   "display_name": ".venv",
   "language": "python",
   "name": "python3"
  },
  "language_info": {
   "codemirror_mode": {
    "name": "ipython",
    "version": 3
   },
   "file_extension": ".py",
   "mimetype": "text/x-python",
   "name": "python",
   "nbconvert_exporter": "python",
   "pygments_lexer": "ipython3",
   "version": "3.12.2"
  }
 },
 "nbformat": 4,
 "nbformat_minor": 2
}
