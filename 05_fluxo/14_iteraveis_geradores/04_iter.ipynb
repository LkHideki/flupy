{
 "cells": [
  {
   "cell_type": "markdown",
   "metadata": {},
   "source": [
    "# A função `iter`\n",
    "\n",
    "Para percorrer um objeto `x`, o interpretador invoca `iter(x)`.\n",
    "\n",
    "A função `iter`:\n",
    "1. busca `__iter__`\n",
    "2. fallback: busca `__getitem__` iterando com índices inteiros começando em 0\n",
    "3. fallback: raise `TypeError`\n",
    "\n",
    "> [...] essa é uma forma extrema de duck typing: um objeto é considerado iterável não só quando implementa o método especial `__iter__`, mas também quando implementa `__getitem__` [...]."
   ]
  },
  {
   "cell_type": "code",
   "execution_count": 2,
   "metadata": {},
   "outputs": [],
   "source": [
    "class Bla:\n",
    "    def __init__(self) -> None:\n",
    "        ...\n",
    "    def __iter__(self):\n",
    "        ..."
   ]
  },
  {
   "cell_type": "code",
   "execution_count": 3,
   "metadata": {},
   "outputs": [
    {
     "data": {
      "text/plain": [
       "(True, True)"
      ]
     },
     "execution_count": 3,
     "metadata": {},
     "output_type": "execute_result"
    }
   ],
   "source": [
    "from collections import abc\n",
    "issubclass(Bla, abc.Iterable), isinstance(Bla(), abc.Iterable)"
   ]
  },
  {
   "cell_type": "markdown",
   "metadata": {},
   "source": [
    "**Obs.** É melhor verificar se um objeto é iterável dentro de um bloco try/except."
   ]
  },
  {
   "cell_type": "code",
   "execution_count": 4,
   "metadata": {},
   "outputs": [
    {
     "name": "stdout",
     "output_type": "stream",
     "text": [
      "O objeto x não é iterável.\n"
     ]
    }
   ],
   "source": [
    "x = Bla()\n",
    "\n",
    "try:\n",
    "    print(iter(x))\n",
    "except:\n",
    "    print('O objeto x não é iterável.')"
   ]
  },
  {
   "cell_type": "markdown",
   "metadata": {},
   "source": [
    "Por que x não é iterável?\n",
    "\n",
    "Porque o dunder iter não está implementado corretamente. "
   ]
  }
 ],
 "metadata": {
  "kernelspec": {
   "display_name": ".venv",
   "language": "python",
   "name": "python3"
  },
  "language_info": {
   "codemirror_mode": {
    "name": "ipython",
    "version": 3
   },
   "file_extension": ".py",
   "mimetype": "text/x-python",
   "name": "python",
   "nbconvert_exporter": "python",
   "pygments_lexer": "ipython3",
   "version": "3.11.9"
  }
 },
 "nbformat": 4,
 "nbformat_minor": 2
}
