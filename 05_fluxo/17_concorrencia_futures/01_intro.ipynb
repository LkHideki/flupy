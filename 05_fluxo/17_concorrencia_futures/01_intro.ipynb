{
 "cells": [
  {
   "cell_type": "markdown",
   "metadata": {},
   "source": [
    "# Concorrência com Futures"
   ]
  },
  {
   "cell_type": "code",
   "execution_count": 20,
   "metadata": {},
   "outputs": [],
   "source": [
    "import os, requests\n",
    "from concurrent import futures"
   ]
  },
  {
   "cell_type": "code",
   "execution_count": 21,
   "metadata": {},
   "outputs": [],
   "source": [
    "BASEURL = 'http://flupy.org/data/flags'\n",
    "DESTDIR = \"./downloads\"\n",
    "BANDEIRAS = 'cn in br us jp ru mx ph fr de'.split()\n",
    "\n",
    "MAX_WORKERS = 4"
   ]
  },
  {
   "cell_type": "code",
   "execution_count": 22,
   "metadata": {},
   "outputs": [],
   "source": [
    "def get_and_save_one_flag(country: str) -> None:\n",
    "    img = requests.get(BASEURL + f\"/{country}/{country}.gif\")\n",
    "    with open(os.path.join(DESTDIR, country+\".gif\"), 'wb') as fp:\n",
    "        fp.write(img.content)\n",
    "\n",
    "def download_many():\n",
    "    workers = min(MAX_WORKERS, len(BANDEIRAS))\n",
    "    with futures.ThreadPoolExecutor(workers) as executor:\n",
    "        res = executor.map(get_and_save_one_flag, BANDEIRAS)\n",
    "    return len(list(res))"
   ]
  },
  {
   "cell_type": "code",
   "execution_count": 23,
   "metadata": {},
   "outputs": [
    {
     "data": {
      "text/plain": [
       "10"
      ]
     },
     "execution_count": 23,
     "metadata": {},
     "output_type": "execute_result"
    }
   ],
   "source": [
    "# get_and_save_one_flag(\"br\")\n",
    "download_many()"
   ]
  },
  {
   "cell_type": "code",
   "execution_count": null,
   "metadata": {},
   "outputs": [],
   "source": []
  }
 ],
 "metadata": {
  "kernelspec": {
   "display_name": ".venv",
   "language": "python",
   "name": "python3"
  },
  "language_info": {
   "codemirror_mode": {
    "name": "ipython",
    "version": 3
   },
   "file_extension": ".py",
   "mimetype": "text/x-python",
   "name": "python",
   "nbconvert_exporter": "python",
   "pygments_lexer": "ipython3",
   "version": "3.12.2"
  }
 },
 "nbformat": 4,
 "nbformat_minor": 2
}
