{
 "cells": [
  {
   "cell_type": "markdown",
   "metadata": {},
   "source": [
    "# Concorrência com Futures"
   ]
  },
  {
   "cell_type": "code",
   "execution_count": 1,
   "metadata": {},
   "outputs": [],
   "source": [
    "import os, requests\n",
    "from concurrent import futures"
   ]
  },
  {
   "cell_type": "code",
   "execution_count": 2,
   "metadata": {},
   "outputs": [],
   "source": [
    "BASEURL = 'http://flupy.org/data/flags'\n",
    "DESTDIR = \"./downloads\"\n",
    "BANDEIRAS = 'cn in br us jp ru mx ph fr de'.split()\n",
    "\n",
    "MAX_WORKERS = 4"
   ]
  },
  {
   "cell_type": "code",
   "execution_count": 3,
   "metadata": {},
   "outputs": [],
   "source": [
    "def get_and_save_one_flag(country: str) -> None:\n",
    "    img = requests.get(BASEURL + f\"/{country}/{country}.gif\")\n",
    "    with open(os.path.join(DESTDIR, country+\".gif\"), 'wb') as fp:\n",
    "        fp.write(img.content)\n",
    "\n",
    "def download_many():\n",
    "    workers = min(MAX_WORKERS, len(BANDEIRAS))\n",
    "    with futures.ThreadPoolExecutor(workers) as executor:\n",
    "        res = executor.map(get_and_save_one_flag, BANDEIRAS)\n",
    "    return len(list(res))"
   ]
  },
  {
   "cell_type": "code",
   "execution_count": 23,
   "metadata": {},
   "outputs": [
    {
     "data": {
      "text/plain": [
       "10"
      ]
     },
     "execution_count": 23,
     "metadata": {},
     "output_type": "execute_result"
    }
   ],
   "source": [
    "# get_and_save_one_flag(\"br\")\n",
    "# download_many()"
   ]
  },
  {
   "cell_type": "markdown",
   "metadata": {},
   "source": [
    "## Resumindo\n",
    "\n",
    "O coração da técnica reside em\n",
    "```python\n",
    "with futures.ThreadPoolExecutor(MAX_WORKERS) as executor:\n",
    "    res = executor.map(funcao, iteravel)\n",
    "```\n",
    "em que a `funcao` será aplicada em cada item do `iteravel` como já ocorre na função nativa `map(•)`.\n",
    "\n",
    "A novidade é que MAX_WORKERS (neste caso são 4) processos simultâneos rodarão a `funcao` em cada `iteravel`."
   ]
  },
  {
   "cell_type": "code",
   "execution_count": 13,
   "metadata": {},
   "outputs": [
    {
     "name": "stdout",
     "output_type": "stream",
     "text": [
      "1\n",
      "0\n",
      "4\n",
      "9\n",
      "16\n",
      "25\n",
      "36\n",
      "49\n",
      "64\n",
      "81\n",
      "121\n",
      "100\n",
      "144\n",
      "169\n",
      "Resultado de res: <generator object Executor.map.<locals>.result_iterator at 0x10658c310>\n",
      "Resultado de res, mas em lista:  [0, 1, 4, 9, 16, 25, 36, 49, 64, 81, 100, 121, 144, 169]\n"
     ]
    }
   ],
   "source": [
    "import random\n",
    "from time import sleep\n",
    "\n",
    "\n",
    "def funcao(n):\n",
    "    sleep(2.5+random.random()/2)\n",
    "    n = n * n\n",
    "    print(n)\n",
    "    return n\n",
    "\n",
    "iteravel = range(14)\n",
    "\n",
    "with futures.ThreadPoolExecutor(MAX_WORKERS) as executor:\n",
    "    res = executor.map(funcao, iteravel)\n",
    "\n",
    "print(\"Resultado de res:\", res)\n",
    "print(\"Resultado de res, mas em lista: \", list(res))"
   ]
  },
  {
   "cell_type": "code",
   "execution_count": null,
   "metadata": {},
   "outputs": [],
   "source": []
  }
 ],
 "metadata": {
  "kernelspec": {
   "display_name": ".venv",
   "language": "python",
   "name": "python3"
  },
  "language_info": {
   "codemirror_mode": {
    "name": "ipython",
    "version": 3
   },
   "file_extension": ".py",
   "mimetype": "text/x-python",
   "name": "python",
   "nbconvert_exporter": "python",
   "pygments_lexer": "ipython3",
   "version": "3.12.2"
  }
 },
 "nbformat": 4,
 "nbformat_minor": 2
}
