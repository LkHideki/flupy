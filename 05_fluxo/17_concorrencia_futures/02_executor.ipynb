{
 "cells": [
  {
   "cell_type": "markdown",
   "metadata": {},
   "source": [
    "# Agendando eventos futuros"
   ]
  },
  {
   "cell_type": "code",
   "execution_count": 5,
   "metadata": {},
   "outputs": [],
   "source": [
    "from concurrent.futures import ThreadPoolExecutor\n",
    "import random\n",
    "from time import sleep"
   ]
  },
  {
   "cell_type": "markdown",
   "metadata": {},
   "source": [
    "O nosso script inicial é"
   ]
  },
  {
   "cell_type": "code",
   "execution_count": 10,
   "metadata": {},
   "outputs": [
    {
     "name": "stdout",
     "output_type": "stream",
     "text": [
      "2\n",
      "1\n",
      "3\n",
      "5\n",
      "4\n",
      "6\n",
      "7\n",
      "8\n",
      "9\n",
      "10\n",
      "1, 4, 9, 16, 25, 36, 49, 64, 81, 100, "
     ]
    }
   ],
   "source": [
    "def funcao(n):\n",
    "    sleep(0.4+random.random()/1.5)\n",
    "    print(n)\n",
    "    n = n * n\n",
    "    return n\n",
    "\n",
    "with ThreadPoolExecutor(3) as executor:\n",
    "    res = executor.map(funcao, range(1,11))\n",
    "\n",
    "for e in res: print(e, end=', ')"
   ]
  },
  {
   "cell_type": "markdown",
   "metadata": {},
   "source": [
    "e agora queremos agendar eventos futuros"
   ]
  },
  {
   "cell_type": "code",
   "execution_count": 13,
   "metadata": {},
   "outputs": [
    {
     "name": "stdout",
     "output_type": "stream",
     "text": [
      "Execução do 1 agendada! <Future at 0x103989b80 state=running>\n",
      "Execução do 2 agendada! <Future at 0x103ebd970 state=running>\n",
      "Execução do 3 agendada! <Future at 0x103ebde50 state=running>\n",
      "Execução do 4 agendada! <Future at 0x103806240 state=pending>\n",
      "Execução do 5 agendada! <Future at 0x103ebff20 state=pending>\n",
      "Execução do 6 agendada! <Future at 0x103ee8fb0 state=pending>\n",
      "Execução do 7 agendada! <Future at 0x103ee9970 state=pending>\n",
      "Execução do 8 agendada! <Future at 0x103eea750 state=pending>\n",
      "Execução do 9 agendada! <Future at 0x103eebda0 state=pending>\n",
      "Execução do 10 agendada! <Future at 0x103eeb170 state=pending>\n",
      "--------------------\n",
      "Resultado 36\n",
      "Resultado 81\n",
      "Resultado 1\n",
      "Resultado 100\n",
      "Resultado 64\n",
      "Resultado 25\n",
      "Resultado 9\n",
      "Resultado 16\n",
      "Resultado 4\n",
      "Resultado 49\n"
     ]
    }
   ],
   "source": [
    "from concurrent.futures import as_completed\n",
    "\n",
    "def funcao(n):\n",
    "    sleep(0.4+random.random()/1.5)\n",
    "    n = n * n\n",
    "    return n\n",
    "\n",
    "eventos_agendados = []\n",
    "with ThreadPoolExecutor(3) as executor:\n",
    "    for n in range(1,11):\n",
    "        evento = executor.submit(funcao, n)\n",
    "        eventos_agendados.append(evento)\n",
    "        print(f'Execução do {n} agendada! {evento}')\n",
    "\n",
    "print('-'*20)\n",
    "\n",
    "resultados = []\n",
    "for evento in as_completed(eventos_agendados):\n",
    "    print('Resultado', evento.result())"
   ]
  }
 ],
 "metadata": {
  "kernelspec": {
   "display_name": ".venv",
   "language": "python",
   "name": "python3"
  },
  "language_info": {
   "codemirror_mode": {
    "name": "ipython",
    "version": 3
   },
   "file_extension": ".py",
   "mimetype": "text/x-python",
   "name": "python",
   "nbconvert_exporter": "python",
   "pygments_lexer": "ipython3",
   "version": "3.12.3"
  }
 },
 "nbformat": 4,
 "nbformat_minor": 2
}
