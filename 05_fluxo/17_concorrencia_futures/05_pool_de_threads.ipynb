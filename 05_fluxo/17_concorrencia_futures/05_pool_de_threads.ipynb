{
 "cells": [
  {
   "cell_type": "markdown",
   "metadata": {},
   "source": [
    "# Fazendo experimentos com `Executor.map`\n",
    "\n",
    "Vamos invocar vários objetos de modo concorrente."
   ]
  },
  {
   "cell_type": "code",
   "execution_count": 1,
   "metadata": {},
   "outputs": [],
   "source": [
    "from time import sleep, strftime\n",
    "from concurrent import futures"
   ]
  },
  {
   "cell_type": "code",
   "execution_count": 3,
   "metadata": {},
   "outputs": [],
   "source": [
    "def display(*args):\n",
    "    print(strftime('[%H:%M:%S]'), end=' ')\n",
    "    print(*args)\n",
    "\n",
    "def loiter(n):\n",
    "    display('\\t'* n + f\"loiter({n}): fazendo nada por {n}s...\")\n",
    "    sleep(n)\n",
    "    display('\\t'* n + f\"loiter({n}): finalizado.\")\n",
    "    return n * 10"
   ]
  },
  {
   "cell_type": "code",
   "execution_count": 11,
   "metadata": {},
   "outputs": [],
   "source": [
    "def main(max_workers = 3, upper_bound_range=5):\n",
    "    display('Script iniciado.')\n",
    "    executor = futures.ThreadPoolExecutor(max_workers)\n",
    "    results = executor.map(loiter, range(upper_bound_range))\n",
    "    display('Resultados:', results)\n",
    "    display('Aguardando os resultados individuais...')\n",
    "    for i, result in enumerate(results):\n",
    "        display(f'resultado {i}: {result}')"
   ]
  },
  {
   "cell_type": "code",
   "execution_count": 5,
   "metadata": {},
   "outputs": [
    {
     "name": "stdout",
     "output_type": "stream",
     "text": [
      "[13:34:04] Script iniciado.\n",
      "[13:34:04] loiter(0): fazendo nada por 0s...\n",
      "[13:34:04] loiter(0): finalizado.\n",
      "[13:34:04] \tloiter(1): fazendo nada por 1s...\n",
      "[13:34:04] \t\tloiter(2): fazendo nada por 2s...\n",
      "[13:34:04] \t\t\tloiter(3): fazendo nada por 3s...\n",
      "[13:34:04] Resultados: <generator object Executor.map.<locals>.result_iterator at 0x105fe6020>\n",
      "[13:34:04] Aguardando os resultados individuais...\n",
      "[13:34:04] resultado 0: 0\n",
      "[13:34:05] \tloiter(1): finalizado.\n",
      "[13:34:05] \t\t\t\tloiter(4): fazendo nada por 4s...\n",
      "[13:34:05] resultado 1: 10\n",
      "[13:34:06] \t\tloiter(2): finalizado.\n",
      "[13:34:06] resultado 2: 20\n",
      "[13:34:07] \t\t\tloiter(3): finalizado.\n",
      "[13:34:07] resultado 3: 30\n",
      "[13:34:09] \t\t\t\tloiter(4): finalizado.\n",
      "[13:34:09] resultado 4: 40\n"
     ]
    }
   ],
   "source": [
    "main()"
   ]
  },
  {
   "cell_type": "code",
   "execution_count": 9,
   "metadata": {},
   "outputs": [
    {
     "name": "stdout",
     "output_type": "stream",
     "text": [
      "[13:36:24] Script iniciado.\n",
      "[13:36:24] loiter(0): fazendo nada por 0s...\n",
      "[13:36:24] loiter(0): finalizado.\n",
      "[13:36:24] \tloiter(1): fazendo nada por 1s...\n",
      "[13:36:24] \t\tloiter(2): fazendo nada por 2s...\n",
      "[13:36:24] Resultados: <generator object Executor.map.<locals>.result_iterator at 0x105fe75b0>\n",
      "[13:36:24] Aguardando os resultados individuais...\n",
      "[13:36:24] resultado 0: 0\n",
      "[13:36:25] \tloiter(1): finalizado.\n",
      "[13:36:25] \t\t\tloiter(3): fazendo nada por 3s...\n",
      "[13:36:25] resultado 1: 10\n",
      "[13:36:26] \t\tloiter(2): finalizado.\n",
      "[13:36:26] \t\t\t\tloiter(4): fazendo nada por 4s...\n",
      "[13:36:26] resultado 2: 20\n",
      "[13:36:28] \t\t\tloiter(3): finalizado.\n",
      "[13:36:28] resultado 3: 30\n",
      "[13:36:30] \t\t\t\tloiter(4): finalizado.\n",
      "[13:36:30] resultado 4: 40\n"
     ]
    }
   ],
   "source": [
    "main(2)"
   ]
  },
  {
   "cell_type": "code",
   "execution_count": 10,
   "metadata": {},
   "outputs": [
    {
     "name": "stdout",
     "output_type": "stream",
     "text": [
      "[13:37:16] Script iniciado.\n",
      "[13:37:16] loiter(0): fazendo nada por 0s...\n",
      "[13:37:16] loiter(0): finalizado.\n",
      "[13:37:16] \tloiter(1): fazendo nada por 1s...\n",
      "[13:37:16] \t\tloiter(2): fazendo nada por 2s...\n",
      "[13:37:16] \t\t\tloiter(3): fazendo nada por 3s...\n",
      "[13:37:16] \t\t\t\tloiter(4): fazendo nada por 4s...\n",
      "[13:37:16] Resultados: <generator object Executor.map.<locals>.result_iterator at 0x105fe7b50>\n",
      "[13:37:16] Aguardando os resultados individuais...\n",
      "[13:37:16] resultado 0: 0\n",
      "[13:37:17] \tloiter(1): finalizado.\n",
      "[13:37:17] resultado 1: 10\n",
      "[13:37:18] \t\tloiter(2): finalizado.\n",
      "[13:37:18] resultado 2: 20\n",
      "[13:37:19] \t\t\tloiter(3): finalizado.\n",
      "[13:37:19] resultado 3: 30\n",
      "[13:37:20] \t\t\t\tloiter(4): finalizado.\n",
      "[13:37:20] resultado 4: 40\n"
     ]
    }
   ],
   "source": [
    "main(4)"
   ]
  },
  {
   "cell_type": "code",
   "execution_count": 14,
   "metadata": {},
   "outputs": [
    {
     "name": "stdout",
     "output_type": "stream",
     "text": [
      "[13:39:38] Script iniciado.\n",
      "[13:39:38] loiter(0): fazendo nada por 0s...\n",
      "[13:39:38] loiter(0): finalizado.\n",
      "[13:39:38] \tloiter(1): fazendo nada por 1s...\n",
      "[13:39:38] \t\tloiter(2): fazendo nada por 2s...\n",
      "[13:39:38] \t\t\tloiter(3): fazendo nada por 3s...\n",
      "[13:39:38] \t\t\t\tloiter(4): fazendo nada por 4s...\n",
      "[13:39:38] \t\t\t\t\tloiter(5): fazendo nada por 5s...\n",
      "[13:39:38] Resultados: <generator object Executor.map.<locals>.result_iterator at 0x11027c4f0>\n",
      "[13:39:38] Aguardando os resultados individuais...\n",
      "[13:39:38] resultado 0: 0\n",
      "[13:39:39] \tloiter(1): finalizado.\n",
      "[13:39:39] \t\t\t\t\t\tloiter(6): fazendo nada por 6s...\n",
      "[13:39:39] resultado 1: 10\n",
      "[13:39:40] \t\tloiter(2): finalizado.\n",
      "[13:39:40] \t\t\t\t\t\t\tloiter(7): fazendo nada por 7s...\n",
      "[13:39:40] resultado 2: 20\n",
      "[13:39:41] \t\t\tloiter(3): finalizado.\n",
      "[13:39:41] \t\t\t\t\t\t\t\tloiter(8): fazendo nada por 8s...\n",
      "[13:39:41] resultado 3: 30\n",
      "[13:39:42] \t\t\t\tloiter(4): finalizado.\n",
      "[13:39:42] \t\t\t\t\t\t\t\t\tloiter(9): fazendo nada por 9s...\n",
      "[13:39:42] resultado 4: 40\n",
      "[13:39:43] \t\t\t\t\tloiter(5): finalizado.\n",
      "[13:39:43] \t\t\t\t\t\t\t\t\t\tloiter(10): fazendo nada por 10s...\n",
      "[13:39:43] resultado 5: 50\n",
      "[13:39:45] \t\t\t\t\t\tloiter(6): finalizado.\n",
      "[13:39:45] \t\t\t\t\t\t\t\t\t\t\tloiter(11): fazendo nada por 11s...\n",
      "[13:39:45] resultado 6: 60\n",
      "[13:39:47] \t\t\t\t\t\t\tloiter(7): finalizado.\n",
      "[13:39:47] \t\t\t\t\t\t\t\t\t\t\t\tloiter(12): fazendo nada por 12s...\n",
      "[13:39:47] resultado 7: 70\n",
      "[13:39:49] \t\t\t\t\t\t\t\tloiter(8): finalizado.\n",
      "[13:39:49] \t\t\t\t\t\t\t\t\t\t\t\t\tloiter(13): fazendo nada por 13s...\n",
      "[13:39:49] resultado 8: 80\n",
      "[13:39:51] \t\t\t\t\t\t\t\t\tloiter(9): finalizado.\n",
      "[13:39:51] resultado 9: 90\n",
      "[13:39:53] \t\t\t\t\t\t\t\t\t\tloiter(10): finalizado.\n",
      "[13:39:53] resultado 10: 100\n",
      "[13:39:56] \t\t\t\t\t\t\t\t\t\t\tloiter(11): finalizado.\n",
      "[13:39:56] resultado 11: 110\n",
      "[13:39:59] \t\t\t\t\t\t\t\t\t\t\t\tloiter(12): finalizado.\n",
      "[13:39:59] resultado 12: 120\n",
      "[13:40:02] \t\t\t\t\t\t\t\t\t\t\t\t\tloiter(13): finalizado.\n",
      "[13:40:02] resultado 13: 130\n"
     ]
    }
   ],
   "source": [
    "main(5,14)"
   ]
  },
  {
   "cell_type": "markdown",
   "metadata": {},
   "source": [
    "Assim fica mais claro como ocorre a execução e como as threads são espertas."
   ]
  },
  {
   "cell_type": "markdown",
   "metadata": {},
   "source": [
    "Na execução acima, fica visível o término de uma thread e o início de outra, porque elas estão espaçadas em 5 linhas diferentes, então se a execução 1 terminou, a 6 acabou de iniciar."
   ]
  },
  {
   "cell_type": "markdown",
   "metadata": {},
   "source": [
    "## Problema\n",
    "\n",
    "Os resultados são enviados na mesma ordem em que as chamadas foram iniciadas. Isso é ruim se você quiser que eles cheguem à medida que ficarem prontos, i.e. a ordem de recebimento deve ser o que ficar pronto primeiro.\n",
    "\n",
    "Então, para enviar os resultados em ordem de prontidão, combinaremos `Executor.submit` para agendar um future e `futures.as_completed` para ir pegando os completos, mas isto será feito só depois."
   ]
  }
 ],
 "metadata": {
  "kernelspec": {
   "display_name": ".venv",
   "language": "python",
   "name": "python3"
  },
  "language_info": {
   "codemirror_mode": {
    "name": "ipython",
    "version": 3
   },
   "file_extension": ".py",
   "mimetype": "text/x-python",
   "name": "python",
   "nbconvert_exporter": "python",
   "pygments_lexer": "ipython3",
   "version": "3.12.3"
  }
 },
 "nbformat": 4,
 "nbformat_minor": 2
}
