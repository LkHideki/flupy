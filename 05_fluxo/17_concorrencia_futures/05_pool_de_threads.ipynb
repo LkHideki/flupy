{
 "cells": [
  {
   "cell_type": "markdown",
   "metadata": {},
   "source": [
    "# Fazendo experimentos com `Executor.map`\n",
    "\n",
    "Vamos invocar vários objetos de modo concorrente."
   ]
  },
  {
   "cell_type": "code",
   "execution_count": 1,
   "metadata": {},
   "outputs": [],
   "source": [
    "from time import sleep, strftime\n",
    "from concurrent import futures"
   ]
  },
  {
   "cell_type": "code",
   "execution_count": 3,
   "metadata": {},
   "outputs": [],
   "source": [
    "def display(*args):\n",
    "    print(strftime('[%H:%M:%S]'), end=' ')\n",
    "    print(*args)\n",
    "\n",
    "def loiter(n):\n",
    "    display('\\t'* n + f\"loiter({n}): fazendo nada por {n}s...\")\n",
    "    sleep(n)\n",
    "    display('\\t'* n + f\"loiter({n}): finalizado.\")\n",
    "    return n * 10"
   ]
  },
  {
   "cell_type": "code",
   "execution_count": 11,
   "metadata": {},
   "outputs": [],
   "source": [
    "def main(max_workers = 3, upper_bound_range=5):\n",
    "    display('Script iniciado.')\n",
    "    executor = futures.ThreadPoolExecutor(max_workers)\n",
    "    results = executor.map(loiter, range(upper_bound_range))\n",
    "    display('Resultados:', results)\n",
    "    display('Aguardando os resultados individuais...')\n",
    "    for i, result in enumerate(results):\n",
    "        display(f'resultado {i}: {result}')"
   ]
  },
  {
   "cell_type": "code",
   "execution_count": 5,
   "metadata": {},
   "outputs": [
    {
     "name": "stdout",
     "output_type": "stream",
     "text": [
      "[13:34:04] Script iniciado.\n",
      "[13:34:04] loiter(0): fazendo nada por 0s...\n",
      "[13:34:04] loiter(0): finalizado.\n",
      "[13:34:04] \tloiter(1): fazendo nada por 1s...\n",
      "[13:34:04] \t\tloiter(2): fazendo nada por 2s...\n",
      "[13:34:04] \t\t\tloiter(3): fazendo nada por 3s...\n",
      "[13:34:04] Resultados: <generator object Executor.map.<locals>.result_iterator at 0x105fe6020>\n",
      "[13:34:04] Aguardando os resultados individuais...\n",
      "[13:34:04] resultado 0: 0\n",
      "[13:34:05] \tloiter(1): finalizado.\n",
      "[13:34:05] \t\t\t\tloiter(4): fazendo nada por 4s...\n",
      "[13:34:05] resultado 1: 10\n",
      "[13:34:06] \t\tloiter(2): finalizado.\n",
      "[13:34:06] resultado 2: 20\n",
      "[13:34:07] \t\t\tloiter(3): finalizado.\n",
      "[13:34:07] resultado 3: 30\n",
      "[13:34:09] \t\t\t\tloiter(4): finalizado.\n",
      "[13:34:09] resultado 4: 40\n"
     ]
    }
   ],
   "source": [
    "main()"
   ]
  },
  {
   "cell_type": "code",
   "execution_count": 9,
   "metadata": {},
   "outputs": [
    {
     "name": "stdout",
     "output_type": "stream",
     "text": [
      "[13:36:24] Script iniciado.\n",
      "[13:36:24] loiter(0): fazendo nada por 0s...\n",
      "[13:36:24] loiter(0): finalizado.\n",
      "[13:36:24] \tloiter(1): fazendo nada por 1s...\n",
      "[13:36:24] \t\tloiter(2): fazendo nada por 2s...\n",
      "[13:36:24] Resultados: <generator object Executor.map.<locals>.result_iterator at 0x105fe75b0>\n",
      "[13:36:24] Aguardando os resultados individuais...\n",
      "[13:36:24] resultado 0: 0\n",
      "[13:36:25] \tloiter(1): finalizado.\n",
      "[13:36:25] \t\t\tloiter(3): fazendo nada por 3s...\n",
      "[13:36:25] resultado 1: 10\n",
      "[13:36:26] \t\tloiter(2): finalizado.\n",
      "[13:36:26] \t\t\t\tloiter(4): fazendo nada por 4s...\n",
      "[13:36:26] resultado 2: 20\n",
      "[13:36:28] \t\t\tloiter(3): finalizado.\n",
      "[13:36:28] resultado 3: 30\n",
      "[13:36:30] \t\t\t\tloiter(4): finalizado.\n",
      "[13:36:30] resultado 4: 40\n"
     ]
    }
   ],
   "source": [
    "main(2)"
   ]
  },
  {
   "cell_type": "code",
   "execution_count": 10,
   "metadata": {},
   "outputs": [
    {
     "name": "stdout",
     "output_type": "stream",
     "text": [
      "[13:37:16] Script iniciado.\n",
      "[13:37:16] loiter(0): fazendo nada por 0s...\n",
      "[13:37:16] loiter(0): finalizado.\n",
      "[13:37:16] \tloiter(1): fazendo nada por 1s...\n",
      "[13:37:16] \t\tloiter(2): fazendo nada por 2s...\n",
      "[13:37:16] \t\t\tloiter(3): fazendo nada por 3s...\n",
      "[13:37:16] \t\t\t\tloiter(4): fazendo nada por 4s...\n",
      "[13:37:16] Resultados: <generator object Executor.map.<locals>.result_iterator at 0x105fe7b50>\n",
      "[13:37:16] Aguardando os resultados individuais...\n",
      "[13:37:16] resultado 0: 0\n",
      "[13:37:17] \tloiter(1): finalizado.\n",
      "[13:37:17] resultado 1: 10\n",
      "[13:37:18] \t\tloiter(2): finalizado.\n",
      "[13:37:18] resultado 2: 20\n",
      "[13:37:19] \t\t\tloiter(3): finalizado.\n",
      "[13:37:19] resultado 3: 30\n",
      "[13:37:20] \t\t\t\tloiter(4): finalizado.\n",
      "[13:37:20] resultado 4: 40\n"
     ]
    }
   ],
   "source": [
    "main(4)"
   ]
  },
  {
   "cell_type": "code",
   "execution_count": null,
   "metadata": {},
   "outputs": [],
   "source": [
    "main(6,30)"
   ]
  }
 ],
 "metadata": {
  "kernelspec": {
   "display_name": ".venv",
   "language": "python",
   "name": "python3"
  },
  "language_info": {
   "codemirror_mode": {
    "name": "ipython",
    "version": 3
   },
   "file_extension": ".py",
   "mimetype": "text/x-python",
   "name": "python",
   "nbconvert_exporter": "python",
   "pygments_lexer": "ipython3",
   "version": "3.12.3"
  }
 },
 "nbformat": 4,
 "nbformat_minor": 2
}
