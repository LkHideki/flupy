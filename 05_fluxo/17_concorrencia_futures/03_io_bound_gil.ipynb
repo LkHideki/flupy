{
 "cells": [
  {
   "cell_type": "markdown",
   "metadata": {},
   "source": [
    "# GIL\n",
    "\n",
    "**Global Interpreter Lock** é a trava que limita a execução de apenas uma thread por vez. Tem no CPython e no PyPy e não tem no Jython e nem no IronPython.\n",
    "\n",
    "Essa trava é importante, pois as estruturas internas de CPython não são seguras para usar com threads.\n",
    "\n",
    "Toda função que bloqueia entrada/saída libera a GIL para executar outra thread.\n",
    "\n",
    "`time.sleep`, por exemplo, libera a GIL para o interpretador fazer outra coisa enquanto espera."
   ]
  },
  {
   "cell_type": "markdown",
   "metadata": {},
   "source": [
    "## Exemplo"
   ]
  },
  {
   "cell_type": "code",
   "execution_count": 21,
   "metadata": {},
   "outputs": [],
   "source": [
    "import threading\n",
    "import time\n",
    "\n",
    "def worker_thread(n_seconds):\n",
    "    print(f\"Thread {threading.current_thread().name} iniciou.\")\n",
    "    time.sleep(n_seconds)\n",
    "    print(f\"Thread {threading.current_thread().name} terminou.\")"
   ]
  },
  {
   "cell_type": "code",
   "execution_count": 22,
   "metadata": {},
   "outputs": [],
   "source": [
    "thread1 = threading.Thread(target=worker_thread, args=(1,), name=\"Thread 1\")\n",
    "thread2 = threading.Thread(target=worker_thread, args=(5,), name=\"Thread 2\")"
   ]
  },
  {
   "cell_type": "code",
   "execution_count": 23,
   "metadata": {},
   "outputs": [
    {
     "name": "stdout",
     "output_type": "stream",
     "text": [
      "Thread Thread 1 iniciou.\n",
      "Thread Thread 2 iniciou.\n",
      "Thread Thread 1 terminou.\n",
      "Thread Thread 2 terminou.\n"
     ]
    }
   ],
   "source": [
    "thread1.start()\n",
    "thread2.start()\n",
    "\n",
    "thread1.join()\n",
    "thread2.join()"
   ]
  },
  {
   "cell_type": "markdown",
   "metadata": {},
   "source": [
    "Eles começam juntos, a thread 1 termina em 1s e a thread 2 só conclui em 5s.\n",
    "\n",
    "De fato, o `time.sleep` liberou a trava para iniciar a thread 2 depois de ter iniciado a thread 1."
   ]
  }
 ],
 "metadata": {
  "kernelspec": {
   "display_name": ".venv",
   "language": "python",
   "name": "python3"
  },
  "language_info": {
   "codemirror_mode": {
    "name": "ipython",
    "version": 3
   },
   "file_extension": ".py",
   "mimetype": "text/x-python",
   "name": "python",
   "nbconvert_exporter": "python",
   "pygments_lexer": "ipython3",
   "version": "3.12.3"
  }
 },
 "nbformat": 4,
 "nbformat_minor": 2
}
