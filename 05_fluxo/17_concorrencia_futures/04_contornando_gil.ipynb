{
 "cells": [
  {
   "cell_type": "markdown",
   "metadata": {},
   "source": [
    "# Dando um chapéu na *limitação*\n",
    "\n",
    "Usando o pool de processos, podemos fazer uso de mais núcleos de cpu."
   ]
  },
  {
   "cell_type": "code",
   "execution_count": null,
   "metadata": {},
   "outputs": [],
   "source": [
    "from concurrent.futures import ProcessPoolExecutor"
   ]
  },
  {
   "cell_type": "markdown",
   "metadata": {},
   "source": [
    "`ProcessPoolExecutor` tem como, opcional, `max_workers` o número de cores de cpu disponíveis retornado por\n",
    "\n",
    "```python\n",
    "from os import cpu_count\n",
    "cpu_count()\n",
    "```"
   ]
  },
  {
   "cell_type": "code",
   "execution_count": null,
   "metadata": {},
   "outputs": [],
   "source": [
    "from random import random\n",
    "from time import sleep\n",
    "\n",
    "def funcao_bla(x):\n",
    "    sleep(random()*2)\n",
    "    print(x)\n",
    "    return x\n",
    "\n",
    "def main():\n",
    "    with ProcessPoolExecutor() as executor:\n",
    "        res = executor.map(funcao_bla, range(1,21))\n",
    "\n",
    "    print(res)\n",
    "\n",
    "if __name__ == \"__main__\":\n",
    "    main()"
   ]
  },
  {
   "cell_type": "markdown",
   "metadata": {},
   "source": [
    "Ah, aqui no ambiente notebook deu problema.\n",
    "\n",
    "Separei o conteúdo da célula acima num arquivo .py e funcionou!"
   ]
  }
 ],
 "metadata": {
  "kernelspec": {
   "display_name": ".venv",
   "language": "python",
   "name": "python3"
  },
  "language_info": {
   "codemirror_mode": {
    "name": "ipython",
    "version": 3
   },
   "file_extension": ".py",
   "mimetype": "text/x-python",
   "name": "python",
   "nbconvert_exporter": "python",
   "pygments_lexer": "ipython3",
   "version": "3.12.3"
  }
 },
 "nbformat": 4,
 "nbformat_minor": 2
}
