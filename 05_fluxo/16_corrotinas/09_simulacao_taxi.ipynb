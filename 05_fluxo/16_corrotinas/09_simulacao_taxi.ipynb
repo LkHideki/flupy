{
 "cells": [
  {
   "cell_type": "markdown",
   "metadata": {},
   "source": [
    "# Simulação da frota de taxis\n",
    "\n",
    "$n \\in \\Bbb{N}$ taxis saem de casa.\n",
    "\n",
    "Cada um faz $m \\in \\Bbb{N}$ corridas e vai pra casa.\n",
    "\n",
    "Cada taxi começa a circular, encontra um passageiro, leva o passageiro, deixa o passageiro e volta a circular.\n",
    "\n",
    "O tempo até achar um passageiro é $t \\sim Exp(\\lambda)$.\n",
    "\n",
    "Para uma exibição mais limpa, considere $\\lceil t\\rceil$.\n",
    "\n",
    "Mudanças de estados de taxis são registradas como eventos.\n",
    "\n",
    "Os taxis 0, 1, 2, ... saem de suas casas nessa ordem e com 5 minutos de diferença."
   ]
  },
  {
   "cell_type": "markdown",
   "metadata": {},
   "source": [
    "## Importações"
   ]
  },
  {
   "cell_type": "code",
   "execution_count": 129,
   "metadata": {},
   "outputs": [],
   "source": [
    "import random\n",
    "import queue\n",
    "from collections import namedtuple\n",
    "from enum import Enum\n",
    "from math import ceil"
   ]
  },
  {
   "cell_type": "markdown",
   "metadata": {},
   "source": [
    "## Constantes"
   ]
  },
  {
   "cell_type": "code",
   "execution_count": 130,
   "metadata": {},
   "outputs": [],
   "source": [
    "DEFAULT_NUMBER_OF_TAXIS = 5\n",
    "DEFAULT_END_TIME = 180\n",
    "SEARCH_DURATION = 3\n",
    "TRIP_DURATION = 13\n",
    "DEPARTURE_INTERVAL = 5"
   ]
  },
  {
   "cell_type": "markdown",
   "metadata": {},
   "source": [
    "## Definição de evento e ações possíveis"
   ]
  },
  {
   "cell_type": "code",
   "execution_count": 131,
   "metadata": {},
   "outputs": [],
   "source": [
    "Evento = namedtuple(\"Evento\", \"instante carro acao\")\n",
    "\n",
    "class Acao(Enum):\n",
    "    SAIU = \"saiu da garagem\"\n",
    "    PEGOU = \"pegou um passageiro\"\n",
    "    DEIXOU = \"deixou o passageiro\"\n",
    "    ACABOU = \"indo pra casa descansar\""
   ]
  },
  {
   "cell_type": "markdown",
   "metadata": {},
   "source": [
    "## Delegante"
   ]
  },
  {
   "cell_type": "code",
   "execution_count": 132,
   "metadata": {},
   "outputs": [],
   "source": [
    "def taxi_processo(carro, corridas, tempo_inicial=0):\n",
    "    tempo = yield Evento(tempo_inicial, carro, Acao.SAIU)\n",
    "    for _ in range(corridas):\n",
    "        tempo = yield Evento(tempo, carro, Acao.PEGOU)\n",
    "        tempo = yield Evento(tempo, carro, Acao.DEIXOU)\n",
    "    yield Evento(tempo, carro, Acao.ACABOU)"
   ]
  },
  {
   "cell_type": "markdown",
   "metadata": {},
   "source": [
    "## Helper"
   ]
  },
  {
   "cell_type": "code",
   "execution_count": 133,
   "metadata": {},
   "outputs": [],
   "source": [
    "def calcula_duracao(acao_anterior):\n",
    "    \"\"\"Calcula a duração da ação usando a distribuição exponencial\"\"\"\n",
    "    if acao_anterior in [Acao.SAIU, Acao.DEIXOU]:\n",
    "        interval = SEARCH_DURATION\n",
    "    elif acao_anterior == Acao.PEGOU:\n",
    "        interval = TRIP_DURATION\n",
    "    elif acao_anterior == Acao.ACABOU:\n",
    "        interval = 1\n",
    "    else:\n",
    "        raise ValueError(f\"Valor inválido para 'acao_anterior': {acao_anterior}\")\n",
    "    return ceil(random.expovariate(1 / interval))"
   ]
  },
  {
   "cell_type": "markdown",
   "metadata": {},
   "source": [
    "## Classe *Simulador*"
   ]
  },
  {
   "cell_type": "code",
   "execution_count": 134,
   "metadata": {},
   "outputs": [],
   "source": [
    "class Simulador:\n",
    "    def __init__(self, processos_list):\n",
    "        self.eventos = queue.PriorityQueue()\n",
    "        self.processos = processos_list\n",
    "\n",
    "    def run(self, tempo_limite):\n",
    "        for proc in self.processos:\n",
    "            primeiro_evento = next(proc)\n",
    "            self.eventos.put(primeiro_evento)\n",
    "\n",
    "        instante_simulacao = 0\n",
    "        while instante_simulacao < tempo_limite:\n",
    "            if self.eventos.empty():\n",
    "                print(\"*** fim dos eventos ***\")\n",
    "                break\n",
    "\n",
    "            evento_atual = self.eventos.get()\n",
    "            instante_simulacao, id_carro, acao_anterior = evento_atual\n",
    "            print(f\"taxi {id_carro}; t={instante_simulacao:3d}:\", id_carro * \"   \", evento_atual)\n",
    "            tempo_seguinte = instante_simulacao + calcula_duracao(acao_anterior)\n",
    "            try:\n",
    "                if 0 <= id_carro < len(self.processos):\n",
    "                    processo_ativo = self.processos[id_carro]\n",
    "                    proximo_evento = processo_ativo.send(tempo_seguinte)\n",
    "            except StopIteration:\n",
    "                # del self.processos[id_carro]\n",
    "                ...\n",
    "            else:\n",
    "                self.eventos.put(proximo_evento)\n",
    "        else:\n",
    "            msg = \"*** Fim da execução da simulação: {} eventos pendentes ***\"\n",
    "            print(msg.format(self.eventos.qsize()))"
   ]
  },
  {
   "cell_type": "markdown",
   "metadata": {},
   "source": [
    "## Rodando a simulação"
   ]
  },
  {
   "cell_type": "code",
   "execution_count": 135,
   "metadata": {},
   "outputs": [
    {
     "name": "stdout",
     "output_type": "stream",
     "text": [
      "taxi 0; t=  0:  Evento(instante=0, carro=0, acao=<Acao.SAIU: 'saiu da garagem'>)\n",
      "taxi 0; t=  4:  Evento(instante=4, carro=0, acao=<Acao.PEGOU: 'pegou um passageiro'>)\n",
      "taxi 1; t=  5:     Evento(instante=5, carro=1, acao=<Acao.SAIU: 'saiu da garagem'>)\n",
      "taxi 1; t=  6:     Evento(instante=6, carro=1, acao=<Acao.PEGOU: 'pegou um passageiro'>)\n",
      "taxi 0; t=  8:  Evento(instante=8, carro=0, acao=<Acao.DEIXOU: 'deixou o passageiro'>)\n",
      "taxi 1; t=  8:     Evento(instante=8, carro=1, acao=<Acao.DEIXOU: 'deixou o passageiro'>)\n",
      "taxi 0; t=  9:  Evento(instante=9, carro=0, acao=<Acao.PEGOU: 'pegou um passageiro'>)\n",
      "taxi 2; t= 10:        Evento(instante=10, carro=2, acao=<Acao.SAIU: 'saiu da garagem'>)\n",
      "taxi 1; t= 11:     Evento(instante=11, carro=1, acao=<Acao.PEGOU: 'pegou um passageiro'>)\n",
      "taxi 2; t= 11:        Evento(instante=11, carro=2, acao=<Acao.PEGOU: 'pegou um passageiro'>)\n",
      "taxi 3; t= 15:           Evento(instante=15, carro=3, acao=<Acao.SAIU: 'saiu da garagem'>)\n",
      "taxi 1; t= 17:     Evento(instante=17, carro=1, acao=<Acao.DEIXOU: 'deixou o passageiro'>)\n",
      "taxi 1; t= 19:     Evento(instante=19, carro=1, acao=<Acao.PEGOU: 'pegou um passageiro'>)\n",
      "taxi 1; t= 20:     Evento(instante=20, carro=1, acao=<Acao.DEIXOU: 'deixou o passageiro'>)\n",
      "taxi 4; t= 20:              Evento(instante=20, carro=4, acao=<Acao.SAIU: 'saiu da garagem'>)\n",
      "taxi 0; t= 24:  Evento(instante=24, carro=0, acao=<Acao.DEIXOU: 'deixou o passageiro'>)\n",
      "taxi 1; t= 25:     Evento(instante=25, carro=1, acao=<Acao.PEGOU: 'pegou um passageiro'>)\n",
      "taxi 0; t= 26:  Evento(instante=26, carro=0, acao=<Acao.ACABOU: 'indo pra casa descansar'>)\n",
      "taxi 3; t= 26:           Evento(instante=26, carro=3, acao=<Acao.PEGOU: 'pegou um passageiro'>)\n",
      "taxi 4; t= 27:              Evento(instante=27, carro=4, acao=<Acao.PEGOU: 'pegou um passageiro'>)\n",
      "taxi 1; t= 28:     Evento(instante=28, carro=1, acao=<Acao.DEIXOU: 'deixou o passageiro'>)\n",
      "taxi 4; t= 28:              Evento(instante=28, carro=4, acao=<Acao.DEIXOU: 'deixou o passageiro'>)\n",
      "taxi 1; t= 30:     Evento(instante=30, carro=1, acao=<Acao.ACABOU: 'indo pra casa descansar'>)\n",
      "taxi 4; t= 31:              Evento(instante=31, carro=4, acao=<Acao.PEGOU: 'pegou um passageiro'>)\n",
      "taxi 2; t= 33:        Evento(instante=33, carro=2, acao=<Acao.DEIXOU: 'deixou o passageiro'>)\n",
      "taxi 2; t= 34:        Evento(instante=34, carro=2, acao=<Acao.PEGOU: 'pegou um passageiro'>)\n",
      "taxi 3; t= 36:           Evento(instante=36, carro=3, acao=<Acao.DEIXOU: 'deixou o passageiro'>)\n",
      "taxi 3; t= 39:           Evento(instante=39, carro=3, acao=<Acao.PEGOU: 'pegou um passageiro'>)\n",
      "taxi 2; t= 42:        Evento(instante=42, carro=2, acao=<Acao.DEIXOU: 'deixou o passageiro'>)\n",
      "taxi 2; t= 43:        Evento(instante=43, carro=2, acao=<Acao.PEGOU: 'pegou um passageiro'>)\n",
      "taxi 3; t= 43:           Evento(instante=43, carro=3, acao=<Acao.DEIXOU: 'deixou o passageiro'>)\n",
      "taxi 4; t= 47:              Evento(instante=47, carro=4, acao=<Acao.DEIXOU: 'deixou o passageiro'>)\n",
      "taxi 3; t= 49:           Evento(instante=49, carro=3, acao=<Acao.PEGOU: 'pegou um passageiro'>)\n",
      "taxi 4; t= 51:              Evento(instante=51, carro=4, acao=<Acao.PEGOU: 'pegou um passageiro'>)\n",
      "taxi 3; t= 59:           Evento(instante=59, carro=3, acao=<Acao.DEIXOU: 'deixou o passageiro'>)\n",
      "taxi 2; t= 60:        Evento(instante=60, carro=2, acao=<Acao.DEIXOU: 'deixou o passageiro'>)\n",
      "taxi 2; t= 66:        Evento(instante=66, carro=2, acao=<Acao.PEGOU: 'pegou um passageiro'>)\n",
      "taxi 2; t= 68:        Evento(instante=68, carro=2, acao=<Acao.DEIXOU: 'deixou o passageiro'>)\n",
      "taxi 3; t= 68:           Evento(instante=68, carro=3, acao=<Acao.PEGOU: 'pegou um passageiro'>)\n",
      "taxi 2; t= 69:        Evento(instante=69, carro=2, acao=<Acao.PEGOU: 'pegou um passageiro'>)\n",
      "taxi 3; t= 72:           Evento(instante=72, carro=3, acao=<Acao.DEIXOU: 'deixou o passageiro'>)\n",
      "taxi 4; t= 72:              Evento(instante=72, carro=4, acao=<Acao.DEIXOU: 'deixou o passageiro'>)\n",
      "taxi 4; t= 73:              Evento(instante=73, carro=4, acao=<Acao.PEGOU: 'pegou um passageiro'>)\n",
      "taxi 3; t= 79:           Evento(instante=79, carro=3, acao=<Acao.PEGOU: 'pegou um passageiro'>)\n",
      "taxi 3; t= 81:           Evento(instante=81, carro=3, acao=<Acao.DEIXOU: 'deixou o passageiro'>)\n",
      "taxi 2; t= 86:        Evento(instante=86, carro=2, acao=<Acao.DEIXOU: 'deixou o passageiro'>)\n",
      "taxi 4; t= 87:              Evento(instante=87, carro=4, acao=<Acao.DEIXOU: 'deixou o passageiro'>)\n",
      "taxi 2; t= 89:        Evento(instante=89, carro=2, acao=<Acao.PEGOU: 'pegou um passageiro'>)\n",
      "taxi 3; t= 91:           Evento(instante=91, carro=3, acao=<Acao.PEGOU: 'pegou um passageiro'>)\n",
      "taxi 4; t= 92:              Evento(instante=92, carro=4, acao=<Acao.PEGOU: 'pegou um passageiro'>)\n",
      "taxi 2; t= 93:        Evento(instante=93, carro=2, acao=<Acao.DEIXOU: 'deixou o passageiro'>)\n",
      "taxi 3; t= 93:           Evento(instante=93, carro=3, acao=<Acao.DEIXOU: 'deixou o passageiro'>)\n",
      "taxi 4; t= 93:              Evento(instante=93, carro=4, acao=<Acao.DEIXOU: 'deixou o passageiro'>)\n",
      "taxi 4; t= 97:              Evento(instante=97, carro=4, acao=<Acao.PEGOU: 'pegou um passageiro'>)\n",
      "taxi 4; t= 99:              Evento(instante=99, carro=4, acao=<Acao.DEIXOU: 'deixou o passageiro'>)\n",
      "taxi 3; t=101:           Evento(instante=101, carro=3, acao=<Acao.PEGOU: 'pegou um passageiro'>)\n",
      "taxi 2; t=103:        Evento(instante=103, carro=2, acao=<Acao.ACABOU: 'indo pra casa descansar'>)\n",
      "taxi 4; t=107:              Evento(instante=107, carro=4, acao=<Acao.PEGOU: 'pegou um passageiro'>)\n",
      "taxi 4; t=109:              Evento(instante=109, carro=4, acao=<Acao.DEIXOU: 'deixou o passageiro'>)\n",
      "taxi 3; t=110:           Evento(instante=110, carro=3, acao=<Acao.DEIXOU: 'deixou o passageiro'>)\n",
      "taxi 4; t=110:              Evento(instante=110, carro=4, acao=<Acao.PEGOU: 'pegou um passageiro'>)\n",
      "taxi 3; t=111:           Evento(instante=111, carro=3, acao=<Acao.PEGOU: 'pegou um passageiro'>)\n",
      "taxi 4; t=119:              Evento(instante=119, carro=4, acao=<Acao.DEIXOU: 'deixou o passageiro'>)\n",
      "taxi 4; t=122:              Evento(instante=122, carro=4, acao=<Acao.PEGOU: 'pegou um passageiro'>)\n",
      "taxi 3; t=134:           Evento(instante=134, carro=3, acao=<Acao.DEIXOU: 'deixou o passageiro'>)\n",
      "taxi 3; t=137:           Evento(instante=137, carro=3, acao=<Acao.ACABOU: 'indo pra casa descansar'>)\n",
      "taxi 4; t=146:              Evento(instante=146, carro=4, acao=<Acao.DEIXOU: 'deixou o passageiro'>)\n",
      "taxi 4; t=147:              Evento(instante=147, carro=4, acao=<Acao.PEGOU: 'pegou um passageiro'>)\n",
      "taxi 4; t=148:              Evento(instante=148, carro=4, acao=<Acao.DEIXOU: 'deixou o passageiro'>)\n",
      "taxi 4; t=150:              Evento(instante=150, carro=4, acao=<Acao.ACABOU: 'indo pra casa descansar'>)\n",
      "*** fim dos eventos ***\n"
     ]
    }
   ],
   "source": [
    "def main(end_time=DEFAULT_END_TIME, num_taxis=DEFAULT_NUMBER_OF_TAXIS):\n",
    "    taxis = [\n",
    "        taxi_processo(i, (i + 1) * 2, i * DEPARTURE_INTERVAL)\n",
    "        for i in range(num_taxis)\n",
    "    ]\n",
    "\n",
    "    sim = Simulador(taxis)\n",
    "    sim.run(end_time)\n",
    "\n",
    "\n",
    "main()"
   ]
  },
  {
   "cell_type": "code",
   "execution_count": null,
   "metadata": {},
   "outputs": [],
   "source": []
  }
 ],
 "metadata": {
  "kernelspec": {
   "display_name": ".venv",
   "language": "python",
   "name": "python3"
  },
  "language_info": {
   "codemirror_mode": {
    "name": "ipython",
    "version": 3
   },
   "file_extension": ".py",
   "mimetype": "text/x-python",
   "name": "python",
   "nbconvert_exporter": "python",
   "pygments_lexer": "ipython3",
   "version": "3.12.3"
  }
 },
 "nbformat": 4,
 "nbformat_minor": 2
}
