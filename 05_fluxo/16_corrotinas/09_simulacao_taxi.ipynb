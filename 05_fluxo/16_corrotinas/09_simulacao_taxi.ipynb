{
 "cells": [
  {
   "cell_type": "markdown",
   "metadata": {},
   "source": [
    "# Simulação da frota de taxis\n",
    "\n",
    "$n \\in \\Bbb{N}$ taxis saem de casa.\n",
    "\n",
    "Cada um faz $m \\in \\Bbb{N}$ corridas e vai pra casa.\n",
    "\n",
    "Cada taxi começa a circular, encontra um passageiro, leva o passageiro, deixa o passageiro e volta a circular.\n",
    "\n",
    "O tempo até achar um passageiro é $t \\sim Exp(\\lambda)$.\n",
    "\n",
    "Para uma exibição mais limpa, considere $\\lceil t\\rceil$.\n",
    "\n",
    "Mudanças de estados de taxis são registradas como eventos.\n",
    "\n",
    "Os taxis 0, 1, 2, ... saem de suas casas nessa ordem e com 5 minutos de diferença."
   ]
  }
 ],
 "metadata": {
  "kernelspec": {
   "display_name": ".venv",
   "language": "python",
   "name": "python3"
  },
  "language_info": {
   "codemirror_mode": {
    "name": "ipython",
    "version": 3
   },
   "file_extension": ".py",
   "mimetype": "text/x-python",
   "name": "python",
   "nbconvert_exporter": "python",
   "pygments_lexer": "ipython3",
   "version": "3.12.2"
  }
 },
 "nbformat": 4,
 "nbformat_minor": 2
}
