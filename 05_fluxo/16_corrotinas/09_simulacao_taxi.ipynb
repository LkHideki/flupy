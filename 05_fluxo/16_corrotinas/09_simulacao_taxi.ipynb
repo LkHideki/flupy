{
 "cells": [
  {
   "cell_type": "markdown",
   "metadata": {},
   "source": [
    "# Simulação da frota de taxis\n",
    "\n",
    "$n \\in \\Bbb{N}$ taxis saem de casa.\n",
    "\n",
    "Cada um faz 3 corridas e vai pra casa.\n",
    "\n",
    "Cada taxi começa a circular, encontra um passageiro, leva o passageiro, deixa o passageiro e volta a circular.\n",
    "\n",
    "O tempo até achar um passageiro é $t \\sim Exp(\\lambda)$.\n",
    "\n",
    "Para uma exibição mais limpa, considere $\\lceil t\\rceil$.\n",
    "\n",
    "Mudanças de estados de taxis são registradas como eventos.\n",
    "\n",
    "Os taxis 0, 1, 2, ... saem de suas casas nessa ordem e com 5 minutos de diferença."
   ]
  },
  {
   "cell_type": "markdown",
   "metadata": {},
   "source": [
    "## Importações"
   ]
  },
  {
   "cell_type": "code",
   "execution_count": 41,
   "metadata": {},
   "outputs": [],
   "source": [
    "import random\n",
    "import queue\n",
    "from collections import namedtuple\n",
    "from enum import Enum\n",
    "from math import ceil"
   ]
  },
  {
   "cell_type": "markdown",
   "metadata": {},
   "source": [
    "## Constantes"
   ]
  },
  {
   "cell_type": "code",
   "execution_count": 42,
   "metadata": {},
   "outputs": [],
   "source": [
    "DEFAULT_NUMBER_OF_TAXIS = 5\n",
    "DEFAULT_END_TIME = 80\n",
    "SEARCH_DURATION = 3\n",
    "TRIP_DURATION = 13\n",
    "DEPARTURE_INTERVAL = 5\n",
    "\n",
    "class Acao(Enum):\n",
    "    SAIU = \"saiu da garagem\"\n",
    "    PEGOU = \"pegou um passageiro\"\n",
    "    DEIXOU = \"deixou o passageiro\"\n",
    "    ACABOU = \"indo pra casa descansar\""
   ]
  },
  {
   "cell_type": "markdown",
   "metadata": {},
   "source": [
    "## Definição de evento"
   ]
  },
  {
   "cell_type": "code",
   "execution_count": 43,
   "metadata": {},
   "outputs": [],
   "source": [
    "Evento = namedtuple(\"Evento\", \"instante carro acao\")"
   ]
  },
  {
   "cell_type": "markdown",
   "metadata": {},
   "source": [
    "## Delegante"
   ]
  },
  {
   "cell_type": "code",
   "execution_count": 44,
   "metadata": {},
   "outputs": [],
   "source": [
    "def taxi_processo(carro, qtd_corridas=3, tempo_inicial=0):\n",
    "    tempo = yield Evento(tempo_inicial, carro, Acao.SAIU)\n",
    "    for _ in range(qtd_corridas):\n",
    "        tempo = yield Evento(tempo, carro, Acao.PEGOU)\n",
    "        tempo = yield Evento(tempo, carro, Acao.DEIXOU)\n",
    "    yield Evento(tempo, carro, Acao.ACABOU)"
   ]
  },
  {
   "cell_type": "markdown",
   "metadata": {},
   "source": [
    "## Helper"
   ]
  },
  {
   "cell_type": "code",
   "execution_count": 45,
   "metadata": {},
   "outputs": [],
   "source": [
    "def calcula_duracao(acao_anterior):\n",
    "    \"\"\"Calcula a duração da ação usando a distribuição exponencial\"\"\"\n",
    "    if acao_anterior in [Acao.SAIU, Acao.DEIXOU]:\n",
    "        interval = SEARCH_DURATION\n",
    "    elif acao_anterior == Acao.PEGOU:\n",
    "        interval = TRIP_DURATION\n",
    "    elif acao_anterior == Acao.ACABOU:\n",
    "        interval = 1\n",
    "    else:\n",
    "        raise ValueError(f\"Valor inválido para 'acao_anterior': {acao_anterior}\")\n",
    "    return ceil(random.expovariate(1 / interval))"
   ]
  },
  {
   "cell_type": "markdown",
   "metadata": {},
   "source": [
    "## Classe *Simulador*"
   ]
  },
  {
   "cell_type": "code",
   "execution_count": 46,
   "metadata": {},
   "outputs": [],
   "source": [
    "class Simulador:\n",
    "    def __init__(self, processos_list):\n",
    "        self.eventos = queue.PriorityQueue()\n",
    "        self.processos = processos_list\n",
    "\n",
    "    def run(self, tempo_limite):\n",
    "        for proc in self.processos:\n",
    "            primeiro_evento = next(proc)\n",
    "            self.eventos.put(primeiro_evento)\n",
    "\n",
    "        instante_simulacao = 0\n",
    "        while instante_simulacao < tempo_limite:\n",
    "            if self.eventos.empty():\n",
    "                print(\"*** fim dos eventos ***\")\n",
    "                break\n",
    "\n",
    "            evento_atual = self.eventos.get()\n",
    "            instante_simulacao, id_carro, acao_anterior = evento_atual\n",
    "            print(f\"taxi {id_carro}; t={instante_simulacao:3d}:\", id_carro * \"   \", evento_atual)\n",
    "            tempo_seguinte = instante_simulacao + calcula_duracao(acao_anterior)\n",
    "            try:\n",
    "                if 0 <= id_carro < len(self.processos):\n",
    "                    processo_ativo = self.processos[id_carro]\n",
    "                    proximo_evento = processo_ativo.send(tempo_seguinte)\n",
    "            except StopIteration:\n",
    "                pass\n",
    "            else:\n",
    "                self.eventos.put(proximo_evento)\n",
    "        else:\n",
    "            msg = \"*** Fim da execução da simulação: {} eventos pendentes ***\"\n",
    "            print(msg.format(self.eventos.qsize()))"
   ]
  },
  {
   "cell_type": "markdown",
   "metadata": {},
   "source": [
    "## Rodando a simulação"
   ]
  },
  {
   "cell_type": "code",
   "execution_count": 47,
   "metadata": {},
   "outputs": [
    {
     "name": "stdout",
     "output_type": "stream",
     "text": [
      "taxi 0; t=  0:  Evento(instante=0, carro=0, acao=<Acao.SAIU: 'saiu da garagem'>)\n",
      "taxi 0; t=  1:  Evento(instante=1, carro=0, acao=<Acao.PEGOU: 'pegou um passageiro'>)\n",
      "taxi 0; t=  2:  Evento(instante=2, carro=0, acao=<Acao.DEIXOU: 'deixou o passageiro'>)\n",
      "taxi 0; t=  3:  Evento(instante=3, carro=0, acao=<Acao.PEGOU: 'pegou um passageiro'>)\n",
      "taxi 1; t=  5:     Evento(instante=5, carro=1, acao=<Acao.SAIU: 'saiu da garagem'>)\n",
      "taxi 1; t=  6:     Evento(instante=6, carro=1, acao=<Acao.PEGOU: 'pegou um passageiro'>)\n",
      "taxi 2; t= 10:        Evento(instante=10, carro=2, acao=<Acao.SAIU: 'saiu da garagem'>)\n",
      "taxi 2; t= 12:        Evento(instante=12, carro=2, acao=<Acao.PEGOU: 'pegou um passageiro'>)\n",
      "taxi 3; t= 15:           Evento(instante=15, carro=3, acao=<Acao.SAIU: 'saiu da garagem'>)\n",
      "taxi 1; t= 20:     Evento(instante=20, carro=1, acao=<Acao.DEIXOU: 'deixou o passageiro'>)\n",
      "taxi 4; t= 20:              Evento(instante=20, carro=4, acao=<Acao.SAIU: 'saiu da garagem'>)\n",
      "taxi 1; t= 21:     Evento(instante=21, carro=1, acao=<Acao.PEGOU: 'pegou um passageiro'>)\n",
      "taxi 4; t= 21:              Evento(instante=21, carro=4, acao=<Acao.PEGOU: 'pegou um passageiro'>)\n",
      "taxi 1; t= 23:     Evento(instante=23, carro=1, acao=<Acao.DEIXOU: 'deixou o passageiro'>)\n",
      "taxi 3; t= 23:           Evento(instante=23, carro=3, acao=<Acao.PEGOU: 'pegou um passageiro'>)\n",
      "taxi 1; t= 24:     Evento(instante=24, carro=1, acao=<Acao.ACABOU: 'indo pra casa descansar'>)\n",
      "taxi 4; t= 27:              Evento(instante=27, carro=4, acao=<Acao.DEIXOU: 'deixou o passageiro'>)\n",
      "taxi 4; t= 31:              Evento(instante=31, carro=4, acao=<Acao.PEGOU: 'pegou um passageiro'>)\n",
      "taxi 2; t= 34:        Evento(instante=34, carro=2, acao=<Acao.DEIXOU: 'deixou o passageiro'>)\n",
      "taxi 2; t= 35:        Evento(instante=35, carro=2, acao=<Acao.PEGOU: 'pegou um passageiro'>)\n",
      "taxi 4; t= 38:              Evento(instante=38, carro=4, acao=<Acao.DEIXOU: 'deixou o passageiro'>)\n",
      "taxi 2; t= 39:        Evento(instante=39, carro=2, acao=<Acao.DEIXOU: 'deixou o passageiro'>)\n",
      "taxi 4; t= 39:              Evento(instante=39, carro=4, acao=<Acao.ACABOU: 'indo pra casa descansar'>)\n",
      "taxi 0; t= 51:  Evento(instante=51, carro=0, acao=<Acao.DEIXOU: 'deixou o passageiro'>)\n",
      "taxi 0; t= 52:  Evento(instante=52, carro=0, acao=<Acao.ACABOU: 'indo pra casa descansar'>)\n",
      "taxi 2; t= 57:        Evento(instante=57, carro=2, acao=<Acao.ACABOU: 'indo pra casa descansar'>)\n",
      "taxi 3; t= 71:           Evento(instante=71, carro=3, acao=<Acao.DEIXOU: 'deixou o passageiro'>)\n",
      "taxi 3; t= 74:           Evento(instante=74, carro=3, acao=<Acao.PEGOU: 'pegou um passageiro'>)\n",
      "taxi 3; t= 76:           Evento(instante=76, carro=3, acao=<Acao.DEIXOU: 'deixou o passageiro'>)\n",
      "taxi 3; t= 78:           Evento(instante=78, carro=3, acao=<Acao.ACABOU: 'indo pra casa descansar'>)\n",
      "*** fim dos eventos ***\n"
     ]
    }
   ],
   "source": [
    "def main(end_time=DEFAULT_END_TIME, num_taxis=DEFAULT_NUMBER_OF_TAXIS):\n",
    "    taxis = [\n",
    "        taxi_processo(i, 2, i * DEPARTURE_INTERVAL)\n",
    "        for i in range(num_taxis)\n",
    "    ]\n",
    "    sim = Simulador(taxis)\n",
    "    sim.run(end_time)\n",
    "\n",
    "\n",
    "main()"
   ]
  },
  {
   "cell_type": "markdown",
   "metadata": {},
   "source": [
    "A simulação ocorre graças à ordenação automática da fila de prioridades em `Simulação.eventos`, pois isto faz com que os eventos ocorram conforme seu agendamento. Esse é o coração do algoritmo.\n",
    "\n",
    "A corrotina poderia ser substituída por uma função com o processo no closure."
   ]
  }
 ],
 "metadata": {
  "kernelspec": {
   "display_name": ".venv",
   "language": "python",
   "name": "python3"
  },
  "language_info": {
   "codemirror_mode": {
    "name": "ipython",
    "version": 3
   },
   "file_extension": ".py",
   "mimetype": "text/x-python",
   "name": "python",
   "nbconvert_exporter": "python",
   "pygments_lexer": "ipython3",
   "version": "3.12.3"
  }
 },
 "nbformat": 4,
 "nbformat_minor": 2
}
