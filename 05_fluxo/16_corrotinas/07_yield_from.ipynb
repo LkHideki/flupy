{
 "cells": [
  {
   "cell_type": "markdown",
   "metadata": {},
   "source": [
    "# Usando `yield from`\n",
    "\n",
    "Até a publicação da primeira versão do livro, a sintaxe async/await ainda era uma proposta.\n",
    "\n",
    "O gerador abaixo"
   ]
  },
  {
   "cell_type": "code",
   "execution_count": 37,
   "metadata": {},
   "outputs": [],
   "source": [
    "def gen():\n",
    "    for c in 'ABC':\n",
    "        yield c\n",
    "    for i in range(1, 3):\n",
    "        yield i"
   ]
  },
  {
   "cell_type": "code",
   "execution_count": 38,
   "metadata": {},
   "outputs": [
    {
     "data": {
      "text/plain": [
       "['A', 'B', 'C', 1, 2]"
      ]
     },
     "execution_count": 38,
     "metadata": {},
     "output_type": "execute_result"
    }
   ],
   "source": [
    "list(gen())"
   ]
  },
  {
   "cell_type": "markdown",
   "metadata": {},
   "source": [
    "pode ser reescrito assim:"
   ]
  },
  {
   "cell_type": "code",
   "execution_count": 39,
   "metadata": {},
   "outputs": [],
   "source": [
    "def gen2():\n",
    "    yield from 'ABC'\n",
    "    yield from range(1,3)"
   ]
  },
  {
   "cell_type": "code",
   "execution_count": 40,
   "metadata": {},
   "outputs": [
    {
     "data": {
      "text/plain": [
       "['A', 'B', 'C', 1, 2]"
      ]
     },
     "execution_count": 40,
     "metadata": {},
     "output_type": "execute_result"
    }
   ],
   "source": [
    "list(gen2())"
   ]
  },
  {
   "cell_type": "markdown",
   "metadata": {},
   "source": [
    "Outro exemplo com `yield from`"
   ]
  },
  {
   "cell_type": "code",
   "execution_count": 41,
   "metadata": {},
   "outputs": [],
   "source": [
    "def intercalador(*iteraveis):\n",
    "    listas = list(map(tuple, iteraveis))\n",
    "    i = 0\n",
    "    while True:\n",
    "        try:\n",
    "            yield from tuple(l[i] for l in listas)\n",
    "        except:\n",
    "            break\n",
    "        finally:\n",
    "            i+=1"
   ]
  },
  {
   "cell_type": "code",
   "execution_count": 42,
   "metadata": {},
   "outputs": [
    {
     "name": "stdout",
     "output_type": "stream",
     "text": [
      "2\n",
      "a\n",
      "True\n",
      "3\n",
      "b\n",
      "False\n",
      "4\n",
      "c\n",
      "True\n"
     ]
    }
   ],
   "source": [
    "from time import sleep\n",
    "for a in intercalador([2, 3, 4, 5], \"abcdefg\", (True, False, True)):\n",
    "    print(a)\n",
    "    sleep(0.2)"
   ]
  }
 ],
 "metadata": {
  "kernelspec": {
   "display_name": ".venv",
   "language": "python",
   "name": "python3"
  },
  "language_info": {
   "codemirror_mode": {
    "name": "ipython",
    "version": 3
   },
   "file_extension": ".py",
   "mimetype": "text/x-python",
   "name": "python",
   "nbconvert_exporter": "python",
   "pygments_lexer": "ipython3",
   "version": "3.12.2"
  }
 },
 "nbformat": 4,
 "nbformat_minor": 2
}
