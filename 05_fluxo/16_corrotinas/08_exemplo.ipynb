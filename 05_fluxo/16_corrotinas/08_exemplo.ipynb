{
 "cells": [
  {
   "cell_type": "markdown",
   "metadata": {},
   "source": [
    "# O exemplo da altura e peso médios\n",
    "\n",
    "As duas células abaixo foram extraídas do [repositório do livro](https://github.com/fluentpython/example-code/blob/master/16-coroutine/coroaverager3.py)."
   ]
  },
  {
   "cell_type": "code",
   "execution_count": 44,
   "metadata": {},
   "outputs": [],
   "source": [
    "from collections import namedtuple\n",
    "\n",
    "Result = namedtuple('Result', 'count average')\n",
    "\n",
    "# the subgenerator\n",
    "def averager():  # <1>\n",
    "    total = 0.0\n",
    "    count = 0\n",
    "    average = None\n",
    "    while True:\n",
    "        term = yield  # <2>\n",
    "        if term is None:  # <3>\n",
    "            break\n",
    "        total += term\n",
    "        count += 1\n",
    "        average = total/count\n",
    "    return Result(count, average)  # <4>\n",
    "\n",
    "\n",
    "# the delegating generator\n",
    "def grouper(results, key):  # <5>\n",
    "    while True:  # <6>\n",
    "        results[key] = yield from averager()  # <7>\n",
    "\n",
    "\n",
    "# the client code, a.k.a. the caller\n",
    "def main(data):  # <8>\n",
    "    results = {}\n",
    "    for key, values in data.items():\n",
    "        group = grouper(results, key)  # <9>\n",
    "        next(group)  # <10>\n",
    "        for value in values:\n",
    "            group.send(value)  # <11>\n",
    "        group.send(None)  # important! <12>\n",
    "\n",
    "    # print(results)  # uncomment to debug\n",
    "    report(results)\n",
    "\n",
    "\n",
    "# output report\n",
    "def report(results):\n",
    "    for key, result in sorted(results.items()):\n",
    "        group, unit = key.split(';')\n",
    "        print('{:2} {:5} averaging {:.2f}{}'.format(\n",
    "              result.count, group, result.average, unit))\n"
   ]
  },
  {
   "cell_type": "code",
   "execution_count": 45,
   "metadata": {},
   "outputs": [
    {
     "name": "stdout",
     "output_type": "stream",
     "text": [
      " 9 boys  averaging 40.42kg\n",
      " 9 boys  averaging 1.39m\n",
      "10 girls averaging 42.04kg\n",
      "10 girls averaging 1.43m\n"
     ]
    }
   ],
   "source": [
    "data = {\n",
    "    'girls;kg':\n",
    "        [40.9, 38.5, 44.3, 42.2, 45.2, 41.7, 44.5, 38.0, 40.6, 44.5],\n",
    "    'girls;m':\n",
    "        [1.6, 1.51, 1.4, 1.3, 1.41, 1.39, 1.33, 1.46, 1.45, 1.43],\n",
    "    'boys;kg':\n",
    "        [39.0, 40.8, 43.2, 40.8, 43.1, 38.6, 41.4, 40.6, 36.3],\n",
    "    'boys;m':\n",
    "        [1.38, 1.5, 1.32, 1.25, 1.37, 1.48, 1.25, 1.49, 1.46],\n",
    "}\n",
    "\n",
    "main(data)"
   ]
  },
  {
   "cell_type": "markdown",
   "metadata": {},
   "source": [
    "## A minha versão"
   ]
  },
  {
   "cell_type": "markdown",
   "metadata": {},
   "source": [
    "A planilha `08_exemplo.csv` tem a medida gerada por IA dos pesos e alturas de meninos e meninas fictícios."
   ]
  },
  {
   "cell_type": "code",
   "execution_count": 67,
   "metadata": {},
   "outputs": [],
   "source": [
    "Media = namedtuple('Media', 'soma contagem media')\n",
    "\n",
    "# subgerador\n",
    "def calcula_media():\n",
    "    total = 0.0\n",
    "    contagem = 0\n",
    "    termo = yield\n",
    "    while termo is not None:\n",
    "        total += termo\n",
    "        contagem += 1\n",
    "        termo = yield\n",
    "    return Media(round(total, 2), contagem, round(total / max(contagem, 1.0), 2))\n",
    "\n",
    "\n",
    "# delegante\n",
    "def agrupador(medias, chave):\n",
    "    while True:\n",
    "        medias[chave] = yield from calcula_media()\n",
    "\n",
    "\n",
    "# chamador\n",
    "def chamador():\n",
    "    with open('08_medidas.csv', 'r', encoding='utf8') as file:\n",
    "        arquivo = [x.strip().split(',') for x in file.readlines()[1:]]\n",
    "\n",
    "    data = {}\n",
    "    for linha in arquivo:\n",
    "        genero = linha[0]\n",
    "        if f'{genero};m' not in data:\n",
    "            data[f'{genero};m'] = []\n",
    "        if f'{genero};kg' not in data:\n",
    "            data[f'{genero};kg'] = []\n",
    "        data[f'{genero};m'].append(float(linha[1]))\n",
    "        data[f'{genero};kg'].append(float(linha[2]))\n",
    "    \n",
    "\n",
    "    medias = {}\n",
    "    for chave, valor in data.items():\n",
    "        grupo = agrupador(medias, chave)\n",
    "        next(grupo)\n",
    "        for value in valor:\n",
    "            grupo.send(value)\n",
    "        grupo.send(None)  # important!\n",
    "\n",
    "    for chave in medias:\n",
    "        print(chave, medias[chave])"
   ]
  },
  {
   "cell_type": "code",
   "execution_count": 68,
   "metadata": {},
   "outputs": [
    {
     "name": "stdout",
     "output_type": "stream",
     "text": [
      "boy;m Media(soma=2904.03, contagem=19, media=152.84)\n",
      "boy;kg Media(soma=1159.54, contagem=19, media=61.03)\n",
      "girl;m Media(soma=2966.24, contagem=19, media=156.12)\n",
      "girl;kg Media(soma=1192.65, contagem=19, media=62.77)\n"
     ]
    }
   ],
   "source": [
    "chamador()"
   ]
  },
  {
   "cell_type": "code",
   "execution_count": null,
   "metadata": {},
   "outputs": [],
   "source": []
  }
 ],
 "metadata": {
  "kernelspec": {
   "display_name": ".venv",
   "language": "python",
   "name": "python3"
  },
  "language_info": {
   "codemirror_mode": {
    "name": "ipython",
    "version": 3
   },
   "file_extension": ".py",
   "mimetype": "text/x-python",
   "name": "python",
   "nbconvert_exporter": "python",
   "pygments_lexer": "ipython3",
   "version": "3.12.2"
  }
 },
 "nbformat": 4,
 "nbformat_minor": 2
}
