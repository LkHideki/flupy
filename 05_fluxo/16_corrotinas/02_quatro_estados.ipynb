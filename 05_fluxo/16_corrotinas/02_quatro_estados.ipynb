{
 "cells": [
  {
   "cell_type": "markdown",
   "metadata": {},
   "source": [
    "# Um de quatro possíveis estados\n",
    "\n",
    "- *GEN_CREATED*: aguardando início da execução;\n",
    "- *GEN_RUNNING*: em execução;\n",
    "- *GEN_SUSPENDED*: suspenso pelo yield;\n",
    "- *GEN_CLOSED*: terminou de consumir."
   ]
  },
  {
   "cell_type": "code",
   "execution_count": 58,
   "metadata": {},
   "outputs": [],
   "source": [
    "from inspect import getgeneratorstate"
   ]
  },
  {
   "cell_type": "code",
   "execution_count": 59,
   "metadata": {},
   "outputs": [],
   "source": [
    "def coroutine():\n",
    "    print('executando coroutine')\n",
    "    x = yield\n",
    "    while x != 'q':\n",
    "        print(f'O valor enviado é {x}')\n",
    "        x = yield\n",
    "    else:\n",
    "        print('Obrigado por executar a corrotina. Saindo...')"
   ]
  },
  {
   "cell_type": "code",
   "execution_count": 60,
   "metadata": {},
   "outputs": [
    {
     "name": "stdout",
     "output_type": "stream",
     "text": [
      "GEN_CREATED\n",
      "executando coroutine\n",
      "GEN_SUSPENDED\n"
     ]
    }
   ],
   "source": [
    "my_coro = coroutine()\n",
    "print(getgeneratorstate(my_coro))\n",
    "next(my_coro) # etapa de preparação\n",
    "print(getgeneratorstate(my_coro))"
   ]
  },
  {
   "cell_type": "code",
   "execution_count": 61,
   "metadata": {},
   "outputs": [
    {
     "name": "stdout",
     "output_type": "stream",
     "text": [
      "O valor enviado é 10\n"
     ]
    }
   ],
   "source": [
    "my_coro.send(10)"
   ]
  },
  {
   "cell_type": "code",
   "execution_count": 62,
   "metadata": {},
   "outputs": [
    {
     "name": "stdout",
     "output_type": "stream",
     "text": [
      "O valor enviado é True\n"
     ]
    }
   ],
   "source": [
    "my_coro.send(True)"
   ]
  },
  {
   "cell_type": "code",
   "execution_count": 63,
   "metadata": {},
   "outputs": [
    {
     "name": "stdout",
     "output_type": "stream",
     "text": [
      "Obrigado por executar a corrotina. Saindo...\n",
      "StopIteration\n",
      "GEN_CLOSED\n"
     ]
    }
   ],
   "source": [
    "try:\n",
    "    my_coro.send('q')\n",
    "except:\n",
    "    print('StopIteration')\n",
    "finally:\n",
    "    print(getgeneratorstate(my_coro))"
   ]
  }
 ],
 "metadata": {
  "kernelspec": {
   "display_name": ".venv",
   "language": "python",
   "name": "python3"
  },
  "language_info": {
   "codemirror_mode": {
    "name": "ipython",
    "version": 3
   },
   "file_extension": ".py",
   "mimetype": "text/x-python",
   "name": "python",
   "nbconvert_exporter": "python",
   "pygments_lexer": "ipython3",
   "version": "3.12.2"
  }
 },
 "nbformat": 4,
 "nbformat_minor": 2
}
