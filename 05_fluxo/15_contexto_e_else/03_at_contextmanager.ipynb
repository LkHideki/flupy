{
 "cells": [
  {
   "cell_type": "markdown",
   "metadata": {},
   "source": [
    "# O decorator `@contextmanager`\n",
    "\n",
    "Faz tudo o que fizemos na classe `Bla` anterior, mas com a facilidade de só precisar passar um gerador com um único `yield`."
   ]
  },
  {
   "cell_type": "code",
   "execution_count": 1,
   "metadata": {},
   "outputs": [],
   "source": [
    "from contextlib import contextmanager\n",
    "\n",
    "@contextmanager\n",
    "def Bla():\n",
    "    print('Inicializando...')\n",
    "    # faz as coisas aqui\n",
    "    yield\n",
    "    print('Finalizando...')"
   ]
  },
  {
   "cell_type": "code",
   "execution_count": 2,
   "metadata": {},
   "outputs": [
    {
     "name": "stdout",
     "output_type": "stream",
     "text": [
      "Inicializando...\n",
      ".....conteúdo......\n",
      "Finalizando...\n"
     ]
    }
   ],
   "source": [
    "with Bla() as bla:\n",
    "    print('.....conteúdo......')"
   ]
  },
  {
   "cell_type": "markdown",
   "metadata": {},
   "source": [
    "Muito prático. Ah, e se tiver erro..."
   ]
  },
  {
   "cell_type": "code",
   "execution_count": 8,
   "metadata": {},
   "outputs": [
    {
     "name": "stdout",
     "output_type": "stream",
     "text": [
      "Inicializando...\n",
      ".....conteúdo......\n"
     ]
    },
    {
     "ename": "ArithmeticError",
     "evalue": "Algum erro só pra marcar lugar.",
     "output_type": "error",
     "traceback": [
      "\u001b[0;31m---------------------------------------------------------------------------\u001b[0m",
      "\u001b[0;31mArithmeticError\u001b[0m                           Traceback (most recent call last)",
      "Cell \u001b[0;32mIn[8], line 3\u001b[0m\n\u001b[1;32m      1\u001b[0m \u001b[38;5;28;01mwith\u001b[39;00m Bla() \u001b[38;5;28;01mas\u001b[39;00m bla:\n\u001b[1;32m      2\u001b[0m     \u001b[38;5;28mprint\u001b[39m(\u001b[38;5;124m'\u001b[39m\u001b[38;5;124m.....conteúdo......\u001b[39m\u001b[38;5;124m'\u001b[39m)\n\u001b[0;32m----> 3\u001b[0m     \u001b[38;5;28;01mraise\u001b[39;00m \u001b[38;5;167;01mArithmeticError\u001b[39;00m(\u001b[38;5;124m\"\u001b[39m\u001b[38;5;124mAlgum erro só pra marcar lugar.\u001b[39m\u001b[38;5;124m\"\u001b[39m)\n",
      "\u001b[0;31mArithmeticError\u001b[0m: Algum erro só pra marcar lugar."
     ]
    }
   ],
   "source": [
    "with Bla() as bla:\n",
    "    print('.....conteúdo......')\n",
    "    raise ArithmeticError(\"Algum erro só pra marcar lugar.\")"
   ]
  },
  {
   "cell_type": "markdown",
   "metadata": {},
   "source": [
    "Obs: o contexto não é finalizado apropriadamente. Então precisamos tratar o erro na mão:"
   ]
  },
  {
   "cell_type": "code",
   "execution_count": 15,
   "metadata": {},
   "outputs": [],
   "source": [
    "@contextmanager\n",
    "def Ble():\n",
    "    print('Inicializando...')\n",
    "    try:\n",
    "        # faz as coisas aqui\n",
    "        yield\n",
    "    except ArithmeticError as e:\n",
    "        print('Erro aritmético!', e)\n",
    "    else:\n",
    "        print('Deu tudo certo!')\n",
    "    finally:\n",
    "        print('Finalizando...')"
   ]
  },
  {
   "cell_type": "code",
   "execution_count": 18,
   "metadata": {},
   "outputs": [
    {
     "name": "stdout",
     "output_type": "stream",
     "text": [
      "Inicializando...\n",
      ".....conteúdo......\n",
      "Erro aritmético! Algum erro só pra marcar lugar.\n",
      "Finalizando...\n"
     ]
    }
   ],
   "source": [
    "with Ble() as ble:\n",
    "    print('.....conteúdo......')\n",
    "    raise ArithmeticError(\"Algum erro só pra marcar lugar.\")"
   ]
  },
  {
   "cell_type": "code",
   "execution_count": null,
   "metadata": {},
   "outputs": [],
   "source": []
  }
 ],
 "metadata": {
  "kernelspec": {
   "display_name": ".venv",
   "language": "python",
   "name": "python3"
  },
  "language_info": {
   "codemirror_mode": {
    "name": "ipython",
    "version": 3
   },
   "file_extension": ".py",
   "mimetype": "text/x-python",
   "name": "python",
   "nbconvert_exporter": "python",
   "pygments_lexer": "ipython3",
   "version": "3.12.2"
  }
 },
 "nbformat": 4,
 "nbformat_minor": 2
}
