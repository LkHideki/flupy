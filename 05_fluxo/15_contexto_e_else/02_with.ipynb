{
 "cells": [
  {
   "cell_type": "markdown",
   "metadata": {},
   "source": [
    "# Gerenciador de contexto\n",
    "\n",
    "É um protocolo que pede dois métodos:\n",
    "- `__enter__`, que é chamado no início do bloco\n",
    "- `__exit__`, que é chamado no fim do bloco"
   ]
  },
  {
   "cell_type": "code",
   "execution_count": 6,
   "metadata": {},
   "outputs": [
    {
     "name": "stdout",
     "output_type": "stream",
     "text": [
      "Início.\n",
      "{\n",
      "\"cells\": [\n",
      "{\n",
      "\"cell_type\": \"markdown\",\n",
      "\"metadata\": {},\n",
      "\"source\": [\n",
      "\"# Blocos `else`\\n\",\n",
      "Fim.\n"
     ]
    }
   ],
   "source": [
    "with open('01_intro.ipynb', 'r', encoding='utf-8') as notebook:\n",
    "    print('Início.')\n",
    "    for line in notebook.readlines()[:7]:\n",
    "        _line = line.strip()\n",
    "        if _line != '':\n",
    "            print(_line)\n",
    "    print('Fim.')"
   ]
  },
  {
   "cell_type": "markdown",
   "metadata": {},
   "source": [
    "O bloco acima é seguro. E não define escopo:"
   ]
  },
  {
   "cell_type": "code",
   "execution_count": 9,
   "metadata": {},
   "outputs": [
    {
     "data": {
      "text/plain": [
       "<_io.TextIOWrapper name='01_intro.ipynb' mode='r' encoding='utf-8'>"
      ]
     },
     "execution_count": 9,
     "metadata": {},
     "output_type": "execute_result"
    }
   ],
   "source": [
    "notebook"
   ]
  },
  {
   "cell_type": "markdown",
   "metadata": {},
   "source": [
    "## Criando um contexto"
   ]
  },
  {
   "cell_type": "code",
   "execution_count": 12,
   "metadata": {},
   "outputs": [],
   "source": [
    "class Bla:\n",
    "    def __enter__(self):\n",
    "        print('__enter__')\n",
    "        return self\n",
    "    def __exit__(self, exc_type, exc_value, traceback):\n",
    "        if exc_type is None:\n",
    "            print('__exit__')\n",
    "        else:\n",
    "            print('__exit__ com erro(s):', exc_type, exc_value, traceback)"
   ]
  },
  {
   "cell_type": "code",
   "execution_count": 13,
   "metadata": {},
   "outputs": [
    {
     "name": "stdout",
     "output_type": "stream",
     "text": [
      "__enter__\n",
      "... coisas usando bla\n",
      "__exit__\n"
     ]
    }
   ],
   "source": [
    "with Bla() as bla:\n",
    "    print('... coisas usando bla')"
   ]
  },
  {
   "cell_type": "markdown",
   "metadata": {},
   "source": [
    "se algum erro estourar, temos as informações:"
   ]
  },
  {
   "cell_type": "code",
   "execution_count": 14,
   "metadata": {},
   "outputs": [
    {
     "name": "stdout",
     "output_type": "stream",
     "text": [
      "__enter__\n",
      "... coisas usando bla\n",
      "__exit__ com erro(s): <class 'ZeroDivisionError'>  <traceback object at 0x1063583c0>\n"
     ]
    },
    {
     "ename": "ZeroDivisionError",
     "evalue": "",
     "output_type": "error",
     "traceback": [
      "\u001b[0;31m---------------------------------------------------------------------------\u001b[0m",
      "\u001b[0;31mZeroDivisionError\u001b[0m                         Traceback (most recent call last)",
      "Cell \u001b[0;32mIn[14], line 3\u001b[0m\n\u001b[1;32m      1\u001b[0m \u001b[38;5;28;01mwith\u001b[39;00m Bla() \u001b[38;5;28;01mas\u001b[39;00m bla:\n\u001b[1;32m      2\u001b[0m     \u001b[38;5;28mprint\u001b[39m(\u001b[38;5;124m'\u001b[39m\u001b[38;5;124m... coisas usando bla\u001b[39m\u001b[38;5;124m'\u001b[39m)\n\u001b[0;32m----> 3\u001b[0m     \u001b[38;5;28;01mraise\u001b[39;00m \u001b[38;5;167;01mZeroDivisionError\u001b[39;00m\n",
      "\u001b[0;31mZeroDivisionError\u001b[0m: "
     ]
    }
   ],
   "source": [
    "with Bla() as bla:\n",
    "    print('... coisas usando bla')\n",
    "    raise ZeroDivisionError"
   ]
  },
  {
   "cell_type": "markdown",
   "metadata": {},
   "source": [
    "tudo safe."
   ]
  }
 ],
 "metadata": {
  "kernelspec": {
   "display_name": ".venv",
   "language": "python",
   "name": "python3"
  },
  "language_info": {
   "codemirror_mode": {
    "name": "ipython",
    "version": 3
   },
   "file_extension": ".py",
   "mimetype": "text/x-python",
   "name": "python",
   "nbconvert_exporter": "python",
   "pygments_lexer": "ipython3",
   "version": "3.12.2"
  }
 },
 "nbformat": 4,
 "nbformat_minor": 2
}
