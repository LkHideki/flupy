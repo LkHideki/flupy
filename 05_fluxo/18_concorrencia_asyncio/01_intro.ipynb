{
 "cells": [
  {
   "cell_type": "markdown",
   "metadata": {},
   "source": [
    "# Concorrência\n",
    "\n",
    "Concorrência: muitas tarefas sobrepostas, mas ajustando o foco.\n",
    "\n",
    "Paralelismo: muitas tarefas ao mesmo tempo, sem foco.\n",
    "\n",
    "Dois núcleos de CPU rodam paralelamente. Cada núcleo pode executar centenas de processos de modo concorrente."
   ]
  },
  {
   "cell_type": "code",
   "execution_count": null,
   "metadata": {},
   "outputs": [],
   "source": []
  }
 ],
 "metadata": {
  "language_info": {
   "name": "python"
  }
 },
 "nbformat": 4,
 "nbformat_minor": 2
}
