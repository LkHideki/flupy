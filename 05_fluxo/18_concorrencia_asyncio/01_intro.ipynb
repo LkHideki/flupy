{
 "cells": [
  {
   "cell_type": "markdown",
   "metadata": {},
   "source": [
    "# Concorrência\n",
    "\n",
    "Concorrência: muitas tarefas sobrepostas, mas ajustando o foco.\n",
    "\n",
    "Paralelismo: muitas tarefas ao mesmo tempo, sem foco.\n",
    "\n",
    "Dois núcleos de CPU rodam paralelamente. Cada núcleo pode executar centenas de processos de modo concorrente."
   ]
  },
  {
   "cell_type": "markdown",
   "metadata": {},
   "source": [
    "## O exemplo do spinner\n",
    "\n",
    "Coloquei no arquivo *01_intro2_spinner.py*"
   ]
  },
  {
   "cell_type": "markdown",
   "metadata": {},
   "source": []
  }
 ],
 "metadata": {
  "kernelspec": {
   "display_name": ".venv",
   "language": "python",
   "name": "python3"
  },
  "language_info": {
   "codemirror_mode": {
    "name": "ipython",
    "version": 3
   },
   "file_extension": ".py",
   "mimetype": "text/x-python",
   "name": "python",
   "nbconvert_exporter": "python",
   "pygments_lexer": "ipython3",
   "version": "3.12.3"
  }
 },
 "nbformat": 4,
 "nbformat_minor": 2
}
