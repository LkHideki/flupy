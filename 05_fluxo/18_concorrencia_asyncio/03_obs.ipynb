{
 "cells": [
  {
   "cell_type": "markdown",
   "metadata": {},
   "source": [
    "Como a primeira edição do livro requer muitas adaptações para o python 3.12, vou pular este capítulo de asyncio e procurar o recurso nas próximas edições."
   ]
  }
 ],
 "metadata": {
  "language_info": {
   "name": "python"
  }
 },
 "nbformat": 4,
 "nbformat_minor": 2
}
