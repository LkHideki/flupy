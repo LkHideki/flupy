{
 "cells": [
  {
   "cell_type": "markdown",
   "metadata": {},
   "source": [
    "# Reestruturando em termos de Record"
   ]
  },
  {
   "cell_type": "code",
   "execution_count": 16,
   "metadata": {},
   "outputs": [],
   "source": [
    "import json, shelve\n",
    "\n",
    "class Record:\n",
    "    def __init__(self, **kwargs) -> None:\n",
    "        self.__dict__.update(kwargs) # modo fácil de criar atributos\n",
    "        \n",
    "def load_db(db: shelve.Shelf):\n",
    "    with open('./osconfeed.json', 'r') as data:\n",
    "        j = json.load(data)\n",
    "        for collection, rec_list in j['Schedule'].items():\n",
    "            record_type = collection[:-1]\n",
    "            for record in rec_list:\n",
    "                key = f'{record_type}.{record[\"serial\"]}'\n",
    "                record['serial'] = key\n",
    "                db[key] = Record(**record)"
   ]
  },
  {
   "cell_type": "code",
   "execution_count": 15,
   "metadata": {},
   "outputs": [],
   "source": [
    "with shelve.open('oscon') as db:\n",
    "    load_db(db)"
   ]
  },
  {
   "cell_type": "code",
   "execution_count": 20,
   "metadata": {},
   "outputs": [
    {
     "name": "stdout",
     "output_type": "stream",
     "text": [
      "<__main__.Record object at 0x105a01e80>\n"
     ]
    }
   ],
   "source": [
    "db =  shelve.open('oscon')\n",
    "print(db['venue.1457'])\n",
    "db.close()"
   ]
  },
  {
   "cell_type": "code",
   "execution_count": null,
   "metadata": {},
   "outputs": [],
   "source": []
  }
 ],
 "metadata": {
  "kernelspec": {
   "display_name": ".venv",
   "language": "python",
   "name": "python3"
  },
  "language_info": {
   "codemirror_mode": {
    "name": "ipython",
    "version": 3
   },
   "file_extension": ".py",
   "mimetype": "text/x-python",
   "name": "python",
   "nbconvert_exporter": "python",
   "pygments_lexer": "ipython3",
   "version": "3.12.3"
  }
 },
 "nbformat": 4,
 "nbformat_minor": 2
}
