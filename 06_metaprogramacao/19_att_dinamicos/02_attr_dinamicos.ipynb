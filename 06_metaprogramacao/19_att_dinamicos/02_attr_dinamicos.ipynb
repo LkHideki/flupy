{
 "cells": [
  {
   "cell_type": "markdown",
   "metadata": {},
   "source": [
    "# Processando dados com atributos dinâmicos"
   ]
  },
  {
   "cell_type": "code",
   "execution_count": 2,
   "metadata": {},
   "outputs": [],
   "source": [
    "import json"
   ]
  },
  {
   "cell_type": "markdown",
   "metadata": {},
   "source": [
    "Carregando o arquivo *osconfeed.json*"
   ]
  },
  {
   "cell_type": "code",
   "execution_count": 7,
   "metadata": {},
   "outputs": [
    {
     "name": "stdout",
     "output_type": "stream",
     "text": [
      "dict_keys(['conferences', 'events', 'speakers', 'venues'])\n"
     ]
    }
   ],
   "source": [
    "with open('osconfeed.json', 'r', encoding='utf-8') as file:\n",
    "    j = json.load(file)\n",
    "    print(j['Schedule'].keys())"
   ]
  },
  {
   "cell_type": "markdown",
   "metadata": {},
   "source": [
    "Gostaríamos de acessar os atributos usando a notação de ponto e não de getitem, i.e. queremos `j.Schedule.events` ao invés de `j['Schedule']['events']`"
   ]
  },
  {
   "cell_type": "code",
   "execution_count": 9,
   "metadata": {},
   "outputs": [],
   "source": [
    "# Do livro,\n",
    "from collections import abc\n",
    "\n",
    "\n",
    "class FrozenJSON:\n",
    "    def __init__(self, mapeamento) -> None:\n",
    "        self.__dados = dict(mapeamento)\n",
    "    def __getattr__(self, nome):\n",
    "        if hasattr(self.__dados, nome):\n",
    "            return getattr(self.__dados, nome)\n",
    "        else:\n",
    "            return FrozenJSON.construa(self.__dados[nome])\n",
    "    @classmethod\n",
    "    def construa(cls, obj):\n",
    "        if isinstance(obj, abc.Mapping):\n",
    "            return cls(obj)\n",
    "        elif isinstance(obj, abc.MutableSequence):\n",
    "            return [cls.construa(item) for item in obj]\n",
    "        return obj"
   ]
  },
  {
   "cell_type": "code",
   "execution_count": 11,
   "metadata": {},
   "outputs": [],
   "source": [
    "feed = FrozenJSON(j)"
   ]
  },
  {
   "cell_type": "code",
   "execution_count": 14,
   "metadata": {},
   "outputs": [
    {
     "data": {
      "text/plain": [
       "'How to Fake a Database Design'"
      ]
     },
     "execution_count": 14,
     "metadata": {},
     "output_type": "execute_result"
    }
   ],
   "source": [
    "feed.Schedule.events[10].name"
   ]
  },
  {
   "cell_type": "code",
   "execution_count": null,
   "metadata": {},
   "outputs": [],
   "source": []
  }
 ],
 "metadata": {
  "kernelspec": {
   "display_name": ".venv",
   "language": "python",
   "name": "python3"
  },
  "language_info": {
   "codemirror_mode": {
    "name": "ipython",
    "version": 3
   },
   "file_extension": ".py",
   "mimetype": "text/x-python",
   "name": "python",
   "nbconvert_exporter": "python",
   "pygments_lexer": "ipython3",
   "version": "3.12.3"
  }
 },
 "nbformat": 4,
 "nbformat_minor": 2
}
