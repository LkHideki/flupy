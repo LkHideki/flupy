{
 "cells": [
  {
   "cell_type": "markdown",
   "metadata": {},
   "source": [
    "# Usando uma propridade para validar um atributo"
   ]
  },
  {
   "cell_type": "code",
   "execution_count": null,
   "metadata": {},
   "outputs": [],
   "source": [
    "class LineItem:\n",
    "    def __init__(self, description, weight, price) -> None:\n",
    "        self.description = description\n",
    "        self.weight = weight\n",
    "        self.price = price\n",
    "\n",
    "    def subtotal(self):\n",
    "        return self.weight * self.price\n",
    "\n",
    "    @property\n",
    "    def weight(self):\n",
    "        return self.__weight\n",
    "\n",
    "    @weight.setter\n",
    "    def weight(self, value):\n",
    "        if value > 0:\n",
    "            self.__weight = value\n",
    "        else:\n",
    "            raise ValueError('O novo peso deve ser > 0')"
   ]
  }
 ],
 "metadata": {
  "language_info": {
   "name": "python"
  }
 },
 "nbformat": 4,
 "nbformat_minor": 2
}
