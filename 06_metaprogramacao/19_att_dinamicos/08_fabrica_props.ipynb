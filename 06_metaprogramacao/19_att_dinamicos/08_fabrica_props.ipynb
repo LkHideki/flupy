{
 "cells": [
  {
   "cell_type": "markdown",
   "metadata": {},
   "source": [
    "# Uma fábrica de propriedades\n",
    "\n",
    "A função `quantidade` é uma fábrica de propriedade."
   ]
  },
  {
   "cell_type": "code",
   "execution_count": 2,
   "metadata": {},
   "outputs": [],
   "source": [
    "def quantidade(nome: str):\n",
    "    def qtd_getter(instancia):\n",
    "        return instancia.__dict__[nome]\n",
    "    def qtd_setter(instancia, valor):\n",
    "        if valor > 0:\n",
    "            instancia.__dict__[nome] = valor\n",
    "        else:\n",
    "            raise ValueError('Valor deve ser estritamente positivo.')\n",
    "    return property(qtd_getter, qtd_setter)\n",
    "\n",
    "class LineItem:\n",
    "    peso = quantidade('peso')\n",
    "    preco = quantidade('preco')\n",
    "\n",
    "    def __init__(self, descricao, peso, preco) -> None:\n",
    "        self.descricao = descricao\n",
    "        self.peso = peso\n",
    "        self.preco = preco\n",
    "\n",
    "    def subtotal(self):\n",
    "        return self.peso * self.preco"
   ]
  },
  {
   "cell_type": "code",
   "execution_count": null,
   "metadata": {},
   "outputs": [],
   "source": []
  }
 ],
 "metadata": {
  "kernelspec": {
   "display_name": ".venv",
   "language": "python",
   "name": "python3"
  },
  "language_info": {
   "codemirror_mode": {
    "name": "ipython",
    "version": 3
   },
   "file_extension": ".py",
   "mimetype": "text/x-python",
   "name": "python",
   "nbconvert_exporter": "python",
   "pygments_lexer": "ipython3",
   "version": "3.12.3"
  }
 },
 "nbformat": 4,
 "nbformat_minor": 2
}
