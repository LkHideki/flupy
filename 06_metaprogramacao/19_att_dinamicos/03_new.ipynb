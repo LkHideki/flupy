{
 "cells": [
  {
   "cell_type": "markdown",
   "metadata": {},
   "source": [
    "# O método especial `__new__`\n",
    "\n",
    "O `__new__` é quem realmente constroi o objeto (a instância).\n",
    "\n",
    "`__init__` apenas inicializa com os valores passados."
   ]
  },
  {
   "cell_type": "code",
   "execution_count": 69,
   "metadata": {},
   "outputs": [],
   "source": [
    "class Pessoa:\n",
    "    def __new__(cls, *args, **kwargs):\n",
    "        print('O bebê nasceu!')\n",
    "        return super().__new__(cls)\n",
    "    \n",
    "    def __init__(self, nome: str) -> None:\n",
    "        print(f'O bebê se chama {nome}.')\n",
    "        self._nome = nome\n",
    "\n",
    "    @property\n",
    "    def nome(self):\n",
    "        return self._nome"
   ]
  },
  {
   "cell_type": "code",
   "execution_count": 70,
   "metadata": {},
   "outputs": [
    {
     "name": "stdout",
     "output_type": "stream",
     "text": [
      "O bebê nasceu!\n",
      "O bebê se chama Claudete.\n"
     ]
    },
    {
     "data": {
      "text/plain": [
       "<__main__.Pessoa at 0x10772d4f0>"
      ]
     },
     "execution_count": 70,
     "metadata": {},
     "output_type": "execute_result"
    }
   ],
   "source": [
    "x = Pessoa('Claudete')\n",
    "x"
   ]
  },
  {
   "cell_type": "code",
   "execution_count": 71,
   "metadata": {},
   "outputs": [
    {
     "data": {
      "text/plain": [
       "'Claudete'"
      ]
     },
     "execution_count": 71,
     "metadata": {},
     "output_type": "execute_result"
    }
   ],
   "source": [
    "x.nome"
   ]
  },
  {
   "cell_type": "markdown",
   "metadata": {},
   "source": [
    "Observe que"
   ]
  },
  {
   "cell_type": "code",
   "execution_count": 66,
   "metadata": {},
   "outputs": [
    {
     "data": {
      "text/plain": [
       "True"
      ]
     },
     "execution_count": 66,
     "metadata": {},
     "output_type": "execute_result"
    }
   ],
   "source": [
    "issubclass(Pessoa, object)"
   ]
  },
  {
   "cell_type": "markdown",
   "metadata": {},
   "source": [
    "faz com que\n",
    "\n",
    "```python\n",
    "class Pessoa:\n",
    "    def __new__(cls, *args, **kwargs):\n",
    "        print('O bebê nasceu!')\n",
    "        return super().__new__(cls)\n",
    "```\n",
    "\n",
    "Seja o mesmo que\n",
    "\n",
    "\n",
    "```python\n",
    "class Pessoa(object):\n",
    "    def __new__(cls, *args, **kwargs):\n",
    "        print('O bebê nasceu!')\n",
    "        return object.__new__(cls)\n",
    "```"
   ]
  },
  {
   "cell_type": "markdown",
   "metadata": {},
   "source": [
    "porque toda classe estende *object*."
   ]
  }
 ],
 "metadata": {
  "kernelspec": {
   "display_name": ".venv",
   "language": "python",
   "name": "python3"
  },
  "language_info": {
   "codemirror_mode": {
    "name": "ipython",
    "version": 3
   },
   "file_extension": ".py",
   "mimetype": "text/x-python",
   "name": "python",
   "nbconvert_exporter": "python",
   "pygments_lexer": "ipython3",
   "version": "3.12.3"
  }
 },
 "nbformat": 4,
 "nbformat_minor": 2
}
