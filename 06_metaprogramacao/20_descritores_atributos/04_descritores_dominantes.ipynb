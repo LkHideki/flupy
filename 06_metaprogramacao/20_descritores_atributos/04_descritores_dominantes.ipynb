{
 "cells": [
  {
   "cell_type": "markdown",
   "metadata": {},
   "source": [
    "# Descritores dominantes e não dominantes"
   ]
  },
  {
   "cell_type": "markdown",
   "metadata": {},
   "source": [
    "Ler um atributo por meio de uma instância devolve o atributo desta instância. O fallback é o atributo da classe.\n",
    "\n",
    "Escrever/sobrescrever o valor de um atributo por meio de uma instância afeta apenas esta instância, sem fallback para a classe.\n",
    "\n",
    "A assimetria está na implementação do método `__set__`."
   ]
  },
  {
   "cell_type": "code",
   "execution_count": 1,
   "metadata": {},
   "outputs": [],
   "source": [
    "from types import NoneType\n",
    "\n",
    "\n",
    "def cls_name(obj):\n",
    "    cls = type(obj)\n",
    "    if cls is type:\n",
    "        return obj\n",
    "    return cls.__name__.split('.')[-1]\n",
    "\n",
    "def display(obj):\n",
    "    cls = type(obj)\n",
    "    if cls is type:\n",
    "        return f'<class {obj.__name__}>'\n",
    "    elif cls in {NoneType, int}:\n",
    "        return repr(obj)\n",
    "    return f'<{cls_name(obj)} object>'\n",
    "\n",
    "def print_args(name, *args):\n",
    "    pseudo_args = ', '.join(display(x) for x in args)\n",
    "    print(f'-> {cls_name(args[0])}.__{name}__({pseudo_args})')\n",
    "\n",
    "class Overriding:  # <1>\n",
    "    \"\"\"a.k.a. data descriptor or enforced descriptor\"\"\"\n",
    "\n",
    "    def __get__(self, instance, owner):\n",
    "        print_args('get', self, instance, owner)  # <2>\n",
    "\n",
    "    def __set__(self, instance, value):\n",
    "        print_args('set', self, instance, value)\n",
    "\n",
    "\n",
    "class OverridingNoGet:  # <3>\n",
    "    \"\"\"an overriding descriptor without ``__get__``\"\"\"\n",
    "\n",
    "    def __set__(self, instance, value):\n",
    "        print_args('set', self, instance, value)\n",
    "\n",
    "\n",
    "class NonOverriding:  # <4>\n",
    "    \"\"\"a.k.a. non-data or shadowable descriptor\"\"\"\n",
    "\n",
    "    def __get__(self, instance, owner):\n",
    "        print_args('get', self, instance, owner)\n",
    "\n",
    "\n",
    "class Managed:  # <5>\n",
    "    over = Overriding()\n",
    "    over_no_get = OverridingNoGet()\n",
    "    non_over = NonOverriding()\n",
    "\n",
    "    def spam(self):  # <6>\n",
    "        print('-> Managed.spam({})'.format(display(self)))"
   ]
  },
  {
   "cell_type": "markdown",
   "metadata": {},
   "source": [
    "**Descritor dominante** é aquele que implementa o dunder set. No caso, a classe `Overriding`. Este método, nesta classe, intercepta a escrita no atributo de instância gerenciada.\n",
    "\n",
    "Propriedades também são descritores dominantes, pois\n",
    "- `property` é uma classe;\n",
    "- tem o método especial `set` (além de get e delete)."
   ]
  },
  {
   "cell_type": "code",
   "execution_count": 2,
   "metadata": {},
   "outputs": [
    {
     "name": "stdout",
     "output_type": "stream",
     "text": [
      "-> Overriding.__get__(<Overriding object>, <Managed object>, <class Managed>)\n"
     ]
    }
   ],
   "source": [
    "obj = Managed()\n",
    "obj.over"
   ]
  },
  {
   "cell_type": "code",
   "execution_count": 3,
   "metadata": {},
   "outputs": [
    {
     "name": "stdout",
     "output_type": "stream",
     "text": [
      "-> Overriding.__get__(<Overriding object>, None, <class Managed>)\n"
     ]
    }
   ],
   "source": [
    "Managed.over"
   ]
  },
  {
   "cell_type": "code",
   "execution_count": 4,
   "metadata": {},
   "outputs": [
    {
     "ename": "TypeError",
     "evalue": "'Managed' object does not support item assignment",
     "output_type": "error",
     "traceback": [
      "\u001b[0;31m---------------------------------------------------------------------------\u001b[0m",
      "\u001b[0;31mTypeError\u001b[0m                                 Traceback (most recent call last)",
      "Cell \u001b[0;32mIn[4], line 1\u001b[0m\n\u001b[0;32m----> 1\u001b[0m \u001b[43mobj\u001b[49m\u001b[43m[\u001b[49m\u001b[38;5;124;43m'\u001b[39;49m\u001b[38;5;124;43mbla\u001b[39;49m\u001b[38;5;124;43m'\u001b[39;49m\u001b[43m]\u001b[49m \u001b[38;5;241m=\u001b[39m \u001b[38;5;241m19\u001b[39m\n\u001b[1;32m      2\u001b[0m obj\n",
      "\u001b[0;31mTypeError\u001b[0m: 'Managed' object does not support item assignment"
     ]
    }
   ],
   "source": [
    "obj['bla'] = 19\n",
    "obj"
   ]
  },
  {
   "cell_type": "code",
   "execution_count": 6,
   "metadata": {},
   "outputs": [
    {
     "name": "stdout",
     "output_type": "stream",
     "text": [
      "-> Overriding.__set__(<Overriding object>, <Managed object>, 19)\n",
      "-> Overriding.__get__(<Overriding object>, <Managed object>, <class Managed>)\n"
     ]
    }
   ],
   "source": [
    "obj.over = 19\n",
    "obj.over"
   ]
  },
  {
   "cell_type": "markdown",
   "metadata": {},
   "source": [
    "## Descritores dominantes, mas sem o `__get__`\n",
    "\n",
    "O objeto que não tem o dunder get retorna a própria instância"
   ]
  },
  {
   "cell_type": "code",
   "execution_count": 7,
   "metadata": {},
   "outputs": [
    {
     "data": {
      "text/plain": [
       "<__main__.OverridingNoGet at 0x113c84fe0>"
      ]
     },
     "execution_count": 7,
     "metadata": {},
     "output_type": "execute_result"
    }
   ],
   "source": [
    "obj.over_no_get"
   ]
  },
  {
   "cell_type": "code",
   "execution_count": 8,
   "metadata": {},
   "outputs": [
    {
     "data": {
      "text/plain": [
       "{}"
      ]
     },
     "execution_count": 8,
     "metadata": {},
     "output_type": "execute_result"
    }
   ],
   "source": [
    "obj.over_no_get.__dict__"
   ]
  },
  {
   "cell_type": "code",
   "execution_count": 9,
   "metadata": {},
   "outputs": [
    {
     "name": "stdout",
     "output_type": "stream",
     "text": [
      "-> OverridingNoGet.__set__(<OverridingNoGet object>, <Managed object>, 15)\n"
     ]
    }
   ],
   "source": [
    "obj.over_no_get = 15"
   ]
  },
  {
   "cell_type": "code",
   "execution_count": 10,
   "metadata": {},
   "outputs": [
    {
     "data": {
      "text/plain": [
       "{}"
      ]
     },
     "execution_count": 10,
     "metadata": {},
     "output_type": "execute_result"
    }
   ],
   "source": [
    "obj.over_no_get.__dict__"
   ]
  },
  {
   "cell_type": "code",
   "execution_count": 11,
   "metadata": {},
   "outputs": [
    {
     "data": {
      "text/plain": [
       "<__main__.OverridingNoGet at 0x113c84fe0>"
      ]
     },
     "execution_count": 11,
     "metadata": {},
     "output_type": "execute_result"
    }
   ],
   "source": [
    "obj.over_no_get"
   ]
  },
  {
   "cell_type": "code",
   "execution_count": 12,
   "metadata": {},
   "outputs": [
    {
     "data": {
      "text/plain": [
       "16"
      ]
     },
     "execution_count": 12,
     "metadata": {},
     "output_type": "execute_result"
    }
   ],
   "source": [
    "obj.__dict__['over_no_get'] = 16\n",
    "obj.over_no_get"
   ]
  },
  {
   "cell_type": "code",
   "execution_count": 14,
   "metadata": {},
   "outputs": [
    {
     "name": "stdout",
     "output_type": "stream",
     "text": [
      "-> OverridingNoGet.__set__(<OverridingNoGet object>, <Managed object>, 17)\n"
     ]
    }
   ],
   "source": [
    "obj.over_no_get = 17"
   ]
  },
  {
   "cell_type": "code",
   "execution_count": 15,
   "metadata": {},
   "outputs": [
    {
     "data": {
      "text/plain": [
       "16"
      ]
     },
     "execution_count": 15,
     "metadata": {},
     "output_type": "execute_result"
    }
   ],
   "source": [
    "obj.over_no_get"
   ]
  },
  {
   "cell_type": "markdown",
   "metadata": {},
   "source": [
    "## Descritores não dominantes\n",
    "\n",
    "i.e. sem dunder set"
   ]
  },
  {
   "cell_type": "code",
   "execution_count": 16,
   "metadata": {},
   "outputs": [
    {
     "name": "stdout",
     "output_type": "stream",
     "text": [
      "-> NonOverriding.__get__(<NonOverriding object>, <Managed object>, <class Managed>)\n"
     ]
    }
   ],
   "source": [
    "obj.non_over"
   ]
  },
  {
   "cell_type": "code",
   "execution_count": 17,
   "metadata": {},
   "outputs": [],
   "source": [
    "obj.non_over = 20"
   ]
  },
  {
   "cell_type": "code",
   "execution_count": 18,
   "metadata": {},
   "outputs": [
    {
     "data": {
      "text/plain": [
       "20"
      ]
     },
     "execution_count": 18,
     "metadata": {},
     "output_type": "execute_result"
    }
   ],
   "source": [
    "obj.non_over"
   ]
  },
  {
   "cell_type": "code",
   "execution_count": 19,
   "metadata": {},
   "outputs": [
    {
     "name": "stdout",
     "output_type": "stream",
     "text": [
      "-> NonOverriding.__get__(<NonOverriding object>, None, <class Managed>)\n"
     ]
    }
   ],
   "source": [
    "Managed.non_over"
   ]
  },
  {
   "cell_type": "code",
   "execution_count": null,
   "metadata": {},
   "outputs": [],
   "source": []
  }
 ],
 "metadata": {
  "kernelspec": {
   "display_name": ".venv",
   "language": "python",
   "name": "python3"
  },
  "language_info": {
   "codemirror_mode": {
    "name": "ipython",
    "version": 3
   },
   "file_extension": ".py",
   "mimetype": "text/x-python",
   "name": "python",
   "nbconvert_exporter": "python",
   "pygments_lexer": "ipython3",
   "version": "3.12.3"
  }
 },
 "nbformat": 4,
 "nbformat_minor": 2
}
