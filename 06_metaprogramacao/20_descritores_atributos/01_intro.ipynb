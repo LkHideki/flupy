{
 "cells": [
  {
   "cell_type": "markdown",
   "metadata": {},
   "source": [
    "# *Apreciação da elegância de Python*\n",
    "\n",
    "Um descritor é uma classe que implementa\n",
    "- dunder get\n",
    "- dunder set\n",
    "- dunder delete\n",
    "\n",
    "A classe `property` implementa o protocolo de descritores.\n",
    "\n",
    "`classmethod`, `staticmethod` e outros recursos da linguagem aproveitam os descritores."
   ]
  },
  {
   "cell_type": "code",
   "execution_count": null,
   "metadata": {},
   "outputs": [],
   "source": []
  }
 ],
 "metadata": {
  "language_info": {
   "name": "python"
  }
 },
 "nbformat": 4,
 "nbformat_minor": 2
}
