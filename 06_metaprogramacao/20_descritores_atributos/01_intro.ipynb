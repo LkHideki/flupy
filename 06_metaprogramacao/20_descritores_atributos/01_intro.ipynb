{
 "cells": [
  {
   "cell_type": "markdown",
   "metadata": {},
   "source": [
    "# *Apreciação da elegância de Python*\n",
    "\n",
    "Um descritor é uma classe que implementa\n",
    "- dunder get\n",
    "- dunder set\n",
    "- dunder delete\n",
    "\n",
    "A classe `property` implementa o protocolo de descritores.\n",
    "\n",
    "`classmethod`, `staticmethod` e outros recursos da linguagem aproveitam os descritores."
   ]
  },
  {
   "cell_type": "markdown",
   "metadata": {},
   "source": [
    "## Melhorando o `LineItem`\n",
    "\n",
    "Abaixo, temos a última versão do `LineItem` com a *factory function* `prop` que aplica DRY às props."
   ]
  },
  {
   "cell_type": "code",
   "execution_count": 1,
   "metadata": {},
   "outputs": [],
   "source": [
    "def prop[T](name: str) -> property:\n",
    "    def get(obj) -> T:\n",
    "        return obj.__dict__[name]\n",
    "    def set(obj, new_value: T) -> None:\n",
    "        obj.__dict__[name] = new_value\n",
    "    return property(get, set)\n",
    "\n",
    "class LineItem:\n",
    "    peso = prop('peso')\n",
    "    preco = prop('preco')\n",
    "\n",
    "    def __init__(self, descricao, peso, preco) -> None:\n",
    "        self.descricao = descricao\n",
    "        self.peso = peso\n",
    "        self.preco = preco\n",
    "\n",
    "    def subtotal(self):\n",
    "        return self.peso * self.preco"
   ]
  },
  {
   "cell_type": "markdown",
   "metadata": {},
   "source": [
    "### Algumas definições\n",
    "\n",
    "- **Classe descritora**: implementa o protocolo descritor.\n",
    "- **Classe gerenciada**: usa as instâncias do descritor como atributos de classe.\n",
    "- **Atributo de armazenagem**: atributo do objeto gerenciado que armazena um valor.\n",
    "- **Atributo de gerenciado**: atributo da classe gerenciada."
   ]
  },
  {
   "cell_type": "markdown",
   "metadata": {},
   "source": [
    "### O código do livro"
   ]
  },
  {
   "cell_type": "code",
   "execution_count": null,
   "metadata": {},
   "outputs": [],
   "source": [
    "class Quantity:\n",
    "    def __init__(self, storage_name: str) -> None:\n",
    "        self.storage_name = storage_name\n",
    "\n",
    "    def __set__(self, instance, value: float):\n",
    "        if value > 0:\n",
    "            instance.__dict__[self.storage_name] = value\n",
    "        else:\n",
    "            raise ValueError('O valor deve ser estritamente positivo.')\n",
    "\n",
    "class LineItem:\n",
    "    peso = Quantity('peso')\n",
    "    preco = Quantity('preco')\n",
    "\n",
    "    def __init__(self, descricao, peso, preco) -> None:\n",
    "        self.descricao = descricao\n",
    "        self.peso = peso\n",
    "        self.preco = preco\n",
    "\n",
    "    def subtotal(self):\n",
    "        return self.peso * self.preco"
   ]
  }
 ],
 "metadata": {
  "kernelspec": {
   "display_name": ".venv",
   "language": "python",
   "name": "python3"
  },
  "language_info": {
   "codemirror_mode": {
    "name": "ipython",
    "version": 3
   },
   "file_extension": ".py",
   "mimetype": "text/x-python",
   "name": "python",
   "nbconvert_exporter": "python",
   "pygments_lexer": "ipython3",
   "version": "3.12.3"
  }
 },
 "nbformat": 4,
 "nbformat_minor": 2
}
