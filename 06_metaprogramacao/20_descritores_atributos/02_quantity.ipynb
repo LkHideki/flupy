{
 "cells": [
  {
   "cell_type": "markdown",
   "metadata": {},
   "source": [
    "# DRY\n",
    "\n",
    "O código abaixo evita a repetição da escrita do nome de um atributo como `peso = Quantity('peso')`:"
   ]
  },
  {
   "cell_type": "code",
   "execution_count": 6,
   "metadata": {},
   "outputs": [],
   "source": [
    "class Quantity:\n",
    "    __counter = 0\n",
    "    def __init__(self) -> None:\n",
    "        cls = self.__class__\n",
    "        self.storage_name = f\"_{cls.__name__}#{cls.__counter}\"\n",
    "        cls.__counter += 1\n",
    "\n",
    "    def __get__(self, instance, owner):\n",
    "        return getattr(instance, self.storage_name)\n",
    "\n",
    "    def __set__(self, instance, value: float):\n",
    "        if value > 0:\n",
    "            setattr(instance, self.storage_name, value)\n",
    "        else:\n",
    "            raise ValueError('O valor deve ser estritamente positivo.')\n",
    "\n",
    "class LineItem:\n",
    "    peso = Quantity()\n",
    "    preco = Quantity()\n",
    "\n",
    "    def __init__(self, descricao, peso, preco) -> None:\n",
    "        self.descricao = descricao\n",
    "        self.peso = peso\n",
    "        self.preco = preco\n",
    "\n",
    "    def subtotal(self):\n",
    "        return round(self.peso * self.preco, 2)"
   ]
  },
  {
   "cell_type": "markdown",
   "metadata": {},
   "source": [
    "`owner` refere-se à classe gerenciada e é usado para recuperar atributos dessa classe."
   ]
  },
  {
   "cell_type": "code",
   "execution_count": 7,
   "metadata": {},
   "outputs": [
    {
     "data": {
      "text/plain": [
       "156.0"
      ]
     },
     "execution_count": 7,
     "metadata": {},
     "output_type": "execute_result"
    }
   ],
   "source": [
    "livro = LineItem('Estat 1', 1.2, 130)\n",
    "livro.subtotal()"
   ]
  }
 ],
 "metadata": {
  "kernelspec": {
   "display_name": ".venv",
   "language": "python",
   "name": "python3"
  },
  "language_info": {
   "codemirror_mode": {
    "name": "ipython",
    "version": 3
   },
   "file_extension": ".py",
   "mimetype": "text/x-python",
   "name": "python",
   "nbconvert_exporter": "python",
   "pygments_lexer": "ipython3",
   "version": "3.12.3"
  }
 },
 "nbformat": 4,
 "nbformat_minor": 2
}
