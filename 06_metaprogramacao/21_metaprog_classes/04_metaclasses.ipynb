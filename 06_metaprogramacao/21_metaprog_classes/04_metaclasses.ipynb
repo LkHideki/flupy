{
 "cells": [
  {
   "cell_type": "markdown",
   "metadata": {},
   "source": [
    "# Metaclasses\n",
    "\n",
    "Todas as classes são instâncias de `type`."
   ]
  },
  {
   "cell_type": "code",
   "execution_count": 1,
   "metadata": {},
   "outputs": [
    {
     "data": {
      "text/plain": [
       "str"
      ]
     },
     "execution_count": 1,
     "metadata": {},
     "output_type": "execute_result"
    }
   ],
   "source": [
    "type('Olá, mundo!')"
   ]
  },
  {
   "cell_type": "code",
   "execution_count": 2,
   "metadata": {},
   "outputs": [
    {
     "data": {
      "text/plain": [
       "type"
      ]
     },
     "execution_count": 2,
     "metadata": {},
     "output_type": "execute_result"
    }
   ],
   "source": [
    "type(type('Olá, mundo!'))"
   ]
  },
  {
   "cell_type": "code",
   "execution_count": 3,
   "metadata": {},
   "outputs": [
    {
     "data": {
      "text/plain": [
       "type"
      ]
     },
     "execution_count": 3,
     "metadata": {},
     "output_type": "execute_result"
    }
   ],
   "source": [
    "type(type(type('Olá, mundo!')))"
   ]
  },
  {
   "cell_type": "code",
   "execution_count": 4,
   "metadata": {},
   "outputs": [
    {
     "data": {
      "text/plain": [
       "(True, False)"
      ]
     },
     "execution_count": 4,
     "metadata": {},
     "output_type": "execute_result"
    }
   ],
   "source": [
    "issubclass(type, object), issubclass(object, type)"
   ]
  },
  {
   "cell_type": "code",
   "execution_count": 5,
   "metadata": {},
   "outputs": [
    {
     "data": {
      "text/plain": [
       "(True, True)"
      ]
     },
     "execution_count": 5,
     "metadata": {},
     "output_type": "execute_result"
    }
   ],
   "source": [
    "isinstance(type, object), isinstance(object, type)"
   ]
  },
  {
   "cell_type": "markdown",
   "metadata": {},
   "source": [
    "# Aplicando uma metaclasse"
   ]
  },
  {
   "cell_type": "code",
   "execution_count": 6,
   "metadata": {},
   "outputs": [
    {
     "name": "stdout",
     "output_type": "stream",
     "text": [
      "<[100]> evalsupport module start\n",
      "<[400]> MetaAleph body\n",
      "<[700]> evalsupport module end\n",
      "Corpo da classe Bla\n",
      "<[500]> MetaAleph.__init__\n"
     ]
    }
   ],
   "source": [
    "import evalsupport\n",
    "\n",
    "class Bla(metaclass=evalsupport.MetaAleph):\n",
    "    print(\"Corpo da classe Bla\")\n",
    "    def __init__(self):\n",
    "        print(\"Corpo do Bla.__init__\")"
   ]
  },
  {
   "cell_type": "code",
   "execution_count": 7,
   "metadata": {},
   "outputs": [
    {
     "name": "stdout",
     "output_type": "stream",
     "text": [
      "Corpo do Bla.__init__\n"
     ]
    },
    {
     "data": {
      "text/plain": [
       "<__main__.Bla at 0x105584560>"
      ]
     },
     "execution_count": 7,
     "metadata": {},
     "output_type": "execute_result"
    }
   ],
   "source": [
    "Bla()"
   ]
  },
  {
   "cell_type": "markdown",
   "metadata": {},
   "source": [
    "## Personalizando descritores com metaclasses\n",
    "\n",
    "Vamos usar o `LineItem` e os modelos já dados. Queremos reescrever o exemplo do decorator, mas usando herança."
   ]
  },
  {
   "cell_type": "code",
   "execution_count": 8,
   "metadata": {},
   "outputs": [],
   "source": [
    "import sys, pathlib\n",
    "try:\n",
    "    here = pathlib.Path(__file__)\n",
    "except NameError:\n",
    "    here = pathlib.Path(__vsc_ipynb_file__)\n",
    "finally:\n",
    "    here = here.parent.parent / '20_descritores_atributos'\n",
    "    sys.path.append(here.__str__())\n",
    "import models"
   ]
  },
  {
   "cell_type": "code",
   "execution_count": 9,
   "metadata": {},
   "outputs": [],
   "source": [
    "class EntityMeta(type):\n",
    "    def __init__(self, name, bases, attr_dict):\n",
    "        super().__init__(name, bases, attr_dict)\n",
    "        for key, attr in attr_dict.items():\n",
    "            if isinstance(attr, models.Validated):\n",
    "                type_name = type(attr).__name__\n",
    "                attr.storage_name = f\"_{type_name}#{key}\"\n",
    "\n",
    "class Entity(metaclass=EntityMeta):\n",
    "    pass"
   ]
  },
  {
   "cell_type": "code",
   "execution_count": 10,
   "metadata": {},
   "outputs": [],
   "source": [
    "class LineItem(Entity):\n",
    "    descricao = models.NonBlank()\n",
    "    peso = models.Quantity()\n",
    "    preco = models.Quantity()\n",
    "\n",
    "    def __init__(self, descricao, peso, preco):\n",
    "        self.descricao = descricao\n",
    "        self.peso = peso\n",
    "        self.preco = preco\n",
    "    def subtotal(self):\n",
    "        return self.peso * self.preco"
   ]
  },
  {
   "cell_type": "code",
   "execution_count": 11,
   "metadata": {},
   "outputs": [
    {
     "data": {
      "text/plain": [
       "12.5"
      ]
     },
     "execution_count": 11,
     "metadata": {},
     "output_type": "execute_result"
    }
   ],
   "source": [
    "feijão = LineItem('Feijão Ble', 1.25, 10)\n",
    "feijão.subtotal()"
   ]
  },
  {
   "cell_type": "markdown",
   "metadata": {},
   "source": [
    "## Usando o novo `__prepare__`\n",
    "\n",
    "É um método chamado antes do `__new__` da metaclasse e seu papel é criar um mapeamento dos atributos da classe."
   ]
  },
  {
   "cell_type": "code",
   "execution_count": 20,
   "metadata": {},
   "outputs": [
    {
     "name": "stdout",
     "output_type": "stream",
     "text": [
      "-> Preparado!\n",
      "-> Preparado!\n"
     ]
    }
   ],
   "source": [
    "import collections\n",
    "\n",
    "class EntityMeta(type):\n",
    "    @classmethod\n",
    "    def __prepare__(cls, name, bases):\n",
    "        print('-> Preparado!')\n",
    "        x = collections.OrderedDict()\n",
    "        x.update({\n",
    "            \"teste\": \"rastreamento\"\n",
    "        })\n",
    "        return x\n",
    "        \n",
    "    def __init__(cls, name, bases, attr_dict):\n",
    "        super().__init__(name, bases, attr_dict)\n",
    "        cls._field_names = []\n",
    "        for key, attr in attr_dict.items():\n",
    "            if isinstance(attr, models.Validated):\n",
    "                type_name = type(attr).__name__\n",
    "                attr.storage_name = f\"_{type_name}#{key}\"\n",
    "                cls._field_names.append(key)\n",
    "            elif key == 'teste':\n",
    "                cls._field_names.append(key)\n",
    "\n",
    "class Entity(metaclass=EntityMeta):\n",
    "    @classmethod\n",
    "    def field_names(cls):\n",
    "        for name in cls._field_names:\n",
    "            yield name\n",
    "\n",
    "class LineItem(Entity):\n",
    "    descricao = models.NonBlank()\n",
    "    peso = models.Quantity()\n",
    "    preco = models.Quantity()\n",
    "\n",
    "    def __init__(self, descricao, peso, preco):\n",
    "        self.descricao = descricao\n",
    "        self.peso = peso\n",
    "        self.preco = preco\n",
    "    def subtotal(self):\n",
    "        return self.peso * self.preco"
   ]
  },
  {
   "cell_type": "code",
   "execution_count": 21,
   "metadata": {},
   "outputs": [
    {
     "data": {
      "text/plain": [
       "12.5"
      ]
     },
     "execution_count": 21,
     "metadata": {},
     "output_type": "execute_result"
    }
   ],
   "source": [
    "feijão = LineItem('Feijão Ble', 1.25, 10)\n",
    "feijão.subtotal()"
   ]
  },
  {
   "cell_type": "markdown",
   "metadata": {},
   "source": [
    "O método continua funcionando. O que fizemos foi preparar a estrutura de dados apropriada antes de instanciar a entidade.\n",
    "\n",
    "Observe que o objeto retornado por `__prepare__` é capturado em `.attr_dict`, que depois é mapeado como atributo com o seu respectivo valor."
   ]
  },
  {
   "cell_type": "code",
   "execution_count": 25,
   "metadata": {},
   "outputs": [
    {
     "data": {
      "text/plain": [
       "'rastreamento'"
      ]
     },
     "execution_count": 25,
     "metadata": {},
     "output_type": "execute_result"
    }
   ],
   "source": [
    "feijão.teste"
   ]
  },
  {
   "cell_type": "markdown",
   "metadata": {},
   "source": [
    "## Classes como objetos\n",
    "\n",
    "Vale a leitura dos atributos especiais da [própria documentação](https://docs.python.org/pt-br/3/library/stdtypes.html#special-attributes)."
   ]
  }
 ],
 "metadata": {
  "kernelspec": {
   "display_name": ".venv",
   "language": "python",
   "name": "python3"
  },
  "language_info": {
   "codemirror_mode": {
    "name": "ipython",
    "version": 3
   },
   "file_extension": ".py",
   "mimetype": "text/x-python",
   "name": "python",
   "nbconvert_exporter": "python",
   "pygments_lexer": "ipython3",
   "version": "3.12.3"
  }
 },
 "nbformat": 4,
 "nbformat_minor": 2
}
