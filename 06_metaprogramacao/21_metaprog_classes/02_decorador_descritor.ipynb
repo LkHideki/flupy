{
 "cells": [
  {
   "cell_type": "markdown",
   "metadata": {},
   "source": [
    "# Um decorador para personalizar um descritor"
   ]
  },
  {
   "cell_type": "markdown",
   "metadata": {},
   "source": [
    "# Importando\n",
    "\n",
    "Primeiro, vamos importar o models.py da pasta irmã \"20_descritores_atributos/\" manipulando o `sys.path`."
   ]
  },
  {
   "cell_type": "code",
   "execution_count": 1,
   "metadata": {},
   "outputs": [],
   "source": [
    "import pathlib, sys"
   ]
  },
  {
   "cell_type": "code",
   "execution_count": 2,
   "metadata": {},
   "outputs": [],
   "source": [
    "try:\n",
    "    here = pathlib.Path(__file__)\n",
    "except NameError:\n",
    "    here = pathlib.Path(__vsc_ipynb_file__)\n",
    "finally:\n",
    "    here = here.parent.parent / '20_descritores_atributos'\n",
    "    sys.path.append(here.__str__())"
   ]
  },
  {
   "cell_type": "code",
   "execution_count": 6,
   "metadata": {},
   "outputs": [],
   "source": [
    "import models # type: ignore"
   ]
  },
  {
   "cell_type": "markdown",
   "metadata": {},
   "source": [
    "## O nosso decorador"
   ]
  },
  {
   "cell_type": "code",
   "execution_count": 7,
   "metadata": {},
   "outputs": [],
   "source": [
    "def entity(cls):\n",
    "    for key, attr in cls.__dict__.items():\n",
    "        if isinstance(attr, models.Validated):\n",
    "            type_name = type(attr).__name__\n",
    "            attr.storage_name = f'_{type_name}#{key}'\n",
    "    return cls"
   ]
  },
  {
   "cell_type": "markdown",
   "metadata": {},
   "source": [
    "## Decorando a nossa classe `LineItem`"
   ]
  },
  {
   "cell_type": "code",
   "execution_count": 14,
   "metadata": {},
   "outputs": [],
   "source": [
    "@entity\n",
    "class LineItem:\n",
    "    descricao = models.NonBlank()\n",
    "    peso = models.Quantity()\n",
    "    preco = models.Quantity()\n",
    "\n",
    "    def __init__(self, descricao, peso, preco):\n",
    "        self.descricao = descricao\n",
    "        self.peso = peso\n",
    "        self.preco = preco\n",
    "    def subtotal(self):\n",
    "        return self.peso * self.preco"
   ]
  },
  {
   "cell_type": "code",
   "execution_count": null,
   "metadata": {},
   "outputs": [],
   "source": []
  }
 ],
 "metadata": {
  "kernelspec": {
   "display_name": ".venv",
   "language": "python",
   "name": "python3"
  },
  "language_info": {
   "codemirror_mode": {
    "name": "ipython",
    "version": 3
   },
   "file_extension": ".py",
   "mimetype": "text/x-python",
   "name": "python",
   "nbconvert_exporter": "python",
   "pygments_lexer": "ipython3",
   "version": "3.12.3"
  }
 },
 "nbformat": 4,
 "nbformat_minor": 2
}
