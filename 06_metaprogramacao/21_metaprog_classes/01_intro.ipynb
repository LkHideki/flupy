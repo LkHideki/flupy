{
 "cells": [
  {
   "cell_type": "markdown",
   "metadata": {},
   "source": [
    "# Metaclasses\n",
    "\n",
    "**Metaprogramação com classes** é a customização de classes em tempo de execução.\n",
    "\n",
    "> Classes são objetos de primeira classe."
   ]
  },
  {
   "cell_type": "markdown",
   "metadata": {},
   "source": [
    "## Criando uma classe em tempo de execução\n",
    "\n",
    "Vamos especificar o `collections.namedtuple` para o exemplo do petshop.\n",
    "\n",
    "Abaixo, o código do livro:"
   ]
  },
  {
   "cell_type": "code",
   "execution_count": 1,
   "metadata": {},
   "outputs": [],
   "source": [
    "def record_factory(cls_name: str, field_names: str | list[str]):\n",
    "    try:\n",
    "        field_names = field_names.replace(',', ' ').split()\n",
    "    except AttributeError:\n",
    "        pass\n",
    "    _aux = []\n",
    "    for name in field_names:\n",
    "        _a = name.strip()\n",
    "        if _a != '':\n",
    "            _aux.append(_a)\n",
    "    field_names = tuple(_aux)\n",
    "\n",
    "    def __init__(self, *args, **kwargs):\n",
    "        attrs = dict(zip(self.__slots__, args))\n",
    "        attrs.update(kwargs)\n",
    "        for name, value in attrs.items():\n",
    "            setattr(self, name, value)\n",
    "    def __iter__(self):\n",
    "        for name in self.__slots__:\n",
    "            yield getattr(self, name)\n",
    "    def __repr__(self):\n",
    "        values = ', '.join(f\"{i}={s}\" for i,s in zip(self.__slots__, self))\n",
    "        return f\"{self.__class__.__name__}({values})\"\n",
    "\n",
    "    cls_attrs = dict(\n",
    "        __slots__ = field_names,\n",
    "        __init__ = __init__,\n",
    "        __iter__ = __iter__,\n",
    "        __repr__ = __repr__\n",
    "    )\n",
    "    return type(cls_name, (object, ), cls_attrs)"
   ]
  },
  {
   "cell_type": "code",
   "execution_count": 4,
   "metadata": {},
   "outputs": [
    {
     "data": {
      "text/plain": [
       "__main__.Cachorr"
      ]
     },
     "execution_count": 4,
     "metadata": {},
     "output_type": "execute_result"
    }
   ],
   "source": [
    "d = record_factory('Cachorr', 'peso, altura,    fofo')\n",
    "d"
   ]
  },
  {
   "cell_type": "code",
   "execution_count": 5,
   "metadata": {},
   "outputs": [
    {
     "data": {
      "text/plain": [
       "Cachorr(peso=15, altura=12, fofo=True)"
      ]
     },
     "execution_count": 5,
     "metadata": {},
     "output_type": "execute_result"
    }
   ],
   "source": [
    "d(15, 12, True)"
   ]
  }
 ],
 "metadata": {
  "kernelspec": {
   "display_name": ".venv",
   "language": "python",
   "name": "python3"
  },
  "language_info": {
   "codemirror_mode": {
    "name": "ipython",
    "version": 3
   },
   "file_extension": ".py",
   "mimetype": "text/x-python",
   "name": "python",
   "nbconvert_exporter": "python",
   "pygments_lexer": "ipython3",
   "version": "3.12.3"
  }
 },
 "nbformat": 4,
 "nbformat_minor": 2
}
