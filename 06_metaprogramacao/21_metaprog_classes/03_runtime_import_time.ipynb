{
 "cells": [
  {
   "cell_type": "markdown",
   "metadata": {},
   "source": [
    "# Tempo de importação *vs* tempo de execução\n",
    "\n",
    "## *Import time*\n",
    "\n",
    "Ocorre primeiro e é quando o interpretador python faz o parse do código *.py*, lendo o arquivo de cima para baixo, gerando o bytecode *.pyc* no final.\n",
    "\n",
    "Compilar o código é uma atividade que ocorre em tempo de importação.\n",
    "\n",
    "O comando `import` roda algumas rotinas de nível mais alto do módulo que o usa. Quando rodamos o import abaixo, o código lê e compila o `teste_do_import.py`, portanto ele passa pelo print do corpo do arquivo, mas isso apenas na primeira vez. Depois, o interpretador verifica se o arquivo continua o mesmo e, sendo assim, usa o cache."
   ]
  },
  {
   "cell_type": "code",
   "execution_count": 1,
   "metadata": {},
   "outputs": [
    {
     "name": "stdout",
     "output_type": "stream",
     "text": [
      "> import de dentro do arquivo teste_do_import <\n",
      "Nome deste módulo: teste_do_import\n"
     ]
    }
   ],
   "source": [
    "import teste_do_import"
   ]
  },
  {
   "cell_type": "markdown",
   "metadata": {},
   "source": [
    "Para classes, em tempo de importação, o seu conteúdo é executado, o que inclui outras classes aninhadas."
   ]
  },
  {
   "cell_type": "code",
   "execution_count": null,
   "metadata": {},
   "outputs": [],
   "source": []
  }
 ],
 "metadata": {
  "kernelspec": {
   "display_name": ".venv",
   "language": "python",
   "name": "python3"
  },
  "language_info": {
   "codemirror_mode": {
    "name": "ipython",
    "version": 3
   },
   "file_extension": ".py",
   "mimetype": "text/x-python",
   "name": "python",
   "nbconvert_exporter": "python",
   "pygments_lexer": "ipython3",
   "version": "3.12.3"
  }
 },
 "nbformat": 4,
 "nbformat_minor": 2
}
