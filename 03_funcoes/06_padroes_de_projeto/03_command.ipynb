{
 "cells": [
  {
   "cell_type": "markdown",
   "metadata": {},
   "source": [
    "# Padrão Command\n",
    "\n",
    "> Intenção: encapsular uma solicitação como um objeto, desta forma permitindo parametrizar clientes com diferentes solicitações, enfileirar ou fazer registro (log) de solicitações e suportar operações que podem ser desfeitas.\n",
    "\n",
    "[Padrões de Projetos. Gamma et al.]"
   ]
  },
  {
   "cell_type": "code",
   "execution_count": 13,
   "metadata": {},
   "outputs": [],
   "source": [
    "class Lampada:\n",
    "    def __init__(self, nome: str, sala: str) -> None:\n",
    "        self.nome = nome\n",
    "        self.sala = sala\n",
    "        self.cor = \"cor_padrao\"\n",
    "        self.ison = False\n",
    "\n",
    "    def on(self) -> None:\n",
    "        self.ison = True\n",
    "        print(f\"A lâmpada {self.nome} do espaço {self.sala} está ligada.\")\n",
    "\n",
    "    def off(self) -> None:\n",
    "        self.ison = False\n",
    "        print(f\"A lâmpada {self.nome} do espaço {self.sala} está desligada.\")\n",
    "\n",
    "    def mudar_cor(self, nova_cor: str) -> None:\n",
    "        self.cor = nova_cor\n",
    "        print(\n",
    "            f\"A cor da lâmpada {self.nome} do espaço {self.sala} mudou para {nova_cor}.\"\n",
    "        )"
   ]
  },
  {
   "cell_type": "markdown",
   "metadata": {},
   "source": [
    "## Interface de Comando"
   ]
  },
  {
   "cell_type": "code",
   "execution_count": 14,
   "metadata": {},
   "outputs": [],
   "source": [
    "from abc import ABC, abstractmethod\n",
    "\n",
    "\n",
    "class ICommand(ABC):\n",
    "    @abstractmethod\n",
    "    def execute(self) -> None: pass\n",
    "\n",
    "    @abstractmethod\n",
    "    def undo(self) -> None: pass"
   ]
  },
  {
   "cell_type": "markdown",
   "metadata": {},
   "source": [
    "## Command (comando concreto)"
   ]
  },
  {
   "cell_type": "code",
   "execution_count": 15,
   "metadata": {},
   "outputs": [],
   "source": [
    "class AcenderLampadaCommand(ICommand):\n",
    "    def __init__(self, lampada: Lampada) -> None:\n",
    "        self.lampada = lampada\n",
    "\n",
    "    def execute(self) -> None:\n",
    "        self.lampada.on()\n",
    "\n",
    "    def undo(self) -> None:\n",
    "        self.lampada.off()"
   ]
  },
  {
   "cell_type": "markdown",
   "metadata": {},
   "source": [
    "## Invoker"
   ]
  },
  {
   "cell_type": "code",
   "execution_count": 16,
   "metadata": {},
   "outputs": [],
   "source": [
    "class RemoteController:\n",
    "    def __init__(self) -> None:\n",
    "        self._buttons: dict[str, ICommand] = {}\n",
    "    def button_add_command(self, name: str, command: ICommand) -> None:\n",
    "        self._buttons[name] = command\n",
    "    def button_execute(self, name: str) -> None:\n",
    "        if name in self._buttons:\n",
    "            self._buttons[name].execute()\n",
    "    def button_undo(self, name: str) -> None:\n",
    "        if name in self._buttons:\n",
    "            self._buttons[name].undo()"
   ]
  },
  {
   "cell_type": "markdown",
   "metadata": {},
   "source": [
    "## Usando tudo"
   ]
  },
  {
   "cell_type": "code",
   "execution_count": 17,
   "metadata": {},
   "outputs": [
    {
     "name": "stdout",
     "output_type": "stream",
     "text": [
      "A lâmpada lampada_1 do espaço quarto_2 está ligada.\n"
     ]
    }
   ],
   "source": [
    "quartinho1 = Lampada('lampada_1', 'quarto_2')\n",
    "salao3 = Lampada('lampada_3', 'sala_5')\n",
    "\n",
    "acendedor_quarto_1 = AcenderLampadaCommand(quartinho1)\n",
    "\n",
    "controle_remoto = RemoteController()\n",
    "controle_remoto.button_add_command('b1', acendedor_quarto_1)\n",
    "\n",
    "controle_remoto.button_execute('b1')"
   ]
  },
  {
   "cell_type": "code",
   "execution_count": 18,
   "metadata": {},
   "outputs": [
    {
     "name": "stdout",
     "output_type": "stream",
     "text": [
      "A lâmpada lampada_1 do espaço quarto_2 está desligada.\n"
     ]
    }
   ],
   "source": [
    "controle_remoto.button_undo('b1')"
   ]
  },
  {
   "cell_type": "code",
   "execution_count": null,
   "metadata": {},
   "outputs": [],
   "source": []
  }
 ],
 "metadata": {
  "kernelspec": {
   "display_name": ".venv",
   "language": "python",
   "name": "python3"
  },
  "language_info": {
   "codemirror_mode": {
    "name": "ipython",
    "version": 3
   },
   "file_extension": ".py",
   "mimetype": "text/x-python",
   "name": "python",
   "nbconvert_exporter": "python",
   "pygments_lexer": "ipython3",
   "version": "3.12.2"
  }
 },
 "nbformat": 4,
 "nbformat_minor": 2
}
