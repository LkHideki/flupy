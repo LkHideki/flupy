{
 "cells": [
  {
   "cell_type": "markdown",
   "metadata": {},
   "source": [
    "# Padrão Strategy usando funções\n",
    "\n",
    "**Definição**. Padrão que:\n",
    "1. define uma família de algoritmos,\n",
    "2. encapsuca dada um,\n",
    "3. torna-os intercambiáveis."
   ]
  },
  {
   "cell_type": "markdown",
   "metadata": {},
   "source": [
    "## Ator e Objeto"
   ]
  },
  {
   "cell_type": "code",
   "execution_count": 39,
   "metadata": {},
   "outputs": [],
   "source": [
    "from collections import namedtuple\n",
    "\n",
    "\n",
    "Cliente = namedtuple('Cliente', 'nome fidelidade')\n",
    "\n",
    "class ProdutoNoCarrinho:\n",
    "    def __init__(self, nome, quantidade, preco) -> None:\n",
    "        self.nome = nome\n",
    "        self.quantidade = quantidade\n",
    "        self.preco = preco\n",
    "\n",
    "    def total(self):\n",
    "        return self.preco * self.quantidade"
   ]
  },
  {
   "cell_type": "markdown",
   "metadata": {},
   "source": [
    "## Contexto"
   ]
  },
  {
   "cell_type": "code",
   "execution_count": 40,
   "metadata": {},
   "outputs": [],
   "source": [
    "class Pedido:\n",
    "    def __init__(self, cliente: Cliente, carrinho: list[ProdutoNoCarrinho], promocao=None) -> None:\n",
    "        self.cliente = cliente\n",
    "        self.carrinho = carrinho\n",
    "        self.promocao = promocao\n",
    "        self.desconto = 0.0\n",
    "\n",
    "    def total(self):\n",
    "        if not hasattr(self, '__total'):\n",
    "            self.__total = sum(item.total() for item in self.carrinho)\n",
    "        return self.__total\n",
    "\n",
    "    def desconte(self):\n",
    "        if self.promocao is not None:\n",
    "            self.desconto = self.promocao(self)\n",
    "\n",
    "    def total_considerando_descontos(self):\n",
    "        if self.promocao is None:\n",
    "            return self.total()\n",
    "        self.desconte()\n",
    "        return self.total() - self.desconto\n",
    "\n",
    "    def __repr__(self) -> str:\n",
    "        self.desconte()\n",
    "        linhas = [\n",
    "            (\"Subtotal\",  f\"  R$ {self.total():7.2f}\"),\n",
    "            (\" Desconto\", f\"- R$ {self.desconto:7.2f}\"),\n",
    "            (\"    Total\", f\"  R$ {self.total_considerando_descontos():7.2f}\"),\n",
    "        ]\n",
    "        return \"<\" + '\\n'.join(f\"{tipo}: {valor}\" for tipo,valor in linhas) + \">\""
   ]
  },
  {
   "cell_type": "markdown",
   "metadata": {},
   "source": [
    "## Interface da estratégia"
   ]
  },
  {
   "cell_type": "code",
   "execution_count": 41,
   "metadata": {},
   "outputs": [],
   "source": [
    "# import abc\n",
    "\n",
    "# class Promocao(abc.ABC):\n",
    "#     @abc.abstractmethod\n",
    "#     def desconto(self, pedido: Pedido) -> float: pass"
   ]
  },
  {
   "cell_type": "markdown",
   "metadata": {},
   "source": [
    "## Estratégias (como funções)"
   ]
  },
  {
   "cell_type": "code",
   "execution_count": 42,
   "metadata": {},
   "outputs": [],
   "source": [
    "def fidelidade_promo(pedido: Pedido) -> float:\n",
    "    if pedido.cliente.fidelidade < 1000:\n",
    "        return 0\n",
    "    return pedido.total() * 0.05\n",
    "\n",
    "def combinados_promo(pedido: Pedido) -> float:\n",
    "    itens_elegiveis = [item for item in pedido.carrinho if item.quantidade >= 20]\n",
    "    return sum(item.total() for item in itens_elegiveis) / 10\n",
    "\n",
    "def pedido_grande_promo(pedido: Pedido) -> float:\n",
    "    if len({item.nome for item in pedido.carrinho}) >= 10:\n",
    "        return pedido.total() * 0.07\n",
    "    return 0"
   ]
  },
  {
   "cell_type": "markdown",
   "metadata": {},
   "source": [
    "## Testando..."
   ]
  },
  {
   "cell_type": "code",
   "execution_count": 43,
   "metadata": {},
   "outputs": [],
   "source": [
    "joe = Cliente(\"Joe\", 0)\n",
    "ann = Cliente(\"Anna\", 1100)\n",
    "\n",
    "carrinho = [\n",
    "    ProdutoNoCarrinho(\"Banana\", 4, .5),\n",
    "    ProdutoNoCarrinho(\"Maçã\", 10, 1.5),\n",
    "    ProdutoNoCarrinho(\"Melancia\", 5, 5),\n",
    "]"
   ]
  },
  {
   "cell_type": "code",
   "execution_count": 44,
   "metadata": {},
   "outputs": [
    {
     "data": {
      "text/plain": [
       "<Subtotal:   R$   42.00\n",
       " Desconto: - R$    0.00\n",
       "    Total:   R$   42.00>"
      ]
     },
     "execution_count": 44,
     "metadata": {},
     "output_type": "execute_result"
    }
   ],
   "source": [
    "Pedido(joe, carrinho, fidelidade_promo)"
   ]
  },
  {
   "cell_type": "code",
   "execution_count": 45,
   "metadata": {},
   "outputs": [
    {
     "data": {
      "text/plain": [
       "<Subtotal:   R$   42.00\n",
       " Desconto: - R$    2.10\n",
       "    Total:   R$   39.90>"
      ]
     },
     "execution_count": 45,
     "metadata": {},
     "output_type": "execute_result"
    }
   ],
   "source": [
    "Pedido(ann, carrinho, fidelidade_promo)"
   ]
  },
  {
   "cell_type": "markdown",
   "metadata": {},
   "source": [
    "## Encontrando a melhor estratégia"
   ]
  },
  {
   "cell_type": "code",
   "execution_count": 46,
   "metadata": {},
   "outputs": [
    {
     "data": {
      "text/plain": [
       "<Subtotal:   R$   42.00\n",
       " Desconto: - R$    0.00\n",
       "    Total:   R$   42.00>"
      ]
     },
     "execution_count": 46,
     "metadata": {},
     "output_type": "execute_result"
    }
   ],
   "source": [
    "Pedido(joe, carrinho, fidelidade_promo)"
   ]
  },
  {
   "cell_type": "code",
   "execution_count": 47,
   "metadata": {},
   "outputs": [
    {
     "data": {
      "text/plain": [
       "<Subtotal:   R$   42.00\n",
       " Desconto: - R$    0.00\n",
       "    Total:   R$   42.00>"
      ]
     },
     "execution_count": 47,
     "metadata": {},
     "output_type": "execute_result"
    }
   ],
   "source": [
    "Pedido(joe, carrinho, combinados_promo)"
   ]
  },
  {
   "cell_type": "code",
   "execution_count": 48,
   "metadata": {},
   "outputs": [
    {
     "data": {
      "text/plain": [
       "<Subtotal:   R$   42.00\n",
       " Desconto: - R$    0.00\n",
       "    Total:   R$   42.00>"
      ]
     },
     "execution_count": 48,
     "metadata": {},
     "output_type": "execute_result"
    }
   ],
   "source": [
    "Pedido(joe, carrinho, pedido_grande_promo)"
   ]
  },
  {
   "cell_type": "code",
   "execution_count": 52,
   "metadata": {},
   "outputs": [],
   "source": [
    "def melhor_promocao(pedido: Pedido) -> float:\n",
    "    promos = [fidelidade_promo, combinados_promo, pedido_grande_promo]\n",
    "    return max(promo(pedido) for promo in promos)"
   ]
  },
  {
   "cell_type": "code",
   "execution_count": 53,
   "metadata": {},
   "outputs": [
    {
     "data": {
      "text/plain": [
       "<Subtotal:   R$   42.00\n",
       " Desconto: - R$    2.10\n",
       "    Total:   R$   39.90>"
      ]
     },
     "execution_count": 53,
     "metadata": {},
     "output_type": "execute_result"
    }
   ],
   "source": [
    "Pedido(ann, carrinho, melhor_promocao)"
   ]
  }
 ],
 "metadata": {
  "kernelspec": {
   "display_name": ".venv",
   "language": "python",
   "name": "python3"
  },
  "language_info": {
   "codemirror_mode": {
    "name": "ipython",
    "version": 3
   },
   "file_extension": ".py",
   "mimetype": "text/x-python",
   "name": "python",
   "nbconvert_exporter": "python",
   "pygments_lexer": "ipython3",
   "version": "3.12.2"
  }
 },
 "nbformat": 4,
 "nbformat_minor": 2
}
