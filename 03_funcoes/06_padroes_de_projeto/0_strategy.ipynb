{
 "cells": [
  {
   "cell_type": "markdown",
   "metadata": {},
   "source": [
    "# Entendendo o padrão Strategy"
   ]
  },
  {
   "cell_type": "markdown",
   "metadata": {},
   "source": [
    "## Não tem a ver com o padrão\n",
    "É só pra ilustrar o exemplo: formas de se avaliar um aluno com notas de provas."
   ]
  },
  {
   "cell_type": "code",
   "execution_count": 7,
   "metadata": {},
   "outputs": [],
   "source": [
    "class Individuo:\n",
    "    def __init__(self, nome=\"\") -> None:\n",
    "        self.nome = nome\n",
    "        self._notas: list[float] = []\n",
    "\n",
    "    def append_nota(self, nota: float) -> None:\n",
    "        self._notas.append(nota)\n",
    "\n",
    "    @property\n",
    "    def notas(self):\n",
    "        return sorted(self._notas)"
   ]
  },
  {
   "cell_type": "markdown",
   "metadata": {},
   "source": [
    "## Agora sim, o padrão"
   ]
  },
  {
   "cell_type": "code",
   "execution_count": 8,
   "metadata": {},
   "outputs": [],
   "source": [
    "from abc import ABC, abstractmethod"
   ]
  },
  {
   "cell_type": "markdown",
   "metadata": {},
   "source": [
    "Defino a interface das estratégias"
   ]
  },
  {
   "cell_type": "code",
   "execution_count": 9,
   "metadata": {},
   "outputs": [],
   "source": [
    "class AvaliacaoStrategy(ABC):\n",
    "    name: str\n",
    "    @abstractmethod\n",
    "    def avalie(self, aluno: Individuo) -> float:\n",
    "        pass"
   ]
  },
  {
   "cell_type": "markdown",
   "metadata": {},
   "source": [
    "Defino as estratégias em si"
   ]
  },
  {
   "cell_type": "code",
   "execution_count": 10,
   "metadata": {},
   "outputs": [],
   "source": [
    "class AdilsonStrategy(AvaliacaoStrategy):\n",
    "    name = \"Adilson\"\n",
    "    def avalie(self, aluno: Individuo) -> float:\n",
    "        _, *notas = aluno.notas\n",
    "        return sum(notas) / len(notas)\n",
    "\n",
    "\n",
    "class ProfessorComumStrategy(AvaliacaoStrategy):\n",
    "    name = \"Comum\"\n",
    "    def avalie(self, aluno: Individuo) -> float:\n",
    "        notas = aluno.notas\n",
    "        return sum(notas) / len(notas)"
   ]
  },
  {
   "cell_type": "markdown",
   "metadata": {},
   "source": [
    "Defino um contexto para usá-las de modo coeso"
   ]
  },
  {
   "cell_type": "code",
   "execution_count": 11,
   "metadata": {},
   "outputs": [],
   "source": [
    "class ContextoStrategy:\n",
    "    def __init__(self, strategy: AvaliacaoStrategy | None = None) -> None:\n",
    "        self.strategy = strategy\n",
    "\n",
    "    def set_strategy(self, strategy: AvaliacaoStrategy) -> None:\n",
    "        self.strategy = strategy\n",
    "\n",
    "    def avalie(self, aluno: Individuo) -> float:\n",
    "        if self.strategy is None:\n",
    "            raise Exception(\"Esqueceu de definir uma Strategy aqui no Contexto!\")\n",
    "        return self.strategy.avalie(aluno)\n",
    "\n",
    "    def status(self, aluno: Individuo) -> None:\n",
    "        if self.strategy is None:\n",
    "            raise Exception(\"Esqueceu de definir uma Strategy aqui no Contexto!\")\n",
    "        print(f\"A nota do aluno {aluno.nome} é {self.avalie(aluno):.2f}, seguindo a métrica {self.strategy.name}\")"
   ]
  },
  {
   "cell_type": "markdown",
   "metadata": {},
   "source": [
    "Exemplo: aluno com notas 4, 5, 6, 7 e 8."
   ]
  },
  {
   "cell_type": "code",
   "execution_count": 12,
   "metadata": {},
   "outputs": [],
   "source": [
    "aluno1 = Individuo('Romero')\n",
    "aluno1.append_nota(4)\n",
    "aluno1.append_nota(5)\n",
    "aluno1.append_nota(6)\n",
    "aluno1.append_nota(7)\n",
    "aluno1.append_nota(8)"
   ]
  },
  {
   "cell_type": "code",
   "execution_count": 13,
   "metadata": {},
   "outputs": [
    {
     "name": "stdout",
     "output_type": "stream",
     "text": [
      "A nota do aluno Romero é 6.50, seguindo a métrica Adilson\n"
     ]
    }
   ],
   "source": [
    "medida = ContextoStrategy(AdilsonStrategy())\n",
    "medida.status(aluno1)"
   ]
  },
  {
   "cell_type": "code",
   "execution_count": 14,
   "metadata": {},
   "outputs": [
    {
     "name": "stdout",
     "output_type": "stream",
     "text": [
      "A nota do aluno Romero é 6.00, seguindo a métrica Comum\n"
     ]
    }
   ],
   "source": [
    "medida.set_strategy(ProfessorComumStrategy())\n",
    "medida.status(aluno1)"
   ]
  }
 ],
 "metadata": {
  "kernelspec": {
   "display_name": ".venv",
   "language": "python",
   "name": "python3"
  },
  "language_info": {
   "codemirror_mode": {
    "name": "ipython",
    "version": 3
   },
   "file_extension": ".py",
   "mimetype": "text/x-python",
   "name": "python",
   "nbconvert_exporter": "python",
   "pygments_lexer": "ipython3",
   "version": "3.12.2"
  }
 },
 "nbformat": 4,
 "nbformat_minor": 2
}
