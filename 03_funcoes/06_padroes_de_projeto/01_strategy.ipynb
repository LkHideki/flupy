{
 "cells": [
  {
   "cell_type": "markdown",
   "metadata": {},
   "source": [
    "# Padrão Strategy usando classe\n",
    "\n",
    "**Definição**. Padrão que:\n",
    "1. define uma família de algoritmos,\n",
    "2. encapsuca dada um,\n",
    "3. torna-os intercambiáveis."
   ]
  },
  {
   "cell_type": "markdown",
   "metadata": {},
   "source": [
    "## Ator e Objeto"
   ]
  },
  {
   "cell_type": "code",
   "execution_count": 11,
   "metadata": {},
   "outputs": [],
   "source": [
    "from collections import namedtuple\n",
    "\n",
    "\n",
    "Cliente = namedtuple('Cliente', 'nome fidelidade')\n",
    "\n",
    "class ProdutoNoCarrinho:\n",
    "    def __init__(self, nome, quantidade, preco) -> None:\n",
    "        self.nome = nome\n",
    "        self.quantidade = quantidade\n",
    "        self.preco = preco\n",
    "\n",
    "    def total(self):\n",
    "        return self.preco * self.quantidade"
   ]
  },
  {
   "cell_type": "markdown",
   "metadata": {},
   "source": [
    "## Contexto"
   ]
  },
  {
   "cell_type": "code",
   "execution_count": 12,
   "metadata": {},
   "outputs": [],
   "source": [
    "class Pedido:\n",
    "    def __init__(self, cliente, carrinho, promocao=None) -> None:\n",
    "        self.cliente = cliente\n",
    "        self.carrinho: list[ProdutoNoCarrinho] = carrinho\n",
    "        self.promocao = promocao\n",
    "        self.desconto = 0.0\n",
    "\n",
    "    def total(self):\n",
    "        if not hasattr(self, '__total'):\n",
    "            self.__total = sum(item.total() for item in self.carrinho)\n",
    "        return self.__total\n",
    "\n",
    "    def desconte(self):\n",
    "        self.desconte = self.promocao.desconto(self)\n",
    "\n",
    "    def total_considerando_descontos(self):\n",
    "        if self.promocao is None:\n",
    "            return self.total()\n",
    "        self.desconte()\n",
    "        return self.total() - self.desconto\n",
    "\n",
    "    def __repr__(self) -> str:\n",
    "        linhas = [\n",
    "            (\"Subtotal\", f\"R$ {self.total():10.2f}\"),\n",
    "            (\" Desconto\", f\"- R$ {self.desconto:10.2f}\"),\n",
    "            (\" Subtotal\", f\"R$ {self.total_considerando_descontos():10.2f}\"),\n",
    "        ]\n",
    "        return \"<\" + '\\n'.join(f\"{tipo}: {valor}\" for tipo,valor in linhas) + \">\""
   ]
  },
  {
   "cell_type": "markdown",
   "metadata": {},
   "source": [
    "## Interface da estratégia"
   ]
  },
  {
   "cell_type": "code",
   "execution_count": 13,
   "metadata": {},
   "outputs": [],
   "source": [
    "import abc\n",
    "\n",
    "class Promocao(abc.ABC):\n",
    "    @abc.abstractmethod\n",
    "    def desconto(self, pedido: Pedido) -> float: pass"
   ]
  },
  {
   "cell_type": "markdown",
   "metadata": {},
   "source": [
    "## Estratégias"
   ]
  },
  {
   "cell_type": "code",
   "execution_count": 14,
   "metadata": {},
   "outputs": [],
   "source": [
    "class FidelidadePromo(Promocao):\n",
    "    def desconto(self, pedido: Pedido) -> float:\n",
    "        return pedido.total()\n",
    "\n",
    "\n",
    "class CombinadosPromo(Promocao):\n",
    "    def desconto(self, pedido: Pedido) -> float:\n",
    "        itens_elegiveis = [item for item in pedido.carrinho if item.quantidade >= 20]\n",
    "        return sum(item.total() for item in itens_elegiveis) / 10\n",
    "\n",
    "\n",
    "class PedidoGrandePromo(Promocao):\n",
    "    def desconto(self, pedido: Pedido) -> float:\n",
    "        if len({item.nome for item in pedido.carrinho}) >= 10:\n",
    "            return pedido.total() * 0.07\n",
    "        return 0"
   ]
  }
 ],
 "metadata": {
  "kernelspec": {
   "display_name": ".venv",
   "language": "python",
   "name": "python3"
  },
  "language_info": {
   "codemirror_mode": {
    "name": "ipython",
    "version": 3
   },
   "file_extension": ".py",
   "mimetype": "text/x-python",
   "name": "python",
   "nbconvert_exporter": "python",
   "pygments_lexer": "ipython3",
   "version": "3.12.2"
  }
 },
 "nbformat": 4,
 "nbformat_minor": 2
}
