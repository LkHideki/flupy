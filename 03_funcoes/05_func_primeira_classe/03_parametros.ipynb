{
 "cells": [
  {
   "cell_type": "markdown",
   "metadata": {},
   "source": [
    "# Formas de passar parâmetros\n",
    "\n",
    "em python, podemos explodir iteráveis e mapeamentos nos parâmetros de invocáveis."
   ]
  },
  {
   "cell_type": "code",
   "execution_count": 20,
   "metadata": {},
   "outputs": [],
   "source": [
    "def bla(x, y): ...\n",
    "def ble(x, *y): ...\n",
    "def bli(x, **y): ...\n",
    "def blo(*x, **y): ...\n",
    "def blu(x, *y, z=None, **w):\n",
    "    print(\"Aqui na função blu temos:\")\n",
    "    print(f\"{x = }\")\n",
    "    print(f\"{y = }\")\n",
    "    print(f\"{z = }\")\n",
    "    print(f\"{w = }\")"
   ]
  },
  {
   "cell_type": "code",
   "execution_count": 21,
   "metadata": {},
   "outputs": [
    {
     "name": "stdout",
     "output_type": "stream",
     "text": [
      "Aqui na função blu temos:\n",
      "x = 9\n",
      "y = (8, 9)\n",
      "z = -8\n",
      "w = {'a': 1, 'b': 2, 'c': 3}\n"
     ]
    }
   ],
   "source": [
    "blu(9, 8, 9, z=-8, a=1, b=2, c=3)"
   ]
  },
  {
   "cell_type": "markdown",
   "metadata": {},
   "source": [
    "ou, explodindo..."
   ]
  },
  {
   "cell_type": "code",
   "execution_count": 22,
   "metadata": {},
   "outputs": [
    {
     "name": "stdout",
     "output_type": "stream",
     "text": [
      "Aqui na função blu temos:\n",
      "x = 9\n",
      "y = (8, 9)\n",
      "z = -8\n",
      "w = {'a': 1, 'b': 2, 'c': 3}\n"
     ]
    }
   ],
   "source": [
    "iteraveis = [8, 9]\n",
    "mapeamento = {\"a\": 1, \"b\": 2, \"c\": 3}\n",
    "blu(9, *iteraveis, z=-8, **mapeamento)"
   ]
  },
  {
   "cell_type": "code",
   "execution_count": null,
   "metadata": {},
   "outputs": [],
   "source": []
  }
 ],
 "metadata": {
  "kernelspec": {
   "display_name": ".venv",
   "language": "python",
   "name": "python3"
  },
  "language_info": {
   "codemirror_mode": {
    "name": "ipython",
    "version": 3
   },
   "file_extension": ".py",
   "mimetype": "text/x-python",
   "name": "python",
   "nbconvert_exporter": "python",
   "pygments_lexer": "ipython3",
   "version": "3.12.2"
  }
 },
 "nbformat": 4,
 "nbformat_minor": 2
}
