{
 "cells": [
  {
   "cell_type": "markdown",
   "metadata": {},
   "source": [
    "# Formas de passar parâmetros\n",
    "\n",
    "em python, podemos explodir iteráveis e mapeamentos nos parâmetros de invocáveis."
   ]
  },
  {
   "cell_type": "code",
   "execution_count": 20,
   "metadata": {},
   "outputs": [],
   "source": [
    "def bla(x, y): ...\n",
    "def ble(x, *y): ...\n",
    "def bli(x, **y): ...\n",
    "def blo(*x, **y): ...\n",
    "def blu(x, *y, z=None, **w):\n",
    "    print(\"Aqui na função blu temos:\")\n",
    "    print(f\"{x = }\")\n",
    "    print(f\"{y = }\")\n",
    "    print(f\"{z = }\")\n",
    "    print(f\"{w = }\")"
   ]
  },
  {
   "cell_type": "code",
   "execution_count": 21,
   "metadata": {},
   "outputs": [
    {
     "name": "stdout",
     "output_type": "stream",
     "text": [
      "Aqui na função blu temos:\n",
      "x = 9\n",
      "y = (8, 9)\n",
      "z = -8\n",
      "w = {'a': 1, 'b': 2, 'c': 3}\n"
     ]
    }
   ],
   "source": [
    "blu(9, 8, 9, z=-8, a=1, b=2, c=3)"
   ]
  },
  {
   "cell_type": "markdown",
   "metadata": {},
   "source": [
    "ou, explodindo..."
   ]
  },
  {
   "cell_type": "code",
   "execution_count": 22,
   "metadata": {},
   "outputs": [
    {
     "name": "stdout",
     "output_type": "stream",
     "text": [
      "Aqui na função blu temos:\n",
      "x = 9\n",
      "y = (8, 9)\n",
      "z = -8\n",
      "w = {'a': 1, 'b': 2, 'c': 3}\n"
     ]
    }
   ],
   "source": [
    "iteraveis = [8, 9]\n",
    "mapeamento = {\"a\": 1, \"b\": 2, \"c\": 3}\n",
    "blu(9, *iteraveis, z=-8, **mapeamento)"
   ]
  },
  {
   "cell_type": "markdown",
   "metadata": {},
   "source": [
    "## Parâmetros exclusivamente posicionais\n",
    "\n",
    "antes da barra / a ordem dos parâmetros importa."
   ]
  },
  {
   "cell_type": "code",
   "execution_count": 32,
   "metadata": {},
   "outputs": [],
   "source": [
    "def func1(a, b, /, c, d):\n",
    "    print(f'{a = }')\n",
    "    print(f'{b = }')\n",
    "    print(f'{c = }')\n",
    "    print(f'{d = }')"
   ]
  },
  {
   "cell_type": "code",
   "execution_count": 33,
   "metadata": {},
   "outputs": [
    {
     "name": "stdout",
     "output_type": "stream",
     "text": [
      "a = 2\n",
      "b = 3\n",
      "c = 1\n",
      "d = 4\n"
     ]
    }
   ],
   "source": [
    "func1(2, 3, 1, 4)"
   ]
  },
  {
   "cell_type": "code",
   "execution_count": 35,
   "metadata": {},
   "outputs": [
    {
     "ename": "TypeError",
     "evalue": "func1() got some positional-only arguments passed as keyword arguments: 'a, b'",
     "output_type": "error",
     "traceback": [
      "\u001b[0;31m---------------------------------------------------------------------------\u001b[0m",
      "\u001b[0;31mTypeError\u001b[0m                                 Traceback (most recent call last)",
      "Cell \u001b[0;32mIn[35], line 2\u001b[0m\n\u001b[1;32m      1\u001b[0m \u001b[38;5;66;03m# Aqui dá errado, porque o a vem antes do b e eu tentei forçar o b antes do a.\u001b[39;00m\n\u001b[0;32m----> 2\u001b[0m \u001b[43mfunc1\u001b[49m\u001b[43m(\u001b[49m\u001b[43mb\u001b[49m\u001b[38;5;241;43m=\u001b[39;49m\u001b[38;5;241;43m2\u001b[39;49m\u001b[43m,\u001b[49m\u001b[43m \u001b[49m\u001b[43ma\u001b[49m\u001b[38;5;241;43m=\u001b[39;49m\u001b[38;5;241;43m3\u001b[39;49m\u001b[43m,\u001b[49m\u001b[43m \u001b[49m\u001b[43mc\u001b[49m\u001b[38;5;241;43m=\u001b[39;49m\u001b[38;5;241;43m1\u001b[39;49m\u001b[43m,\u001b[49m\u001b[43m \u001b[49m\u001b[43md\u001b[49m\u001b[38;5;241;43m=\u001b[39;49m\u001b[38;5;241;43m4\u001b[39;49m\u001b[43m)\u001b[49m\n",
      "\u001b[0;31mTypeError\u001b[0m: func1() got some positional-only arguments passed as keyword arguments: 'a, b'"
     ]
    }
   ],
   "source": [
    "# Aqui dá errado, porque o a vem antes do b e eu tentei forçar o b antes do a.\n",
    "func1(b=2, a=3, c=1, d=4)"
   ]
  },
  {
   "cell_type": "code",
   "execution_count": null,
   "metadata": {},
   "outputs": [
    {
     "name": "stdout",
     "output_type": "stream",
     "text": [
      "a = 2\n",
      "b = 3\n",
      "c = 4\n",
      "d = 1\n"
     ]
    }
   ],
   "source": [
    "func1(2, 3, d=1, c=4)"
   ]
  },
  {
   "cell_type": "markdown",
   "metadata": {},
   "source": [
    "## Parâmetros exclusivamente nomeados\n",
    "\n",
    "use * para obrigar a nomeação do que vem depois."
   ]
  },
  {
   "cell_type": "code",
   "execution_count": 36,
   "metadata": {},
   "outputs": [],
   "source": [
    "def func2(a,b,/,c,*,d):\n",
    "    print(f'{a = }')\n",
    "    print(f'{b = }')\n",
    "    print(f'{c = }')\n",
    "    print(f'{d = }')"
   ]
  },
  {
   "cell_type": "code",
   "execution_count": 39,
   "metadata": {},
   "outputs": [
    {
     "ename": "TypeError",
     "evalue": "func2() takes 3 positional arguments but 4 were given",
     "output_type": "error",
     "traceback": [
      "\u001b[0;31m---------------------------------------------------------------------------\u001b[0m",
      "\u001b[0;31mTypeError\u001b[0m                                 Traceback (most recent call last)",
      "Cell \u001b[0;32mIn[39], line 1\u001b[0m\n\u001b[0;32m----> 1\u001b[0m \u001b[43mfunc2\u001b[49m\u001b[43m(\u001b[49m\u001b[38;5;241;43m1\u001b[39;49m\u001b[43m,\u001b[49m\u001b[43m \u001b[49m\u001b[38;5;241;43m2\u001b[39;49m\u001b[43m,\u001b[49m\u001b[43m \u001b[49m\u001b[38;5;241;43m3\u001b[39;49m\u001b[43m,\u001b[49m\u001b[43m \u001b[49m\u001b[38;5;241;43m4\u001b[39;49m\u001b[43m)\u001b[49m\n",
      "\u001b[0;31mTypeError\u001b[0m: func2() takes 3 positional arguments but 4 were given"
     ]
    }
   ],
   "source": [
    "func2(1, 2, 3, 4)"
   ]
  },
  {
   "cell_type": "code",
   "execution_count": 42,
   "metadata": {},
   "outputs": [
    {
     "name": "stdout",
     "output_type": "stream",
     "text": [
      "a = 1\n",
      "b = 2\n",
      "c = 3\n",
      "d = 4\n"
     ]
    }
   ],
   "source": [
    "func2(1, 2, 3, d=4)"
   ]
  },
  {
   "cell_type": "markdown",
   "metadata": {},
   "source": [
    "## Resumindo\n",
    "\n",
    "- use / para usar a ordem do que vem antes;\n",
    "\n",
    "- use * para dar nomes pro que vem depois."
   ]
  }
 ],
 "metadata": {
  "kernelspec": {
   "display_name": ".venv",
   "language": "python",
   "name": "python3"
  },
  "language_info": {
   "codemirror_mode": {
    "name": "ipython",
    "version": 3
   },
   "file_extension": ".py",
   "mimetype": "text/x-python",
   "name": "python",
   "nbconvert_exporter": "python",
   "pygments_lexer": "ipython3",
   "version": "3.12.2"
  }
 },
 "nbformat": 4,
 "nbformat_minor": 2
}
