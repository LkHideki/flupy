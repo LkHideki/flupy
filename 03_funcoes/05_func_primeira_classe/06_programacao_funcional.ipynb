{
 "cells": [
  {
   "cell_type": "markdown",
   "metadata": {},
   "source": [
    "# Pacotes para programação funcional"
   ]
  },
  {
   "cell_type": "markdown",
   "metadata": {},
   "source": [
    "## Módulo `operator`"
   ]
  },
  {
   "cell_type": "code",
   "execution_count": 1,
   "metadata": {},
   "outputs": [],
   "source": [
    "import operator\n",
    "\n",
    "from functools import reduce"
   ]
  },
  {
   "cell_type": "code",
   "execution_count": 2,
   "metadata": {},
   "outputs": [
    {
     "data": {
      "text/plain": [
       "8"
      ]
     },
     "execution_count": 2,
     "metadata": {},
     "output_type": "execute_result"
    }
   ],
   "source": [
    "operator.add(3,5)"
   ]
  },
  {
   "cell_type": "code",
   "execution_count": 3,
   "metadata": {},
   "outputs": [
    {
     "data": {
      "text/plain": [
       "15"
      ]
     },
     "execution_count": 3,
     "metadata": {},
     "output_type": "execute_result"
    }
   ],
   "source": [
    "operator.mul(3,5)"
   ]
  },
  {
   "cell_type": "code",
   "execution_count": 4,
   "metadata": {},
   "outputs": [],
   "source": [
    "def fatorial(n: int) -> int:\n",
    "    if n == 0:\n",
    "        return 1\n",
    "    return reduce(operator.mul, range(1,n+1))"
   ]
  },
  {
   "cell_type": "code",
   "execution_count": 5,
   "metadata": {},
   "outputs": [
    {
     "name": "stdout",
     "output_type": "stream",
     "text": [
      "0 1\n",
      "1 1\n",
      "2 2\n",
      "3 6\n",
      "4 24\n",
      "5 120\n",
      "6 720\n",
      "7 5040\n",
      "8 40320\n",
      "9 362880\n"
     ]
    }
   ],
   "source": [
    "for i in range(10):\n",
    "    print(i, fatorial(i))"
   ]
  },
  {
   "cell_type": "code",
   "execution_count": 9,
   "metadata": {},
   "outputs": [
    {
     "data": {
      "text/plain": [
       "[(0, 0),\n",
       " (-1, 1),\n",
       " (1, 1),\n",
       " (-2, 4),\n",
       " (2, 4),\n",
       " (-3, 9),\n",
       " (3, 9),\n",
       " (4, 16),\n",
       " (5, 25),\n",
       " (6, 36)]"
      ]
     },
     "execution_count": 9,
     "metadata": {},
     "output_type": "execute_result"
    }
   ],
   "source": [
    "quadrados = ((x, x * x) for x in range(-3, 7))\n",
    "sorted(quadrados, key=operator.itemgetter(1))"
   ]
  },
  {
   "cell_type": "code",
   "execution_count": 13,
   "metadata": {},
   "outputs": [
    {
     "name": "stdout",
     "output_type": "stream",
     "text": [
      "Lista de devedores\n",
      "- Lucio\n",
      "- Marques\n",
      "- Naomi\n",
      "- Otávio\n",
      "- Petúnia\n"
     ]
    }
   ],
   "source": [
    "class ContaAPagar:\n",
    "    def __init__(self, nome, conta) -> None:\n",
    "        self.nome = nome\n",
    "        self.conta = conta\n",
    "\n",
    "contas = [\n",
    "    ContaAPagar('Lucio', 12.90),\n",
    "    ContaAPagar('Marques', 31.50),\n",
    "    ContaAPagar('Naomi', 88.45),\n",
    "    ContaAPagar('Otávio', 35.50),\n",
    "    ContaAPagar('Petúnia', 100),\n",
    "]\n",
    "\n",
    "print('Lista de devedores')\n",
    "nomes = operator.attrgetter('nome')\n",
    "for conta in contas:\n",
    "    print('-', nomes(conta))"
   ]
  },
  {
   "cell_type": "markdown",
   "metadata": {},
   "source": [
    "sim, `.attrgetter(•)` é só modo de acessar um atributo ou valor de campo."
   ]
  }
 ],
 "metadata": {
  "kernelspec": {
   "display_name": ".venv",
   "language": "python",
   "name": "python3"
  },
  "language_info": {
   "codemirror_mode": {
    "name": "ipython",
    "version": 3
   },
   "file_extension": ".py",
   "mimetype": "text/x-python",
   "name": "python",
   "nbconvert_exporter": "python",
   "pygments_lexer": "ipython3",
   "version": "3.12.2"
  }
 },
 "nbformat": 4,
 "nbformat_minor": 2
}
