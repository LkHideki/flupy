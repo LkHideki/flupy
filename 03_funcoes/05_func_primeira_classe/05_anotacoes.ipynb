{
 "cells": [
  {
   "cell_type": "markdown",
   "metadata": {},
   "source": [
    "# Anotações de função\n",
    "\n",
    "A declaração abaixo funciona, embora o Pylance reclame que a anotação está ruim.\n",
    "\n",
    "Anotações de função não interferem no código e são só armazenadas no dunder annotations."
   ]
  },
  {
   "cell_type": "code",
   "execution_count": 8,
   "metadata": {},
   "outputs": [],
   "source": [
    "def informacoes(nome: str, idade: 'int > 0') -> str:\n",
    "    _s = f\"A pessoa se chama {nome} e tem {idade} anos\"\n",
    "    print(_s)\n",
    "    return _s"
   ]
  },
  {
   "cell_type": "code",
   "execution_count": 11,
   "metadata": {},
   "outputs": [
    {
     "name": "stdout",
     "output_type": "stream",
     "text": [
      "A pessoa se chama Beto e tem -0.5 anos\n"
     ]
    },
    {
     "data": {
      "text/plain": [
       "'A pessoa se chama Beto e tem -0.5 anos'"
      ]
     },
     "execution_count": 11,
     "metadata": {},
     "output_type": "execute_result"
    }
   ],
   "source": [
    "informacoes('Beto', -0.5)"
   ]
  },
  {
   "cell_type": "markdown",
   "metadata": {},
   "source": [
    "Este arquivo ficou menor, porque novas versões de python melhoraram este recurso com as *type hints*."
   ]
  }
 ],
 "metadata": {
  "kernelspec": {
   "display_name": ".venv",
   "language": "python",
   "name": "python3"
  },
  "language_info": {
   "codemirror_mode": {
    "name": "ipython",
    "version": 3
   },
   "file_extension": ".py",
   "mimetype": "text/x-python",
   "name": "python",
   "nbconvert_exporter": "python",
   "pygments_lexer": "ipython3",
   "version": "3.12.2"
  }
 },
 "nbformat": 4,
 "nbformat_minor": 2
}
