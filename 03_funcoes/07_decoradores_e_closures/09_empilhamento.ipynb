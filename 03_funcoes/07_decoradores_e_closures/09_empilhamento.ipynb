{
 "cells": [
  {
   "cell_type": "markdown",
   "metadata": {},
   "source": [
    "# Decoradores empilhados"
   ]
  },
  {
   "cell_type": "markdown",
   "metadata": {},
   "source": [
    "Dados os decoradores `d1` e `d2`"
   ]
  },
  {
   "cell_type": "code",
   "execution_count": 11,
   "metadata": {},
   "outputs": [],
   "source": [
    "def d1(func):\n",
    "    def inner(*args, **kwargs):\n",
    "        print('Rodando d1')\n",
    "        return func(*args, **kwargs)\n",
    "    return inner\n",
    "\n",
    "def d2(func):\n",
    "    def inner(*args, **kwargs):\n",
    "        print('Rodando d2')\n",
    "        return func(*args, **kwargs)\n",
    "    return inner"
   ]
  },
  {
   "cell_type": "markdown",
   "metadata": {},
   "source": [
    "e uma função a ser decorada `func_a_ser_decorada`, quando empilhamos decoradores temos"
   ]
  },
  {
   "cell_type": "code",
   "execution_count": 12,
   "metadata": {},
   "outputs": [],
   "source": [
    "from time import sleep\n",
    "\n",
    "@d1\n",
    "@d2\n",
    "def func_a_ser_decorada(t: float):\n",
    "    sleep(t)\n",
    "    print('fim da função a ser decorada')\n",
    "\n",
    "def func(t: float):\n",
    "    sleep(t)\n",
    "    print('fim da função a ser decorada')"
   ]
  },
  {
   "cell_type": "code",
   "execution_count": 13,
   "metadata": {},
   "outputs": [
    {
     "name": "stdout",
     "output_type": "stream",
     "text": [
      "Rodando d1\n",
      "Rodando d2\n",
      "fim da função a ser decorada\n"
     ]
    }
   ],
   "source": [
    "func_a_ser_decorada(2)"
   ]
  },
  {
   "cell_type": "markdown",
   "metadata": {},
   "source": [
    "É o mesmo que executar"
   ]
  },
  {
   "cell_type": "code",
   "execution_count": 14,
   "metadata": {},
   "outputs": [
    {
     "name": "stdout",
     "output_type": "stream",
     "text": [
      "Rodando d1\n",
      "Rodando d2\n",
      "fim da função a ser decorada\n"
     ]
    }
   ],
   "source": [
    "d1(d2(func))(2)"
   ]
  },
  {
   "cell_type": "markdown",
   "metadata": {},
   "source": [
    "Então a sequência de cima para baixo segue a ordem de composição de funções."
   ]
  }
 ],
 "metadata": {
  "kernelspec": {
   "display_name": ".venv",
   "language": "python",
   "name": "python3"
  },
  "language_info": {
   "codemirror_mode": {
    "name": "ipython",
    "version": 3
   },
   "file_extension": ".py",
   "mimetype": "text/x-python",
   "name": "python",
   "nbconvert_exporter": "python",
   "pygments_lexer": "ipython3",
   "version": "3.12.2"
  }
 },
 "nbformat": 4,
 "nbformat_minor": 2
}
