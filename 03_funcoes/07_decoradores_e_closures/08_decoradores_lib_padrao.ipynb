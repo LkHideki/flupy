{
 "cells": [
  {
   "cell_type": "markdown",
   "metadata": {},
   "source": [
    "# Decoradores da bibilioteca padrão: `lru_cache`"
   ]
  },
  {
   "cell_type": "code",
   "execution_count": 12,
   "metadata": {},
   "outputs": [],
   "source": [
    "from functools import lru_cache\n",
    "from time import perf_counter\n",
    "\n",
    "@lru_cache\n",
    "def fibonacci(n: int) -> int:\n",
    "    if n < 2: return n\n",
    "    return fibonacci(n-1) + fibonacci(n-2)"
   ]
  },
  {
   "cell_type": "code",
   "execution_count": 8,
   "metadata": {},
   "outputs": [],
   "source": [
    "N = 35"
   ]
  },
  {
   "cell_type": "markdown",
   "metadata": {},
   "source": [
    "## Fibonacci recursivo do `N`-ésimo item (padrão)"
   ]
  },
  {
   "cell_type": "code",
   "execution_count": 9,
   "metadata": {},
   "outputs": [
    {
     "name": "stdout",
     "output_type": "stream",
     "text": [
      "\n",
      "\tTempo: 1839.90212 ms\n"
     ]
    }
   ],
   "source": [
    "_t0 = perf_counter()\n",
    "for i in range(N):\n",
    "    fibonacci(i)\n",
    "dt = 1000 * (perf_counter() - _t0)\n",
    "print('\\n\\tTempo: %.5f ms' %dt)"
   ]
  },
  {
   "cell_type": "markdown",
   "metadata": {},
   "source": [
    "## Fibonacci recursivo do `N`-ésimo item com cache\n",
    "\n",
    "O cache foi implementado usando o decorator."
   ]
  },
  {
   "cell_type": "code",
   "execution_count": 13,
   "metadata": {},
   "outputs": [
    {
     "name": "stdout",
     "output_type": "stream",
     "text": [
      "\n",
      "\tTempo: 0.08179 ms\n"
     ]
    }
   ],
   "source": [
    "_t0 = perf_counter()\n",
    "for i in range(N):\n",
    "    fibonacci(i)\n",
    "dt2 = 1000*(perf_counter() - _t0)\n",
    "print('\\n\\tTempo: %.5f ms' %dt2)"
   ]
  },
  {
   "cell_type": "code",
   "execution_count": 14,
   "metadata": {},
   "outputs": [
    {
     "data": {
      "text/plain": [
       "22494.891018778733"
      ]
     },
     "execution_count": 14,
     "metadata": {},
     "output_type": "execute_result"
    }
   ],
   "source": [
    "dt / dt2"
   ]
  },
  {
   "cell_type": "markdown",
   "metadata": {},
   "source": [
    "**Resultado**: com o cache, temos um código 22 mil vezes mais rápido."
   ]
  },
  {
   "cell_type": "markdown",
   "metadata": {},
   "source": [
    "# Decoradores da bibilioteca padrão: `singledispatch`"
   ]
  },
  {
   "cell_type": "markdown",
   "metadata": {},
   "source": [
    "Temos a função `htmlize`"
   ]
  },
  {
   "cell_type": "code",
   "execution_count": 1,
   "metadata": {},
   "outputs": [
    {
     "data": {
      "text/plain": [
       "'<pre>[2, 4, 6]</pre>'"
      ]
     },
     "execution_count": 1,
     "metadata": {},
     "output_type": "execute_result"
    }
   ],
   "source": [
    "import html\n",
    "\n",
    "def htmlize(obj):\n",
    "    content = html.escape(repr(obj))\n",
    "    return f\"<pre>{content}</pre>\"\n",
    "\n",
    "htmlize([2,4,6])"
   ]
  },
  {
   "cell_type": "markdown",
   "metadata": {},
   "source": [
    "mas queremos, agora, o seguinte comportamento:\n",
    "\n",
    "`>>> htmlize([2, 'ok', True])`\n",
    "\n",
    "```html\n",
    "<ul>\n",
    "  <li>2</li>\n",
    "  <li><pre>ok</pre></li>\n",
    "  <li><pre>True</pre></li>\n",
    "</ul>\n",
    "```\n",
    "\n",
    "só que, em python, não há sobrecarga de funções."
   ]
  },
  {
   "cell_type": "code",
   "execution_count": 2,
   "metadata": {},
   "outputs": [],
   "source": [
    "from functools import singledispatch"
   ]
  },
  {
   "cell_type": "markdown",
   "metadata": {},
   "source": [
    "O decorator `singledispatch` implementa uma forma de resolver isto.\n",
    "\n",
    "Primeiro, decoramos a função geral."
   ]
  },
  {
   "cell_type": "code",
   "execution_count": 3,
   "metadata": {},
   "outputs": [],
   "source": [
    "@singledispatch\n",
    "def htmlize(obj):\n",
    "    content = html.escape(repr(obj))\n",
    "    return f\"<pre>{content}</pre>\""
   ]
  },
  {
   "cell_type": "markdown",
   "metadata": {},
   "source": [
    "O processo de especialização ocorre como os dois exemplos abaixo (um pra texto e outro para número):"
   ]
  },
  {
   "cell_type": "code",
   "execution_count": 6,
   "metadata": {},
   "outputs": [],
   "source": [
    "@htmlize.register(str)\n",
    "def _(text):\n",
    "    content = html.escape(text).replace('\\n', '<br>\\n')\n",
    "    return f\"<p>{content}</p>\""
   ]
  },
  {
   "cell_type": "code",
   "execution_count": 11,
   "metadata": {},
   "outputs": [],
   "source": [
    "@htmlize.register(int)\n",
    "@htmlize.register(float) # sim, podemos empilhar decoradores\n",
    "def _(n):\n",
    "    return f\"<pre class='number'>{n}</pre>\""
   ]
  },
  {
   "cell_type": "code",
   "execution_count": 12,
   "metadata": {},
   "outputs": [
    {
     "data": {
      "text/plain": [
       "\"<pre class='number'>19</pre>\""
      ]
     },
     "execution_count": 12,
     "metadata": {},
     "output_type": "execute_result"
    }
   ],
   "source": [
    "htmlize(19)"
   ]
  },
  {
   "cell_type": "code",
   "execution_count": 13,
   "metadata": {},
   "outputs": [
    {
     "data": {
      "text/plain": [
       "'<p>Olá mundo!</p>'"
      ]
     },
     "execution_count": 13,
     "metadata": {},
     "output_type": "execute_result"
    }
   ],
   "source": [
    "htmlize('Olá mundo!')"
   ]
  },
  {
   "cell_type": "code",
   "execution_count": 14,
   "metadata": {},
   "outputs": [
    {
     "data": {
      "text/plain": [
       "'<pre>[4, 3, 5]</pre>'"
      ]
     },
     "execution_count": 14,
     "metadata": {},
     "output_type": "execute_result"
    }
   ],
   "source": [
    "htmlize([4,3,5])"
   ]
  },
  {
   "cell_type": "code",
   "execution_count": 18,
   "metadata": {},
   "outputs": [],
   "source": [
    "@htmlize.register(tuple)\n",
    "@htmlize.register(list)\n",
    "@htmlize.register(set)\n",
    "def _(lista):\n",
    "    content = \"\\n\".join(f'<li>{htmlize(item)}</li>' for item in lista)\n",
    "    return f\"<ul>\\n{content}\\n</ul>\""
   ]
  },
  {
   "cell_type": "code",
   "execution_count": 19,
   "metadata": {},
   "outputs": [
    {
     "name": "stdout",
     "output_type": "stream",
     "text": [
      "<ul>\n",
      "<li><pre class='number'>4</pre></li>\n",
      "<li><pre class='number'>3</pre></li>\n",
      "<li><pre class='number'>5</pre></li>\n",
      "</ul>\n"
     ]
    }
   ],
   "source": [
    "print(htmlize([4,3,5]))"
   ]
  },
  {
   "cell_type": "markdown",
   "metadata": {},
   "source": [
    "Legal, né?"
   ]
  }
 ],
 "metadata": {
  "kernelspec": {
   "display_name": ".venv",
   "language": "python",
   "name": "python3"
  },
  "language_info": {
   "codemirror_mode": {
    "name": "ipython",
    "version": 3
   },
   "file_extension": ".py",
   "mimetype": "text/x-python",
   "name": "python",
   "nbconvert_exporter": "python",
   "pygments_lexer": "ipython3",
   "version": "3.12.2"
  }
 },
 "nbformat": 4,
 "nbformat_minor": 2
}
