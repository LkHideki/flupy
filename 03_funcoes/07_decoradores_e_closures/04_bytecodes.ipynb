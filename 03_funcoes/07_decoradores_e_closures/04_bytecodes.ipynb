{
 "cells": [
  {
   "cell_type": "markdown",
   "metadata": {},
   "source": [
    "# Comparando bytecodes"
   ]
  },
  {
   "cell_type": "code",
   "execution_count": 1,
   "metadata": {},
   "outputs": [],
   "source": [
    "from dis import dis"
   ]
  },
  {
   "cell_type": "code",
   "execution_count": 12,
   "metadata": {},
   "outputs": [],
   "source": [
    "def soma_ou_default(a: int, b: int, c: int) -> int:\n",
    "    \"\"\"Retorna a soma de a com b se ela for maior do que 10, cc. retorna c.\"\"\"\n",
    "    d = a + b\n",
    "    if d > 10:\n",
    "        return c\n",
    "    return d"
   ]
  },
  {
   "cell_type": "markdown",
   "metadata": {},
   "source": [
    "A função `dis.dis` mostra os bytecodes da função acima."
   ]
  },
  {
   "cell_type": "code",
   "execution_count": 13,
   "metadata": {},
   "outputs": [
    {
     "name": "stdout",
     "output_type": "stream",
     "text": [
      "  1           0 RESUME                   0\n",
      "\n",
      "  3           2 LOAD_FAST                0 (a)\n",
      "              4 LOAD_FAST                1 (b)\n",
      "              6 BINARY_OP                0 (+)\n",
      "             10 STORE_FAST               3 (d)\n",
      "\n",
      "  4          12 LOAD_FAST                3 (d)\n",
      "             14 LOAD_CONST               1 (10)\n",
      "             16 COMPARE_OP              68 (>)\n",
      "             20 POP_JUMP_IF_FALSE        2 (to 26)\n",
      "\n",
      "  5          22 LOAD_FAST                2 (c)\n",
      "             24 RETURN_VALUE\n",
      "\n",
      "  6     >>   26 LOAD_FAST                3 (d)\n",
      "             28 RETURN_VALUE\n"
     ]
    }
   ],
   "source": [
    "dis(soma_ou_default)"
   ]
  }
 ],
 "metadata": {
  "kernelspec": {
   "display_name": ".venv",
   "language": "python",
   "name": "python3"
  },
  "language_info": {
   "codemirror_mode": {
    "name": "ipython",
    "version": 3
   },
   "file_extension": ".py",
   "mimetype": "text/x-python",
   "name": "python",
   "nbconvert_exporter": "python",
   "pygments_lexer": "ipython3",
   "version": "3.12.2"
  }
 },
 "nbformat": 4,
 "nbformat_minor": 2
}
