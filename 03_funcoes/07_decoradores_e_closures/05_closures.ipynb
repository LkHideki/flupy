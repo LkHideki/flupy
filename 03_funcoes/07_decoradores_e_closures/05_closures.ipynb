{
 "cells": [
  {
   "cell_type": "markdown",
   "metadata": {},
   "source": [
    "# Closures\n",
    "\n",
    "**Definição**: função que mantém uma função com escopo estendido (que pode acessar variáveis não globais que não estão definidas dentro de seu corpo)."
   ]
  },
  {
   "cell_type": "code",
   "execution_count": 14,
   "metadata": {},
   "outputs": [],
   "source": [
    "class Averager:\n",
    "    def __init__(self) -> None:\n",
    "        self.series = []  # a lista é guardada neste atributo\n",
    "    def __call__(self, new_value):\n",
    "        self.series.append(new_value)\n",
    "        return sum(self.series) / len(self.series)"
   ]
  },
  {
   "cell_type": "code",
   "execution_count": 15,
   "metadata": {},
   "outputs": [],
   "source": [
    "avg = Averager()"
   ]
  },
  {
   "cell_type": "code",
   "execution_count": 16,
   "metadata": {},
   "outputs": [
    {
     "data": {
      "text/plain": [
       "2.0"
      ]
     },
     "execution_count": 16,
     "metadata": {},
     "output_type": "execute_result"
    }
   ],
   "source": [
    "avg(2)"
   ]
  },
  {
   "cell_type": "code",
   "execution_count": 17,
   "metadata": {},
   "outputs": [
    {
     "data": {
      "text/plain": [
       "3.0"
      ]
     },
     "execution_count": 17,
     "metadata": {},
     "output_type": "execute_result"
    }
   ],
   "source": [
    "avg(4)"
   ]
  },
  {
   "cell_type": "code",
   "execution_count": 18,
   "metadata": {},
   "outputs": [
    {
     "data": {
      "text/plain": [
       "6.0"
      ]
     },
     "execution_count": 18,
     "metadata": {},
     "output_type": "execute_result"
    }
   ],
   "source": [
    "avg(12)"
   ]
  },
  {
   "cell_type": "code",
   "execution_count": 19,
   "metadata": {},
   "outputs": [],
   "source": [
    "def make_averager():\n",
    "    series = []  # a lista é guardada nesta variável\n",
    "    def averager(new_value): # aqui dentro, series é variável LIVRE\n",
    "        series.append(new_value)\n",
    "        return sum(series) / len(series)\n",
    "    return averager"
   ]
  },
  {
   "cell_type": "code",
   "execution_count": 20,
   "metadata": {},
   "outputs": [
    {
     "data": {
      "text/plain": [
       "2.0"
      ]
     },
     "execution_count": 20,
     "metadata": {},
     "output_type": "execute_result"
    }
   ],
   "source": [
    "avg_func = make_averager()\n",
    "avg_func(2)"
   ]
  },
  {
   "cell_type": "code",
   "execution_count": 21,
   "metadata": {},
   "outputs": [
    {
     "data": {
      "text/plain": [
       "3.0"
      ]
     },
     "execution_count": 21,
     "metadata": {},
     "output_type": "execute_result"
    }
   ],
   "source": [
    "avg_func(4)"
   ]
  },
  {
   "cell_type": "code",
   "execution_count": 22,
   "metadata": {},
   "outputs": [
    {
     "data": {
      "text/plain": [
       "6.0"
      ]
     },
     "execution_count": 22,
     "metadata": {},
     "output_type": "execute_result"
    }
   ],
   "source": [
    "avg_func(12)"
   ]
  },
  {
   "cell_type": "code",
   "execution_count": 23,
   "metadata": {},
   "outputs": [
    {
     "data": {
      "text/plain": [
       "[2, 4, 12]"
      ]
     },
     "execution_count": 23,
     "metadata": {},
     "output_type": "execute_result"
    }
   ],
   "source": [
    "avg_func.__closure__[0].cell_contents"
   ]
  },
  {
   "cell_type": "markdown",
   "metadata": {},
   "source": [
    "## Obs\n",
    "\n",
    "Vi lugares definindo *closure* como sendo a função mais externa que preserva as associações entre variáveis livres e funções com escopo estendido. Vi lugares definindo closure como técnica de programação. Vi lugares definindo closure como escopo.\n",
    "\n",
    "Vou priorizar a definição do Ramalho: \"uma closure é uma função que preserva as associações com as variáveis livres existentes quando a função é definida\".\n",
    "\n",
    "Em\n",
    "\n",
    "```python\n",
    "def make_averager():\n",
    "    series = []  # a lista é guardada nesta variável\n",
    "    def averager(new_value): # aqui dentro, series é variável LIVRE\n",
    "        series.append(new_value)\n",
    "        return sum(series) / len(series)\n",
    "    return averager\n",
    "```\n",
    "\n",
    "\n",
    "a parte que corresponde a(o corpo da) closure é\n",
    "\n",
    "```python\n",
    "series = []  # a lista é guardada nesta variável\n",
    "def averager(new_value): # aqui dentro, series é variável LIVRE\n",
    "    series.append(new_value)\n",
    "    return sum(series) / len(series)\n",
    "return averager\n",
    "```\n",
    "\n",
    "De modo que `series` é variável livre dentro de `averager`."
   ]
  }
 ],
 "metadata": {
  "kernelspec": {
   "display_name": ".venv",
   "language": "python",
   "name": "python3"
  },
  "language_info": {
   "codemirror_mode": {
    "name": "ipython",
    "version": 3
   },
   "file_extension": ".py",
   "mimetype": "text/x-python",
   "name": "python",
   "nbconvert_exporter": "python",
   "pygments_lexer": "ipython3",
   "version": "3.12.2"
  }
 },
 "nbformat": 4,
 "nbformat_minor": 2
}
