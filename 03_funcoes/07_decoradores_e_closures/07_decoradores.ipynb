{
 "cells": [
  {
   "cell_type": "markdown",
   "metadata": {},
   "source": [
    "# Decoradores, de coração ♥️\n",
    "\n",
    "Dados os conceitos anteriores, vamos implementar um decorador que mede o tempo de execução de uma função."
   ]
  },
  {
   "cell_type": "code",
   "execution_count": 9,
   "metadata": {},
   "outputs": [],
   "source": [
    "from time import perf_counter\n",
    "\n",
    "\n",
    "def quanto_tempo_demora(func):\n",
    "    def inner(*args):\n",
    "        _t0 = perf_counter()\n",
    "        res = func(*args)\n",
    "        duracao = perf_counter() - _t0\n",
    "\n",
    "        nome_da_funcao_medida = func.__name__\n",
    "        print(f\"< {nome_da_funcao_medida} demorou {duracao * 1000:.5f}ms >\")\n",
    "        return res\n",
    "\n",
    "    return inner"
   ]
  },
  {
   "cell_type": "code",
   "execution_count": 14,
   "metadata": {},
   "outputs": [],
   "source": [
    "@quanto_tempo_demora\n",
    "def lista_1m_elementos(elemento=1):\n",
    "    x = []\n",
    "    for _ in range(1_000_000):\n",
    "        x.append(elemento)"
   ]
  },
  {
   "cell_type": "code",
   "execution_count": 17,
   "metadata": {},
   "outputs": [
    {
     "name": "stdout",
     "output_type": "stream",
     "text": [
      "< lista_1m_elementos demorou 28.52242ms >\n"
     ]
    }
   ],
   "source": [
    "lista_1m_elementos('blabla')"
   ]
  }
 ],
 "metadata": {
  "kernelspec": {
   "display_name": ".venv",
   "language": "python",
   "name": "python3"
  },
  "language_info": {
   "codemirror_mode": {
    "name": "ipython",
    "version": 3
   },
   "file_extension": ".py",
   "mimetype": "text/x-python",
   "name": "python",
   "nbconvert_exporter": "python",
   "pygments_lexer": "ipython3",
   "version": "3.12.2"
  }
 },
 "nbformat": 4,
 "nbformat_minor": 2
}
