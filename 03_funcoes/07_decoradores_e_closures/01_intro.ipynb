{
 "cells": [
  {
   "cell_type": "markdown",
   "metadata": {},
   "source": [
    "# Decorators, closures e nonlocal\n",
    "\n",
    "Decoradores são invocáveis que recebem funções ou classes, realizam algum procedimento e retornam um invocável."
   ]
  },
  {
   "cell_type": "code",
   "execution_count": 7,
   "metadata": {},
   "outputs": [
    {
     "name": "stdout",
     "output_type": "stream",
     "text": [
      "rodando func <function blar at 0x11954e2a0>\n"
     ]
    },
    {
     "data": {
      "text/plain": [
       "6"
      ]
     },
     "execution_count": 7,
     "metadata": {},
     "output_type": "execute_result"
    }
   ],
   "source": [
    "def decorador1(func):\n",
    "    print('rodando func', func)\n",
    "    def inner():\n",
    "        return func()\n",
    "    return inner\n",
    "\n",
    "@decorador1\n",
    "def blar():\n",
    "    return 1+1\n",
    "\n",
    "3 * blar()"
   ]
  },
  {
   "cell_type": "markdown",
   "metadata": {},
   "source": [
    "Decorators são executados em tempo de importação: imediatamente após a definição da função decorada."
   ]
  },
  {
   "cell_type": "code",
   "execution_count": 11,
   "metadata": {},
   "outputs": [
    {
     "name": "stdout",
     "output_type": "stream",
     "text": [
      "rodando func <function diz_oi at 0x11954ee80>\n"
     ]
    }
   ],
   "source": [
    "@decorador1\n",
    "def diz_oi():\n",
    "    print('oi')"
   ]
  },
  {
   "cell_type": "markdown",
   "metadata": {},
   "source": [
    "Embora intercambiáveis, a forma abaixo devolve o retorno da função *decorador1*:"
   ]
  },
  {
   "cell_type": "code",
   "execution_count": 12,
   "metadata": {},
   "outputs": [
    {
     "name": "stdout",
     "output_type": "stream",
     "text": [
      "rodando func <function diz_tchau at 0x11954e8e0>\n"
     ]
    },
    {
     "data": {
      "text/plain": [
       "<function __main__.decorador1.<locals>.inner()>"
      ]
     },
     "execution_count": 12,
     "metadata": {},
     "output_type": "execute_result"
    }
   ],
   "source": [
    "def diz_tchau():\n",
    "    print('tchau')\n",
    "decorador1(diz_tchau)"
   ]
  },
  {
   "cell_type": "code",
   "execution_count": null,
   "metadata": {},
   "outputs": [],
   "source": []
  }
 ],
 "metadata": {
  "kernelspec": {
   "display_name": ".venv",
   "language": "python",
   "name": "python3"
  },
  "language_info": {
   "codemirror_mode": {
    "name": "ipython",
    "version": 3
   },
   "file_extension": ".py",
   "mimetype": "text/x-python",
   "name": "python",
   "nbconvert_exporter": "python",
   "pygments_lexer": "ipython3",
   "version": "3.12.2"
  }
 },
 "nbformat": 4,
 "nbformat_minor": 2
}
