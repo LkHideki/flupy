{
 "cells": [
  {
   "cell_type": "markdown",
   "metadata": {},
   "source": [
    "# Melhorando strategy com decorator"
   ]
  },
  {
   "cell_type": "code",
   "execution_count": 2,
   "metadata": {},
   "outputs": [],
   "source": [
    "from collections import namedtuple\n",
    "\n",
    "\n",
    "Cliente = namedtuple(\"Cliente\", \"nome fidelidade\")\n",
    "\n",
    "\n",
    "class ProdutoNoCarrinho:\n",
    "    def __init__(self, nome, quantidade, preco) -> None:\n",
    "        self.nome = nome\n",
    "        self.quantidade = quantidade\n",
    "        self.preco = preco\n",
    "\n",
    "    def total(self):\n",
    "        return self.preco * self.quantidade\n",
    "\n",
    "\n",
    "class Pedido:\n",
    "    def __init__(\n",
    "        self, cliente: Cliente, carrinho: list[ProdutoNoCarrinho], promocao=None\n",
    "    ) -> None:\n",
    "        self.cliente = cliente\n",
    "        self.carrinho = carrinho\n",
    "        self.promocao = promocao\n",
    "        self.desconto = 0.0\n",
    "\n",
    "    def total(self):\n",
    "        if not hasattr(self, \"__total\"):\n",
    "            self.__total = sum(item.total() for item in self.carrinho)\n",
    "        return self.__total\n",
    "\n",
    "    def desconte(self):\n",
    "        if self.promocao is not None:\n",
    "            self.desconto = self.promocao.desconto(self)\n",
    "\n",
    "    def total_considerando_descontos(self):\n",
    "        if self.promocao is None:\n",
    "            return self.total()\n",
    "        self.desconte()\n",
    "        return self.total() - self.desconto\n",
    "\n",
    "    def __repr__(self) -> str:\n",
    "        self.desconte()\n",
    "        linhas = [\n",
    "            (\"Subtotal\", f\"  R$ {self.total():7.2f}\"),\n",
    "            (\" Desconto\", f\"- R$ {self.desconto:7.2f}\"),\n",
    "            (\" Subtotal\", f\"  R$ {self.total_considerando_descontos():7.2f}\"),\n",
    "        ]\n",
    "        return \"<\" + \"\\n\".join(f\"{tipo}: {valor}\" for tipo, valor in linhas) + \">\""
   ]
  },
  {
   "cell_type": "code",
   "execution_count": 3,
   "metadata": {},
   "outputs": [],
   "source": [
    "promos = []\n",
    "\n",
    "#### Decorator #####\n",
    "def promo(promo_func):\n",
    "    \"\"\"O único objetivo deste decorator é inserir a função na lista\"\"\"\n",
    "    promos.append(promo_func)\n",
    "    return promo_func\n",
    "#####################\n",
    "\n",
    "####### Funções #####\n",
    "@promo\n",
    "def fidelidade(pedido: Pedido) -> float:\n",
    "    return pedido.total() * 0.05 if pedido.cliente.fidelidade >= 1000 else 0\n",
    "\n",
    "@promo\n",
    "def combinados(pedido: Pedido) -> float:\n",
    "    return sum(p.total() for p in pedido.carrinho if p.quantidade >= 20) / 10\n",
    "\n",
    "@promo\n",
    "def grande(pedido: Pedido) -> float:\n",
    "    return pedido.total() * .07 if len({p.nome for p in pedido.carrinho}) > 9 else 0\n",
    "\n",
    "def melhor_promo(pedido: Pedido) -> float:\n",
    "    return max(promo(pedido) for promo in promos)\n",
    "#####################"
   ]
  }
 ],
 "metadata": {
  "kernelspec": {
   "display_name": ".venv",
   "language": "python",
   "name": "python3"
  },
  "language_info": {
   "codemirror_mode": {
    "name": "ipython",
    "version": 3
   },
   "file_extension": ".py",
   "mimetype": "text/x-python",
   "name": "python",
   "nbconvert_exporter": "python",
   "pygments_lexer": "ipython3",
   "version": "3.12.2"
  }
 },
 "nbformat": 4,
 "nbformat_minor": 2
}
