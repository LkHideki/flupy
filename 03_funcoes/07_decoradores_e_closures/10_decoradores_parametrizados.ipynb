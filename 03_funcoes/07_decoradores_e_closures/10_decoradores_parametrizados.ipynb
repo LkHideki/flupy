{
 "cells": [
  {
   "cell_type": "markdown",
   "metadata": {},
   "source": [
    "# Passando parâmetros para decoradores\n",
    "\n",
    "Temos o exemplo do arquivo anterior"
   ]
  },
  {
   "cell_type": "code",
   "execution_count": 3,
   "metadata": {},
   "outputs": [],
   "source": [
    "from time import sleep"
   ]
  },
  {
   "cell_type": "code",
   "execution_count": 2,
   "metadata": {},
   "outputs": [],
   "source": [
    "def d1(func):\n",
    "    def inner(*args, **kwargs):\n",
    "        print('Rodando d1')\n",
    "        return func(*args, **kwargs)\n",
    "    return inner\n",
    "\n",
    "def d2(func):\n",
    "    def inner(*args, **kwargs):\n",
    "        print('Rodando d2')\n",
    "        return func(*args, **kwargs)\n",
    "    return inner"
   ]
  },
  {
   "cell_type": "markdown",
   "metadata": {},
   "source": [
    "mas e se quiséssemos aplicar sleeps em cada decorator de modo personalizado?\n",
    "\n",
    "Algo como \n",
    "```python\n",
    "@d1(sleeping_time=2.2)\n",
    "@d2(sleeping_time=3)\n",
    "def func(): ...\n",
    "```\n",
    "\n",
    "seria possível?"
   ]
  },
  {
   "cell_type": "markdown",
   "metadata": {},
   "source": [
    "## Fábrica de decoradores"
   ]
  },
  {
   "cell_type": "code",
   "execution_count": 5,
   "metadata": {},
   "outputs": [],
   "source": [
    "def make_decorator(name=\"d1\", sleeping_time=2):\n",
    "    def decorator(func):\n",
    "        def inner(*args, **kwargs):\n",
    "            print('Rodando', name.strip())\n",
    "            sleep(sleeping_time)\n",
    "            return func(*args, **kwargs)\n",
    "        return inner\n",
    "    return decorator"
   ]
  },
  {
   "cell_type": "code",
   "execution_count": 6,
   "metadata": {},
   "outputs": [],
   "source": [
    "@make_decorator('d1', 2.2)\n",
    "@make_decorator('d2', 3)\n",
    "def func(t: float):\n",
    "    sleep(t)\n",
    "    print('Fim da função a ser decorada')"
   ]
  },
  {
   "cell_type": "code",
   "execution_count": 7,
   "metadata": {},
   "outputs": [
    {
     "name": "stdout",
     "output_type": "stream",
     "text": [
      "Rodando d1\n",
      "Rodando d2\n",
      "Fim da função a ser decorada\n"
     ]
    }
   ],
   "source": [
    "func(1)"
   ]
  },
  {
   "cell_type": "markdown",
   "metadata": {},
   "source": [
    ":)"
   ]
  }
 ],
 "metadata": {
  "kernelspec": {
   "display_name": ".venv",
   "language": "python",
   "name": "python3"
  },
  "language_info": {
   "codemirror_mode": {
    "name": "ipython",
    "version": 3
   },
   "file_extension": ".py",
   "mimetype": "text/x-python",
   "name": "python",
   "nbconvert_exporter": "python",
   "pygments_lexer": "ipython3",
   "version": "3.12.2"
  }
 },
 "nbformat": 4,
 "nbformat_minor": 2
}
